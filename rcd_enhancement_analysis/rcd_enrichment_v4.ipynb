{
 "cells": [
  {
   "cell_type": "markdown",
   "metadata": {
    "toc": true
   },
   "source": [
    "<h1>Table of Contents<span class=\"tocSkip\"></span></h1>\n",
    "<div class=\"toc\"><ul class=\"toc-item\"><li><span><a href=\"#After-talking-to-Roy,-deciding-to-give-spatial-correlation-another-shot.\" data-toc-modified-id=\"After-talking-to-Roy,-deciding-to-give-spatial-correlation-another-shot.-1\"><span class=\"toc-item-num\">1&nbsp;&nbsp;</span>After talking to Roy, deciding to give spatial correlation another shot.</a></span></li></ul></div>"
   ]
  },
  {
   "cell_type": "markdown",
   "metadata": {
    "ExecuteTime": {
     "end_time": "2020-01-29T20:44:57.006067Z",
     "start_time": "2020-01-29T20:44:57.002109Z"
    }
   },
   "source": [
    "### After talking to Roy, deciding to give spatial correlation another shot."
   ]
  },
  {
   "cell_type": "code",
   "execution_count": 2,
   "metadata": {
    "ExecuteTime": {
     "end_time": "2020-01-29T20:50:02.650550Z",
     "start_time": "2020-01-29T20:50:00.218134Z"
    }
   },
   "outputs": [],
   "source": [
    "import pandas as pd\n",
    "import numpy as np\n",
    "import matplotlib.pyplot as plt\n",
    "import seaborn as sns\n",
    "sns.set_context(\"talk\")\n",
    "\n",
    "import scipy\n",
    "from scipy.spatial import cKDTree"
   ]
  },
  {
   "cell_type": "code",
   "execution_count": 21,
   "metadata": {
    "ExecuteTime": {
     "end_time": "2020-01-29T21:16:35.096674Z",
     "start_time": "2020-01-29T21:16:27.539347Z"
    }
   },
   "outputs": [
    {
     "name": "stderr",
     "output_type": "stream",
     "text": [
      "c:\\users\\jsuresh\\venv\\idm\\lib\\site-packages\\IPython\\core\\interactiveshell.py:3058: DtypeWarning: Columns (1) have mixed types. Specify dtype option on import or set low_memory=False.\n",
      "  interactivity=interactivity, compiler=compiler, result=result)\n"
     ]
    }
   ],
   "source": [
    "# Load cleaned version of data \n",
    "all_rds_df = pd.read_csv(\"C:/Users/jsuresh/Dropbox (IDM)/Malaria Team Folder/projects/Zambia/rcd_enrichment_radius/all_rounds_data_cleaned.csv\")\n",
    "all_rds_df = all_rds_df.sort_values(by=[\"round\",\"catch\"]).reset_index(drop=True)"
   ]
  },
  {
   "cell_type": "code",
   "execution_count": 10,
   "metadata": {
    "ExecuteTime": {
     "end_time": "2020-01-29T20:59:47.585994Z",
     "start_time": "2020-01-29T20:59:46.961061Z"
    }
   },
   "outputs": [],
   "source": [
    "rr = []\n",
    "cc = []\n",
    "pp = []\n",
    "\n",
    "for i, sdf in all_rds_df.groupby([\"round\", \"catch\"]):\n",
    "    if i[1] != \"None\":\n",
    "        rr.append(i[0])\n",
    "        cc.append(i[1])\n",
    "        pp.append(np.sum(sdf[\"rdt_pos\"])/len(sdf))\n",
    "    \n",
    "cdf = pd.DataFrame({\n",
    "    \"catch\": cc,\n",
    "    \"round\": rr,\n",
    "    \"catch_prev\": pp \n",
    "})\n",
    "\n",
    "cdf.to_csv(\"catch_background_prev.csv\", index=False)"
   ]
  },
  {
   "cell_type": "code",
   "execution_count": 22,
   "metadata": {
    "ExecuteTime": {
     "end_time": "2020-01-29T21:16:45.273230Z",
     "start_time": "2020-01-29T21:16:42.960483Z"
    }
   },
   "outputs": [],
   "source": [
    "all_rds_df = all_rds_df.merge(cdf,on=[\"catch\",\"round\"], how=\"left\")\n",
    "all_rds_df = all_rds_df.dropna()"
   ]
  },
  {
   "cell_type": "code",
   "execution_count": 20,
   "metadata": {
    "ExecuteTime": {
     "end_time": "2020-01-29T21:16:11.180184Z",
     "start_time": "2020-01-29T21:16:11.079806Z"
    }
   },
   "outputs": [
    {
     "data": {
      "text/html": [
       "<div>\n",
       "<style scoped>\n",
       "    .dataframe tbody tr th:only-of-type {\n",
       "        vertical-align: middle;\n",
       "    }\n",
       "\n",
       "    .dataframe tbody tr th {\n",
       "        vertical-align: top;\n",
       "    }\n",
       "\n",
       "    .dataframe thead th {\n",
       "        text-align: right;\n",
       "    }\n",
       "</style>\n",
       "<table border=\"1\" class=\"dataframe\">\n",
       "  <thead>\n",
       "    <tr style=\"text-align: right;\">\n",
       "      <th></th>\n",
       "      <th>person_id</th>\n",
       "      <th>household_id</th>\n",
       "      <th>round</th>\n",
       "      <th>latitude</th>\n",
       "      <th>longitude</th>\n",
       "      <th>catch</th>\n",
       "      <th>rdt_pos</th>\n",
       "      <th>x</th>\n",
       "      <th>y</th>\n",
       "      <th>catch_prev_x</th>\n",
       "      <th>catch_prev_y</th>\n",
       "    </tr>\n",
       "  </thead>\n",
       "  <tbody>\n",
       "    <tr>\n",
       "      <th>0</th>\n",
       "      <td>uuid:9b02be82-9dac-4a35-a80a-17c9c6b5ed00</td>\n",
       "      <td>uuid:007b9a41-4616-4b81-95f6-660282bd3109</td>\n",
       "      <td>1</td>\n",
       "      <td>-16.500518</td>\n",
       "      <td>27.958743</td>\n",
       "      <td>Bbondo</td>\n",
       "      <td>0.0</td>\n",
       "      <td>9650.103957</td>\n",
       "      <td>23514.006309</td>\n",
       "      <td>0.092425</td>\n",
       "      <td>0.092425</td>\n",
       "    </tr>\n",
       "    <tr>\n",
       "      <th>1</th>\n",
       "      <td>uuid:b49e4841-f741-4f33-a2bb-d704a4f83f8c</td>\n",
       "      <td>uuid:007b9a41-4616-4b81-95f6-660282bd3109</td>\n",
       "      <td>1</td>\n",
       "      <td>-16.500518</td>\n",
       "      <td>27.958743</td>\n",
       "      <td>Bbondo</td>\n",
       "      <td>0.0</td>\n",
       "      <td>9650.103957</td>\n",
       "      <td>23514.006309</td>\n",
       "      <td>0.092425</td>\n",
       "      <td>0.092425</td>\n",
       "    </tr>\n",
       "    <tr>\n",
       "      <th>2</th>\n",
       "      <td>uuid:e2d87552-8df6-44bb-a475-dddba9fc5751</td>\n",
       "      <td>uuid:007b9a41-4616-4b81-95f6-660282bd3109</td>\n",
       "      <td>1</td>\n",
       "      <td>-16.500518</td>\n",
       "      <td>27.958743</td>\n",
       "      <td>Bbondo</td>\n",
       "      <td>0.0</td>\n",
       "      <td>9650.103957</td>\n",
       "      <td>23514.006309</td>\n",
       "      <td>0.092425</td>\n",
       "      <td>0.092425</td>\n",
       "    </tr>\n",
       "    <tr>\n",
       "      <th>3</th>\n",
       "      <td>uuid:4622c8e3-391a-498f-8acd-6f3ff0486b5e</td>\n",
       "      <td>uuid:007b9a41-4616-4b81-95f6-660282bd3109</td>\n",
       "      <td>1</td>\n",
       "      <td>-16.500518</td>\n",
       "      <td>27.958743</td>\n",
       "      <td>Bbondo</td>\n",
       "      <td>0.0</td>\n",
       "      <td>9650.103957</td>\n",
       "      <td>23514.006309</td>\n",
       "      <td>0.092425</td>\n",
       "      <td>0.092425</td>\n",
       "    </tr>\n",
       "    <tr>\n",
       "      <th>4</th>\n",
       "      <td>uuid:a59a41ff-4e3f-4c5d-b4aa-b79d423eac79</td>\n",
       "      <td>uuid:007b9a41-4616-4b81-95f6-660282bd3109</td>\n",
       "      <td>1</td>\n",
       "      <td>-16.500518</td>\n",
       "      <td>27.958743</td>\n",
       "      <td>Bbondo</td>\n",
       "      <td>0.0</td>\n",
       "      <td>9650.103957</td>\n",
       "      <td>23514.006309</td>\n",
       "      <td>0.092425</td>\n",
       "      <td>0.092425</td>\n",
       "    </tr>\n",
       "    <tr>\n",
       "      <th>5</th>\n",
       "      <td>uuid:2ebabed0-c2ac-497b-9913-9abfd3f42560</td>\n",
       "      <td>uuid:007b9a41-4616-4b81-95f6-660282bd3109</td>\n",
       "      <td>1</td>\n",
       "      <td>-16.500518</td>\n",
       "      <td>27.958743</td>\n",
       "      <td>Bbondo</td>\n",
       "      <td>0.0</td>\n",
       "      <td>9650.103957</td>\n",
       "      <td>23514.006309</td>\n",
       "      <td>0.092425</td>\n",
       "      <td>0.092425</td>\n",
       "    </tr>\n",
       "    <tr>\n",
       "      <th>6</th>\n",
       "      <td>uuid:6a4a8f72-0571-4998-88cb-1442ac6d7bf3</td>\n",
       "      <td>uuid:007ec893-50e7-4c60-ba2e-35de80d48ba9</td>\n",
       "      <td>1</td>\n",
       "      <td>-16.469910</td>\n",
       "      <td>27.984363</td>\n",
       "      <td>Bbondo</td>\n",
       "      <td>0.0</td>\n",
       "      <td>12381.634874</td>\n",
       "      <td>26921.290624</td>\n",
       "      <td>0.092425</td>\n",
       "      <td>0.092425</td>\n",
       "    </tr>\n",
       "    <tr>\n",
       "      <th>7</th>\n",
       "      <td>uuid:f7be9406-4a5c-4636-bd27-7c14489c6f93</td>\n",
       "      <td>uuid:007ec893-50e7-4c60-ba2e-35de80d48ba9</td>\n",
       "      <td>1</td>\n",
       "      <td>-16.469910</td>\n",
       "      <td>27.984363</td>\n",
       "      <td>Bbondo</td>\n",
       "      <td>0.0</td>\n",
       "      <td>12381.634874</td>\n",
       "      <td>26921.290624</td>\n",
       "      <td>0.092425</td>\n",
       "      <td>0.092425</td>\n",
       "    </tr>\n",
       "    <tr>\n",
       "      <th>8</th>\n",
       "      <td>uuid:e54403c9-3a65-4c79-a039-8bedb1142268</td>\n",
       "      <td>uuid:007ec893-50e7-4c60-ba2e-35de80d48ba9</td>\n",
       "      <td>1</td>\n",
       "      <td>-16.469910</td>\n",
       "      <td>27.984363</td>\n",
       "      <td>Bbondo</td>\n",
       "      <td>0.0</td>\n",
       "      <td>12381.634874</td>\n",
       "      <td>26921.290624</td>\n",
       "      <td>0.092425</td>\n",
       "      <td>0.092425</td>\n",
       "    </tr>\n",
       "    <tr>\n",
       "      <th>9</th>\n",
       "      <td>uuid:fe56fa82-f26c-4f6c-b0de-6c06eba064b8</td>\n",
       "      <td>uuid:007ec893-50e7-4c60-ba2e-35de80d48ba9</td>\n",
       "      <td>1</td>\n",
       "      <td>-16.469910</td>\n",
       "      <td>27.984363</td>\n",
       "      <td>Bbondo</td>\n",
       "      <td>0.0</td>\n",
       "      <td>12381.634874</td>\n",
       "      <td>26921.290624</td>\n",
       "      <td>0.092425</td>\n",
       "      <td>0.092425</td>\n",
       "    </tr>\n",
       "    <tr>\n",
       "      <th>10</th>\n",
       "      <td>uuid:1d410f84-79ea-4064-9131-f456ff5d0355</td>\n",
       "      <td>uuid:007ec893-50e7-4c60-ba2e-35de80d48ba9</td>\n",
       "      <td>1</td>\n",
       "      <td>-16.469910</td>\n",
       "      <td>27.984363</td>\n",
       "      <td>Bbondo</td>\n",
       "      <td>0.0</td>\n",
       "      <td>12381.634874</td>\n",
       "      <td>26921.290624</td>\n",
       "      <td>0.092425</td>\n",
       "      <td>0.092425</td>\n",
       "    </tr>\n",
       "    <tr>\n",
       "      <th>11</th>\n",
       "      <td>uuid:b17acec2-9344-410d-9c22-02a3dbfff821</td>\n",
       "      <td>uuid:007ec893-50e7-4c60-ba2e-35de80d48ba9</td>\n",
       "      <td>1</td>\n",
       "      <td>-16.469910</td>\n",
       "      <td>27.984363</td>\n",
       "      <td>Bbondo</td>\n",
       "      <td>0.0</td>\n",
       "      <td>12381.634874</td>\n",
       "      <td>26921.290624</td>\n",
       "      <td>0.092425</td>\n",
       "      <td>0.092425</td>\n",
       "    </tr>\n",
       "    <tr>\n",
       "      <th>12</th>\n",
       "      <td>uuid:548468fd-e34e-44ad-aadd-42f9105f1531</td>\n",
       "      <td>uuid:007ec893-50e7-4c60-ba2e-35de80d48ba9</td>\n",
       "      <td>1</td>\n",
       "      <td>-16.469910</td>\n",
       "      <td>27.984363</td>\n",
       "      <td>Bbondo</td>\n",
       "      <td>0.0</td>\n",
       "      <td>12381.634874</td>\n",
       "      <td>26921.290624</td>\n",
       "      <td>0.092425</td>\n",
       "      <td>0.092425</td>\n",
       "    </tr>\n",
       "    <tr>\n",
       "      <th>13</th>\n",
       "      <td>uuid:3ae6c879-440e-43a8-93e9-93a2706e2eca</td>\n",
       "      <td>uuid:00ebb594-e7ba-4bbf-aaf5-87348cbe5bd0</td>\n",
       "      <td>1</td>\n",
       "      <td>-16.511033</td>\n",
       "      <td>27.941818</td>\n",
       "      <td>Bbondo</td>\n",
       "      <td>1.0</td>\n",
       "      <td>7845.609001</td>\n",
       "      <td>22343.488654</td>\n",
       "      <td>0.092425</td>\n",
       "      <td>0.092425</td>\n",
       "    </tr>\n",
       "    <tr>\n",
       "      <th>14</th>\n",
       "      <td>uuid:867f3f44-20dd-49ee-9aff-86089077b427</td>\n",
       "      <td>uuid:00ebb594-e7ba-4bbf-aaf5-87348cbe5bd0</td>\n",
       "      <td>1</td>\n",
       "      <td>-16.511033</td>\n",
       "      <td>27.941818</td>\n",
       "      <td>Bbondo</td>\n",
       "      <td>0.0</td>\n",
       "      <td>7845.609001</td>\n",
       "      <td>22343.488654</td>\n",
       "      <td>0.092425</td>\n",
       "      <td>0.092425</td>\n",
       "    </tr>\n",
       "    <tr>\n",
       "      <th>15</th>\n",
       "      <td>uuid:518839fd-2fbd-4e61-babf-04d9e67bd202</td>\n",
       "      <td>uuid:00ebb594-e7ba-4bbf-aaf5-87348cbe5bd0</td>\n",
       "      <td>1</td>\n",
       "      <td>-16.511033</td>\n",
       "      <td>27.941818</td>\n",
       "      <td>Bbondo</td>\n",
       "      <td>0.0</td>\n",
       "      <td>7845.609001</td>\n",
       "      <td>22343.488654</td>\n",
       "      <td>0.092425</td>\n",
       "      <td>0.092425</td>\n",
       "    </tr>\n",
       "    <tr>\n",
       "      <th>16</th>\n",
       "      <td>uuid:4d5f7328-58cc-4605-9d53-bfd2145eb35e</td>\n",
       "      <td>uuid:00ebb594-e7ba-4bbf-aaf5-87348cbe5bd0</td>\n",
       "      <td>1</td>\n",
       "      <td>-16.511033</td>\n",
       "      <td>27.941818</td>\n",
       "      <td>Bbondo</td>\n",
       "      <td>0.0</td>\n",
       "      <td>7845.609001</td>\n",
       "      <td>22343.488654</td>\n",
       "      <td>0.092425</td>\n",
       "      <td>0.092425</td>\n",
       "    </tr>\n",
       "    <tr>\n",
       "      <th>17</th>\n",
       "      <td>uuid:fda4dbdc-2765-4b8e-a638-b17b58c14dff</td>\n",
       "      <td>uuid:00ebb594-e7ba-4bbf-aaf5-87348cbe5bd0</td>\n",
       "      <td>1</td>\n",
       "      <td>-16.511033</td>\n",
       "      <td>27.941818</td>\n",
       "      <td>Bbondo</td>\n",
       "      <td>0.0</td>\n",
       "      <td>7845.609001</td>\n",
       "      <td>22343.488654</td>\n",
       "      <td>0.092425</td>\n",
       "      <td>0.092425</td>\n",
       "    </tr>\n",
       "    <tr>\n",
       "      <th>18</th>\n",
       "      <td>uuid:bf87ae2e-4b89-41c4-9dc0-16b5c0624ecd</td>\n",
       "      <td>uuid:014a387d-774c-490a-a105-2a56c2944c79</td>\n",
       "      <td>1</td>\n",
       "      <td>-16.438905</td>\n",
       "      <td>27.925958</td>\n",
       "      <td>Bbondo</td>\n",
       "      <td>0.0</td>\n",
       "      <td>6154.661291</td>\n",
       "      <td>30372.731414</td>\n",
       "      <td>0.092425</td>\n",
       "      <td>0.092425</td>\n",
       "    </tr>\n",
       "    <tr>\n",
       "      <th>19</th>\n",
       "      <td>uuid:efcd0de1-5cd3-4328-bd77-80672a3c1944</td>\n",
       "      <td>uuid:014a387d-774c-490a-a105-2a56c2944c79</td>\n",
       "      <td>1</td>\n",
       "      <td>-16.438905</td>\n",
       "      <td>27.925958</td>\n",
       "      <td>Bbondo</td>\n",
       "      <td>0.0</td>\n",
       "      <td>6154.661291</td>\n",
       "      <td>30372.731414</td>\n",
       "      <td>0.092425</td>\n",
       "      <td>0.092425</td>\n",
       "    </tr>\n",
       "    <tr>\n",
       "      <th>20</th>\n",
       "      <td>uuid:499122e7-0125-4a9f-88ed-e5473edbe691</td>\n",
       "      <td>uuid:014a387d-774c-490a-a105-2a56c2944c79</td>\n",
       "      <td>1</td>\n",
       "      <td>-16.438905</td>\n",
       "      <td>27.925958</td>\n",
       "      <td>Bbondo</td>\n",
       "      <td>0.0</td>\n",
       "      <td>6154.661291</td>\n",
       "      <td>30372.731414</td>\n",
       "      <td>0.092425</td>\n",
       "      <td>0.092425</td>\n",
       "    </tr>\n",
       "    <tr>\n",
       "      <th>21</th>\n",
       "      <td>uuid:d857e590-b1b1-49c0-92eb-2e621d45c6e5</td>\n",
       "      <td>uuid:014a387d-774c-490a-a105-2a56c2944c79</td>\n",
       "      <td>1</td>\n",
       "      <td>-16.438905</td>\n",
       "      <td>27.925958</td>\n",
       "      <td>Bbondo</td>\n",
       "      <td>0.0</td>\n",
       "      <td>6154.661291</td>\n",
       "      <td>30372.731414</td>\n",
       "      <td>0.092425</td>\n",
       "      <td>0.092425</td>\n",
       "    </tr>\n",
       "    <tr>\n",
       "      <th>22</th>\n",
       "      <td>uuid:1664b159-52ed-46ce-aea3-dde115e70df8</td>\n",
       "      <td>uuid:014a387d-774c-490a-a105-2a56c2944c79</td>\n",
       "      <td>1</td>\n",
       "      <td>-16.438905</td>\n",
       "      <td>27.925958</td>\n",
       "      <td>Bbondo</td>\n",
       "      <td>0.0</td>\n",
       "      <td>6154.661291</td>\n",
       "      <td>30372.731414</td>\n",
       "      <td>0.092425</td>\n",
       "      <td>0.092425</td>\n",
       "    </tr>\n",
       "    <tr>\n",
       "      <th>23</th>\n",
       "      <td>uuid:e0e4b367-cece-41e5-9892-1279d43ad972</td>\n",
       "      <td>uuid:014a387d-774c-490a-a105-2a56c2944c79</td>\n",
       "      <td>1</td>\n",
       "      <td>-16.438905</td>\n",
       "      <td>27.925958</td>\n",
       "      <td>Bbondo</td>\n",
       "      <td>0.0</td>\n",
       "      <td>6154.661291</td>\n",
       "      <td>30372.731414</td>\n",
       "      <td>0.092425</td>\n",
       "      <td>0.092425</td>\n",
       "    </tr>\n",
       "    <tr>\n",
       "      <th>24</th>\n",
       "      <td>uuid:8412a6b5-f4f0-496a-8470-5624bd7fffd6</td>\n",
       "      <td>uuid:03457e5b-eb90-4633-85a7-398ffa1246da</td>\n",
       "      <td>1</td>\n",
       "      <td>-16.470070</td>\n",
       "      <td>27.983245</td>\n",
       "      <td>Bbondo</td>\n",
       "      <td>0.0</td>\n",
       "      <td>12262.401381</td>\n",
       "      <td>26903.479609</td>\n",
       "      <td>0.092425</td>\n",
       "      <td>0.092425</td>\n",
       "    </tr>\n",
       "    <tr>\n",
       "      <th>25</th>\n",
       "      <td>uuid:e9d105ce-7349-476c-83f9-d5f1ed612be3</td>\n",
       "      <td>uuid:03457e5b-eb90-4633-85a7-398ffa1246da</td>\n",
       "      <td>1</td>\n",
       "      <td>-16.470070</td>\n",
       "      <td>27.983245</td>\n",
       "      <td>Bbondo</td>\n",
       "      <td>0.0</td>\n",
       "      <td>12262.401381</td>\n",
       "      <td>26903.479609</td>\n",
       "      <td>0.092425</td>\n",
       "      <td>0.092425</td>\n",
       "    </tr>\n",
       "    <tr>\n",
       "      <th>26</th>\n",
       "      <td>uuid:13b4f8fe-5cf4-4a01-ae9d-b1174cf2a947</td>\n",
       "      <td>uuid:03457e5b-eb90-4633-85a7-398ffa1246da</td>\n",
       "      <td>1</td>\n",
       "      <td>-16.470070</td>\n",
       "      <td>27.983245</td>\n",
       "      <td>Bbondo</td>\n",
       "      <td>0.0</td>\n",
       "      <td>12262.401381</td>\n",
       "      <td>26903.479609</td>\n",
       "      <td>0.092425</td>\n",
       "      <td>0.092425</td>\n",
       "    </tr>\n",
       "    <tr>\n",
       "      <th>27</th>\n",
       "      <td>uuid:8af25ff8-9fd1-44e9-a111-b5d1dd78bdbd</td>\n",
       "      <td>uuid:03457e5b-eb90-4633-85a7-398ffa1246da</td>\n",
       "      <td>1</td>\n",
       "      <td>-16.470070</td>\n",
       "      <td>27.983245</td>\n",
       "      <td>Bbondo</td>\n",
       "      <td>0.0</td>\n",
       "      <td>12262.401381</td>\n",
       "      <td>26903.479609</td>\n",
       "      <td>0.092425</td>\n",
       "      <td>0.092425</td>\n",
       "    </tr>\n",
       "    <tr>\n",
       "      <th>28</th>\n",
       "      <td>uuid:c64f1907-8798-4492-9874-02dd1abb7df7</td>\n",
       "      <td>uuid:03457e5b-eb90-4633-85a7-398ffa1246da</td>\n",
       "      <td>1</td>\n",
       "      <td>-16.470070</td>\n",
       "      <td>27.983245</td>\n",
       "      <td>Bbondo</td>\n",
       "      <td>0.0</td>\n",
       "      <td>12262.401381</td>\n",
       "      <td>26903.479609</td>\n",
       "      <td>0.092425</td>\n",
       "      <td>0.092425</td>\n",
       "    </tr>\n",
       "    <tr>\n",
       "      <th>29</th>\n",
       "      <td>uuid:cef39377-adf2-4b15-83a4-c4678ea07d59</td>\n",
       "      <td>uuid:03457e5b-eb90-4633-85a7-398ffa1246da</td>\n",
       "      <td>1</td>\n",
       "      <td>-16.470070</td>\n",
       "      <td>27.983245</td>\n",
       "      <td>Bbondo</td>\n",
       "      <td>0.0</td>\n",
       "      <td>12262.401381</td>\n",
       "      <td>26903.479609</td>\n",
       "      <td>0.092425</td>\n",
       "      <td>0.092425</td>\n",
       "    </tr>\n",
       "    <tr>\n",
       "      <th>...</th>\n",
       "      <td>...</td>\n",
       "      <td>...</td>\n",
       "      <td>...</td>\n",
       "      <td>...</td>\n",
       "      <td>...</td>\n",
       "      <td>...</td>\n",
       "      <td>...</td>\n",
       "      <td>...</td>\n",
       "      <td>...</td>\n",
       "      <td>...</td>\n",
       "      <td>...</td>\n",
       "    </tr>\n",
       "    <tr>\n",
       "      <th>1031153</th>\n",
       "      <td>uuid:fad86a3e-c239-4cd7-9c9e-128880770ae0</td>\n",
       "      <td>12637</td>\n",
       "      <td>10</td>\n",
       "      <td>-17.512875</td>\n",
       "      <td>27.096961</td>\n",
       "      <td>Sulwegonde</td>\n",
       "      <td>0.0</td>\n",
       "      <td>-39387.469580</td>\n",
       "      <td>-61569.511398</td>\n",
       "      <td>0.007665</td>\n",
       "      <td>0.007665</td>\n",
       "    </tr>\n",
       "    <tr>\n",
       "      <th>1031154</th>\n",
       "      <td>uuid:fb001e1f-4865-4237-893e-403013fab144</td>\n",
       "      <td>84165</td>\n",
       "      <td>10</td>\n",
       "      <td>-17.568708</td>\n",
       "      <td>26.975631</td>\n",
       "      <td>Sulwegonde</td>\n",
       "      <td>0.0</td>\n",
       "      <td>-52306.469609</td>\n",
       "      <td>-67784.789831</td>\n",
       "      <td>0.007665</td>\n",
       "      <td>0.007665</td>\n",
       "    </tr>\n",
       "    <tr>\n",
       "      <th>1031155</th>\n",
       "      <td>uuid:fb1dcd31-504e-463e-9656-f297678361ba</td>\n",
       "      <td>53307</td>\n",
       "      <td>10</td>\n",
       "      <td>-17.481189</td>\n",
       "      <td>27.157292</td>\n",
       "      <td>Sulwegonde</td>\n",
       "      <td>0.0</td>\n",
       "      <td>-32963.606008</td>\n",
       "      <td>-58042.327040</td>\n",
       "      <td>0.007665</td>\n",
       "      <td>0.007665</td>\n",
       "    </tr>\n",
       "    <tr>\n",
       "      <th>1031156</th>\n",
       "      <td>uuid:fb4e9529-5d16-414e-b618-232781027c30</td>\n",
       "      <td>53378</td>\n",
       "      <td>10</td>\n",
       "      <td>-17.486241</td>\n",
       "      <td>27.120046</td>\n",
       "      <td>Sulwegonde</td>\n",
       "      <td>0.0</td>\n",
       "      <td>-36929.455349</td>\n",
       "      <td>-58604.627469</td>\n",
       "      <td>0.007665</td>\n",
       "      <td>0.007665</td>\n",
       "    </tr>\n",
       "    <tr>\n",
       "      <th>1031157</th>\n",
       "      <td>uuid:fba92681-20a4-4bd8-b68b-b3857b2fdd89</td>\n",
       "      <td>4316</td>\n",
       "      <td>10</td>\n",
       "      <td>-17.449768</td>\n",
       "      <td>27.147789</td>\n",
       "      <td>Sulwegonde</td>\n",
       "      <td>0.0</td>\n",
       "      <td>-33975.440961</td>\n",
       "      <td>-54544.575384</td>\n",
       "      <td>0.007665</td>\n",
       "      <td>0.007665</td>\n",
       "    </tr>\n",
       "    <tr>\n",
       "      <th>1031158</th>\n",
       "      <td>uuid:fbbe3685-33e7-4a00-9266-41c2b95a0196</td>\n",
       "      <td>84350</td>\n",
       "      <td>10</td>\n",
       "      <td>-17.568711</td>\n",
       "      <td>26.975602</td>\n",
       "      <td>Sulwegonde</td>\n",
       "      <td>0.0</td>\n",
       "      <td>-52309.486118</td>\n",
       "      <td>-67785.084826</td>\n",
       "      <td>0.007665</td>\n",
       "      <td>0.007665</td>\n",
       "    </tr>\n",
       "    <tr>\n",
       "      <th>1031159</th>\n",
       "      <td>uuid:fbc2e317-8a6f-4c31-b4df-e5b30af4991f</td>\n",
       "      <td>6900</td>\n",
       "      <td>10</td>\n",
       "      <td>-17.419630</td>\n",
       "      <td>27.142041</td>\n",
       "      <td>Sulwegonde</td>\n",
       "      <td>0.0</td>\n",
       "      <td>-34587.450548</td>\n",
       "      <td>-51189.622430</td>\n",
       "      <td>0.007665</td>\n",
       "      <td>0.007665</td>\n",
       "    </tr>\n",
       "    <tr>\n",
       "      <th>1031160</th>\n",
       "      <td>uuid:fbc30e3c-9d42-4159-bea7-404d55da2199</td>\n",
       "      <td>35928</td>\n",
       "      <td>10</td>\n",
       "      <td>-17.487181</td>\n",
       "      <td>27.170403</td>\n",
       "      <td>Sulwegonde</td>\n",
       "      <td>0.0</td>\n",
       "      <td>-31567.637287</td>\n",
       "      <td>-58709.296126</td>\n",
       "      <td>0.007665</td>\n",
       "      <td>0.007665</td>\n",
       "    </tr>\n",
       "    <tr>\n",
       "      <th>1031161</th>\n",
       "      <td>uuid:fbd25c5d-2c15-4ae2-ab42-cca4c5ef3005</td>\n",
       "      <td>2888</td>\n",
       "      <td>10</td>\n",
       "      <td>-17.433663</td>\n",
       "      <td>27.143017</td>\n",
       "      <td>Sulwegonde</td>\n",
       "      <td>0.0</td>\n",
       "      <td>-34483.588077</td>\n",
       "      <td>-52751.793177</td>\n",
       "      <td>0.007665</td>\n",
       "      <td>0.007665</td>\n",
       "    </tr>\n",
       "    <tr>\n",
       "      <th>1031162</th>\n",
       "      <td>uuid:fbf08259-3263-4620-b402-3c3a42c43a4b</td>\n",
       "      <td>74636</td>\n",
       "      <td>10</td>\n",
       "      <td>-17.487796</td>\n",
       "      <td>27.122667</td>\n",
       "      <td>Sulwegonde</td>\n",
       "      <td>0.0</td>\n",
       "      <td>-36650.352111</td>\n",
       "      <td>-58777.781706</td>\n",
       "      <td>0.007665</td>\n",
       "      <td>0.007665</td>\n",
       "    </tr>\n",
       "    <tr>\n",
       "      <th>1031163</th>\n",
       "      <td>uuid:fbf61d89-4aef-498a-a2eb-b97f2209b15b</td>\n",
       "      <td>50777</td>\n",
       "      <td>10</td>\n",
       "      <td>-17.476316</td>\n",
       "      <td>27.120024</td>\n",
       "      <td>Sulwegonde</td>\n",
       "      <td>0.0</td>\n",
       "      <td>-36931.778689</td>\n",
       "      <td>-57499.812422</td>\n",
       "      <td>0.007665</td>\n",
       "      <td>0.007665</td>\n",
       "    </tr>\n",
       "    <tr>\n",
       "      <th>1031164</th>\n",
       "      <td>uuid:fc1f0908-8376-42e1-b5b3-9e5c8f3bdb35</td>\n",
       "      <td>24726</td>\n",
       "      <td>10</td>\n",
       "      <td>-17.452402</td>\n",
       "      <td>27.128732</td>\n",
       "      <td>Sulwegonde</td>\n",
       "      <td>0.0</td>\n",
       "      <td>-36004.596590</td>\n",
       "      <td>-54837.712412</td>\n",
       "      <td>0.007665</td>\n",
       "      <td>0.007665</td>\n",
       "    </tr>\n",
       "    <tr>\n",
       "      <th>1031165</th>\n",
       "      <td>uuid:fc25b106-f230-44e8-acd9-5580d510a445</td>\n",
       "      <td>60140</td>\n",
       "      <td>10</td>\n",
       "      <td>-17.487785</td>\n",
       "      <td>27.122699</td>\n",
       "      <td>Sulwegonde</td>\n",
       "      <td>0.0</td>\n",
       "      <td>-36646.977837</td>\n",
       "      <td>-58776.578349</td>\n",
       "      <td>0.007665</td>\n",
       "      <td>0.007665</td>\n",
       "    </tr>\n",
       "    <tr>\n",
       "      <th>1031166</th>\n",
       "      <td>uuid:fcefedd7-6516-4e87-b316-5ecad589e453</td>\n",
       "      <td>22385</td>\n",
       "      <td>10</td>\n",
       "      <td>-17.560749</td>\n",
       "      <td>27.129082</td>\n",
       "      <td>Sulwegonde</td>\n",
       "      <td>0.0</td>\n",
       "      <td>-35967.388007</td>\n",
       "      <td>-66898.858803</td>\n",
       "      <td>0.007665</td>\n",
       "      <td>0.007665</td>\n",
       "    </tr>\n",
       "    <tr>\n",
       "      <th>1031167</th>\n",
       "      <td>uuid:fcf49648-142a-40d7-a6c4-314e311f2887</td>\n",
       "      <td>59761</td>\n",
       "      <td>10</td>\n",
       "      <td>-17.441009</td>\n",
       "      <td>27.146641</td>\n",
       "      <td>Sulwegonde</td>\n",
       "      <td>0.0</td>\n",
       "      <td>-34097.724049</td>\n",
       "      <td>-53569.460150</td>\n",
       "      <td>0.007665</td>\n",
       "      <td>0.007665</td>\n",
       "    </tr>\n",
       "    <tr>\n",
       "      <th>1031168</th>\n",
       "      <td>uuid:fd5bc87e-451c-45ec-b7da-8f9025f3d8c6</td>\n",
       "      <td>52259</td>\n",
       "      <td>10</td>\n",
       "      <td>-17.419227</td>\n",
       "      <td>27.144576</td>\n",
       "      <td>Sulwegonde</td>\n",
       "      <td>0.0</td>\n",
       "      <td>-34317.542712</td>\n",
       "      <td>-51144.693030</td>\n",
       "      <td>0.007665</td>\n",
       "      <td>0.007665</td>\n",
       "    </tr>\n",
       "    <tr>\n",
       "      <th>1031169</th>\n",
       "      <td>uuid:fd84137e-8894-45ea-9116-636d28cdae9a</td>\n",
       "      <td>29646</td>\n",
       "      <td>10</td>\n",
       "      <td>-17.500333</td>\n",
       "      <td>27.072405</td>\n",
       "      <td>Sulwegonde</td>\n",
       "      <td>0.0</td>\n",
       "      <td>-42002.154893</td>\n",
       "      <td>-60173.422801</td>\n",
       "      <td>0.007665</td>\n",
       "      <td>0.007665</td>\n",
       "    </tr>\n",
       "    <tr>\n",
       "      <th>1031170</th>\n",
       "      <td>uuid:fdb11fc4-b441-446d-a749-33cd9deabf35</td>\n",
       "      <td>10715</td>\n",
       "      <td>10</td>\n",
       "      <td>-17.560735</td>\n",
       "      <td>27.129117</td>\n",
       "      <td>Sulwegonde</td>\n",
       "      <td>0.0</td>\n",
       "      <td>-35963.654904</td>\n",
       "      <td>-66897.305905</td>\n",
       "      <td>0.007665</td>\n",
       "      <td>0.007665</td>\n",
       "    </tr>\n",
       "    <tr>\n",
       "      <th>1031171</th>\n",
       "      <td>uuid:fdcf74ec-a6a0-410e-8a96-92be9dd43163</td>\n",
       "      <td>26795</td>\n",
       "      <td>10</td>\n",
       "      <td>-17.495580</td>\n",
       "      <td>27.078247</td>\n",
       "      <td>Sulwegonde</td>\n",
       "      <td>0.0</td>\n",
       "      <td>-41380.170488</td>\n",
       "      <td>-59644.285369</td>\n",
       "      <td>0.007665</td>\n",
       "      <td>0.007665</td>\n",
       "    </tr>\n",
       "    <tr>\n",
       "      <th>1031172</th>\n",
       "      <td>uuid:fe96ee20-bcc4-45f8-994c-d2f2227bbc86</td>\n",
       "      <td>37198</td>\n",
       "      <td>10</td>\n",
       "      <td>-17.515828</td>\n",
       "      <td>27.172696</td>\n",
       "      <td>Sulwegonde</td>\n",
       "      <td>0.0</td>\n",
       "      <td>-31323.458689</td>\n",
       "      <td>-61898.217023</td>\n",
       "      <td>0.007665</td>\n",
       "      <td>0.007665</td>\n",
       "    </tr>\n",
       "    <tr>\n",
       "      <th>1031173</th>\n",
       "      <td>uuid:fe9cbc34-6396-4768-85c1-47e5703d236b</td>\n",
       "      <td>50776</td>\n",
       "      <td>10</td>\n",
       "      <td>-17.490612</td>\n",
       "      <td>27.078501</td>\n",
       "      <td>Sulwegonde</td>\n",
       "      <td>0.0</td>\n",
       "      <td>-41353.135835</td>\n",
       "      <td>-59091.291196</td>\n",
       "      <td>0.007665</td>\n",
       "      <td>0.007665</td>\n",
       "    </tr>\n",
       "    <tr>\n",
       "      <th>1031174</th>\n",
       "      <td>uuid:febd2dda-9993-47e0-994a-9487d28a6a77</td>\n",
       "      <td>31735</td>\n",
       "      <td>10</td>\n",
       "      <td>-17.536879</td>\n",
       "      <td>27.023110</td>\n",
       "      <td>Sulwegonde</td>\n",
       "      <td>0.0</td>\n",
       "      <td>-47251.029013</td>\n",
       "      <td>-64241.598936</td>\n",
       "      <td>0.007665</td>\n",
       "      <td>0.007665</td>\n",
       "    </tr>\n",
       "    <tr>\n",
       "      <th>1031175</th>\n",
       "      <td>uuid:fee062bc-ea4a-45e8-a6ee-f6108e689890</td>\n",
       "      <td>24746</td>\n",
       "      <td>10</td>\n",
       "      <td>-17.527666</td>\n",
       "      <td>27.095014</td>\n",
       "      <td>Sulwegonde</td>\n",
       "      <td>0.0</td>\n",
       "      <td>-39594.838887</td>\n",
       "      <td>-63216.089660</td>\n",
       "      <td>0.007665</td>\n",
       "      <td>0.007665</td>\n",
       "    </tr>\n",
       "    <tr>\n",
       "      <th>1031176</th>\n",
       "      <td>uuid:fee8be5f-fe04-4286-9ae5-7aefef964a26</td>\n",
       "      <td>54841</td>\n",
       "      <td>10</td>\n",
       "      <td>-17.560745</td>\n",
       "      <td>27.129087</td>\n",
       "      <td>Sulwegonde</td>\n",
       "      <td>0.0</td>\n",
       "      <td>-35966.834324</td>\n",
       "      <td>-66898.413527</td>\n",
       "      <td>0.007665</td>\n",
       "      <td>0.007665</td>\n",
       "    </tr>\n",
       "    <tr>\n",
       "      <th>1031177</th>\n",
       "      <td>uuid:feeaa720-b10f-4662-934d-8ed2ae2ab182</td>\n",
       "      <td>16559</td>\n",
       "      <td>10</td>\n",
       "      <td>-17.484472</td>\n",
       "      <td>27.166233</td>\n",
       "      <td>Sulwegonde</td>\n",
       "      <td>0.0</td>\n",
       "      <td>-32011.574176</td>\n",
       "      <td>-58407.722243</td>\n",
       "      <td>0.007665</td>\n",
       "      <td>0.007665</td>\n",
       "    </tr>\n",
       "    <tr>\n",
       "      <th>1031178</th>\n",
       "      <td>uuid:ff0c71f2-c5ee-4cad-87a2-67ba981b4c4e</td>\n",
       "      <td>82262</td>\n",
       "      <td>10</td>\n",
       "      <td>-17.574107</td>\n",
       "      <td>27.007154</td>\n",
       "      <td>Sulwegonde</td>\n",
       "      <td>0.0</td>\n",
       "      <td>-48949.924261</td>\n",
       "      <td>-68385.802501</td>\n",
       "      <td>0.007665</td>\n",
       "      <td>0.007665</td>\n",
       "    </tr>\n",
       "    <tr>\n",
       "      <th>1031179</th>\n",
       "      <td>uuid:ff2ad4f8-03b2-497c-9266-8c0acbd81e4d</td>\n",
       "      <td>30232</td>\n",
       "      <td>10</td>\n",
       "      <td>-17.542401</td>\n",
       "      <td>27.107636</td>\n",
       "      <td>Sulwegonde</td>\n",
       "      <td>0.0</td>\n",
       "      <td>-38250.850381</td>\n",
       "      <td>-64856.300485</td>\n",
       "      <td>0.007665</td>\n",
       "      <td>0.007665</td>\n",
       "    </tr>\n",
       "    <tr>\n",
       "      <th>1031180</th>\n",
       "      <td>uuid:ffb4d3b8-c080-422a-96ce-08a7fe48fa4e</td>\n",
       "      <td>64854</td>\n",
       "      <td>10</td>\n",
       "      <td>-17.477550</td>\n",
       "      <td>27.079887</td>\n",
       "      <td>Sulwegonde</td>\n",
       "      <td>1.0</td>\n",
       "      <td>-41205.518541</td>\n",
       "      <td>-57637.236650</td>\n",
       "      <td>0.007665</td>\n",
       "      <td>0.007665</td>\n",
       "    </tr>\n",
       "    <tr>\n",
       "      <th>1031181</th>\n",
       "      <td>uuid:ffc22242-c0f6-47b3-9a98-f728003cf6be</td>\n",
       "      <td>57339</td>\n",
       "      <td>10</td>\n",
       "      <td>-17.450218</td>\n",
       "      <td>27.129235</td>\n",
       "      <td>Sulwegonde</td>\n",
       "      <td>0.0</td>\n",
       "      <td>-35951.028795</td>\n",
       "      <td>-54594.627676</td>\n",
       "      <td>0.007665</td>\n",
       "      <td>0.007665</td>\n",
       "    </tr>\n",
       "    <tr>\n",
       "      <th>1031182</th>\n",
       "      <td>uuid:ffc939b7-28a9-4fb6-85a6-b6ec16eaa5d5</td>\n",
       "      <td>82533</td>\n",
       "      <td>10</td>\n",
       "      <td>-17.487321</td>\n",
       "      <td>27.175403</td>\n",
       "      <td>Sulwegonde</td>\n",
       "      <td>0.0</td>\n",
       "      <td>-31035.201575</td>\n",
       "      <td>-58724.846256</td>\n",
       "      <td>0.007665</td>\n",
       "      <td>0.007665</td>\n",
       "    </tr>\n",
       "  </tbody>\n",
       "</table>\n",
       "<p>1011358 rows × 11 columns</p>\n",
       "</div>"
      ],
      "text/plain": [
       "                                         person_id  \\\n",
       "0        uuid:9b02be82-9dac-4a35-a80a-17c9c6b5ed00   \n",
       "1        uuid:b49e4841-f741-4f33-a2bb-d704a4f83f8c   \n",
       "2        uuid:e2d87552-8df6-44bb-a475-dddba9fc5751   \n",
       "3        uuid:4622c8e3-391a-498f-8acd-6f3ff0486b5e   \n",
       "4        uuid:a59a41ff-4e3f-4c5d-b4aa-b79d423eac79   \n",
       "5        uuid:2ebabed0-c2ac-497b-9913-9abfd3f42560   \n",
       "6        uuid:6a4a8f72-0571-4998-88cb-1442ac6d7bf3   \n",
       "7        uuid:f7be9406-4a5c-4636-bd27-7c14489c6f93   \n",
       "8        uuid:e54403c9-3a65-4c79-a039-8bedb1142268   \n",
       "9        uuid:fe56fa82-f26c-4f6c-b0de-6c06eba064b8   \n",
       "10       uuid:1d410f84-79ea-4064-9131-f456ff5d0355   \n",
       "11       uuid:b17acec2-9344-410d-9c22-02a3dbfff821   \n",
       "12       uuid:548468fd-e34e-44ad-aadd-42f9105f1531   \n",
       "13       uuid:3ae6c879-440e-43a8-93e9-93a2706e2eca   \n",
       "14       uuid:867f3f44-20dd-49ee-9aff-86089077b427   \n",
       "15       uuid:518839fd-2fbd-4e61-babf-04d9e67bd202   \n",
       "16       uuid:4d5f7328-58cc-4605-9d53-bfd2145eb35e   \n",
       "17       uuid:fda4dbdc-2765-4b8e-a638-b17b58c14dff   \n",
       "18       uuid:bf87ae2e-4b89-41c4-9dc0-16b5c0624ecd   \n",
       "19       uuid:efcd0de1-5cd3-4328-bd77-80672a3c1944   \n",
       "20       uuid:499122e7-0125-4a9f-88ed-e5473edbe691   \n",
       "21       uuid:d857e590-b1b1-49c0-92eb-2e621d45c6e5   \n",
       "22       uuid:1664b159-52ed-46ce-aea3-dde115e70df8   \n",
       "23       uuid:e0e4b367-cece-41e5-9892-1279d43ad972   \n",
       "24       uuid:8412a6b5-f4f0-496a-8470-5624bd7fffd6   \n",
       "25       uuid:e9d105ce-7349-476c-83f9-d5f1ed612be3   \n",
       "26       uuid:13b4f8fe-5cf4-4a01-ae9d-b1174cf2a947   \n",
       "27       uuid:8af25ff8-9fd1-44e9-a111-b5d1dd78bdbd   \n",
       "28       uuid:c64f1907-8798-4492-9874-02dd1abb7df7   \n",
       "29       uuid:cef39377-adf2-4b15-83a4-c4678ea07d59   \n",
       "...                                            ...   \n",
       "1031153  uuid:fad86a3e-c239-4cd7-9c9e-128880770ae0   \n",
       "1031154  uuid:fb001e1f-4865-4237-893e-403013fab144   \n",
       "1031155  uuid:fb1dcd31-504e-463e-9656-f297678361ba   \n",
       "1031156  uuid:fb4e9529-5d16-414e-b618-232781027c30   \n",
       "1031157  uuid:fba92681-20a4-4bd8-b68b-b3857b2fdd89   \n",
       "1031158  uuid:fbbe3685-33e7-4a00-9266-41c2b95a0196   \n",
       "1031159  uuid:fbc2e317-8a6f-4c31-b4df-e5b30af4991f   \n",
       "1031160  uuid:fbc30e3c-9d42-4159-bea7-404d55da2199   \n",
       "1031161  uuid:fbd25c5d-2c15-4ae2-ab42-cca4c5ef3005   \n",
       "1031162  uuid:fbf08259-3263-4620-b402-3c3a42c43a4b   \n",
       "1031163  uuid:fbf61d89-4aef-498a-a2eb-b97f2209b15b   \n",
       "1031164  uuid:fc1f0908-8376-42e1-b5b3-9e5c8f3bdb35   \n",
       "1031165  uuid:fc25b106-f230-44e8-acd9-5580d510a445   \n",
       "1031166  uuid:fcefedd7-6516-4e87-b316-5ecad589e453   \n",
       "1031167  uuid:fcf49648-142a-40d7-a6c4-314e311f2887   \n",
       "1031168  uuid:fd5bc87e-451c-45ec-b7da-8f9025f3d8c6   \n",
       "1031169  uuid:fd84137e-8894-45ea-9116-636d28cdae9a   \n",
       "1031170  uuid:fdb11fc4-b441-446d-a749-33cd9deabf35   \n",
       "1031171  uuid:fdcf74ec-a6a0-410e-8a96-92be9dd43163   \n",
       "1031172  uuid:fe96ee20-bcc4-45f8-994c-d2f2227bbc86   \n",
       "1031173  uuid:fe9cbc34-6396-4768-85c1-47e5703d236b   \n",
       "1031174  uuid:febd2dda-9993-47e0-994a-9487d28a6a77   \n",
       "1031175  uuid:fee062bc-ea4a-45e8-a6ee-f6108e689890   \n",
       "1031176  uuid:fee8be5f-fe04-4286-9ae5-7aefef964a26   \n",
       "1031177  uuid:feeaa720-b10f-4662-934d-8ed2ae2ab182   \n",
       "1031178  uuid:ff0c71f2-c5ee-4cad-87a2-67ba981b4c4e   \n",
       "1031179  uuid:ff2ad4f8-03b2-497c-9266-8c0acbd81e4d   \n",
       "1031180  uuid:ffb4d3b8-c080-422a-96ce-08a7fe48fa4e   \n",
       "1031181  uuid:ffc22242-c0f6-47b3-9a98-f728003cf6be   \n",
       "1031182  uuid:ffc939b7-28a9-4fb6-85a6-b6ec16eaa5d5   \n",
       "\n",
       "                                      household_id  round   latitude  \\\n",
       "0        uuid:007b9a41-4616-4b81-95f6-660282bd3109      1 -16.500518   \n",
       "1        uuid:007b9a41-4616-4b81-95f6-660282bd3109      1 -16.500518   \n",
       "2        uuid:007b9a41-4616-4b81-95f6-660282bd3109      1 -16.500518   \n",
       "3        uuid:007b9a41-4616-4b81-95f6-660282bd3109      1 -16.500518   \n",
       "4        uuid:007b9a41-4616-4b81-95f6-660282bd3109      1 -16.500518   \n",
       "5        uuid:007b9a41-4616-4b81-95f6-660282bd3109      1 -16.500518   \n",
       "6        uuid:007ec893-50e7-4c60-ba2e-35de80d48ba9      1 -16.469910   \n",
       "7        uuid:007ec893-50e7-4c60-ba2e-35de80d48ba9      1 -16.469910   \n",
       "8        uuid:007ec893-50e7-4c60-ba2e-35de80d48ba9      1 -16.469910   \n",
       "9        uuid:007ec893-50e7-4c60-ba2e-35de80d48ba9      1 -16.469910   \n",
       "10       uuid:007ec893-50e7-4c60-ba2e-35de80d48ba9      1 -16.469910   \n",
       "11       uuid:007ec893-50e7-4c60-ba2e-35de80d48ba9      1 -16.469910   \n",
       "12       uuid:007ec893-50e7-4c60-ba2e-35de80d48ba9      1 -16.469910   \n",
       "13       uuid:00ebb594-e7ba-4bbf-aaf5-87348cbe5bd0      1 -16.511033   \n",
       "14       uuid:00ebb594-e7ba-4bbf-aaf5-87348cbe5bd0      1 -16.511033   \n",
       "15       uuid:00ebb594-e7ba-4bbf-aaf5-87348cbe5bd0      1 -16.511033   \n",
       "16       uuid:00ebb594-e7ba-4bbf-aaf5-87348cbe5bd0      1 -16.511033   \n",
       "17       uuid:00ebb594-e7ba-4bbf-aaf5-87348cbe5bd0      1 -16.511033   \n",
       "18       uuid:014a387d-774c-490a-a105-2a56c2944c79      1 -16.438905   \n",
       "19       uuid:014a387d-774c-490a-a105-2a56c2944c79      1 -16.438905   \n",
       "20       uuid:014a387d-774c-490a-a105-2a56c2944c79      1 -16.438905   \n",
       "21       uuid:014a387d-774c-490a-a105-2a56c2944c79      1 -16.438905   \n",
       "22       uuid:014a387d-774c-490a-a105-2a56c2944c79      1 -16.438905   \n",
       "23       uuid:014a387d-774c-490a-a105-2a56c2944c79      1 -16.438905   \n",
       "24       uuid:03457e5b-eb90-4633-85a7-398ffa1246da      1 -16.470070   \n",
       "25       uuid:03457e5b-eb90-4633-85a7-398ffa1246da      1 -16.470070   \n",
       "26       uuid:03457e5b-eb90-4633-85a7-398ffa1246da      1 -16.470070   \n",
       "27       uuid:03457e5b-eb90-4633-85a7-398ffa1246da      1 -16.470070   \n",
       "28       uuid:03457e5b-eb90-4633-85a7-398ffa1246da      1 -16.470070   \n",
       "29       uuid:03457e5b-eb90-4633-85a7-398ffa1246da      1 -16.470070   \n",
       "...                                            ...    ...        ...   \n",
       "1031153                                      12637     10 -17.512875   \n",
       "1031154                                      84165     10 -17.568708   \n",
       "1031155                                      53307     10 -17.481189   \n",
       "1031156                                      53378     10 -17.486241   \n",
       "1031157                                       4316     10 -17.449768   \n",
       "1031158                                      84350     10 -17.568711   \n",
       "1031159                                       6900     10 -17.419630   \n",
       "1031160                                      35928     10 -17.487181   \n",
       "1031161                                       2888     10 -17.433663   \n",
       "1031162                                      74636     10 -17.487796   \n",
       "1031163                                      50777     10 -17.476316   \n",
       "1031164                                      24726     10 -17.452402   \n",
       "1031165                                      60140     10 -17.487785   \n",
       "1031166                                      22385     10 -17.560749   \n",
       "1031167                                      59761     10 -17.441009   \n",
       "1031168                                      52259     10 -17.419227   \n",
       "1031169                                      29646     10 -17.500333   \n",
       "1031170                                      10715     10 -17.560735   \n",
       "1031171                                      26795     10 -17.495580   \n",
       "1031172                                      37198     10 -17.515828   \n",
       "1031173                                      50776     10 -17.490612   \n",
       "1031174                                      31735     10 -17.536879   \n",
       "1031175                                      24746     10 -17.527666   \n",
       "1031176                                      54841     10 -17.560745   \n",
       "1031177                                      16559     10 -17.484472   \n",
       "1031178                                      82262     10 -17.574107   \n",
       "1031179                                      30232     10 -17.542401   \n",
       "1031180                                      64854     10 -17.477550   \n",
       "1031181                                      57339     10 -17.450218   \n",
       "1031182                                      82533     10 -17.487321   \n",
       "\n",
       "         longitude       catch  rdt_pos             x             y  \\\n",
       "0        27.958743      Bbondo      0.0   9650.103957  23514.006309   \n",
       "1        27.958743      Bbondo      0.0   9650.103957  23514.006309   \n",
       "2        27.958743      Bbondo      0.0   9650.103957  23514.006309   \n",
       "3        27.958743      Bbondo      0.0   9650.103957  23514.006309   \n",
       "4        27.958743      Bbondo      0.0   9650.103957  23514.006309   \n",
       "5        27.958743      Bbondo      0.0   9650.103957  23514.006309   \n",
       "6        27.984363      Bbondo      0.0  12381.634874  26921.290624   \n",
       "7        27.984363      Bbondo      0.0  12381.634874  26921.290624   \n",
       "8        27.984363      Bbondo      0.0  12381.634874  26921.290624   \n",
       "9        27.984363      Bbondo      0.0  12381.634874  26921.290624   \n",
       "10       27.984363      Bbondo      0.0  12381.634874  26921.290624   \n",
       "11       27.984363      Bbondo      0.0  12381.634874  26921.290624   \n",
       "12       27.984363      Bbondo      0.0  12381.634874  26921.290624   \n",
       "13       27.941818      Bbondo      1.0   7845.609001  22343.488654   \n",
       "14       27.941818      Bbondo      0.0   7845.609001  22343.488654   \n",
       "15       27.941818      Bbondo      0.0   7845.609001  22343.488654   \n",
       "16       27.941818      Bbondo      0.0   7845.609001  22343.488654   \n",
       "17       27.941818      Bbondo      0.0   7845.609001  22343.488654   \n",
       "18       27.925958      Bbondo      0.0   6154.661291  30372.731414   \n",
       "19       27.925958      Bbondo      0.0   6154.661291  30372.731414   \n",
       "20       27.925958      Bbondo      0.0   6154.661291  30372.731414   \n",
       "21       27.925958      Bbondo      0.0   6154.661291  30372.731414   \n",
       "22       27.925958      Bbondo      0.0   6154.661291  30372.731414   \n",
       "23       27.925958      Bbondo      0.0   6154.661291  30372.731414   \n",
       "24       27.983245      Bbondo      0.0  12262.401381  26903.479609   \n",
       "25       27.983245      Bbondo      0.0  12262.401381  26903.479609   \n",
       "26       27.983245      Bbondo      0.0  12262.401381  26903.479609   \n",
       "27       27.983245      Bbondo      0.0  12262.401381  26903.479609   \n",
       "28       27.983245      Bbondo      0.0  12262.401381  26903.479609   \n",
       "29       27.983245      Bbondo      0.0  12262.401381  26903.479609   \n",
       "...            ...         ...      ...           ...           ...   \n",
       "1031153  27.096961  Sulwegonde      0.0 -39387.469580 -61569.511398   \n",
       "1031154  26.975631  Sulwegonde      0.0 -52306.469609 -67784.789831   \n",
       "1031155  27.157292  Sulwegonde      0.0 -32963.606008 -58042.327040   \n",
       "1031156  27.120046  Sulwegonde      0.0 -36929.455349 -58604.627469   \n",
       "1031157  27.147789  Sulwegonde      0.0 -33975.440961 -54544.575384   \n",
       "1031158  26.975602  Sulwegonde      0.0 -52309.486118 -67785.084826   \n",
       "1031159  27.142041  Sulwegonde      0.0 -34587.450548 -51189.622430   \n",
       "1031160  27.170403  Sulwegonde      0.0 -31567.637287 -58709.296126   \n",
       "1031161  27.143017  Sulwegonde      0.0 -34483.588077 -52751.793177   \n",
       "1031162  27.122667  Sulwegonde      0.0 -36650.352111 -58777.781706   \n",
       "1031163  27.120024  Sulwegonde      0.0 -36931.778689 -57499.812422   \n",
       "1031164  27.128732  Sulwegonde      0.0 -36004.596590 -54837.712412   \n",
       "1031165  27.122699  Sulwegonde      0.0 -36646.977837 -58776.578349   \n",
       "1031166  27.129082  Sulwegonde      0.0 -35967.388007 -66898.858803   \n",
       "1031167  27.146641  Sulwegonde      0.0 -34097.724049 -53569.460150   \n",
       "1031168  27.144576  Sulwegonde      0.0 -34317.542712 -51144.693030   \n",
       "1031169  27.072405  Sulwegonde      0.0 -42002.154893 -60173.422801   \n",
       "1031170  27.129117  Sulwegonde      0.0 -35963.654904 -66897.305905   \n",
       "1031171  27.078247  Sulwegonde      0.0 -41380.170488 -59644.285369   \n",
       "1031172  27.172696  Sulwegonde      0.0 -31323.458689 -61898.217023   \n",
       "1031173  27.078501  Sulwegonde      0.0 -41353.135835 -59091.291196   \n",
       "1031174  27.023110  Sulwegonde      0.0 -47251.029013 -64241.598936   \n",
       "1031175  27.095014  Sulwegonde      0.0 -39594.838887 -63216.089660   \n",
       "1031176  27.129087  Sulwegonde      0.0 -35966.834324 -66898.413527   \n",
       "1031177  27.166233  Sulwegonde      0.0 -32011.574176 -58407.722243   \n",
       "1031178  27.007154  Sulwegonde      0.0 -48949.924261 -68385.802501   \n",
       "1031179  27.107636  Sulwegonde      0.0 -38250.850381 -64856.300485   \n",
       "1031180  27.079887  Sulwegonde      1.0 -41205.518541 -57637.236650   \n",
       "1031181  27.129235  Sulwegonde      0.0 -35951.028795 -54594.627676   \n",
       "1031182  27.175403  Sulwegonde      0.0 -31035.201575 -58724.846256   \n",
       "\n",
       "         catch_prev_x  catch_prev_y  \n",
       "0            0.092425      0.092425  \n",
       "1            0.092425      0.092425  \n",
       "2            0.092425      0.092425  \n",
       "3            0.092425      0.092425  \n",
       "4            0.092425      0.092425  \n",
       "5            0.092425      0.092425  \n",
       "6            0.092425      0.092425  \n",
       "7            0.092425      0.092425  \n",
       "8            0.092425      0.092425  \n",
       "9            0.092425      0.092425  \n",
       "10           0.092425      0.092425  \n",
       "11           0.092425      0.092425  \n",
       "12           0.092425      0.092425  \n",
       "13           0.092425      0.092425  \n",
       "14           0.092425      0.092425  \n",
       "15           0.092425      0.092425  \n",
       "16           0.092425      0.092425  \n",
       "17           0.092425      0.092425  \n",
       "18           0.092425      0.092425  \n",
       "19           0.092425      0.092425  \n",
       "20           0.092425      0.092425  \n",
       "21           0.092425      0.092425  \n",
       "22           0.092425      0.092425  \n",
       "23           0.092425      0.092425  \n",
       "24           0.092425      0.092425  \n",
       "25           0.092425      0.092425  \n",
       "26           0.092425      0.092425  \n",
       "27           0.092425      0.092425  \n",
       "28           0.092425      0.092425  \n",
       "29           0.092425      0.092425  \n",
       "...               ...           ...  \n",
       "1031153      0.007665      0.007665  \n",
       "1031154      0.007665      0.007665  \n",
       "1031155      0.007665      0.007665  \n",
       "1031156      0.007665      0.007665  \n",
       "1031157      0.007665      0.007665  \n",
       "1031158      0.007665      0.007665  \n",
       "1031159      0.007665      0.007665  \n",
       "1031160      0.007665      0.007665  \n",
       "1031161      0.007665      0.007665  \n",
       "1031162      0.007665      0.007665  \n",
       "1031163      0.007665      0.007665  \n",
       "1031164      0.007665      0.007665  \n",
       "1031165      0.007665      0.007665  \n",
       "1031166      0.007665      0.007665  \n",
       "1031167      0.007665      0.007665  \n",
       "1031168      0.007665      0.007665  \n",
       "1031169      0.007665      0.007665  \n",
       "1031170      0.007665      0.007665  \n",
       "1031171      0.007665      0.007665  \n",
       "1031172      0.007665      0.007665  \n",
       "1031173      0.007665      0.007665  \n",
       "1031174      0.007665      0.007665  \n",
       "1031175      0.007665      0.007665  \n",
       "1031176      0.007665      0.007665  \n",
       "1031177      0.007665      0.007665  \n",
       "1031178      0.007665      0.007665  \n",
       "1031179      0.007665      0.007665  \n",
       "1031180      0.007665      0.007665  \n",
       "1031181      0.007665      0.007665  \n",
       "1031182      0.007665      0.007665  \n",
       "\n",
       "[1011358 rows x 11 columns]"
      ]
     },
     "execution_count": 20,
     "metadata": {},
     "output_type": "execute_result"
    }
   ],
   "source": [
    "all_rds_df"
   ]
  },
  {
   "cell_type": "code",
   "execution_count": 18,
   "metadata": {
    "ExecuteTime": {
     "end_time": "2020-01-29T21:13:51.459346Z",
     "start_time": "2020-01-29T21:13:49.869617Z"
    }
   },
   "outputs": [
    {
     "data": {
      "text/html": [
       "<div>\n",
       "<style scoped>\n",
       "    .dataframe tbody tr th:only-of-type {\n",
       "        vertical-align: middle;\n",
       "    }\n",
       "\n",
       "    .dataframe tbody tr th {\n",
       "        vertical-align: top;\n",
       "    }\n",
       "\n",
       "    .dataframe thead th {\n",
       "        text-align: right;\n",
       "    }\n",
       "</style>\n",
       "<table border=\"1\" class=\"dataframe\">\n",
       "  <thead>\n",
       "    <tr style=\"text-align: right;\">\n",
       "      <th></th>\n",
       "      <th>round</th>\n",
       "      <th>latitude</th>\n",
       "      <th>longitude</th>\n",
       "      <th>rdt_pos</th>\n",
       "      <th>x</th>\n",
       "      <th>y</th>\n",
       "      <th>catch_prev</th>\n",
       "    </tr>\n",
       "  </thead>\n",
       "  <tbody>\n",
       "    <tr>\n",
       "      <th>count</th>\n",
       "      <td>1.031183e+06</td>\n",
       "      <td>1.031183e+06</td>\n",
       "      <td>1.031183e+06</td>\n",
       "      <td>1.031183e+06</td>\n",
       "      <td>1.031183e+06</td>\n",
       "      <td>1.031183e+06</td>\n",
       "      <td>1.011358e+06</td>\n",
       "    </tr>\n",
       "    <tr>\n",
       "      <th>mean</th>\n",
       "      <td>6.164134e+00</td>\n",
       "      <td>-1.683982e+01</td>\n",
       "      <td>2.769403e+01</td>\n",
       "      <td>9.106240e-02</td>\n",
       "      <td>5.233989e-11</td>\n",
       "      <td>-1.887242e-11</td>\n",
       "      <td>9.186658e-02</td>\n",
       "    </tr>\n",
       "    <tr>\n",
       "      <th>std</th>\n",
       "      <td>2.920011e+00</td>\n",
       "      <td>4.847288e-01</td>\n",
       "      <td>6.387804e-01</td>\n",
       "      <td>2.876980e-01</td>\n",
       "      <td>6.372891e+04</td>\n",
       "      <td>5.198847e+04</td>\n",
       "      <td>1.170616e-01</td>\n",
       "    </tr>\n",
       "    <tr>\n",
       "      <th>min</th>\n",
       "      <td>1.000000e+00</td>\n",
       "      <td>-1.805447e+01</td>\n",
       "      <td>2.600834e+01</td>\n",
       "      <td>0.000000e+00</td>\n",
       "      <td>-1.982961e+05</td>\n",
       "      <td>-1.537457e+05</td>\n",
       "      <td>0.000000e+00</td>\n",
       "    </tr>\n",
       "    <tr>\n",
       "      <th>25%</th>\n",
       "      <td>4.000000e+00</td>\n",
       "      <td>-1.716926e+01</td>\n",
       "      <td>2.721040e+01</td>\n",
       "      <td>0.000000e+00</td>\n",
       "      <td>-3.972348e+04</td>\n",
       "      <td>-3.673281e+04</td>\n",
       "      <td>1.315789e-02</td>\n",
       "    </tr>\n",
       "    <tr>\n",
       "      <th>50%</th>\n",
       "      <td>7.000000e+00</td>\n",
       "      <td>-1.681855e+01</td>\n",
       "      <td>2.760379e+01</td>\n",
       "      <td>0.000000e+00</td>\n",
       "      <td>-9.625547e+03</td>\n",
       "      <td>-6.768801e+03</td>\n",
       "      <td>3.421346e-02</td>\n",
       "    </tr>\n",
       "    <tr>\n",
       "      <th>75%</th>\n",
       "      <td>9.000000e+00</td>\n",
       "      <td>-1.650378e+01</td>\n",
       "      <td>2.804321e+01</td>\n",
       "      <td>0.000000e+00</td>\n",
       "      <td>3.469085e+04</td>\n",
       "      <td>3.764727e+04</td>\n",
       "      <td>1.557292e-01</td>\n",
       "    </tr>\n",
       "    <tr>\n",
       "      <th>max</th>\n",
       "      <td>1.000000e+01</td>\n",
       "      <td>-1.575292e+01</td>\n",
       "      <td>2.890884e+01</td>\n",
       "      <td>1.000000e+00</td>\n",
       "      <td>1.494216e+05</td>\n",
       "      <td>1.349966e+05</td>\n",
       "      <td>4.916089e-01</td>\n",
       "    </tr>\n",
       "  </tbody>\n",
       "</table>\n",
       "</div>"
      ],
      "text/plain": [
       "              round      latitude     longitude       rdt_pos             x  \\\n",
       "count  1.031183e+06  1.031183e+06  1.031183e+06  1.031183e+06  1.031183e+06   \n",
       "mean   6.164134e+00 -1.683982e+01  2.769403e+01  9.106240e-02  5.233989e-11   \n",
       "std    2.920011e+00  4.847288e-01  6.387804e-01  2.876980e-01  6.372891e+04   \n",
       "min    1.000000e+00 -1.805447e+01  2.600834e+01  0.000000e+00 -1.982961e+05   \n",
       "25%    4.000000e+00 -1.716926e+01  2.721040e+01  0.000000e+00 -3.972348e+04   \n",
       "50%    7.000000e+00 -1.681855e+01  2.760379e+01  0.000000e+00 -9.625547e+03   \n",
       "75%    9.000000e+00 -1.650378e+01  2.804321e+01  0.000000e+00  3.469085e+04   \n",
       "max    1.000000e+01 -1.575292e+01  2.890884e+01  1.000000e+00  1.494216e+05   \n",
       "\n",
       "                  y    catch_prev  \n",
       "count  1.031183e+06  1.011358e+06  \n",
       "mean  -1.887242e-11  9.186658e-02  \n",
       "std    5.198847e+04  1.170616e-01  \n",
       "min   -1.537457e+05  0.000000e+00  \n",
       "25%   -3.673281e+04  1.315789e-02  \n",
       "50%   -6.768801e+03  3.421346e-02  \n",
       "75%    3.764727e+04  1.557292e-01  \n",
       "max    1.349966e+05  4.916089e-01  "
      ]
     },
     "execution_count": 18,
     "metadata": {},
     "output_type": "execute_result"
    }
   ],
   "source": [
    "all_rds_df.describe()"
   ]
  },
  {
   "cell_type": "code",
   "execution_count": null,
   "metadata": {},
   "outputs": [],
   "source": [
    "# Groupby round/catch\n",
    "# build kdtree for all people, and one for pos people\n",
    "# count_neighbors for pos, for real data.\n",
    "# reshuffle cases, and compute again.  do this N=100 or 1000 times\n",
    "# make figure and save\n",
    "# save intermediate file: enrich radii at different significance cutoffs [80,90,95,99]\n"
   ]
  },
  {
   "cell_type": "code",
   "execution_count": 91,
   "metadata": {
    "ExecuteTime": {
     "end_time": "2020-01-29T22:37:37.292204Z",
     "start_time": "2020-01-29T22:37:33.900096Z"
    }
   },
   "outputs": [
    {
     "data": {
      "text/plain": [
       "<matplotlib.legend.Legend at 0x260ab5a0a20>"
      ]
     },
     "execution_count": 91,
     "metadata": {},
     "output_type": "execute_result"
    },
    {
     "data": {
      "image/png": "[encoded data removed]",
      "text/plain": [
       "<Figure size 432x288 with 1 Axes>"
      ]
     },
     "metadata": {
      "needs_background": "light"
     },
     "output_type": "display_data"
    }
   ],
   "source": [
    "rbins = np.arange(10,500,10)\n",
    "n_randomizations = 1000\n",
    "\n",
    "# for i, sdf in all_rds_df.groupby([\"catch\", \"round\"]):\n",
    "sdf = all_rds_df[np.logical_and(all_rds_df[\"round\"]==9, all_rds_df[\"catch\"]==\"Bbondo\")]\n",
    "\n",
    "# Create kdtree\n",
    "pos_cut = sdf[\"rdt_pos\"]==1\n",
    "pos_individuals_xy = np.array(sdf[[\"x\", \"y\"]][pos_cut])\n",
    "ckdt_pos = cKDTree(pos_individuals_xy)\n",
    "\n",
    "c_data = ckdt_pos.count_neighbors(ckdt_pos, rbins)\n",
    "\n",
    "\n",
    "randomization_data = randomized_correlation(sdf, rbins, n_randomizations=n_randomizations)\n",
    "plt.plot(rbins, c_data, label=\"Observed\")\n",
    "plt.plot(rbins, percentile_across_axis(randomization_data,50))\n",
    "plt.fill_between(rbins, percentile_across_axis(randomization_data,10),percentile_across_axis(randomization_data,90),alpha=0.2)\n",
    "plt.legend()"
   ]
  },
  {
   "cell_type": "code",
   "execution_count": 93,
   "metadata": {
    "ExecuteTime": {
     "end_time": "2020-01-29T22:37:56.986608Z",
     "start_time": "2020-01-29T22:37:56.381872Z"
    }
   },
   "outputs": [
    {
     "data": {
      "text/plain": [
       "<matplotlib.legend.Legend at 0x260ab66e668>"
      ]
     },
     "execution_count": 93,
     "metadata": {},
     "output_type": "execute_result"
    },
    {
     "data": {
      "image/png": "[encoded data removed]",
      "text/plain": [
       "<Figure size 432x288 with 1 Axes>"
      ]
     },
     "metadata": {
      "needs_background": "light"
     },
     "output_type": "display_data"
    }
   ],
   "source": [
    "\n",
    "m = percentile_across_axis(randomization_data,50)\n",
    "q1 = percentile_across_axis(randomization_data,20)\n",
    "q3 = percentile_across_axis(randomization_data,80)\n",
    "# Plotting pairs\n",
    "# plt.plot(rbins, c_data/np.max(c_data), label=\"Observed\", color=\"C2\")\n",
    "# plt.plot(rbins, m/np.max(m),color=\"C1\",label=\"Randomizations\")\n",
    "# plt.fill_between(rbins, q1/np.max(m),q3/np.max(m),alpha=0.2, color=\"C1\")\n",
    "\n",
    "# Plotting pair enrichment\n",
    "plt.axhline(1,linestyle='dashed', color='gray')\n",
    "plt.plot(rbins, c_data/np.max(c_data)/(m/np.max(m)), label=\"Ratio of actual clustering to random\", color=\"C2\")\n",
    "plt.fill_between(rbins, c_data/np.max(c_data)/(q3/np.max(m)),c_data/np.max(c_data)/(q1/np.max(m)), color=\"C2\", alpha=0.2)\n",
    "plt.legend()"
   ]
  },
  {
   "cell_type": "code",
   "execution_count": 95,
   "metadata": {
    "ExecuteTime": {
     "end_time": "2020-01-29T22:39:11.662285Z",
     "start_time": "2020-01-29T22:39:10.803626Z"
    }
   },
   "outputs": [
    {
     "data": {
      "text/plain": [
       "<matplotlib.collections.PathCollection at 0x260ab71e780>"
      ]
     },
     "execution_count": 95,
     "metadata": {},
     "output_type": "execute_result"
    },
    {
     "data": {
      "image/png": "[encoded data removed]",
      "text/plain": [
       "<Figure size 432x288 with 1 Axes>"
      ]
     },
     "metadata": {
      "needs_background": "light"
     },
     "output_type": "display_data"
    }
   ],
   "source": [
    "plt.scatter(sdf[\"longitude\"],sdf[\"latitude\"])\n",
    "plt.scatter(sdf[\"longitude\"][sdf[\"rdt_pos\"]==1],sdf[\"latitude\"][sdf[\"rdt_pos\"]==1])"
   ]
  },
  {
   "cell_type": "code",
   "execution_count": 36,
   "metadata": {
    "ExecuteTime": {
     "end_time": "2020-01-29T22:05:58.929990Z",
     "start_time": "2020-01-29T22:05:58.923972Z"
    }
   },
   "outputs": [
    {
     "data": {
      "text/plain": [
       "array([1874, 1913, 1489,  826,  512, 1967, 1024, 1960])"
      ]
     },
     "execution_count": 36,
     "metadata": {},
     "output_type": "execute_result"
    }
   ],
   "source": [
    "np.arange(len(sdf))[subsample]"
   ]
  },
  {
   "cell_type": "code",
   "execution_count": null,
   "metadata": {},
   "outputs": [],
   "source": []
  },
  {
   "cell_type": "code",
   "execution_count": 216,
   "metadata": {
    "ExecuteTime": {
     "end_time": "2020-01-30T19:05:42.900369Z",
     "start_time": "2020-01-30T19:05:42.648866Z"
    }
   },
   "outputs": [
    {
     "data": {
      "text/plain": [
       "array([[17., 13., 13., 13., 13.],\n",
       "       [17., 19., 13., 13., 13.],\n",
       "       [17., 19., 13., 13., 13.],\n",
       "       [17., 19., 13., 17., 15.],\n",
       "       [17., 19., 15., 17., 15.],\n",
       "       [17., 19., 15., 17., 15.],\n",
       "       [17., 19., 15., 17., 15.],\n",
       "       [17., 19., 15., 17., 15.],\n",
       "       [17., 19., 15., 17., 15.],\n",
       "       [17., 19., 15., 19., 15.]])"
      ]
     },
     "execution_count": 216,
     "metadata": {},
     "output_type": "execute_result"
    },
    {
     "data": {
      "image/png": "[encoded data removed]",
      "text/plain": [
       "<Figure size 432x288 with 1 Axes>"
      ]
     },
     "metadata": {
      "needs_background": "light"
     },
     "output_type": "display_data"
    }
   ],
   "source": [
    "randomized_correlation(sdf,rbins,n_randomizations=5, make_plot=True)"
   ]
  },
  {
   "cell_type": "code",
   "execution_count": 306,
   "metadata": {
    "ExecuteTime": {
     "end_time": "2020-01-30T19:49:10.027051Z",
     "start_time": "2020-01-30T19:49:10.016080Z"
    }
   },
   "outputs": [],
   "source": [
    "def randomized_correlation(sdf, rbins, n_randomizations=1000, make_plot=False):\n",
    "    n_pos = np.sum(sdf[\"rdt_pos\"])\n",
    "    n_all = len(sdf)\n",
    "    n_rbins = len(rbins)\n",
    "    \n",
    "    all_data = np.zeros([n_randomizations, n_rbins])\n",
    "    ii = np.arange(n_all)\n",
    "    \n",
    "    if make_plot: \n",
    "        plt.figure()\n",
    "    \n",
    "    for j in np.arange(n_randomizations):\n",
    "        subsample = np.random.choice(ii,n_pos.astype(\"int\"), replace=False)\n",
    "        randomized_pos_xy = np.array(sdf[[\"x\", \"y\"]])[subsample]\n",
    "        \n",
    "        ckdt_pos = cKDTree(randomized_pos_xy)\n",
    "#         foo = ckdt_pos.count_neighbors(ckdt_pos, rbins)\n",
    "#         print(foo)\n",
    "        all_data[j,:] = ckdt_pos.count_neighbors(ckdt_pos, rbins)\n",
    "        \n",
    "        if make_plot:\n",
    "            plt.scatter(randomized_pos_xy[:,0],randomized_pos_xy[:,1], marker='.')\n",
    "    \n",
    "    return all_data\n",
    "\n",
    "def percentile_across_axis(m, p):\n",
    "    # m is matrix\n",
    "    n_rbins = m.shape[1]\n",
    "    return_array = np.zeros(n_rbins)\n",
    "    for i in np.arange(n_rbins):\n",
    "        return_array[i] = np.percentile(m[:,i],p)\n",
    "        \n",
    "    return return_array "
   ]
  },
  {
   "cell_type": "code",
   "execution_count": 292,
   "metadata": {
    "ExecuteTime": {
     "end_time": "2020-01-30T19:44:58.275388Z",
     "start_time": "2020-01-30T19:44:58.269384Z"
    }
   },
   "outputs": [
    {
     "data": {
      "text/plain": [
       "array([ 10,  20,  30,  40,  50,  60,  70,  80,  90, 100, 110, 120, 130,\n",
       "       140, 150, 160, 170, 180, 190, 200, 210, 220, 230, 240, 250, 260,\n",
       "       270, 280, 290, 300, 310, 320, 330, 340, 350, 360, 370, 380, 390,\n",
       "       400, 410, 420, 430, 440, 450, 460, 470, 480, 490])"
      ]
     },
     "execution_count": 292,
     "metadata": {},
     "output_type": "execute_result"
    }
   ],
   "source": [
    "rbins"
   ]
  },
  {
   "cell_type": "code",
   "execution_count": 104,
   "metadata": {
    "ExecuteTime": {
     "end_time": "2020-01-30T18:08:29.667356Z",
     "start_time": "2020-01-30T18:08:29.097736Z"
    }
   },
   "outputs": [
    {
     "data": {
      "image/png": "[encoded data removed]",
      "text/plain": [
       "<Figure size 432x288 with 1 Axes>"
      ]
     },
     "metadata": {
      "needs_background": "light"
     },
     "output_type": "display_data"
    }
   ],
   "source": [
    "plt.hist(cdf[\"catch_prev\"], bins=[0,0.0001,0.005,0.01,0.02,0.05,0.1,0.2,0.3,0.4,0.5], histtype=\"bar\")\n",
    "plt.xscale(\"log\")"
   ]
  },
  {
   "cell_type": "markdown",
   "metadata": {
    "ExecuteTime": {
     "end_time": "2020-01-30T18:06:44.041809Z",
     "start_time": "2020-01-30T18:06:44.010637Z"
    }
   },
   "source": [
    "# Try binning\n",
    "\n",
    "The nice thing is that binning just means summing up"
   ]
  },
  {
   "cell_type": "code",
   "execution_count": 106,
   "metadata": {
    "ExecuteTime": {
     "end_time": "2020-01-30T18:17:03.522821Z",
     "start_time": "2020-01-30T18:17:03.515838Z"
    }
   },
   "outputs": [
    {
     "data": {
      "text/plain": [
       "0.003639672429481347"
      ]
     },
     "execution_count": 106,
     "metadata": {},
     "output_type": "execute_result"
    }
   ],
   "source": [
    "sdf[\"catch_prev\"].iloc[0]"
   ]
  },
  {
   "cell_type": "code",
   "execution_count": 331,
   "metadata": {
    "ExecuteTime": {
     "end_time": "2020-01-30T20:09:12.010194Z",
     "start_time": "2020-01-30T20:09:11.975048Z"
    }
   },
   "outputs": [
    {
     "data": {
      "text/html": [
       "<div>\n",
       "<style scoped>\n",
       "    .dataframe tbody tr th:only-of-type {\n",
       "        vertical-align: middle;\n",
       "    }\n",
       "\n",
       "    .dataframe tbody tr th {\n",
       "        vertical-align: top;\n",
       "    }\n",
       "\n",
       "    .dataframe thead th {\n",
       "        text-align: right;\n",
       "    }\n",
       "</style>\n",
       "<table border=\"1\" class=\"dataframe\">\n",
       "  <thead>\n",
       "    <tr style=\"text-align: right;\">\n",
       "      <th></th>\n",
       "      <th>person_id</th>\n",
       "      <th>household_id</th>\n",
       "      <th>round</th>\n",
       "      <th>latitude</th>\n",
       "      <th>longitude</th>\n",
       "      <th>catch</th>\n",
       "      <th>rdt_pos</th>\n",
       "      <th>x</th>\n",
       "      <th>y</th>\n",
       "      <th>catch_prev</th>\n",
       "    </tr>\n",
       "  </thead>\n",
       "  <tbody>\n",
       "    <tr>\n",
       "      <th>816325</th>\n",
       "      <td>uuid:261c0823-8b03-478b-a590-eaee5a27e020</td>\n",
       "      <td>46229</td>\n",
       "      <td>9</td>\n",
       "      <td>-16.979981</td>\n",
       "      <td>26.861415</td>\n",
       "      <td>Mochipapa</td>\n",
       "      <td>0.0</td>\n",
       "      <td>-63537.212872</td>\n",
       "      <td>-1597.855179</td>\n",
       "      <td>0.028571</td>\n",
       "    </tr>\n",
       "    <tr>\n",
       "      <th>816326</th>\n",
       "      <td>uuid:2d056d91-b1ae-4922-8486-e1ae168dee79</td>\n",
       "      <td>38510</td>\n",
       "      <td>9</td>\n",
       "      <td>-16.786415</td>\n",
       "      <td>27.079446</td>\n",
       "      <td>Mochipapa</td>\n",
       "      <td>0.0</td>\n",
       "      <td>-40322.528474</td>\n",
       "      <td>19949.677244</td>\n",
       "      <td>0.028571</td>\n",
       "    </tr>\n",
       "    <tr>\n",
       "      <th>816327</th>\n",
       "      <td>uuid:302647a5-d304-424a-a43d-057857016114</td>\n",
       "      <td>38510</td>\n",
       "      <td>9</td>\n",
       "      <td>-16.786415</td>\n",
       "      <td>27.079446</td>\n",
       "      <td>Mochipapa</td>\n",
       "      <td>0.0</td>\n",
       "      <td>-40322.528474</td>\n",
       "      <td>19949.677244</td>\n",
       "      <td>0.028571</td>\n",
       "    </tr>\n",
       "    <tr>\n",
       "      <th>816329</th>\n",
       "      <td>uuid:3d6ef7b8-ae26-4789-993a-b9f381964450</td>\n",
       "      <td>58181</td>\n",
       "      <td>9</td>\n",
       "      <td>-16.774759</td>\n",
       "      <td>27.136090</td>\n",
       "      <td>Mochipapa</td>\n",
       "      <td>0.0</td>\n",
       "      <td>-34291.452340</td>\n",
       "      <td>21247.294304</td>\n",
       "      <td>0.028571</td>\n",
       "    </tr>\n",
       "    <tr>\n",
       "      <th>816330</th>\n",
       "      <td>uuid:3db6ec85-8373-41f2-ae95-bfaeb05db143</td>\n",
       "      <td>25758</td>\n",
       "      <td>9</td>\n",
       "      <td>-16.789541</td>\n",
       "      <td>27.085018</td>\n",
       "      <td>Mochipapa</td>\n",
       "      <td>0.0</td>\n",
       "      <td>-39729.322114</td>\n",
       "      <td>19601.784703</td>\n",
       "      <td>0.028571</td>\n",
       "    </tr>\n",
       "    <tr>\n",
       "      <th>816332</th>\n",
       "      <td>uuid:51d03cba-ccfd-4612-be6b-abbb40000f62</td>\n",
       "      <td>8379</td>\n",
       "      <td>9</td>\n",
       "      <td>-16.789663</td>\n",
       "      <td>27.085000</td>\n",
       "      <td>Mochipapa</td>\n",
       "      <td>0.0</td>\n",
       "      <td>-39731.170507</td>\n",
       "      <td>19588.095824</td>\n",
       "      <td>0.028571</td>\n",
       "    </tr>\n",
       "    <tr>\n",
       "      <th>816333</th>\n",
       "      <td>uuid:56cf4071-fa1d-4720-9039-4a06800db40e</td>\n",
       "      <td>58181</td>\n",
       "      <td>9</td>\n",
       "      <td>-16.774759</td>\n",
       "      <td>27.136090</td>\n",
       "      <td>Mochipapa</td>\n",
       "      <td>0.0</td>\n",
       "      <td>-34291.452340</td>\n",
       "      <td>21247.294304</td>\n",
       "      <td>0.028571</td>\n",
       "    </tr>\n",
       "    <tr>\n",
       "      <th>816334</th>\n",
       "      <td>uuid:59c5f62e-d4af-4fcd-a2fb-55b43c41788a</td>\n",
       "      <td>38510</td>\n",
       "      <td>9</td>\n",
       "      <td>-16.786415</td>\n",
       "      <td>27.079446</td>\n",
       "      <td>Mochipapa</td>\n",
       "      <td>0.0</td>\n",
       "      <td>-40322.528474</td>\n",
       "      <td>19949.677244</td>\n",
       "      <td>0.028571</td>\n",
       "    </tr>\n",
       "    <tr>\n",
       "      <th>816336</th>\n",
       "      <td>uuid:5c7f52de-dc4e-45d9-a2fa-0edd859b8731</td>\n",
       "      <td>38510</td>\n",
       "      <td>9</td>\n",
       "      <td>-16.786415</td>\n",
       "      <td>27.079446</td>\n",
       "      <td>Mochipapa</td>\n",
       "      <td>0.0</td>\n",
       "      <td>-40322.528474</td>\n",
       "      <td>19949.677244</td>\n",
       "      <td>0.028571</td>\n",
       "    </tr>\n",
       "    <tr>\n",
       "      <th>816337</th>\n",
       "      <td>uuid:5eca51bf-64af-453e-a72f-d7b49f4edaac</td>\n",
       "      <td>46229</td>\n",
       "      <td>9</td>\n",
       "      <td>-16.979981</td>\n",
       "      <td>26.861415</td>\n",
       "      <td>Mochipapa</td>\n",
       "      <td>0.0</td>\n",
       "      <td>-63537.212872</td>\n",
       "      <td>-1597.855179</td>\n",
       "      <td>0.028571</td>\n",
       "    </tr>\n",
       "    <tr>\n",
       "      <th>816340</th>\n",
       "      <td>uuid:7d0f3ac0-4e0c-4d44-a281-10250bba3ae5</td>\n",
       "      <td>25758</td>\n",
       "      <td>9</td>\n",
       "      <td>-16.789541</td>\n",
       "      <td>27.085018</td>\n",
       "      <td>Mochipapa</td>\n",
       "      <td>0.0</td>\n",
       "      <td>-39729.322114</td>\n",
       "      <td>19601.784703</td>\n",
       "      <td>0.028571</td>\n",
       "    </tr>\n",
       "    <tr>\n",
       "      <th>816341</th>\n",
       "      <td>uuid:7fd43b57-2d0d-401a-82e8-f36cb37c19dc</td>\n",
       "      <td>38510</td>\n",
       "      <td>9</td>\n",
       "      <td>-16.786415</td>\n",
       "      <td>27.079446</td>\n",
       "      <td>Mochipapa</td>\n",
       "      <td>0.0</td>\n",
       "      <td>-40322.528474</td>\n",
       "      <td>19949.677244</td>\n",
       "      <td>0.028571</td>\n",
       "    </tr>\n",
       "    <tr>\n",
       "      <th>816342</th>\n",
       "      <td>uuid:afe2ddd4-2703-43ac-a9ed-00e08c9504da</td>\n",
       "      <td>38510</td>\n",
       "      <td>9</td>\n",
       "      <td>-16.786415</td>\n",
       "      <td>27.079446</td>\n",
       "      <td>Mochipapa</td>\n",
       "      <td>0.0</td>\n",
       "      <td>-40322.528474</td>\n",
       "      <td>19949.677244</td>\n",
       "      <td>0.028571</td>\n",
       "    </tr>\n",
       "    <tr>\n",
       "      <th>816343</th>\n",
       "      <td>uuid:aff26da5-e979-49c8-a925-4ab4f29d715a</td>\n",
       "      <td>8379</td>\n",
       "      <td>9</td>\n",
       "      <td>-16.789663</td>\n",
       "      <td>27.085000</td>\n",
       "      <td>Mochipapa</td>\n",
       "      <td>0.0</td>\n",
       "      <td>-39731.170507</td>\n",
       "      <td>19588.095824</td>\n",
       "      <td>0.028571</td>\n",
       "    </tr>\n",
       "    <tr>\n",
       "      <th>816344</th>\n",
       "      <td>uuid:b0acfc4a-da09-4429-9277-86d21e9d5adb</td>\n",
       "      <td>58181</td>\n",
       "      <td>9</td>\n",
       "      <td>-16.774759</td>\n",
       "      <td>27.136090</td>\n",
       "      <td>Mochipapa</td>\n",
       "      <td>0.0</td>\n",
       "      <td>-34291.452340</td>\n",
       "      <td>21247.294304</td>\n",
       "      <td>0.028571</td>\n",
       "    </tr>\n",
       "    <tr>\n",
       "      <th>816346</th>\n",
       "      <td>uuid:b8a2d2e2-6e1c-4a99-9085-7f302b48c0bd</td>\n",
       "      <td>58181</td>\n",
       "      <td>9</td>\n",
       "      <td>-16.774759</td>\n",
       "      <td>27.136090</td>\n",
       "      <td>Mochipapa</td>\n",
       "      <td>0.0</td>\n",
       "      <td>-34291.452340</td>\n",
       "      <td>21247.294304</td>\n",
       "      <td>0.028571</td>\n",
       "    </tr>\n",
       "    <tr>\n",
       "      <th>816347</th>\n",
       "      <td>uuid:c17b9b0f-3391-46b2-8205-8e1db77ccf5a</td>\n",
       "      <td>46229</td>\n",
       "      <td>9</td>\n",
       "      <td>-16.979981</td>\n",
       "      <td>26.861415</td>\n",
       "      <td>Mochipapa</td>\n",
       "      <td>0.0</td>\n",
       "      <td>-63537.212872</td>\n",
       "      <td>-1597.855179</td>\n",
       "      <td>0.028571</td>\n",
       "    </tr>\n",
       "    <tr>\n",
       "      <th>816348</th>\n",
       "      <td>uuid:c2daa8ca-5d2a-4d17-8695-4f1c5f7e5b6a</td>\n",
       "      <td>25758</td>\n",
       "      <td>9</td>\n",
       "      <td>-16.789541</td>\n",
       "      <td>27.085018</td>\n",
       "      <td>Mochipapa</td>\n",
       "      <td>0.0</td>\n",
       "      <td>-39729.322114</td>\n",
       "      <td>19601.784703</td>\n",
       "      <td>0.028571</td>\n",
       "    </tr>\n",
       "    <tr>\n",
       "      <th>816349</th>\n",
       "      <td>uuid:c36967d0-7f5b-4576-b9d9-d37f8441b328</td>\n",
       "      <td>31027</td>\n",
       "      <td>9</td>\n",
       "      <td>-16.802344</td>\n",
       "      <td>27.086093</td>\n",
       "      <td>Mochipapa</td>\n",
       "      <td>0.0</td>\n",
       "      <td>-39614.820774</td>\n",
       "      <td>18176.527229</td>\n",
       "      <td>0.028571</td>\n",
       "    </tr>\n",
       "    <tr>\n",
       "      <th>816351</th>\n",
       "      <td>uuid:d1299d17-dfcb-48c5-8b6c-912e03067563</td>\n",
       "      <td>8379</td>\n",
       "      <td>9</td>\n",
       "      <td>-16.789663</td>\n",
       "      <td>27.085000</td>\n",
       "      <td>Mochipapa</td>\n",
       "      <td>0.0</td>\n",
       "      <td>-39731.170507</td>\n",
       "      <td>19588.095824</td>\n",
       "      <td>0.028571</td>\n",
       "    </tr>\n",
       "    <tr>\n",
       "      <th>816352</th>\n",
       "      <td>uuid:e02e1aa9-2802-4055-9940-f97a1db34831</td>\n",
       "      <td>8379</td>\n",
       "      <td>9</td>\n",
       "      <td>-16.789663</td>\n",
       "      <td>27.085000</td>\n",
       "      <td>Mochipapa</td>\n",
       "      <td>0.0</td>\n",
       "      <td>-39731.170507</td>\n",
       "      <td>19588.095824</td>\n",
       "      <td>0.028571</td>\n",
       "    </tr>\n",
       "    <tr>\n",
       "      <th>816354</th>\n",
       "      <td>uuid:e4a4bcf5-c6d4-4352-afd0-53ed261da476</td>\n",
       "      <td>46229</td>\n",
       "      <td>9</td>\n",
       "      <td>-16.979981</td>\n",
       "      <td>26.861415</td>\n",
       "      <td>Mochipapa</td>\n",
       "      <td>0.0</td>\n",
       "      <td>-63537.212872</td>\n",
       "      <td>-1597.855179</td>\n",
       "      <td>0.028571</td>\n",
       "    </tr>\n",
       "    <tr>\n",
       "      <th>816355</th>\n",
       "      <td>uuid:ecee7769-0925-4825-9901-f466295b466f</td>\n",
       "      <td>58181</td>\n",
       "      <td>9</td>\n",
       "      <td>-16.774759</td>\n",
       "      <td>27.136090</td>\n",
       "      <td>Mochipapa</td>\n",
       "      <td>0.0</td>\n",
       "      <td>-34291.452340</td>\n",
       "      <td>21247.294304</td>\n",
       "      <td>0.028571</td>\n",
       "    </tr>\n",
       "    <tr>\n",
       "      <th>816356</th>\n",
       "      <td>uuid:fe8ac0c7-b3f4-4e63-b515-7e568a6c4c1e</td>\n",
       "      <td>31027</td>\n",
       "      <td>9</td>\n",
       "      <td>-16.802344</td>\n",
       "      <td>27.086093</td>\n",
       "      <td>Mochipapa</td>\n",
       "      <td>0.0</td>\n",
       "      <td>-39614.820774</td>\n",
       "      <td>18176.527229</td>\n",
       "      <td>0.028571</td>\n",
       "    </tr>\n",
       "    <tr>\n",
       "      <th>816357</th>\n",
       "      <td>uuid:ff8d413f-ff89-4271-9d33-dfa73305881b</td>\n",
       "      <td>38510</td>\n",
       "      <td>9</td>\n",
       "      <td>-16.786415</td>\n",
       "      <td>27.079446</td>\n",
       "      <td>Mochipapa</td>\n",
       "      <td>0.0</td>\n",
       "      <td>-40322.528474</td>\n",
       "      <td>19949.677244</td>\n",
       "      <td>0.028571</td>\n",
       "    </tr>\n",
       "  </tbody>\n",
       "</table>\n",
       "</div>"
      ],
      "text/plain": [
       "                                        person_id household_id  round  \\\n",
       "816325  uuid:261c0823-8b03-478b-a590-eaee5a27e020        46229      9   \n",
       "816326  uuid:2d056d91-b1ae-4922-8486-e1ae168dee79        38510      9   \n",
       "816327  uuid:302647a5-d304-424a-a43d-057857016114        38510      9   \n",
       "816329  uuid:3d6ef7b8-ae26-4789-993a-b9f381964450        58181      9   \n",
       "816330  uuid:3db6ec85-8373-41f2-ae95-bfaeb05db143        25758      9   \n",
       "816332  uuid:51d03cba-ccfd-4612-be6b-abbb40000f62         8379      9   \n",
       "816333  uuid:56cf4071-fa1d-4720-9039-4a06800db40e        58181      9   \n",
       "816334  uuid:59c5f62e-d4af-4fcd-a2fb-55b43c41788a        38510      9   \n",
       "816336  uuid:5c7f52de-dc4e-45d9-a2fa-0edd859b8731        38510      9   \n",
       "816337  uuid:5eca51bf-64af-453e-a72f-d7b49f4edaac        46229      9   \n",
       "816340  uuid:7d0f3ac0-4e0c-4d44-a281-10250bba3ae5        25758      9   \n",
       "816341  uuid:7fd43b57-2d0d-401a-82e8-f36cb37c19dc        38510      9   \n",
       "816342  uuid:afe2ddd4-2703-43ac-a9ed-00e08c9504da        38510      9   \n",
       "816343  uuid:aff26da5-e979-49c8-a925-4ab4f29d715a         8379      9   \n",
       "816344  uuid:b0acfc4a-da09-4429-9277-86d21e9d5adb        58181      9   \n",
       "816346  uuid:b8a2d2e2-6e1c-4a99-9085-7f302b48c0bd        58181      9   \n",
       "816347  uuid:c17b9b0f-3391-46b2-8205-8e1db77ccf5a        46229      9   \n",
       "816348  uuid:c2daa8ca-5d2a-4d17-8695-4f1c5f7e5b6a        25758      9   \n",
       "816349  uuid:c36967d0-7f5b-4576-b9d9-d37f8441b328        31027      9   \n",
       "816351  uuid:d1299d17-dfcb-48c5-8b6c-912e03067563         8379      9   \n",
       "816352  uuid:e02e1aa9-2802-4055-9940-f97a1db34831         8379      9   \n",
       "816354  uuid:e4a4bcf5-c6d4-4352-afd0-53ed261da476        46229      9   \n",
       "816355  uuid:ecee7769-0925-4825-9901-f466295b466f        58181      9   \n",
       "816356  uuid:fe8ac0c7-b3f4-4e63-b515-7e568a6c4c1e        31027      9   \n",
       "816357  uuid:ff8d413f-ff89-4271-9d33-dfa73305881b        38510      9   \n",
       "\n",
       "         latitude  longitude      catch  rdt_pos             x             y  \\\n",
       "816325 -16.979981  26.861415  Mochipapa      0.0 -63537.212872  -1597.855179   \n",
       "816326 -16.786415  27.079446  Mochipapa      0.0 -40322.528474  19949.677244   \n",
       "816327 -16.786415  27.079446  Mochipapa      0.0 -40322.528474  19949.677244   \n",
       "816329 -16.774759  27.136090  Mochipapa      0.0 -34291.452340  21247.294304   \n",
       "816330 -16.789541  27.085018  Mochipapa      0.0 -39729.322114  19601.784703   \n",
       "816332 -16.789663  27.085000  Mochipapa      0.0 -39731.170507  19588.095824   \n",
       "816333 -16.774759  27.136090  Mochipapa      0.0 -34291.452340  21247.294304   \n",
       "816334 -16.786415  27.079446  Mochipapa      0.0 -40322.528474  19949.677244   \n",
       "816336 -16.786415  27.079446  Mochipapa      0.0 -40322.528474  19949.677244   \n",
       "816337 -16.979981  26.861415  Mochipapa      0.0 -63537.212872  -1597.855179   \n",
       "816340 -16.789541  27.085018  Mochipapa      0.0 -39729.322114  19601.784703   \n",
       "816341 -16.786415  27.079446  Mochipapa      0.0 -40322.528474  19949.677244   \n",
       "816342 -16.786415  27.079446  Mochipapa      0.0 -40322.528474  19949.677244   \n",
       "816343 -16.789663  27.085000  Mochipapa      0.0 -39731.170507  19588.095824   \n",
       "816344 -16.774759  27.136090  Mochipapa      0.0 -34291.452340  21247.294304   \n",
       "816346 -16.774759  27.136090  Mochipapa      0.0 -34291.452340  21247.294304   \n",
       "816347 -16.979981  26.861415  Mochipapa      0.0 -63537.212872  -1597.855179   \n",
       "816348 -16.789541  27.085018  Mochipapa      0.0 -39729.322114  19601.784703   \n",
       "816349 -16.802344  27.086093  Mochipapa      0.0 -39614.820774  18176.527229   \n",
       "816351 -16.789663  27.085000  Mochipapa      0.0 -39731.170507  19588.095824   \n",
       "816352 -16.789663  27.085000  Mochipapa      0.0 -39731.170507  19588.095824   \n",
       "816354 -16.979981  26.861415  Mochipapa      0.0 -63537.212872  -1597.855179   \n",
       "816355 -16.774759  27.136090  Mochipapa      0.0 -34291.452340  21247.294304   \n",
       "816356 -16.802344  27.086093  Mochipapa      0.0 -39614.820774  18176.527229   \n",
       "816357 -16.786415  27.079446  Mochipapa      0.0 -40322.528474  19949.677244   \n",
       "\n",
       "        catch_prev  \n",
       "816325    0.028571  \n",
       "816326    0.028571  \n",
       "816327    0.028571  \n",
       "816329    0.028571  \n",
       "816330    0.028571  \n",
       "816332    0.028571  \n",
       "816333    0.028571  \n",
       "816334    0.028571  \n",
       "816336    0.028571  \n",
       "816337    0.028571  \n",
       "816340    0.028571  \n",
       "816341    0.028571  \n",
       "816342    0.028571  \n",
       "816343    0.028571  \n",
       "816344    0.028571  \n",
       "816346    0.028571  \n",
       "816347    0.028571  \n",
       "816348    0.028571  \n",
       "816349    0.028571  \n",
       "816351    0.028571  \n",
       "816352    0.028571  \n",
       "816354    0.028571  \n",
       "816355    0.028571  \n",
       "816356    0.028571  \n",
       "816357    0.028571  "
      ]
     },
     "execution_count": 331,
     "metadata": {},
     "output_type": "execute_result"
    }
   ],
   "source": [
    "sdf"
   ]
  },
  {
   "cell_type": "code",
   "execution_count": 333,
   "metadata": {
    "ExecuteTime": {
     "end_time": "2020-01-30T20:10:55.781095Z",
     "start_time": "2020-01-30T20:10:55.774076Z"
    }
   },
   "outputs": [
    {
     "data": {
      "text/plain": [
       "25"
      ]
     },
     "execution_count": 333,
     "metadata": {},
     "output_type": "execute_result"
    }
   ],
   "source": [
    "len(sdf)"
   ]
  },
  {
   "cell_type": "code",
   "execution_count": 647,
   "metadata": {
    "ExecuteTime": {
     "end_time": "2020-02-01T06:12:29.845625Z",
     "start_time": "2020-02-01T06:10:05.420422Z"
    }
   },
   "outputs": [
    {
     "name": "stdout",
     "output_type": "stream",
     "text": [
      "('Chabbobboma', 2)\n",
      "('Chabbobboma', 3)\n",
      "('Chabbobboma', 6)\n",
      "('Chasanga', 2)\n",
      "('Chasanga', 3)\n",
      "('Chasanga', 6)\n",
      "('Cheeba', 7)\n",
      "('Cheeba', 10)\n",
      "('Chipepo', 2)\n",
      "('Chipepo', 3)\n",
      "('Chipepo', 6)\n",
      "('Chisanga', 7)\n",
      "('Chisanga', 8)\n",
      "('Chiyabi', 8)\n",
      "('Luumbo', 6)\n",
      "('Masuku', 7)\n",
      "('Munyama', 7)\n",
      "('Munyama', 8)\n",
      "('Munyumbwe', 2)\n",
      "('Munyumbwe', 4)\n",
      "('Nabutezi', 7)\n",
      "('Nyanga Chaamwe', 1)\n",
      "('Siansowa', 7)\n",
      "('Sianyoolo', 7)\n",
      "('Siatwinda', 9)\n",
      "('Sikaneka', 9)\n",
      "('Sinafala', 2)\n",
      "('Sinafala', 3)\n",
      "('Sinafala', 5)\n",
      "('Sinafala', 7)\n",
      "('Sinafala', 9)\n",
      "('Sinamalima', 3)\n",
      "('Sinamalima', 5)\n",
      "('Sinamalima', 6)\n",
      "('Sinamalima', 9)\n",
      "('Sinazongwe', 9)\n"
     ]
    }
   ],
   "source": [
    "sanity_check=False\n",
    "save_individual=False\n",
    "if sanity_check:\n",
    "    plt.figure(figsize=(10,10))\n",
    "\n",
    "    \n",
    "    \n",
    "rbins = np.arange(5,300,10)\n",
    "n_randomizations = 1000\n",
    "\n",
    "sum_c_data = np.zeros_like(rbins)\n",
    "sum_randomization_data = np.zeros([n_randomizations, len(rbins)])\n",
    "sum_c_underlying = np.zeros_like(rbins)\n",
    "\n",
    "for ii, sdf in all_rds_df.groupby([\"catch\", \"round\"]):\n",
    "# sdf = all_rds_df[np.logical_and(all_rds_df[\"round\"]==9, all_rds_df[\"catch\"]==\"Bbondo\")]\n",
    "    catch_prev = sdf[\"catch_prev\"].iloc[0]\n",
    "    pos_cut = sdf[\"rdt_pos\"]==1\n",
    "    \n",
    "#     if np.logical_and(catch_prev > 0.06, catch_prev <= 0.08) and np.sum(pos_cut) > 1 and len(sdf) > 50:\n",
    "    if np.logical_and(catch_prev > 0.1, catch_prev <= 0.2) and np.sum(pos_cut) > 1 and len(sdf) > 50:\n",
    "#     if len(sdf) > 50 and np.sum(pos_cut) > 1:\n",
    "        print(ii)\n",
    "        # Create kdtree\n",
    "        pos_individuals_xy = np.array(sdf[[\"x\", \"y\"]][pos_cut])\n",
    "        ckdt_pos = cKDTree(pos_individuals_xy)\n",
    "\n",
    "        c_data = ckdt_pos.count_neighbors(ckdt_pos, rbins)\n",
    "        \n",
    "        randomization_data = randomized_correlation(sdf, rbins, n_randomizations=n_randomizations)\n",
    "        \n",
    "        # testing\n",
    "#         ckdt_all = cKDTree(np.array(sdf[[\"x\",\"y\"]]))\n",
    "#         c_underlying = ckdt_all.count_neighbors(ckdt_all, rbins)\n",
    "#         sum_c_underlying += c_underlying\n",
    "        \n",
    "        sum_c_data += c_data\n",
    "        sum_randomization_data += randomization_data\n",
    "\n",
    "        \n",
    "#         print(randomization_data)\n",
    "        if save_individual:\n",
    "            c_data_diff = np.diff(c_data, prepend=0)\n",
    "            m = percentile_across_axis(np.diff(randomization_data,axis=1,prepend=0),50)\n",
    "            q1 = percentile_across_axis(np.diff(randomization_data,axis=1,prepend=0),10)\n",
    "            q3 = percentile_across_axis(np.diff(randomization_data,axis=1,prepend=0),90)\n",
    "            \n",
    "            xx = np.arange(20)\n",
    "            yy = []\n",
    "            yy_low = []\n",
    "            yy_high = []\n",
    "\n",
    "            ff = 1\n",
    "            for i in range(20):\n",
    "                num_real = np.sum(c_data_diff[i*ff:(i+1)*ff])\n",
    "                num_exp_m = np.sum(m[i*ff:(i+1)*ff])\n",
    "                num_exp_q1 = np.sum(q1[i*ff:(i+1)*ff])\n",
    "                num_exp_q3 = np.sum(q3[i*ff:(i+1)*ff])\n",
    "                \n",
    "                print(num_real)\n",
    "                print(num_exp_m)\n",
    "\n",
    "                yy.append(num_real/num_exp_m)\n",
    "                yy_low.append(num_real/num_exp_q3)\n",
    "                yy_high.append(num_real/num_exp_q1)\n",
    "    \n",
    "            plt.close('all')\n",
    "            plt.figure()\n",
    "            ff=2\n",
    "            plt.scatter(xx*5*ff,yy, label=\"Ratio to mean\", color=\"C2\")\n",
    "            plt.scatter(xx*5*ff,yy_low, label=\"Ratio to upper bound\")\n",
    "            # plt.fill_between(xx*50, yy_low,yy_high, color=\"C2\", alpha=0.2)\n",
    "            plt.axhline(1)\n",
    "            plt.legend()\n",
    "            plt.savefig(\"catch_round_correlations/{}_rd{}.png\".format(ii[0],ii[1]))\n",
    "\n",
    "        if sanity_check:\n",
    "            all_individuals_xy = np.array(sdf[[\"x\", \"y\"]])\n",
    "            ckdt_all = cKDTree(all_individuals_xy)\n",
    "            c_data_pop = ckdt_all.count_neighbors(ckdt_all, rbins)\n",
    "            plt.plot(rbins, np.diff(c_data_pop,prepend=0))\n",
    "\n",
    "        "
   ]
  },
  {
   "cell_type": "code",
   "execution_count": 648,
   "metadata": {
    "ExecuteTime": {
     "end_time": "2020-02-01T06:15:13.041752Z",
     "start_time": "2020-02-01T06:15:13.037420Z"
    }
   },
   "outputs": [],
   "source": [
    "randomization_data = sum_randomization_data\n",
    "c_data = sum_c_data\n",
    "c_underlying = sum_c_underlying"
   ]
  },
  {
   "cell_type": "code",
   "execution_count": 612,
   "metadata": {
    "ExecuteTime": {
     "end_time": "2020-02-01T05:56:26.701098Z",
     "start_time": "2020-02-01T05:56:26.465732Z"
    }
   },
   "outputs": [
    {
     "data": {
      "image/png": "[encoded data removed]",
      "text/plain": [
       "<Figure size 432x288 with 1 Axes>"
      ]
     },
     "metadata": {
      "needs_background": "light"
     },
     "output_type": "display_data"
    }
   ],
   "source": [
    "plt.plot(c_underlying/np.max(c_underlying))\n",
    "for jj in range(10):\n",
    "    plt.plot(randomization_data[jj,:]/np.max(randomization_data[jj,:]))"
   ]
  },
  {
   "cell_type": "code",
   "execution_count": 587,
   "metadata": {
    "ExecuteTime": {
     "end_time": "2020-02-01T00:22:14.774720Z",
     "start_time": "2020-02-01T00:22:14.766728Z"
    }
   },
   "outputs": [
    {
     "data": {
      "text/plain": [
       "array([[2339.,  236.,  132., ...,  102.,   94.,   92.],\n",
       "       [2327.,  170.,  114., ...,   66.,   82.,   86.],\n",
       "       [2323.,  170.,  134., ...,  122.,  128.,  124.],\n",
       "       ...,\n",
       "       [2427.,  246.,  144., ...,  108.,   92.,  116.],\n",
       "       [2325.,  318.,  134., ...,   86.,   88.,  134.],\n",
       "       [2335.,  236.,   94., ...,   84.,   94.,  104.]])"
      ]
     },
     "execution_count": 587,
     "metadata": {},
     "output_type": "execute_result"
    }
   ],
   "source": [
    "np.diff(sum_randomization_data, axis=1,prepend=0)"
   ]
  },
  {
   "cell_type": "code",
   "execution_count": 308,
   "metadata": {
    "ExecuteTime": {
     "end_time": "2020-01-30T19:49:28.529401Z",
     "start_time": "2020-01-30T19:49:28.497492Z"
    }
   },
   "outputs": [],
   "source": [
    "\n",
    "\n",
    "m = np.diff(percentile_across_axis(randomization_data,50),prepend=0)\n",
    "q1 = np.diff(percentile_across_axis(randomization_data,10),prepend=0)\n",
    "q3 = np.diff(percentile_across_axis(randomization_data,90),prepend=0)\n",
    "\n",
    "# plt.plot(rbins, np.diff(c_data,prepend=0), label=\"Observed\", color=\"C2\")\n",
    "# plt.plot(rbins, np.diff(m,prepend=0),color=\"C1\",label=\"Randomizations\")\n",
    "# plt.fill_between(rbins, np.diff(q1,prepend=0),np.diff(q3,prepend=0),alpha=0.2, color=\"C1\")\n",
    "\n",
    "# Plotting pairs (raw)\n",
    "# plt.plot(rbins, c_data, label=\"Observed\", color=\"C2\")\n",
    "# plt.plot(rbins, m,color=\"C1\",label=\"Randomizations\")\n",
    "# plt.fill_between(rbins, q1,q3,alpha=0.2, color=\"C1\")\n",
    "\n",
    "# plt.xlim([0,100])\n",
    "# # Plotting pairs (normalized?)\n",
    "# plt.plot(rbins, c_data/np.max(c_data), label=\"Observed\", color=\"C2\")\n",
    "# plt.plot(rbins, m/np.max(m),color=\"C1\",label=\"Randomizations\")\n",
    "# plt.fill_between(rbins, q1/np.max(m),q3/np.max(m),alpha=0.2, color=\"C1\")\n",
    "\n",
    "# Plotting pair enrichment (raw)\n",
    "# plt.axhline(1,linestyle='dashed', color='gray')\n",
    "# plt.plot(rbins, c_data/m, label=\"Observed\", color=\"C2\")\n",
    "# plt.fill_between(rbins, c_data/q3,c_data/q1, color=\"C2\", alpha=0.2)\n",
    "\n",
    "# Plotting pair enrichment (normalized?)\n",
    "# plt.axhline(1,linestyle='dashed', color='gray')\n",
    "# plt.plot(rbins, c_data/np.max(c_data)/(m/np.max(m)), label=\"Ratio of actual clustering to random\", color=\"C2\")\n",
    "# plt.fill_between(rbins, c_data/np.max(c_data)/(q3/np.max(m)),c_data/np.max(c_data)/(q1/np.max(m)), color=\"C2\", alpha=0.2)\n",
    "# plt.legend()\n",
    "# plt.savefig(\"twopt_binned_0_0.005.png\")"
   ]
  },
  {
   "cell_type": "code",
   "execution_count": 649,
   "metadata": {
    "ExecuteTime": {
     "end_time": "2020-02-01T06:15:25.965126Z",
     "start_time": "2020-02-01T06:15:25.937230Z"
    }
   },
   "outputs": [],
   "source": [
    "c_data = np.diff(sum_c_data, prepend=0)\n",
    "# m = np.diff(percentile_across_axis(randomization_data,50),prepend=0)\n",
    "# q1 = np.diff(percentile_across_axis(randomization_data,10),prepend=0)\n",
    "# q3 = np.diff(percentile_across_axis(randomization_data,90),prepend=0)\n",
    "\n",
    "m = percentile_across_axis(np.diff(randomization_data,axis=1,prepend=0),50)\n",
    "q1 = percentile_across_axis(np.diff(randomization_data,axis=1,prepend=0),10)\n",
    "q3 = percentile_across_axis(np.diff(randomization_data,axis=1,prepend=0),90)"
   ]
  },
  {
   "cell_type": "code",
   "execution_count": 533,
   "metadata": {
    "ExecuteTime": {
     "end_time": "2020-01-31T23:55:53.781369Z",
     "start_time": "2020-01-31T23:55:53.765354Z"
    }
   },
   "outputs": [],
   "source": [
    "m = percentile_across_axis(np.diff(randomization_data,axis=1,prepend=0),50)\n",
    "m2 = np.average(np.diff(randomization_data,axis=1,prepend=0), axis=0)\n",
    "s = 1.96*np.std(np.diff(randomization_data,axis=1,prepend=0), axis=0)\n",
    "\n",
    "q1 = percentile_across_axis(np.diff(randomization_data,axis=1,prepend=0),10)\n",
    "q3 = percentile_across_axis(np.diff(randomization_data,axis=1,prepend=0),90)"
   ]
  },
  {
   "cell_type": "code",
   "execution_count": 466,
   "metadata": {
    "ExecuteTime": {
     "end_time": "2020-01-30T21:56:57.749603Z",
     "start_time": "2020-01-30T21:56:57.741652Z"
    }
   },
   "outputs": [
    {
     "data": {
      "text/plain": [
       "array([0.01549736, 0.06683381, 0.06837498, 0.06871574, 0.0685841 ,\n",
       "       0.06402222, 0.06133657, 0.05742115, 0.05055442, 0.04172633,\n",
       "       0.0389429 , 0.03791048, 0.03900187, 0.03660508, 0.03363258,\n",
       "       0.0329432 , 0.03246783, 0.03280631, 0.0320608 , 0.03271001,\n",
       "       0.03120721, 0.03342116, 0.03105022, 0.03022624, 0.0291954 ,\n",
       "       0.03014863, 0.0301975 , 0.02991801, 0.0302149 , 0.03050767,\n",
       "       0.02897991, 0.02983671, 0.03111743, 0.02824439, 0.03185099,\n",
       "       0.03056468, 0.02981115, 0.02972219, 0.02813306, 0.03083106,\n",
       "       0.02903496, 0.02914167, 0.03009847, 0.02980756, 0.03031355,\n",
       "       0.02920105, 0.0288269 , 0.02872813, 0.02715408, 0.02898342,\n",
       "       0.03193752, 0.02777594, 0.02957429, 0.02747093, 0.02929469,\n",
       "       0.02979691, 0.03271183, 0.02932154, 0.03004377])"
      ]
     },
     "execution_count": 466,
     "metadata": {},
     "output_type": "execute_result"
    }
   ],
   "source": [
    "s/m2"
   ]
  },
  {
   "cell_type": "code",
   "execution_count": 545,
   "metadata": {
    "ExecuteTime": {
     "end_time": "2020-02-01T00:00:16.135923Z",
     "start_time": "2020-02-01T00:00:16.127946Z"
    }
   },
   "outputs": [
    {
     "data": {
      "text/plain": [
       "array([262.,   2.,   0.,   0.,   2.,   2.,   2.,   2.,   2.,   2.,   2.,\n",
       "         2.,   2.,   2.,   2.])"
      ]
     },
     "execution_count": 545,
     "metadata": {},
     "output_type": "execute_result"
    }
   ],
   "source": [
    "ma"
   ]
  },
  {
   "cell_type": "code",
   "execution_count": 552,
   "metadata": {
    "ExecuteTime": {
     "end_time": "2020-02-01T00:01:08.770470Z",
     "start_time": "2020-02-01T00:01:08.488102Z"
    }
   },
   "outputs": [
    {
     "data": {
      "text/plain": [
       "(array([385., 344., 187.,  60.,   0.,  12.,   8.,   3.,   0.,   1.]),\n",
       " array([ 0. ,  1.6,  3.2,  4.8,  6.4,  8. ,  9.6, 11.2, 12.8, 14.4, 16. ]),\n",
       " <a list of 10 Patch objects>)"
      ]
     },
     "execution_count": 552,
     "metadata": {},
     "output_type": "execute_result"
    },
    {
     "data": {
      "image/png": "[encoded data removed]",
      "text/plain": [
       "<Figure size 432x288 with 1 Axes>"
      ]
     },
     "metadata": {
      "needs_background": "light"
     },
     "output_type": "display_data"
    }
   ],
   "source": [
    "plt.scatter()"
   ]
  },
  {
   "cell_type": "code",
   "execution_count": 483,
   "metadata": {
    "ExecuteTime": {
     "end_time": "2020-01-30T22:36:25.252224Z",
     "start_time": "2020-01-30T22:36:25.246241Z"
    }
   },
   "outputs": [
    {
     "data": {
      "text/plain": [
       "100"
      ]
     },
     "execution_count": 483,
     "metadata": {},
     "output_type": "execute_result"
    }
   ],
   "source": [
    "len(rbins)"
   ]
  },
  {
   "cell_type": "code",
   "execution_count": 498,
   "metadata": {
    "ExecuteTime": {
     "end_time": "2020-01-30T22:42:10.968089Z",
     "start_time": "2020-01-30T22:42:10.669981Z"
    }
   },
   "outputs": [
    {
     "data": {
      "text/plain": [
       "(0, 500)"
      ]
     },
     "execution_count": 498,
     "metadata": {},
     "output_type": "execute_result"
    },
    {
     "data": {
      "image/png": "[encoded data removed]",
      "text/plain": [
       "<Figure size 432x288 with 1 Axes>"
      ]
     },
     "metadata": {
      "needs_background": "light"
     },
     "output_type": "display_data"
    }
   ],
   "source": [
    "plt.plot(rbins,c_data)\n",
    "plt.plot(rbins,m,color=\"C2\")\n",
    "# plt.plot(rbins,c_data/m)\n",
    "plt.fill_between(rbins,q1, q3, alpha=0.2,color=\"C2\")\n",
    "plt.xlim([0,500])"
   ]
  },
  {
   "cell_type": "code",
   "execution_count": 603,
   "metadata": {
    "ExecuteTime": {
     "end_time": "2020-02-01T00:31:33.025577Z",
     "start_time": "2020-02-01T00:31:32.661382Z"
    }
   },
   "outputs": [
    {
     "data": {
      "text/plain": [
       "<matplotlib.legend.Legend at 0x260b9b558d0>"
      ]
     },
     "execution_count": 603,
     "metadata": {},
     "output_type": "execute_result"
    },
    {
     "data": {
      "image/png": "[encoded data removed]",
      "text/plain": [
       "<Figure size 432x288 with 1 Axes>"
      ]
     },
     "metadata": {
      "needs_background": "light"
     },
     "output_type": "display_data"
    }
   ],
   "source": [
    "# Plot mean and 1.96 stdev (95%) rather than median/percentiles which will be discrete and often zero.\n",
    "\n",
    "plt.plot(rbins,c_data+1,label=\"Observed\", marker='o')\n",
    "\n",
    "# Randomized\n",
    "# yy_obs = \n",
    "plt.plot(rbins,m+1, color=\"C3\", label=\"Cases distributed randomly\", marker='o')\n",
    "plt.fill_between(rbins,q1+1,q3+1, color=\"C3\", alpha=0.3)\n",
    "# plt.xscale(\"log\")\n",
    "# plt.yscale(\"log\")\n",
    "# xx = np.arange(300)\n",
    "# yy = []\n",
    "# yy_low = []\n",
    "# yy_high = []\n",
    "# ss = []\n",
    "\n",
    "# ff = 1\n",
    "# for i in range(len(rbins)):\n",
    "#     num_real = np.sum(c_data[i*ff:(i+1)*ff])\n",
    "#     num_exp_m = np.sum(m2[i*ff:(i+1)*ff])\n",
    "#     num_exp_q1 = np.sum(m2[i*ff:(i+1)*ff]-s[i*ff:(i+1)*ff])\n",
    "#     num_exp_q3 = np.sum(m2[i*ff:(i+1)*ff]+s[i*ff:(i+1)*ff])\n",
    "    \n",
    "#     yy.append(num_real)\n",
    "#     yy_obs_m.append(num_exp_m)\n",
    "#     yy_obs_low.append(num_exp_q3)\n",
    "#     yy_obs_high.append(num_exp_q1)\n",
    "#     ss.append(num_exp_m)\n",
    "    \n",
    "\n",
    "# ss = np.array(ss)/np.max(ss)*100\n",
    "    \n",
    "# xp = xx*50*ff\n",
    "# plt.scatter(rbins,yy, label=\"Ratio to mean\", color=\"C2\", s=ss)\n",
    "# plt.scatter(rbins,yy_low, label=\"Ratio to upper bound\", s=ss)\n",
    "# plt.scatter(rbins,yy_high, label=\"Ratio to upper bound\", s=ss)\n",
    "# # plt.fill_between(xx*50, yy_low,yy_high, color=\"C2\", alpha=0.2)\n",
    "# plt.axhline(1)\n",
    "plt.ylabel(\"Number of pairs of RDT+-RDT+ people\")\n",
    "plt.xlabel(\"Radius\")\n",
    "plt.legend()"
   ]
  },
  {
   "cell_type": "code",
   "execution_count": 660,
   "metadata": {
    "ExecuteTime": {
     "end_time": "2020-02-01T06:20:08.655658Z",
     "start_time": "2020-02-01T06:20:07.254535Z"
    }
   },
   "outputs": [
    {
     "data": {
      "text/plain": [
       "<matplotlib.legend.Legend at 0x260d14429b0>"
      ]
     },
     "execution_count": 660,
     "metadata": {},
     "output_type": "execute_result"
    },
    {
     "data": {
      "image/png": "[encoded data removed]",
      "text/plain": [
       "<Figure size 432x288 with 1 Axes>"
      ]
     },
     "metadata": {
      "needs_background": "light"
     },
     "output_type": "display_data"
    }
   ],
   "source": [
    "# Plot mean and 1.96 stdev (95%) rather than median/percentiles which will be discrete and often zero.\n",
    "y = c_data-m\n",
    "y2 = (c_data-m)/m\n",
    "y3 = np.cumsum(y2)\n",
    "# y1 = \n",
    "# y2 = c_data-q3\n",
    "plt.plot(rbins,y2,label=\"Observed\")\n",
    "# plt.fill_between(rbins, (c_data-q1)/m, (c_data-np.sqrt(c_data)-q3)/m, alpha=0.2)\n",
    "plt.axhline(0, linestyle='dashed', color='gray')\n",
    "plt.fill_between(rbins, (q1-m)/m, (q3-m)/m, alpha=0.2, color='gray')\n",
    "# plt.plot(rbins,np.cumsum(c_data-m),label=\"Observed\", marker='o')\n",
    "\n",
    "# Randomized\n",
    "# yy_obs = \n",
    "# plt.plot(rbins,m+1, color=\"C3\", label=\"Cases distributed randomly\", marker='o')\n",
    "# plt.fill_between(rbins,q1+1,q3+1, color=\"C3\", alpha=0.3)\n",
    "plt.ylabel(\"Number of pairs of RDT+-RDT+ people\")\n",
    "plt.xlabel(\"Radius\")\n",
    "plt.legend()"
   ]
  },
  {
   "cell_type": "code",
   "execution_count": 653,
   "metadata": {
    "ExecuteTime": {
     "end_time": "2020-02-01T06:17:53.686251Z",
     "start_time": "2020-02-01T06:17:53.680237Z"
    }
   },
   "outputs": [
    {
     "data": {
      "text/plain": [
       "array([0.00315865, 0.00677099, 0.00844491, 0.00807503, 0.00800641,\n",
       "       0.00878614, 0.0072105 , 0.00836125, 0.00827776, 0.00906249,\n",
       "       0.00861365, 0.00875645, 0.00774194, 0.00750544, 0.0077545 ,\n",
       "       0.0080265 , 0.00802753, 0.00816987, 0.00756448, 0.00743335,\n",
       "       0.00776478, 0.00791014, 0.00820555, 0.00762759, 0.0076011 ,\n",
       "       0.00777745, 0.00753864, 0.00764719, 0.00754293, 0.00779681])"
      ]
     },
     "execution_count": 653,
     "metadata": {},
     "output_type": "execute_result"
    }
   ],
   "source": [
    "np.sqrt(c_data)/c_data"
   ]
  },
  {
   "cell_type": "code",
   "execution_count": 541,
   "metadata": {
    "ExecuteTime": {
     "end_time": "2020-01-31T23:58:19.721378Z",
     "start_time": "2020-01-31T23:58:19.710865Z"
    }
   },
   "outputs": [
    {
     "name": "stdout",
     "output_type": "stream",
     "text": [
      "[[260.   0.   2. ...   8.   2.   2.]\n",
      " [266.   0.   2. ...   2.   0.   0.]\n",
      " [262.   0.   2. ...   2.   8.   4.]\n",
      " ...\n",
      " [266.   0.   2. ...   4.   0.   0.]\n",
      " [264.   2.   4. ...   4.   2.   4.]\n",
      " [260.   2.   2. ...   8.   0.   4.]]\n",
      "[3.4996937  2.19815832 1.54814857 1.58694675 1.84659579 2.16504596\n",
      " 2.15241632 2.21085956 2.06046111 2.15995463 2.33443783 2.39135025\n",
      " 2.44229318 2.40484844 2.31588514]\n"
     ]
    }
   ],
   "source": [
    "foo = np.diff(randomization_data, prepend=0)\n",
    "print(foo)\n",
    "print(np.std(foo, axis=0))"
   ]
  },
  {
   "cell_type": "code",
   "execution_count": null,
   "metadata": {},
   "outputs": [],
   "source": []
  },
  {
   "cell_type": "code",
   "execution_count": 528,
   "metadata": {
    "ExecuteTime": {
     "end_time": "2020-01-31T23:53:28.373833Z",
     "start_time": "2020-01-31T23:53:28.022773Z"
    }
   },
   "outputs": [
    {
     "name": "stderr",
     "output_type": "stream",
     "text": [
      "c:\\users\\jsuresh\\venv\\idm\\lib\\site-packages\\ipykernel_launcher.py:17: RuntimeWarning: divide by zero encountered in true_divide\n",
      "c:\\users\\jsuresh\\venv\\idm\\lib\\site-packages\\ipykernel_launcher.py:15: RuntimeWarning: invalid value encountered in true_divide\n",
      "  from ipykernel import kernelapp as app\n",
      "c:\\users\\jsuresh\\venv\\idm\\lib\\site-packages\\ipykernel_launcher.py:17: RuntimeWarning: invalid value encountered in true_divide\n",
      "c:\\users\\jsuresh\\venv\\idm\\lib\\site-packages\\ipykernel_launcher.py:15: RuntimeWarning: divide by zero encountered in true_divide\n",
      "  from ipykernel import kernelapp as app\n"
     ]
    },
    {
     "data": {
      "text/plain": [
       "<matplotlib.legend.Legend at 0x260b32a1320>"
      ]
     },
     "execution_count": 528,
     "metadata": {},
     "output_type": "execute_result"
    },
    {
     "data": {
      "image/png": "[encoded data removed]",
      "text/plain": [
       "<Figure size 432x288 with 1 Axes>"
      ]
     },
     "metadata": {
      "needs_background": "light"
     },
     "output_type": "display_data"
    }
   ],
   "source": [
    "# Plotting pair enrichment (raw)\n",
    "xx = np.arange(300)\n",
    "yy = []\n",
    "yy_low = []\n",
    "yy_high = []\n",
    "ss = []\n",
    "\n",
    "ff = 1\n",
    "for i in range(len(rbins)):\n",
    "    num_real = np.sum(c_data[i*ff:(i+1)*ff])\n",
    "    num_exp_m = np.sum(m[i*ff:(i+1)*ff])\n",
    "    num_exp_q1 = np.sum(q1[i*ff:(i+1)*ff])\n",
    "    num_exp_q3 = np.sum(q3[i*ff:(i+1)*ff])\n",
    "    \n",
    "    yy.append(num_real/num_exp_m)\n",
    "    yy_low.append(num_real/num_exp_q3)\n",
    "    yy_high.append(num_real/num_exp_q1)\n",
    "    ss.append(num_exp_m)\n",
    "    \n",
    "ss = np.array(ss)/np.max(ss)*100\n",
    "    \n",
    "xp = xx*50*ff\n",
    "plt.scatter(rbins,yy, label=\"Ratio to mean\", color=\"C2\", s=ss)\n",
    "plt.scatter(rbins,yy_low, label=\"Ratio to upper bound\", s=ss)\n",
    "plt.scatter(rbins,yy_high, label=\"Ratio to upper bound\", s=ss)\n",
    "# plt.fill_between(xx*50, yy_low,yy_high, color=\"C2\", alpha=0.2)\n",
    "plt.axhline(1)\n",
    "plt.legend()"
   ]
  },
  {
   "cell_type": "code",
   "execution_count": 531,
   "metadata": {
    "ExecuteTime": {
     "end_time": "2020-01-31T23:53:42.924338Z",
     "start_time": "2020-01-31T23:53:42.918356Z"
    }
   },
   "outputs": [
    {
     "data": {
      "text/plain": [
       "array([262.012,   1.79 ,   1.106,   1.24 ,   1.578,   2.024,   2.152,\n",
       "         2.11 ,   2.15 ,   2.314,   2.48 ,   2.462,   2.698,   2.552,\n",
       "         2.474])"
      ]
     },
     "execution_count": 531,
     "metadata": {},
     "output_type": "execute_result"
    }
   ],
   "source": [
    "m2"
   ]
  },
  {
   "cell_type": "code",
   "execution_count": 242,
   "metadata": {
    "ExecuteTime": {
     "end_time": "2020-01-30T19:20:57.004367Z",
     "start_time": "2020-01-30T19:20:56.987908Z"
    }
   },
   "outputs": [
    {
     "name": "stdout",
     "output_type": "stream",
     "text": [
      "Household enrichment  1.7306273062730628 1.769811320754717 1.7969348659003832\n",
      "10-50m enrichment  nan nan nan\n",
      "50-100m enrichment  nan nan nan\n",
      "100-150m enrichment  nan nan nan\n",
      "100-150m enrichment  nan nan nan\n"
     ]
    }
   ],
   "source": [
    "# ll = np.diff(c_data, prepend=0)/np.diff(q3, prepend=0)\n",
    "# mm = np.diff(c_data, prepend=0)/np.diff(m, prepend=0)\n",
    "# uu = np.diff(c_data, prepend=0)/np.diff(q1, prepend=0)\n",
    "print(\"Household enrichment \", c_data[0]/q3[0], c_data[0]/m[0], c_data[0]/q1[0])\n",
    "# print(\"Household enrichment \", np.sum(ll[:5]), np.sum(mm[:5]), np.sum(uu[:5]))\n",
    "print(\"10-50m enrichment \", np.sum(c_data[:5])-ll[0], np.sum(mm[:5])-mm[0], np.sum(uu[:5])-uu[0])\n",
    "print(\"50-100m enrichment \", np.sum(ll[:10])-np.sum(ll[:5]), np.sum(mm[:10])-np.sum(mm[:5]), np.sum(uu[:10])-np.sum(uu[:5]))\n",
    "print(\"100-150m enrichment \", np.sum(ll[:15])-np.sum(ll[:0]), np.sum(mm[:15])-np.sum(mm[:0]), np.sum(uu[:15])-np.sum(uu[:0]))\n",
    "print(\"100-150m enrichment \", np.sum(ll[:15])-np.sum(ll[:0]), np.sum(mm[:15])-np.sum(mm[:0]), np.sum(uu[:15])-np.sum(uu[:0]))\n"
   ]
  },
  {
   "cell_type": "code",
   "execution_count": 267,
   "metadata": {
    "ExecuteTime": {
     "end_time": "2020-01-30T19:25:26.579502Z",
     "start_time": "2020-01-30T19:25:26.572524Z"
    }
   },
   "outputs": [
    {
     "data": {
      "text/plain": [
       "4"
      ]
     },
     "execution_count": 267,
     "metadata": {},
     "output_type": "execute_result"
    }
   ],
   "source": [
    "np.sum(c_data[30:35]-c_data[30])"
   ]
  },
  {
   "cell_type": "code",
   "execution_count": 268,
   "metadata": {
    "ExecuteTime": {
     "end_time": "2020-01-30T19:25:32.942727Z",
     "start_time": "2020-01-30T19:25:32.934754Z"
    }
   },
   "outputs": [
    {
     "data": {
      "text/plain": [
       "12.0"
      ]
     },
     "execution_count": 268,
     "metadata": {},
     "output_type": "execute_result"
    }
   ],
   "source": [
    "np.sum(q1[30:35]-q1[30])"
   ]
  },
  {
   "cell_type": "code",
   "execution_count": 264,
   "metadata": {
    "ExecuteTime": {
     "end_time": "2020-01-30T19:25:04.458317Z",
     "start_time": "2020-01-30T19:25:04.452332Z"
    }
   },
   "outputs": [
    {
     "data": {
      "text/plain": [
       "4.5"
      ]
     },
     "execution_count": 264,
     "metadata": {},
     "output_type": "execute_result"
    }
   ],
   "source": [
    "18/4"
   ]
  },
  {
   "cell_type": "code",
   "execution_count": 195,
   "metadata": {
    "ExecuteTime": {
     "end_time": "2020-01-30T18:53:57.069759Z",
     "start_time": "2020-01-30T18:53:57.061780Z"
    }
   },
   "outputs": [
    {
     "data": {
      "text/plain": [
       "array([265.,   4.,   4.,   4.,   8.,   6.,   6.,   8.,   7.,   7.])"
      ]
     },
     "execution_count": 195,
     "metadata": {},
     "output_type": "execute_result"
    }
   ],
   "source": [
    "np.diff(m, prepend=0)"
   ]
  },
  {
   "cell_type": "code",
   "execution_count": 256,
   "metadata": {
    "ExecuteTime": {
     "end_time": "2020-01-30T19:23:31.815504Z",
     "start_time": "2020-01-30T19:23:31.809521Z"
    }
   },
   "outputs": [
    {
     "data": {
      "text/plain": [
       "(49,)"
      ]
     },
     "execution_count": 256,
     "metadata": {},
     "output_type": "execute_result"
    }
   ],
   "source": [
    "c_data.shape"
   ]
  },
  {
   "cell_type": "code",
   "execution_count": 258,
   "metadata": {
    "ExecuteTime": {
     "end_time": "2020-01-30T19:23:47.336387Z",
     "start_time": "2020-01-30T19:23:47.328381Z"
    }
   },
   "outputs": [
    {
     "data": {
      "text/plain": [
       "array([469, 471, 471, 471, 479, 483, 483, 485, 491, 491, 491, 491, 497,\n",
       "       499, 499, 499, 501, 501, 505, 505, 507, 507, 507, 509, 509, 513,\n",
       "       515, 517, 521, 521, 521, 521, 521, 523, 523, 523, 525, 533, 533,\n",
       "       533, 533, 533, 541, 543, 549, 551, 553, 553, 557])"
      ]
     },
     "execution_count": 258,
     "metadata": {},
     "output_type": "execute_result"
    }
   ],
   "source": [
    "c_data[:50001]"
   ]
  },
  {
   "cell_type": "markdown",
   "metadata": {
    "ExecuteTime": {
     "end_time": "2020-02-01T06:35:32.429858Z",
     "start_time": "2020-02-01T06:35:32.425089Z"
    }
   },
   "source": [
    "# Save individual figures, comparing to underyling 2pt"
   ]
  },
  {
   "cell_type": "code",
   "execution_count": 676,
   "metadata": {
    "ExecuteTime": {
     "end_time": "2020-02-01T06:48:40.414197Z",
     "start_time": "2020-02-01T06:44:43.713422Z"
    }
   },
   "outputs": [
    {
     "name": "stdout",
     "output_type": "stream",
     "text": [
      "('Batoka', 7)\n"
     ]
    },
    {
     "name": "stderr",
     "output_type": "stream",
     "text": [
      "c:\\users\\jsuresh\\venv\\idm\\lib\\site-packages\\ipykernel_launcher.py:15: DeprecationWarning: `comb` is deprecated!\n",
      "Importing `comb` from scipy.misc is deprecated in scipy 1.0.0. Use `scipy.special.comb` instead.\n",
      "  from ipykernel import kernelapp as app\n",
      "c:\\users\\jsuresh\\venv\\idm\\lib\\site-packages\\ipykernel_launcher.py:21: DeprecationWarning: `comb` is deprecated!\n",
      "Importing `comb` from scipy.misc is deprecated in scipy 1.0.0. Use `scipy.special.comb` instead.\n"
     ]
    },
    {
     "name": "stdout",
     "output_type": "stream",
     "text": [
      "('Batoka', 8)\n",
      "('Batoka', 9)\n",
      "('Batoka', 10)\n",
      "('Bbondo', 1)\n",
      "('Bbondo', 2)\n",
      "('Bbondo', 3)\n",
      "('Bbondo', 4)\n",
      "('Bbondo', 5)\n",
      "('Bbondo', 6)\n",
      "('Bbondo', 7)\n",
      "('Bbondo', 8)\n",
      "('Bbondo', 9)\n",
      "('Bbondo', 10)\n",
      "('Buleyamalima', 7)\n",
      "('Buleyamalima', 8)\n",
      "('Buleyamalima', 9)\n",
      "('Buleyamalima', 10)\n",
      "('Chaanga', 9)\n",
      "('Chabbobboma', 1)\n",
      "('Chabbobboma', 2)\n",
      "('Chabbobboma', 3)\n",
      "('Chabbobboma', 4)\n",
      "('Chabbobboma', 5)\n",
      "('Chabbobboma', 6)\n",
      "('Chasanga', 1)\n",
      "('Chasanga', 2)\n",
      "('Chasanga', 3)\n",
      "('Chasanga', 6)\n",
      "('Cheeba', 7)\n",
      "('Cheeba', 8)\n",
      "('Cheeba', 9)\n",
      "('Cheeba', 10)\n",
      "('Chipepo', 1)\n",
      "('Chipepo', 2)\n",
      "('Chipepo', 3)\n",
      "('Chipepo', 4)\n",
      "('Chipepo', 5)\n",
      "('Chipepo', 6)\n",
      "('Chipepo Siavonga', 1)\n",
      "('Chipepo Siavonga', 2)\n",
      "('Chipepo Siavonga', 3)\n",
      "('Chipepo Siavonga', 4)\n",
      "('Chipepo Siavonga', 5)\n",
      "('Chipepo Siavonga', 6)\n",
      "('Chisanga', 7)\n",
      "('Chisanga', 8)\n",
      "('Chisanga', 9)\n",
      "('Chiyabi', 1)\n",
      "('Chiyabi', 2)\n",
      "('Chiyabi', 3)\n",
      "('Chiyabi', 4)\n",
      "('Chiyabi', 5)\n",
      "('Chiyabi', 6)\n",
      "('Chiyabi', 7)\n",
      "('Chiyabi', 8)\n",
      "('Chiyabi', 9)\n",
      "('Chiyabi', 10)\n",
      "('Dimbwe', 7)\n",
      "('Dimbwe', 8)\n",
      "('Dimbwe', 9)\n",
      "('Dimbwe', 10)\n",
      "('Gwembe', 1)\n",
      "('Gwembe', 2)\n",
      "('Gwembe', 3)\n",
      "('Gwembe', 4)\n",
      "('Gwembe', 5)\n",
      "('Gwembe', 6)\n",
      "('Harmony', 7)\n",
      "('Harmony', 9)\n",
      "('Harmony', 10)\n",
      "('Ibbwemunyama', 7)\n",
      "('Ibbwemunyama', 9)\n",
      "('Ibbwemunyama', 10)\n",
      "('Jamba', 7)\n",
      "('Jamba', 8)\n",
      "('Jamba', 9)\n",
      "('Jamba', 10)\n",
      "('Jembo', 7)\n",
      "('Jembo', 8)\n",
      "('Jembo', 9)\n",
      "('Jembo', 10)\n",
      "('Kanchele', 7)\n",
      "('Kanchele', 8)\n",
      "('Kanchele', 9)\n",
      "('Kanchele', 10)\n",
      "('Kapululira', 1)\n",
      "('Kapululira', 2)\n",
      "('Kapululira', 3)\n",
      "('Kapululira', 4)\n",
      "('Kapululira', 5)\n",
      "('Kapululira', 6)\n",
      "('Kasikili', 7)\n",
      "('Kasikili', 8)\n",
      "('Kasikili', 9)\n",
      "('Kasikili', 10)\n",
      "('Kazimaulu', 7)\n",
      "('Kazimaulu', 8)\n",
      "('Kazimaulu', 9)\n",
      "('Kazimaulu', 10)\n",
      "('Lukande', 1)\n",
      "('Lukande', 2)\n",
      "('Lukande', 3)\n",
      "('Lukande', 4)\n",
      "('Lukande', 5)\n",
      "('Lukande', 6)\n",
      "('Lusitu', 1)\n",
      "('Lusitu', 2)\n",
      "('Lusitu', 3)\n",
      "('Lusitu', 4)\n",
      "('Lusitu', 5)\n",
      "('Lusitu', 6)\n",
      "('Luumbo', 1)\n",
      "('Luumbo', 2)\n",
      "('Luumbo', 3)\n",
      "('Luumbo', 4)\n",
      "('Luumbo', 5)\n",
      "('Luumbo', 6)\n",
      "('Luumbo', 7)\n",
      "('Luumbo', 8)\n",
      "('Luumbo', 9)\n",
      "('Luumbo', 10)\n",
      "('Luyaba', 7)\n",
      "('Luyaba', 9)\n",
      "('Maamba', 7)\n",
      "('Maamba', 8)\n",
      "('Maamba', 9)\n",
      "('Maamba', 10)\n",
      "('Manchanvwa', 7)\n",
      "('Manchanvwa', 8)\n",
      "('Manchanvwa', 9)\n",
      "('Manchanvwa', 10)\n",
      "('Mapatizya', 1)\n",
      "('Mapatizya', 2)\n",
      "('Mapatizya', 3)\n",
      "('Mapatizya', 4)\n",
      "('Mapatizya', 5)\n",
      "('Mapatizya', 6)\n",
      "('Mapatizya', 7)\n",
      "('Mapatizya', 8)\n",
      "('Mapatizya', 9)\n",
      "('Mapatizya', 10)\n",
      "('Masempela', 7)\n",
      "('Masempela', 8)\n",
      "('Masempela', 9)\n",
      "('Masempela', 10)\n",
      "('Masuku', 7)\n",
      "('Masuku', 8)\n",
      "('Masuku', 9)\n",
      "('Masuku', 10)\n",
      "('Masuku Mines', 7)\n",
      "('Masuku Mines', 8)\n",
      "('Masuku Mines', 9)\n",
      "('Masuku Mines', 10)\n",
      "('Matua', 7)\n",
      "('Matua', 8)\n",
      "('Matua', 9)\n",
      "('Matua', 10)\n",
      "('Moomba', 7)\n",
      "('Moomba', 9)\n",
      "('Mtendere', 1)\n",
      "('Mtendere', 2)\n",
      "('Mtendere', 3)\n",
      "('Mtendere', 4)\n",
      "('Mtendere', 5)\n",
      "('Mtendere', 6)\n",
      "('Mtendere', 7)\n",
      "('Mtendere', 8)\n",
      "('Mtendere', 9)\n",
      "('Mtendere', 10)\n",
      "('Munyama', 7)\n",
      "('Munyama', 8)\n",
      "('Munyama', 9)\n",
      "('Munyama', 10)\n",
      "('Munyumbwe', 1)\n",
      "('Munyumbwe', 2)\n",
      "('Munyumbwe', 3)\n",
      "('Munyumbwe', 4)\n",
      "('Munyumbwe', 5)\n",
      "('Munyumbwe', 6)\n",
      "('Munyumbwe', 7)\n",
      "('Munyumbwe', 8)\n",
      "('Munyumbwe', 9)\n",
      "('Munyumbwe', 10)\n",
      "('Nabutezi', 7)\n",
      "('Nabutezi', 8)\n",
      "('Nabutezi', 9)\n",
      "('Nabutezi', 10)\n",
      "('Nakempa', 7)\n",
      "('Nakempa', 9)\n",
      "('Nakempa', 10)\n",
      "('Namaila', 7)\n",
      "('Namaila', 8)\n",
      "('Namaila', 9)\n",
      "('Namaila', 10)\n",
      "('Nanduba', 7)\n",
      "('Nanduba', 8)\n",
      "('Nanduba', 9)\n",
      "('Nyanga Chaamwe', 1)\n",
      "('Nyanga Chaamwe', 2)\n",
      "('Nyanga Chaamwe', 3)\n",
      "('Nyanga Chaamwe', 4)\n",
      "('Nyanga Chaamwe', 5)\n",
      "('Nyanga Chaamwe', 6)\n",
      "('Siameja', 7)\n",
      "('Siameja', 8)\n",
      "('Siameja', 9)\n",
      "('Siameja', 10)\n",
      "('Siansowa', 7)\n",
      "('Siansowa', 8)\n",
      "('Siansowa', 9)\n",
      "('Siansowa', 10)\n",
      "('Sianyoolo', 7)\n",
      "('Sianyoolo', 8)\n",
      "('Sianyoolo', 9)\n",
      "('Sianyoolo', 10)\n",
      "('Siatwinda', 9)\n",
      "('Siavonga', 9)\n",
      "('Sikaneka', 7)\n",
      "('Sikaneka', 8)\n",
      "('Sikaneka', 9)\n",
      "('Sikaneka', 10)\n",
      "('Simukanka', 7)\n",
      "('Simukanka', 8)\n",
      "('Simukanka', 9)\n",
      "('Simukanka', 10)\n",
      "('Sinafala', 1)\n",
      "('Sinafala', 2)\n",
      "('Sinafala', 3)\n",
      "('Sinafala', 4)\n",
      "('Sinafala', 5)\n",
      "('Sinafala', 6)\n",
      "('Sinafala', 7)\n",
      "('Sinafala', 8)\n",
      "('Sinafala', 9)\n",
      "('Sinafala', 10)\n",
      "('Sinamalima', 1)\n",
      "('Sinamalima', 2)\n",
      "('Sinamalima', 3)\n",
      "('Sinamalima', 4)\n",
      "('Sinamalima', 5)\n",
      "('Sinamalima', 6)\n",
      "('Sinamalima', 7)\n",
      "('Sinamalima', 8)\n",
      "('Sinamalima', 9)\n",
      "('Sinamalima', 10)\n",
      "('Sinazeze', 7)\n",
      "('Sinazeze', 8)\n",
      "('Sinazeze', 9)\n",
      "('Sinazeze', 10)\n",
      "('Sinazongwe', 9)\n",
      "('Sinazongwe', 10)\n",
      "('Sulwegonde', 1)\n",
      "('Sulwegonde', 2)\n",
      "('Sulwegonde', 3)\n",
      "('Sulwegonde', 4)\n",
      "('Sulwegonde', 5)\n",
      "('Sulwegonde', 6)\n",
      "('Sulwegonde', 7)\n",
      "('Sulwegonde', 8)\n",
      "('Sulwegonde', 9)\n",
      "('Sulwegonde', 10)\n"
     ]
    },
    {
     "data": {
      "image/png": "[encoded data removed]",
      "text/plain": [
       "<Figure size 432x288 with 1 Axes>"
      ]
     },
     "metadata": {
      "needs_background": "light"
     },
     "output_type": "display_data"
    }
   ],
   "source": [
    "rbins = np.arange(5,5000,20)\n",
    "\n",
    "for ii, sdf in all_rds_df.groupby([\"catch\", \"round\"]):\n",
    "    catch_prev = sdf[\"catch_prev\"].iloc[0]\n",
    "    pos_cut = sdf[\"rdt_pos\"]==1\n",
    "    \n",
    "    if len(sdf) > 50 and np.sum(pos_cut) > 1:\n",
    "        print(ii)\n",
    "        # Create kdtree\n",
    "        pos_individuals_xy = np.array(sdf[[\"x\", \"y\"]][pos_cut])\n",
    "        \n",
    "        ckdt_pos = cKDTree(pos_individuals_xy)\n",
    "        c_data = ckdt_pos.count_neighbors(ckdt_pos, rbins)\n",
    "        n_pos = np.sum(pos_cut)\n",
    "        n_pos_pairs = scipy.misc.comb(n_pos,2)\n",
    "        c_data_norm = np.diff(c_data/n_pos_pairs, prepend=0)\n",
    "        \n",
    "        ckdt_all = cKDTree(np.array(sdf[[\"x\",\"y\"]]))\n",
    "        c_pop = ckdt_all.count_neighbors(ckdt_all, rbins)\n",
    "        n_pop = len(sdf)\n",
    "        n_pop_pairs = scipy.misc.comb(n_pop,2)\n",
    "        c_pop_norm = np.diff(c_pop/n_pop_pairs, prepend=0)\n",
    "       \n",
    "        plt.close('all')\n",
    "        plt.figure()\n",
    "        plt.plot(rbins,c_data_norm, label=\"cases\")\n",
    "        plt.plot(rbins, c_pop_norm, label=\"population\")\n",
    "#         plt.axhline(1)\n",
    "        plt.legend()\n",
    "        plt.savefig(\"vs_pop/{}_rd{}.png\".format(ii[0],ii[1]))\n"
   ]
  },
  {
   "cell_type": "code",
   "execution_count": 689,
   "metadata": {
    "ExecuteTime": {
     "end_time": "2020-02-01T07:02:10.124361Z",
     "start_time": "2020-02-01T07:01:46.685411Z"
    },
    "scrolled": true
   },
   "outputs": [
    {
     "name": "stdout",
     "output_type": "stream",
     "text": [
      "prev bin  0\n"
     ]
    },
    {
     "name": "stderr",
     "output_type": "stream",
     "text": [
      "c:\\users\\jsuresh\\venv\\idm\\lib\\site-packages\\ipykernel_launcher.py:28: DeprecationWarning: `comb` is deprecated!\n",
      "Importing `comb` from scipy.misc is deprecated in scipy 1.0.0. Use `scipy.special.comb` instead.\n",
      "c:\\users\\jsuresh\\venv\\idm\\lib\\site-packages\\ipykernel_launcher.py:34: DeprecationWarning: `comb` is deprecated!\n",
      "Importing `comb` from scipy.misc is deprecated in scipy 1.0.0. Use `scipy.special.comb` instead.\n"
     ]
    },
    {
     "name": "stdout",
     "output_type": "stream",
     "text": [
      "prev bin  1\n",
      "prev bin  2\n",
      "prev bin  3\n",
      "prev bin  4\n",
      "prev bin  5\n",
      "prev bin  6\n",
      "prev bin  7\n",
      "prev bin  8\n",
      "prev bin  9\n",
      "prev bin  10\n",
      "prev bin  11\n"
     ]
    },
    {
     "data": {
      "image/png": "[encoded data removed]",
      "text/plain": [
       "<Figure size 432x288 with 1 Axes>"
      ]
     },
     "metadata": {
      "needs_background": "light"
     },
     "output_type": "display_data"
    }
   ],
   "source": [
    "# Add things, giving each catchment EQUAL weight.\n",
    "\n",
    "rbins = np.arange(5,500,10)\n",
    "\n",
    "prev_bins = np.array([0,0.005,0.01,0.02,0.04,0.06,0.08,0.1,0.15,0.2,0.3,0.4,0.5])\n",
    "\n",
    "\n",
    "\n",
    "for pp in range(len(prev_bins)-1):\n",
    "    print(\"prev bin \",pp)\n",
    "    catch_weighted_data = np.zeros_like(rbins).astype(\"float\")\n",
    "    catch_weighted_underlying = np.zeros_like(rbins).astype(\"float\")\n",
    "    num_catch_in_prevbin = 0\n",
    "    \n",
    "    for ii, sdf in all_rds_df.groupby([\"catch\", \"round\"]):\n",
    "        catch_prev = sdf[\"catch_prev\"].iloc[0]\n",
    "        pos_cut = sdf[\"rdt_pos\"]==1\n",
    "        \n",
    "        if np.logical_and(catch_prev > prev_bins[pp], catch_prev <= prev_bins[pp+1]) and np.sum(pos_cut) > 1 and len(sdf) > 50:\n",
    "            num_catch_in_prevbin += 1\n",
    "#             print(ii)\n",
    "            # Create kdtree\n",
    "            pos_individuals_xy = np.array(sdf[[\"x\", \"y\"]][pos_cut])\n",
    "\n",
    "            ckdt_pos = cKDTree(pos_individuals_xy)\n",
    "            c_data = ckdt_pos.count_neighbors(ckdt_pos, rbins)\n",
    "            n_pos = np.sum(pos_cut)\n",
    "            n_pos_pairs = scipy.misc.comb(n_pos,2)\n",
    "            c_data_norm = np.diff(c_data/n_pos_pairs, prepend=0)\n",
    "\n",
    "            ckdt_all = cKDTree(np.array(sdf[[\"x\",\"y\"]]))\n",
    "            c_pop = ckdt_all.count_neighbors(ckdt_all, rbins)\n",
    "            n_pop = len(sdf)\n",
    "            n_pop_pairs = scipy.misc.comb(n_pop,2)\n",
    "            c_pop_norm = np.diff(c_pop/n_pop_pairs, prepend=0)\n",
    "\n",
    "            catch_weighted_data += c_data_norm\n",
    "            catch_weighted_underlying += c_pop_norm\n",
    "            \n",
    "            \n",
    "    plt.close('all')\n",
    "    plt.figure()\n",
    "    plt.plot(rbins,catch_weighted_data, label=\"cases\")\n",
    "    plt.plot(rbins, catch_weighted_underlying, label=\"population\")\n",
    "#         plt.axhline(1)\n",
    "    plt.legend()\n",
    "    plt.savefig(\"vs_pop/prev_{}_{}.png\".format(prev_bins[pp],prev_bins[pp+1]))\n"
   ]
  },
  {
   "cell_type": "code",
   "execution_count": 693,
   "metadata": {
    "ExecuteTime": {
     "end_time": "2020-02-01T07:07:04.909537Z",
     "start_time": "2020-02-01T07:06:39.176982Z"
    }
   },
   "outputs": [
    {
     "name": "stdout",
     "output_type": "stream",
     "text": [
      "prev bin  0\n"
     ]
    },
    {
     "name": "stderr",
     "output_type": "stream",
     "text": [
      "c:\\users\\jsuresh\\venv\\idm\\lib\\site-packages\\ipykernel_launcher.py:27: DeprecationWarning: `comb` is deprecated!\n",
      "Importing `comb` from scipy.misc is deprecated in scipy 1.0.0. Use `scipy.special.comb` instead.\n",
      "c:\\users\\jsuresh\\venv\\idm\\lib\\site-packages\\ipykernel_launcher.py:33: DeprecationWarning: `comb` is deprecated!\n",
      "Importing `comb` from scipy.misc is deprecated in scipy 1.0.0. Use `scipy.special.comb` instead.\n"
     ]
    },
    {
     "name": "stdout",
     "output_type": "stream",
     "text": [
      "prev bin  1\n",
      "prev bin  2\n",
      "prev bin  3\n",
      "prev bin  4\n",
      "prev bin  5\n",
      "prev bin  6\n",
      "prev bin  7\n",
      "prev bin  8\n",
      "prev bin  9\n",
      "prev bin  10\n",
      "prev bin  11\n"
     ]
    },
    {
     "data": {
      "image/png": "[encoded data removed]",
      "text/plain": [
       "<Figure size 432x288 with 1 Axes>"
      ]
     },
     "metadata": {
      "needs_background": "light"
     },
     "output_type": "display_data"
    }
   ],
   "source": [
    "# Add things, giving each catchment POPULATION-weight.\n",
    "\n",
    "rbins = np.arange(5,500,10)\n",
    "\n",
    "prev_bins = np.array([0,0.005,0.01,0.02,0.04,0.06,0.08,0.1,0.15,0.2,0.3,0.4,0.5])\n",
    "\n",
    "\n",
    "\n",
    "for pp in range(len(prev_bins)-1):\n",
    "    print(\"prev bin \",pp)\n",
    "    pop_weighted_data = np.zeros_like(rbins).astype(\"float\")\n",
    "    pop_weighted_underlying = np.zeros_like(rbins).astype(\"float\")\n",
    "    num_pop_in_prevbin = 0\n",
    "    \n",
    "    for ii, sdf in all_rds_df.groupby([\"catch\", \"round\"]):\n",
    "        catch_prev = sdf[\"catch_prev\"].iloc[0]\n",
    "        pos_cut = sdf[\"rdt_pos\"]==1\n",
    "        \n",
    "        if np.logical_and(catch_prev > prev_bins[pp], catch_prev <= prev_bins[pp+1]) and np.sum(pos_cut) > 1 and len(sdf) > 50:\n",
    "            num_pos = np.sum(pos_cut)\n",
    "            num_pop_in_prevbin += num_pos\n",
    "            pos_individuals_xy = np.array(sdf[[\"x\", \"y\"]][pos_cut])\n",
    "\n",
    "            ckdt_pos = cKDTree(pos_individuals_xy)\n",
    "            c_data = ckdt_pos.count_neighbors(ckdt_pos, rbins)\n",
    "            n_pos = np.sum(pos_cut)\n",
    "            n_pos_pairs = scipy.misc.comb(n_pos,2)\n",
    "            c_data_norm = np.diff(c_data/n_pos_pairs, prepend=0)\n",
    "\n",
    "            ckdt_all = cKDTree(np.array(sdf[[\"x\",\"y\"]]))\n",
    "            c_pop = ckdt_all.count_neighbors(ckdt_all, rbins)\n",
    "            n_pop = len(sdf)\n",
    "            n_pop_pairs = scipy.misc.comb(n_pop,2)\n",
    "            c_pop_norm = np.diff(c_pop/n_pop_pairs, prepend=0)\n",
    "\n",
    "            pop_weighted_data += num_pos * c_data_norm\n",
    "            pop_weighted_underlying += num_pos * c_pop_norm\n",
    "            \n",
    "    # Normalize\n",
    "    pop_weighted_data /= num_pop_in_prevbin\n",
    "    pop_weighted_underlying /= num_pop_in_prevbin\n",
    "            \n",
    "    plt.close('all')\n",
    "    plt.figure()\n",
    "    plt.plot(rbins,pop_weighted_data, label=\"cases\")\n",
    "    plt.plot(rbins, pop_weighted_underlying, label=\"population\")\n",
    "#         plt.axhline(1)\n",
    "    plt.legend()\n",
    "    plt.savefig(\"vs_pop/pop_weighted_prev_{}_{}.png\".format(prev_bins[pp],prev_bins[pp+1]))\n"
   ]
  },
  {
   "cell_type": "code",
   "execution_count": 672,
   "metadata": {
    "ExecuteTime": {
     "end_time": "2020-02-01T06:42:25.638912Z",
     "start_time": "2020-02-01T06:42:25.607971Z"
    }
   },
   "outputs": [
    {
     "name": "stderr",
     "output_type": "stream",
     "text": [
      "c:\\users\\jsuresh\\venv\\idm\\lib\\site-packages\\ipykernel_launcher.py:6: DeprecationWarning: `comb` is deprecated!\n",
      "Importing `comb` from scipy.misc is deprecated in scipy 1.0.0. Use `scipy.special.comb` instead.\n",
      "  \n",
      "c:\\users\\jsuresh\\venv\\idm\\lib\\site-packages\\ipykernel_launcher.py:12: DeprecationWarning: `comb` is deprecated!\n",
      "Importing `comb` from scipy.misc is deprecated in scipy 1.0.0. Use `scipy.special.comb` instead.\n",
      "  if sys.path[0] == '':\n"
     ]
    }
   ],
   "source": [
    "        pos_individuals_xy = np.array(sdf[[\"x\", \"y\"]][pos_cut])\n",
    "        \n",
    "        ckdt_pos = cKDTree(pos_individuals_xy)\n",
    "        c_data = ckdt_pos.count_neighbors(ckdt_pos, rbins)\n",
    "        n_pos = np.sum(pos_cut)\n",
    "        n_pos_pairs = scipy.misc.comb(n_pos,2)\n",
    "        c_data_norm = c_data/n_pos_pairs\n",
    "        \n",
    "        ckdt_all = cKDTree(np.array(sdf[[\"x\",\"y\"]]))\n",
    "        c_pop = ckdt_all.count_neighbors(ckdt_all, rbins)\n",
    "        n_pop = len(sdf)\n",
    "        n_pop_pairs = scipy.misc.comb(n_pop,2)\n",
    "        c_pop_norm = c_pop/n_pop_pairs"
   ]
  },
  {
   "cell_type": "code",
   "execution_count": 673,
   "metadata": {
    "ExecuteTime": {
     "end_time": "2020-02-01T06:42:38.254639Z",
     "start_time": "2020-02-01T06:42:38.247628Z"
    }
   },
   "outputs": [
    {
     "data": {
      "text/plain": [
       "array([0.00422813, 0.00500436, 0.00559039, 0.00607083, 0.00645835,\n",
       "       0.00704359, 0.00762013, 0.00834811, 0.00905079, 0.00989147,\n",
       "       0.01068273, 0.01170017, 0.01257407, 0.01332024, 0.01432582,\n",
       "       0.01542551, 0.01647894, 0.01733504, 0.0181694 , 0.01913425,\n",
       "       0.02017185, 0.02111258, 0.02196117, 0.02286512, 0.02351837,\n",
       "       0.02450813, 0.02547773, 0.02628124, 0.02720615, 0.02825404])"
      ]
     },
     "execution_count": 673,
     "metadata": {},
     "output_type": "execute_result"
    }
   ],
   "source": [
    "c_pop_norm"
   ]
  },
  {
   "cell_type": "code",
   "execution_count": 669,
   "metadata": {
    "ExecuteTime": {
     "end_time": "2020-02-01T06:42:03.804487Z",
     "start_time": "2020-02-01T06:42:03.797504Z"
    }
   },
   "outputs": [
    {
     "data": {
      "text/plain": [
       "5057790.0"
      ]
     },
     "execution_count": 669,
     "metadata": {},
     "output_type": "execute_result"
    }
   ],
   "source": [
    "n_pop_pairs"
   ]
  },
  {
   "cell_type": "code",
   "execution_count": 670,
   "metadata": {
    "ExecuteTime": {
     "end_time": "2020-02-01T06:42:08.385215Z",
     "start_time": "2020-02-01T06:42:08.379229Z"
    }
   },
   "outputs": [
    {
     "data": {
      "text/plain": [
       "1953.0"
      ]
     },
     "execution_count": 670,
     "metadata": {},
     "output_type": "execute_result"
    }
   ],
   "source": [
    "n_pos_pairs"
   ]
  },
  {
   "cell_type": "code",
   "execution_count": 671,
   "metadata": {
    "ExecuteTime": {
     "end_time": "2020-02-01T06:42:14.663633Z",
     "start_time": "2020-02-01T06:42:14.656652Z"
    }
   },
   "outputs": [
    {
     "data": {
      "text/plain": [
       "array([123, 127, 127, 127, 127, 127, 127, 127, 127, 129, 129, 141, 141,\n",
       "       141, 141, 141, 141, 147, 147, 147, 155, 155, 155, 155, 161, 161,\n",
       "       161, 163, 165, 183], dtype=int64)"
      ]
     },
     "execution_count": 671,
     "metadata": {},
     "output_type": "execute_result"
    }
   ],
   "source": [
    "c_pop"
   ]
  },
  {
   "cell_type": "code",
   "execution_count": 694,
   "metadata": {
    "ExecuteTime": {
     "end_time": "2020-02-01T07:13:29.279207Z",
     "start_time": "2020-02-01T07:13:29.234923Z"
    }
   },
   "outputs": [
    {
     "data": {
      "text/html": [
       "<div>\n",
       "<style scoped>\n",
       "    .dataframe tbody tr th:only-of-type {\n",
       "        vertical-align: middle;\n",
       "    }\n",
       "\n",
       "    .dataframe tbody tr th {\n",
       "        vertical-align: top;\n",
       "    }\n",
       "\n",
       "    .dataframe thead th {\n",
       "        text-align: right;\n",
       "    }\n",
       "</style>\n",
       "<table border=\"1\" class=\"dataframe\">\n",
       "  <thead>\n",
       "    <tr style=\"text-align: right;\">\n",
       "      <th></th>\n",
       "      <th>catch</th>\n",
       "      <th>round</th>\n",
       "      <th>catch_prev</th>\n",
       "    </tr>\n",
       "  </thead>\n",
       "  <tbody>\n",
       "    <tr>\n",
       "      <th>0</th>\n",
       "      <td>Bbondo</td>\n",
       "      <td>1</td>\n",
       "      <td>0.092425</td>\n",
       "    </tr>\n",
       "    <tr>\n",
       "      <th>1</th>\n",
       "      <td>Chabbobboma</td>\n",
       "      <td>1</td>\n",
       "      <td>0.430073</td>\n",
       "    </tr>\n",
       "    <tr>\n",
       "      <th>2</th>\n",
       "      <td>Chasanga</td>\n",
       "      <td>1</td>\n",
       "      <td>0.295122</td>\n",
       "    </tr>\n",
       "    <tr>\n",
       "      <th>3</th>\n",
       "      <td>Chipepo</td>\n",
       "      <td>1</td>\n",
       "      <td>0.324651</td>\n",
       "    </tr>\n",
       "    <tr>\n",
       "      <th>4</th>\n",
       "      <td>Chipepo Siavonga</td>\n",
       "      <td>1</td>\n",
       "      <td>0.034213</td>\n",
       "    </tr>\n",
       "    <tr>\n",
       "      <th>5</th>\n",
       "      <td>Chiyabi</td>\n",
       "      <td>1</td>\n",
       "      <td>0.472422</td>\n",
       "    </tr>\n",
       "    <tr>\n",
       "      <th>6</th>\n",
       "      <td>Gwembe</td>\n",
       "      <td>1</td>\n",
       "      <td>0.013803</td>\n",
       "    </tr>\n",
       "    <tr>\n",
       "      <th>7</th>\n",
       "      <td>Kapululira</td>\n",
       "      <td>1</td>\n",
       "      <td>0.027987</td>\n",
       "    </tr>\n",
       "    <tr>\n",
       "      <th>8</th>\n",
       "      <td>Lukande</td>\n",
       "      <td>1</td>\n",
       "      <td>0.018696</td>\n",
       "    </tr>\n",
       "    <tr>\n",
       "      <th>9</th>\n",
       "      <td>Lusitu</td>\n",
       "      <td>1</td>\n",
       "      <td>0.032887</td>\n",
       "    </tr>\n",
       "    <tr>\n",
       "      <th>10</th>\n",
       "      <td>Luumbo</td>\n",
       "      <td>1</td>\n",
       "      <td>0.422594</td>\n",
       "    </tr>\n",
       "    <tr>\n",
       "      <th>11</th>\n",
       "      <td>Mapatizya</td>\n",
       "      <td>1</td>\n",
       "      <td>0.052316</td>\n",
       "    </tr>\n",
       "    <tr>\n",
       "      <th>12</th>\n",
       "      <td>Mtendere</td>\n",
       "      <td>1</td>\n",
       "      <td>0.058154</td>\n",
       "    </tr>\n",
       "    <tr>\n",
       "      <th>13</th>\n",
       "      <td>Munyumbwe</td>\n",
       "      <td>1</td>\n",
       "      <td>0.271596</td>\n",
       "    </tr>\n",
       "    <tr>\n",
       "      <th>14</th>\n",
       "      <td>Nyanga Chaamwe</td>\n",
       "      <td>1</td>\n",
       "      <td>0.110439</td>\n",
       "    </tr>\n",
       "    <tr>\n",
       "      <th>15</th>\n",
       "      <td>Sinafala</td>\n",
       "      <td>1</td>\n",
       "      <td>0.462043</td>\n",
       "    </tr>\n",
       "    <tr>\n",
       "      <th>16</th>\n",
       "      <td>Sinamalima</td>\n",
       "      <td>1</td>\n",
       "      <td>0.491609</td>\n",
       "    </tr>\n",
       "    <tr>\n",
       "      <th>17</th>\n",
       "      <td>Sulwegonde</td>\n",
       "      <td>1</td>\n",
       "      <td>0.275845</td>\n",
       "    </tr>\n",
       "    <tr>\n",
       "      <th>18</th>\n",
       "      <td>Bbondo</td>\n",
       "      <td>2</td>\n",
       "      <td>0.022165</td>\n",
       "    </tr>\n",
       "    <tr>\n",
       "      <th>19</th>\n",
       "      <td>Chabbobboma</td>\n",
       "      <td>2</td>\n",
       "      <td>0.195294</td>\n",
       "    </tr>\n",
       "    <tr>\n",
       "      <th>20</th>\n",
       "      <td>Chasanga</td>\n",
       "      <td>2</td>\n",
       "      <td>0.168201</td>\n",
       "    </tr>\n",
       "    <tr>\n",
       "      <th>21</th>\n",
       "      <td>Chipepo</td>\n",
       "      <td>2</td>\n",
       "      <td>0.173514</td>\n",
       "    </tr>\n",
       "    <tr>\n",
       "      <th>22</th>\n",
       "      <td>Chipepo Siavonga</td>\n",
       "      <td>2</td>\n",
       "      <td>0.013933</td>\n",
       "    </tr>\n",
       "    <tr>\n",
       "      <th>23</th>\n",
       "      <td>Chiyabi</td>\n",
       "      <td>2</td>\n",
       "      <td>0.280829</td>\n",
       "    </tr>\n",
       "    <tr>\n",
       "      <th>24</th>\n",
       "      <td>Gwembe</td>\n",
       "      <td>2</td>\n",
       "      <td>0.007328</td>\n",
       "    </tr>\n",
       "    <tr>\n",
       "      <th>25</th>\n",
       "      <td>Kapululira</td>\n",
       "      <td>2</td>\n",
       "      <td>0.032376</td>\n",
       "    </tr>\n",
       "    <tr>\n",
       "      <th>26</th>\n",
       "      <td>Lukande</td>\n",
       "      <td>2</td>\n",
       "      <td>0.004023</td>\n",
       "    </tr>\n",
       "    <tr>\n",
       "      <th>27</th>\n",
       "      <td>Lusitu</td>\n",
       "      <td>2</td>\n",
       "      <td>0.017237</td>\n",
       "    </tr>\n",
       "    <tr>\n",
       "      <th>28</th>\n",
       "      <td>Luumbo</td>\n",
       "      <td>2</td>\n",
       "      <td>0.275744</td>\n",
       "    </tr>\n",
       "    <tr>\n",
       "      <th>29</th>\n",
       "      <td>Mapatizya</td>\n",
       "      <td>2</td>\n",
       "      <td>0.040537</td>\n",
       "    </tr>\n",
       "    <tr>\n",
       "      <th>...</th>\n",
       "      <td>...</td>\n",
       "      <td>...</td>\n",
       "      <td>...</td>\n",
       "    </tr>\n",
       "    <tr>\n",
       "      <th>263</th>\n",
       "      <td>Masempela</td>\n",
       "      <td>10</td>\n",
       "      <td>0.009648</td>\n",
       "    </tr>\n",
       "    <tr>\n",
       "      <th>264</th>\n",
       "      <td>Masuku</td>\n",
       "      <td>10</td>\n",
       "      <td>0.011107</td>\n",
       "    </tr>\n",
       "    <tr>\n",
       "      <th>265</th>\n",
       "      <td>Masuku Mines</td>\n",
       "      <td>10</td>\n",
       "      <td>0.013019</td>\n",
       "    </tr>\n",
       "    <tr>\n",
       "      <th>266</th>\n",
       "      <td>Matua</td>\n",
       "      <td>10</td>\n",
       "      <td>0.012239</td>\n",
       "    </tr>\n",
       "    <tr>\n",
       "      <th>267</th>\n",
       "      <td>Mochipapa</td>\n",
       "      <td>10</td>\n",
       "      <td>0.000000</td>\n",
       "    </tr>\n",
       "    <tr>\n",
       "      <th>268</th>\n",
       "      <td>Moomba</td>\n",
       "      <td>10</td>\n",
       "      <td>0.000460</td>\n",
       "    </tr>\n",
       "    <tr>\n",
       "      <th>269</th>\n",
       "      <td>Moyo</td>\n",
       "      <td>10</td>\n",
       "      <td>0.000000</td>\n",
       "    </tr>\n",
       "    <tr>\n",
       "      <th>270</th>\n",
       "      <td>Mtendere</td>\n",
       "      <td>10</td>\n",
       "      <td>0.009534</td>\n",
       "    </tr>\n",
       "    <tr>\n",
       "      <th>271</th>\n",
       "      <td>Munyama</td>\n",
       "      <td>10</td>\n",
       "      <td>0.022862</td>\n",
       "    </tr>\n",
       "    <tr>\n",
       "      <th>272</th>\n",
       "      <td>Munyumbwe</td>\n",
       "      <td>10</td>\n",
       "      <td>0.004971</td>\n",
       "    </tr>\n",
       "    <tr>\n",
       "      <th>273</th>\n",
       "      <td>Nabutezi</td>\n",
       "      <td>10</td>\n",
       "      <td>0.019188</td>\n",
       "    </tr>\n",
       "    <tr>\n",
       "      <th>274</th>\n",
       "      <td>Nakempa</td>\n",
       "      <td>10</td>\n",
       "      <td>0.004658</td>\n",
       "    </tr>\n",
       "    <tr>\n",
       "      <th>275</th>\n",
       "      <td>Namaila</td>\n",
       "      <td>10</td>\n",
       "      <td>0.004704</td>\n",
       "    </tr>\n",
       "    <tr>\n",
       "      <th>276</th>\n",
       "      <td>Nanduba</td>\n",
       "      <td>10</td>\n",
       "      <td>0.000000</td>\n",
       "    </tr>\n",
       "    <tr>\n",
       "      <th>277</th>\n",
       "      <td>Ndondi</td>\n",
       "      <td>10</td>\n",
       "      <td>0.076923</td>\n",
       "    </tr>\n",
       "    <tr>\n",
       "      <th>278</th>\n",
       "      <td>Nyanga Chaamwe</td>\n",
       "      <td>10</td>\n",
       "      <td>0.000000</td>\n",
       "    </tr>\n",
       "    <tr>\n",
       "      <th>279</th>\n",
       "      <td>Siameja</td>\n",
       "      <td>10</td>\n",
       "      <td>0.008335</td>\n",
       "    </tr>\n",
       "    <tr>\n",
       "      <th>280</th>\n",
       "      <td>Siamuleya</td>\n",
       "      <td>10</td>\n",
       "      <td>0.000000</td>\n",
       "    </tr>\n",
       "    <tr>\n",
       "      <th>281</th>\n",
       "      <td>Siansowa</td>\n",
       "      <td>10</td>\n",
       "      <td>0.015059</td>\n",
       "    </tr>\n",
       "    <tr>\n",
       "      <th>282</th>\n",
       "      <td>Sianyoolo</td>\n",
       "      <td>10</td>\n",
       "      <td>0.010636</td>\n",
       "    </tr>\n",
       "    <tr>\n",
       "      <th>283</th>\n",
       "      <td>Siatwinda</td>\n",
       "      <td>10</td>\n",
       "      <td>0.000000</td>\n",
       "    </tr>\n",
       "    <tr>\n",
       "      <th>284</th>\n",
       "      <td>Sikalongo</td>\n",
       "      <td>10</td>\n",
       "      <td>0.000000</td>\n",
       "    </tr>\n",
       "    <tr>\n",
       "      <th>285</th>\n",
       "      <td>Sikaneka</td>\n",
       "      <td>10</td>\n",
       "      <td>0.032753</td>\n",
       "    </tr>\n",
       "    <tr>\n",
       "      <th>286</th>\n",
       "      <td>Simakutu</td>\n",
       "      <td>10</td>\n",
       "      <td>0.000000</td>\n",
       "    </tr>\n",
       "    <tr>\n",
       "      <th>287</th>\n",
       "      <td>Simukanka</td>\n",
       "      <td>10</td>\n",
       "      <td>0.004404</td>\n",
       "    </tr>\n",
       "    <tr>\n",
       "      <th>288</th>\n",
       "      <td>Sinafala</td>\n",
       "      <td>10</td>\n",
       "      <td>0.029499</td>\n",
       "    </tr>\n",
       "    <tr>\n",
       "      <th>289</th>\n",
       "      <td>Sinamalima</td>\n",
       "      <td>10</td>\n",
       "      <td>0.039709</td>\n",
       "    </tr>\n",
       "    <tr>\n",
       "      <th>290</th>\n",
       "      <td>Sinazeze</td>\n",
       "      <td>10</td>\n",
       "      <td>0.023683</td>\n",
       "    </tr>\n",
       "    <tr>\n",
       "      <th>291</th>\n",
       "      <td>Sinazongwe</td>\n",
       "      <td>10</td>\n",
       "      <td>0.027397</td>\n",
       "    </tr>\n",
       "    <tr>\n",
       "      <th>292</th>\n",
       "      <td>Sulwegonde</td>\n",
       "      <td>10</td>\n",
       "      <td>0.007665</td>\n",
       "    </tr>\n",
       "  </tbody>\n",
       "</table>\n",
       "<p>293 rows × 3 columns</p>\n",
       "</div>"
      ],
      "text/plain": [
       "                catch  round  catch_prev\n",
       "0              Bbondo      1    0.092425\n",
       "1         Chabbobboma      1    0.430073\n",
       "2            Chasanga      1    0.295122\n",
       "3             Chipepo      1    0.324651\n",
       "4    Chipepo Siavonga      1    0.034213\n",
       "5             Chiyabi      1    0.472422\n",
       "6              Gwembe      1    0.013803\n",
       "7          Kapululira      1    0.027987\n",
       "8             Lukande      1    0.018696\n",
       "9              Lusitu      1    0.032887\n",
       "10             Luumbo      1    0.422594\n",
       "11          Mapatizya      1    0.052316\n",
       "12           Mtendere      1    0.058154\n",
       "13          Munyumbwe      1    0.271596\n",
       "14     Nyanga Chaamwe      1    0.110439\n",
       "15           Sinafala      1    0.462043\n",
       "16         Sinamalima      1    0.491609\n",
       "17         Sulwegonde      1    0.275845\n",
       "18             Bbondo      2    0.022165\n",
       "19        Chabbobboma      2    0.195294\n",
       "20           Chasanga      2    0.168201\n",
       "21            Chipepo      2    0.173514\n",
       "22   Chipepo Siavonga      2    0.013933\n",
       "23            Chiyabi      2    0.280829\n",
       "24             Gwembe      2    0.007328\n",
       "25         Kapululira      2    0.032376\n",
       "26            Lukande      2    0.004023\n",
       "27             Lusitu      2    0.017237\n",
       "28             Luumbo      2    0.275744\n",
       "29          Mapatizya      2    0.040537\n",
       "..                ...    ...         ...\n",
       "263         Masempela     10    0.009648\n",
       "264            Masuku     10    0.011107\n",
       "265      Masuku Mines     10    0.013019\n",
       "266             Matua     10    0.012239\n",
       "267         Mochipapa     10    0.000000\n",
       "268            Moomba     10    0.000460\n",
       "269              Moyo     10    0.000000\n",
       "270          Mtendere     10    0.009534\n",
       "271           Munyama     10    0.022862\n",
       "272         Munyumbwe     10    0.004971\n",
       "273          Nabutezi     10    0.019188\n",
       "274           Nakempa     10    0.004658\n",
       "275           Namaila     10    0.004704\n",
       "276           Nanduba     10    0.000000\n",
       "277            Ndondi     10    0.076923\n",
       "278    Nyanga Chaamwe     10    0.000000\n",
       "279           Siameja     10    0.008335\n",
       "280         Siamuleya     10    0.000000\n",
       "281          Siansowa     10    0.015059\n",
       "282         Sianyoolo     10    0.010636\n",
       "283         Siatwinda     10    0.000000\n",
       "284         Sikalongo     10    0.000000\n",
       "285          Sikaneka     10    0.032753\n",
       "286          Simakutu     10    0.000000\n",
       "287         Simukanka     10    0.004404\n",
       "288          Sinafala     10    0.029499\n",
       "289        Sinamalima     10    0.039709\n",
       "290          Sinazeze     10    0.023683\n",
       "291        Sinazongwe     10    0.027397\n",
       "292        Sulwegonde     10    0.007665\n",
       "\n",
       "[293 rows x 3 columns]"
      ]
     },
     "execution_count": 694,
     "metadata": {},
     "output_type": "execute_result"
    }
   ],
   "source": [
    "cdf"
   ]
  },
  {
   "cell_type": "code",
   "execution_count": null,
   "metadata": {},
   "outputs": [],
   "source": []
  }
 ],
 "metadata": {
  "kernelspec": {
   "display_name": "Python 3",
   "language": "python",
   "name": "python3"
  },
  "language_info": {
   "codemirror_mode": {
    "name": "ipython",
    "version": 3
   },
   "file_extension": ".py",
   "mimetype": "text/x-python",
   "name": "python",
   "nbconvert_exporter": "python",
   "pygments_lexer": "ipython3",
   "version": "3.6.6"
  },
  "toc": {
   "base_numbering": 1,
   "nav_menu": {},
   "number_sections": true,
   "sideBar": true,
   "skip_h1_title": true,
   "title_cell": "Table of Contents",
   "title_sidebar": "Contents",
   "toc_cell": true,
   "toc_position": {
    "height": "calc(100% - 180px)",
    "left": "10px",
    "top": "150px",
    "width": "259.667px"
   },
   "toc_section_display": true,
   "toc_window_display": true
  }
 },
 "nbformat": 4,
 "nbformat_minor": 2
}
