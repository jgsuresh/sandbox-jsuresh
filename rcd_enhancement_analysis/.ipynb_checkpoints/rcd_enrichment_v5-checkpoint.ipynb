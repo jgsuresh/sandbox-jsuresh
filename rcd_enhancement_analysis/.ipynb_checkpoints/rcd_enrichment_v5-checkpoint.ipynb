{
 "cells": [
  {
   "cell_type": "markdown",
   "metadata": {
    "toc": true
   },
   "source": [
    "<h1>Table of Contents<span class=\"tocSkip\"></span></h1>\n",
    "<div class=\"toc\"><ul class=\"toc-item\"><li><span><a href=\"#After-talking-to-Caitlin,-probably-the-&quot;prevalence-around-index-case&quot;-is-a-lot-easier-to-explain\" data-toc-modified-id=\"After-talking-to-Caitlin,-probably-the-&quot;prevalence-around-index-case&quot;-is-a-lot-easier-to-explain-1\"><span class=\"toc-item-num\">1&nbsp;&nbsp;</span>After talking to Caitlin, probably the \"prevalence around index case\" is a lot easier to explain</a></span></li></ul></div>"
   ]
  },
  {
   "cell_type": "markdown",
   "metadata": {
    "ExecuteTime": {
     "end_time": "2020-01-29T20:44:57.006067Z",
     "start_time": "2020-01-29T20:44:57.002109Z"
    }
   },
   "source": [
    "### After talking to Caitlin, probably the \"prevalence around index case\" is a lot easier to explain"
   ]
  },
  {
   "cell_type": "code",
   "execution_count": 1,
   "metadata": {
    "ExecuteTime": {
     "end_time": "2020-02-05T21:09:51.699990Z",
     "start_time": "2020-02-05T21:09:48.963298Z"
    }
   },
   "outputs": [],
   "source": [
    "import pandas as pd\n",
    "import numpy as np\n",
    "import matplotlib.pyplot as plt\n",
    "import seaborn as sns\n",
    "sns.set_context(\"talk\")\n",
    "\n",
    "import scipy\n",
    "from scipy.spatial import cKDTree"
   ]
  },
  {
   "cell_type": "code",
   "execution_count": 2,
   "metadata": {
    "ExecuteTime": {
     "end_time": "2020-02-05T21:09:55.889257Z",
     "start_time": "2020-02-05T21:09:51.702982Z"
    }
   },
   "outputs": [
    {
     "name": "stderr",
     "output_type": "stream",
     "text": [
      "c:\\users\\jsuresh\\venv\\idm\\lib\\site-packages\\IPython\\core\\interactiveshell.py:3058: DtypeWarning: Columns (1) have mixed types. Specify dtype option on import or set low_memory=False.\n",
      "  interactivity=interactivity, compiler=compiler, result=result)\n"
     ]
    }
   ],
   "source": [
    "# Load cleaned version of data \n",
    "all_rds_df = pd.read_csv(\"C:/Users/jsuresh/Dropbox (IDM)/Malaria Team Folder/projects/Zambia/rcd_enrichment_radius/all_rounds_data_cleaned.csv\")\n",
    "all_rds_df = all_rds_df.sort_values(by=[\"round\",\"catch\"]).reset_index(drop=True)"
   ]
  },
  {
   "cell_type": "code",
   "execution_count": 4,
   "metadata": {
    "ExecuteTime": {
     "end_time": "2020-02-05T21:10:46.147475Z",
     "start_time": "2020-02-05T21:10:46.135484Z"
    }
   },
   "outputs": [],
   "source": [
    "cdf = pd.read_csv(\"catch_background_prev.csv\")"
   ]
  },
  {
   "cell_type": "code",
   "execution_count": 5,
   "metadata": {
    "ExecuteTime": {
     "end_time": "2020-02-05T21:10:48.981772Z",
     "start_time": "2020-02-05T21:10:47.613047Z"
    }
   },
   "outputs": [],
   "source": [
    "all_rds_df = all_rds_df.merge(cdf,on=[\"catch\",\"round\"], how=\"left\")\n",
    "all_rds_df = all_rds_df.dropna()"
   ]
  },
  {
   "cell_type": "code",
   "execution_count": null,
   "metadata": {},
   "outputs": [],
   "source": [
    "# Groupby round/catch\n",
    "# build kdtree for only pos people\n",
    "# count_neighbors for pos, for real data.\n",
    "# Save intermediate file that has \n"
   ]
  },
  {
   "cell_type": "code",
   "execution_count": 385,
   "metadata": {
    "ExecuteTime": {
     "end_time": "2020-02-07T18:39:14.599574Z",
     "start_time": "2020-02-07T18:39:14.534749Z"
    }
   },
   "outputs": [],
   "source": [
    "def positivity_within_radius(X, kdt_pos, kdt_all, rmax, rmin=0):\n",
    "    #return pos, npos, nall\n",
    "    near_pts = np.array(kdt_all.query_ball_point(X,rmax))\n",
    "    n_in_rbin = len(near_pts)-1 # don't count index person\n",
    "    \n",
    "    \n",
    "    if rmin > 0:\n",
    "        too_near_pts = np.array(kdt_all.query_ball_point(X,rmin))\n",
    "        # Remove points that are too-near from near_pts\n",
    "        exclude_too_near_cut = np.logical_not(np.isin(near_pts,too_near_pts))\n",
    "        \n",
    "        n_in_rbin = np.sum(exclude_too_near_cut)\n",
    "    \n",
    "    if n_in_rbin == 0:\n",
    "        return np.nan, -1, 0\n",
    "    \n",
    "    # Assuming there are some points in this radius bin:\n",
    "    near_pos_pts = np.array(kdt_pos.query_ball_point(X,rmax))\n",
    "    npos_in_rbin = len(near_pos_pts)-1 # don't count index person\n",
    "    \n",
    "    if rmin > 0:\n",
    "        too_near_pts = np.array(kdt_pos.query_ball_point(X,rmin))\n",
    "        # Remove points that are too-near from near_pts\n",
    "        exclude_too_near_cut = np.logical_not(np.isin(near_pos_pts,too_near_pts))\n",
    "        \n",
    "        npos_in_rbin = np.sum(exclude_too_near_cut)\n",
    "        \n",
    "    return npos_in_rbin/n_in_rbin, npos_in_rbin, n_in_rbin"
   ]
  },
  {
   "cell_type": "code",
   "execution_count": 171,
   "metadata": {
    "ExecuteTime": {
     "end_time": "2020-02-06T18:00:59.608662Z",
     "start_time": "2020-02-06T18:00:59.600708Z"
    }
   },
   "outputs": [],
   "source": [
    "def get_mean_profile_without_nans(prev_array):\n",
    "    hold = np.zeros(prev_array.shape[1])\n",
    "    \n",
    "    for j in np.arange(prev_array.shape[1]):\n",
    "#         print(prev_array[:,j])\n",
    "        no_nan_cut = np.logical_not(np.isnan(prev_array[:,j]))\n",
    "        if np.sum(no_nan_cut) == 0:\n",
    "            hold[j] = np.nan\n",
    "\n",
    "        else:\n",
    "            hold[j] = np.mean(prev_array[no_nan_cut,j])\n",
    "            \n",
    "    return hold\n",
    "\n",
    "\n",
    "def get_mean_profile_without_zeros(prev_array):\n",
    "    hold = np.zeros(prev_array.shape[1])\n",
    "    \n",
    "    for j in np.arange(prev_array.shape[1]):\n",
    "#         print(prev_array[:,j])\n",
    "        no_nan_cut = np.logical_not(np.isnan(prev_array[:,j]))\n",
    "        if np.sum(no_nan_cut) == 0:\n",
    "            hold[j] = np.nan\n",
    "\n",
    "        else:\n",
    "            hold[j] = np.mean(prev_array[no_nan_cut,j])\n",
    "            \n",
    "    return hold"
   ]
  },
  {
   "cell_type": "code",
   "execution_count": 393,
   "metadata": {
    "ExecuteTime": {
     "end_time": "2020-02-07T18:53:55.254564Z",
     "start_time": "2020-02-07T18:44:46.779634Z"
    }
   },
   "outputs": [
    {
     "name": "stdout",
     "output_type": "stream",
     "text": [
      "('Batoka', 7)\n",
      "('Batoka', 8)\n",
      "('Batoka', 9)\n",
      "('Batoka', 10)\n",
      "('Bbondo', 1)\n",
      "('Bbondo', 2)\n",
      "('Bbondo', 3)\n",
      "('Bbondo', 4)\n",
      "('Bbondo', 5)\n",
      "('Bbondo', 6)\n",
      "('Bbondo', 7)\n",
      "('Bbondo', 8)\n",
      "('Bbondo', 9)\n",
      "('Bbondo', 10)\n",
      "('Buleyamalima', 7)\n",
      "('Buleyamalima', 8)\n",
      "('Buleyamalima', 9)\n",
      "('Buleyamalima', 10)\n",
      "('Chaanga', 9)\n",
      "('Chabbobboma', 1)\n",
      "('Chabbobboma', 2)\n",
      "('Chabbobboma', 3)\n",
      "('Chabbobboma', 4)\n",
      "('Chabbobboma', 5)\n",
      "('Chabbobboma', 6)\n",
      "('Chabbobboma', 9)\n",
      "('Chabbobboma', 10)\n",
      "('Chasanga', 1)\n",
      "('Chasanga', 2)\n",
      "('Chasanga', 3)\n",
      "('Chasanga', 6)\n",
      "('Cheeba', 7)\n",
      "('Cheeba', 8)\n",
      "('Cheeba', 9)\n",
      "('Cheeba', 10)\n",
      "('Chipepo', 1)\n",
      "('Chipepo', 2)\n",
      "('Chipepo', 3)\n",
      "('Chipepo', 4)\n",
      "('Chipepo', 5)\n",
      "('Chipepo', 6)\n",
      "('Chipepo', 9)\n",
      "('Chipepo Siavonga', 1)\n",
      "('Chipepo Siavonga', 2)\n",
      "('Chipepo Siavonga', 3)\n",
      "('Chipepo Siavonga', 4)\n",
      "('Chipepo Siavonga', 5)\n",
      "('Chipepo Siavonga', 6)\n",
      "('Chisanga', 7)\n",
      "('Chisanga', 8)\n",
      "('Chisanga', 9)\n",
      "('Chisanga', 10)\n",
      "('Chiyabi', 1)\n",
      "('Chiyabi', 2)\n",
      "('Chiyabi', 3)\n",
      "('Chiyabi', 4)\n",
      "('Chiyabi', 5)\n",
      "('Chiyabi', 6)\n",
      "('Chiyabi', 7)\n",
      "('Chiyabi', 8)\n",
      "('Chiyabi', 9)\n",
      "('Chiyabi', 10)\n",
      "('Dimbwe', 7)\n",
      "('Dimbwe', 8)\n",
      "('Dimbwe', 9)\n",
      "('Dimbwe', 10)\n",
      "('GVDC', 9)\n",
      "('GVDC', 10)\n",
      "('Gwembe', 1)\n",
      "('Gwembe', 2)\n",
      "('Gwembe', 3)\n",
      "('Gwembe', 4)\n",
      "('Gwembe', 5)\n",
      "('Gwembe', 6)\n",
      "('Harmony', 7)\n",
      "('Harmony', 8)\n",
      "('Harmony', 9)\n",
      "('Harmony', 10)\n",
      "('Ibbwemunyama', 7)\n",
      "('Ibbwemunyama', 8)\n",
      "('Ibbwemunyama', 9)\n",
      "('Ibbwemunyama', 10)\n",
      "('Jamba', 7)\n",
      "('Jamba', 8)\n",
      "('Jamba', 9)\n",
      "('Jamba', 10)\n",
      "('Jembo', 7)\n",
      "('Jembo', 8)\n",
      "('Jembo', 9)\n",
      "('Jembo', 10)\n",
      "('Kafwambila', 9)\n",
      "('Kanchele', 7)\n",
      "('Kanchele', 8)\n",
      "('Kanchele', 9)\n",
      "('Kanchele', 10)\n",
      "('Kapululira', 1)\n",
      "('Kapululira', 2)\n",
      "('Kapululira', 3)\n",
      "('Kapululira', 4)\n",
      "('Kapululira', 5)\n",
      "('Kapululira', 6)\n",
      "('Kariba', 10)\n",
      "('Kasikili', 7)\n",
      "('Kasikili', 8)\n",
      "('Kasikili', 9)\n",
      "('Kasikili', 10)\n",
      "('Kazimaulu', 7)\n",
      "('Kazimaulu', 8)\n",
      "('Kazimaulu', 9)\n",
      "('Kazimaulu', 10)\n",
      "('Lukande', 1)\n",
      "('Lukande', 2)\n",
      "('Lukande', 3)\n",
      "('Lukande', 4)\n",
      "('Lukande', 5)\n",
      "('Lukande', 6)\n",
      "('Lusitu', 1)\n",
      "('Lusitu', 2)\n",
      "('Lusitu', 3)\n",
      "('Lusitu', 4)\n",
      "('Lusitu', 5)\n",
      "('Lusitu', 6)\n",
      "('Luumbo', 1)\n",
      "('Luumbo', 2)\n",
      "('Luumbo', 3)\n",
      "('Luumbo', 4)\n",
      "('Luumbo', 5)\n",
      "('Luumbo', 6)\n",
      "('Luumbo', 7)\n",
      "('Luumbo', 8)\n",
      "('Luumbo', 9)\n",
      "('Luumbo', 10)\n",
      "('Luyaba', 7)\n",
      "('Luyaba', 9)\n",
      "('Luyaba', 10)\n",
      "('Maamba', 7)\n",
      "('Maamba', 8)\n",
      "('Maamba', 9)\n",
      "('Maamba', 10)\n",
      "('Manchanvwa', 7)\n",
      "('Manchanvwa', 8)\n",
      "('Manchanvwa', 9)\n",
      "('Manchanvwa', 10)\n",
      "('Mapatizya', 1)\n",
      "('Mapatizya', 2)\n",
      "('Mapatizya', 3)\n",
      "('Mapatizya', 4)\n",
      "('Mapatizya', 5)\n",
      "('Mapatizya', 6)\n",
      "('Mapatizya', 7)\n",
      "('Mapatizya', 8)\n",
      "('Mapatizya', 9)\n",
      "('Mapatizya', 10)\n",
      "('Masempela', 7)\n",
      "('Masempela', 8)\n",
      "('Masempela', 9)\n",
      "('Masempela', 10)\n",
      "('Masuku', 7)\n",
      "('Masuku', 8)\n",
      "('Masuku', 9)\n",
      "('Masuku', 10)\n",
      "('Masuku Mines', 7)\n",
      "('Masuku Mines', 8)\n",
      "('Masuku Mines', 9)\n",
      "('Masuku Mines', 10)\n",
      "('Matua', 7)\n",
      "('Matua', 8)\n",
      "('Matua', 9)\n",
      "('Matua', 10)\n",
      "('Mochipapa', 9)\n",
      "('Mochipapa', 10)\n",
      "('Moomba', 7)\n",
      "('Moomba', 8)\n",
      "('Moomba', 9)\n",
      "('Moomba', 10)\n",
      "('Moyo', 9)\n",
      "('Moyo', 10)\n",
      "('Mtendere', 1)\n",
      "('Mtendere', 2)\n",
      "('Mtendere', 3)\n",
      "('Mtendere', 4)\n",
      "('Mtendere', 5)\n",
      "('Mtendere', 6)\n",
      "('Mtendere', 7)\n",
      "('Mtendere', 8)\n",
      "('Mtendere', 9)\n",
      "('Mtendere', 10)\n",
      "('Munyama', 7)\n",
      "('Munyama', 8)\n",
      "('Munyama', 9)\n",
      "('Munyama', 10)\n",
      "('Munyumbwe', 1)\n",
      "('Munyumbwe', 2)\n",
      "('Munyumbwe', 3)\n",
      "('Munyumbwe', 4)\n",
      "('Munyumbwe', 5)\n",
      "('Munyumbwe', 6)\n",
      "('Munyumbwe', 7)\n",
      "('Munyumbwe', 8)\n",
      "('Munyumbwe', 9)\n",
      "('Munyumbwe', 10)\n",
      "('Nabutezi', 7)\n",
      "('Nabutezi', 8)\n",
      "('Nabutezi', 9)\n",
      "('Nabutezi', 10)\n",
      "('Nakempa', 7)\n",
      "('Nakempa', 8)\n",
      "('Nakempa', 9)\n",
      "('Nakempa', 10)\n",
      "('Namaila', 7)\n",
      "('Namaila', 8)\n",
      "('Namaila', 9)\n",
      "('Namaila', 10)\n",
      "('Nanduba', 7)\n",
      "('Nanduba', 8)\n",
      "('Nanduba', 9)\n",
      "('Nanduba', 10)\n",
      "('Ndondi', 9)\n",
      "('Ndondi', 10)\n",
      "('Nyanga Chaamwe', 1)\n",
      "('Nyanga Chaamwe', 2)\n",
      "('Nyanga Chaamwe', 3)\n",
      "('Nyanga Chaamwe', 4)\n",
      "('Nyanga Chaamwe', 5)\n",
      "('Nyanga Chaamwe', 6)\n",
      "('Nyanga Chaamwe', 9)\n",
      "('Nyanga Chaamwe', 10)\n",
      "('Siameja', 7)\n",
      "('Siameja', 8)\n",
      "('Siameja', 9)\n",
      "('Siameja', 10)\n",
      "('Siamuleya', 9)\n",
      "('Siamuleya', 10)\n",
      "('Siansowa', 7)\n",
      "('Siansowa', 8)\n",
      "('Siansowa', 9)\n",
      "('Siansowa', 10)\n",
      "('Sianyoolo', 7)\n",
      "('Sianyoolo', 8)\n",
      "('Sianyoolo', 9)\n",
      "('Sianyoolo', 10)\n",
      "('Siatwinda', 9)\n",
      "('Siatwinda', 10)\n",
      "('Siavonga', 9)\n",
      "('Sikalongo', 9)\n",
      "('Sikalongo', 10)\n",
      "('Sikaneka', 7)\n",
      "('Sikaneka', 8)\n",
      "('Sikaneka', 9)\n",
      "('Sikaneka', 10)\n",
      "('Simakutu', 9)\n",
      "('Simakutu', 10)\n",
      "('Simukanka', 7)\n",
      "('Simukanka', 8)\n",
      "('Simukanka', 9)\n",
      "('Simukanka', 10)\n",
      "('Simwatachela', 9)\n",
      "('Sinafala', 1)\n",
      "('Sinafala', 2)\n",
      "('Sinafala', 3)\n",
      "('Sinafala', 4)\n",
      "('Sinafala', 5)\n",
      "('Sinafala', 6)\n",
      "('Sinafala', 7)\n",
      "('Sinafala', 8)\n",
      "('Sinafala', 9)\n",
      "('Sinafala', 10)\n",
      "('Sinamalima', 1)\n",
      "('Sinamalima', 2)\n",
      "('Sinamalima', 3)\n",
      "('Sinamalima', 4)\n",
      "('Sinamalima', 5)\n",
      "('Sinamalima', 6)\n",
      "('Sinamalima', 7)\n",
      "('Sinamalima', 8)\n",
      "('Sinamalima', 9)\n",
      "('Sinamalima', 10)\n",
      "('Sinazeze', 7)\n",
      "('Sinazeze', 8)\n",
      "('Sinazeze', 9)\n",
      "('Sinazeze', 10)\n",
      "('Sinazongwe', 9)\n",
      "('Sinazongwe', 10)\n",
      "('Sulwegonde', 1)\n",
      "('Sulwegonde', 2)\n",
      "('Sulwegonde', 3)\n",
      "('Sulwegonde', 4)\n",
      "('Sulwegonde', 5)\n",
      "('Sulwegonde', 6)\n",
      "('Sulwegonde', 7)\n",
      "('Sulwegonde', 8)\n",
      "('Sulwegonde', 9)\n",
      "('Sulwegonde', 10)\n"
     ]
    }
   ],
   "source": [
    "rbins = np.arange(0,520,20)\n",
    "n_rbins = len(rbins)-1\n",
    "\n",
    "df_list = []\n",
    "for i, sdf in all_rds_df.groupby([\"catch\", \"round\"]):\n",
    "# sdf = all_rds_df[np.logical_and(all_rds_df[\"round\"]==9, all_rds_df[\"catch\"]==\"Bbondo\")] # TESTING ONLY\n",
    "    print(i)\n",
    "    # Create kdtrees:\n",
    "    ckdt_all = cKDTree(np.array(sdf[[\"x\",\"y\"]]))\n",
    "    c_underlying = ckdt_all.count_neighbors(ckdt_all, rbins)\n",
    "\n",
    "    pos_cut = sdf[\"rdt_pos\"]==1\n",
    "    n_index = int(np.sum(pos_cut))\n",
    "    if np.sum(n_index) > 0:\n",
    "        pos_individuals_xy = np.array(sdf[[\"x\", \"y\"]][pos_cut])\n",
    "        ckdt_pos = cKDTree(pos_individuals_xy)\n",
    "        c_data = ckdt_pos.count_neighbors(ckdt_pos, rbins)\n",
    "\n",
    "        # Loop over every RDT-positive, and use KDtrees to get prev(R) around it:\n",
    "        prev_vs_R = np.zeros([n_index, n_rbins])\n",
    "        n_vs_R = np.zeros([n_index, n_rbins])\n",
    "        npos_vs_R = np.zeros([n_index, n_rbins])\n",
    "\n",
    "        for ii in np.arange(n_index):\n",
    "            X = pos_individuals_xy[ii]\n",
    "            for ri in np.arange(n_rbins):\n",
    "                prev_vs_R[ii,ri], npos_vs_R[ii,ri], n_vs_R[ii,ri] = positivity_within_radius(X, ckdt_pos, ckdt_all, rbins[ri+1], rbins[ri])\n",
    "\n",
    "\n",
    "        prev_vs_R_catch = get_mean_profile_without_nans(prev_vs_R)\n",
    "        npos_vs_R_catch = get_mean_profile_without_nans(npos_vs_R)\n",
    "        n_vs_R_catch = get_mean_profile_without_nans(n_vs_R)\n",
    "        \n",
    "        df_catch = pd.DataFrame({\n",
    "            \"rmin\": rbins[:-1],\n",
    "            \"rmax\": rbins[1:],\n",
    "            \"prev\": prev_vs_R_catch,\n",
    "            \"npos\": npos_vs_R_catch,\n",
    "            \"n\": n_vs_R_catch,\n",
    "            \"catch\": i[0],\n",
    "            \"round\": i[1]\n",
    "        })\n",
    "    \n",
    "        df_list.append(df_catch.copy(deep=True))\n"
   ]
  },
  {
   "cell_type": "code",
   "execution_count": 394,
   "metadata": {
    "ExecuteTime": {
     "end_time": "2020-02-07T18:55:38.519770Z",
     "start_time": "2020-02-07T18:55:38.409064Z"
    },
    "scrolled": true
   },
   "outputs": [],
   "source": [
    "df_full = pd.concat(df_list)\n",
    "df_full = df_full.merge(cdf, how=\"left\", on=[\"catch\", \"round\"])"
   ]
  },
  {
   "cell_type": "code",
   "execution_count": 395,
   "metadata": {
    "ExecuteTime": {
     "end_time": "2020-02-07T18:55:43.691976Z",
     "start_time": "2020-02-07T18:55:43.533365Z"
    }
   },
   "outputs": [],
   "source": [
    "df_full.to_csv(\"all_catch_round_prev2.csv\", index=False)\n",
    "# df_full = pd.read_csv(\"all_catch_round_prev.csv\")"
   ]
  },
  {
   "cell_type": "code",
   "execution_count": 314,
   "metadata": {
    "ExecuteTime": {
     "end_time": "2020-02-06T19:52:34.272052Z",
     "start_time": "2020-02-06T19:52:34.267065Z"
    }
   },
   "outputs": [],
   "source": [
    "prev_bins = np.array([0,0.005,0.01,0.02,0.04,0.06,0.08,0.1,0.15,0.2,0.3,0.4,0.5])"
   ]
  },
  {
   "cell_type": "code",
   "execution_count": 331,
   "metadata": {
    "ExecuteTime": {
     "end_time": "2020-02-06T20:51:59.317797Z",
     "start_time": "2020-02-06T20:51:59.289359Z"
    }
   },
   "outputs": [],
   "source": [
    "pmin = 0\n",
    "pmax = 0.005\n",
    "# Loop over prevalence bins, and generate mean plot:\n",
    "df_full_nonan = df_full.dropna()\n",
    "\n",
    "df_pbin = df_full_nonan[np.logical_and(df_full_nonan[\"catch_prev\"] >pmin,df_full_nonan[\"catch_prev\"] <= pmax)]\n",
    "\n",
    "foo = df_pbin.groupby(\"rmin\").agg({\"prev\": \"mean\"}).reset_index()\n",
    "    "
   ]
  },
  {
   "cell_type": "code",
   "execution_count": 341,
   "metadata": {
    "ExecuteTime": {
     "end_time": "2020-02-06T20:54:41.978698Z",
     "start_time": "2020-02-06T20:54:41.703878Z"
    }
   },
   "outputs": [
    {
     "data": {
      "text/plain": [
       "<matplotlib.collections.PolyCollection at 0x21c02c3c0f0>"
      ]
     },
     "execution_count": 341,
     "metadata": {},
     "output_type": "execute_result"
    },
    {
     "data": {
      "image/png": "[encoded data removed]",
      "text/plain": [
       "<Figure size 432x288 with 1 Axes>"
      ]
     },
     "metadata": {
      "needs_background": "light"
     },
     "output_type": "display_data"
    }
   ],
   "source": [
    "plt.scatter(foo[\"rmin\"], foo[\"prev\"])\n",
    "plt.fill_between([np.min(foo[\"rmin\"]), np.max(foo[\"rmin\"])],\n",
    "                  np.min(df_pbin[\"catch_prev\"]),\n",
    "                  np.max(df_pbin[\"catch_prev\"]), color='gray', alpha=0.5)"
   ]
  },
  {
   "cell_type": "code",
   "execution_count": 59,
   "metadata": {
    "ExecuteTime": {
     "end_time": "2020-02-05T21:44:58.304113Z",
     "start_time": "2020-02-05T21:44:58.298138Z"
    }
   },
   "outputs": [],
   "source": [
    "foo = pd.DataFrame({\"rmin\": rbins[:-1], \"rmax\": rbins[1:], \"prev\": bar, \"catch\": \"Booly\"})"
   ]
  },
  {
   "cell_type": "code",
   "execution_count": 373,
   "metadata": {
    "ExecuteTime": {
     "end_time": "2020-02-06T21:05:39.047326Z",
     "start_time": "2020-02-06T21:05:37.076263Z"
    }
   },
   "outputs": [
    {
     "name": "stdout",
     "output_type": "stream",
     "text": [
      "250\n"
     ]
    },
    {
     "data": {
      "text/plain": [
       "Text(0.5, 1.0, 'Catchment prevalence between 40.0% and 50.0%')"
      ]
     },
     "execution_count": 373,
     "metadata": {},
     "output_type": "execute_result"
    },
    {
     "data": {
      "image/png": "[encoded data removed]",
      "text/plain": [
       "<Figure size 720x360 with 1 Axes>"
      ]
     },
     "metadata": {
      "needs_background": "light"
     },
     "output_type": "display_data"
    }
   ],
   "source": [
    "pmin = 0.4\n",
    "pmax = 0.5\n",
    "# Loop over prevalence bins, and generate mean plot:\n",
    "df_full_nonan = df_full.dropna()\n",
    "\n",
    "df_pbin = df_full_nonan[np.logical_and(df_full_nonan[\"catch_prev\"] >pmin,df_full_nonan[\"catch_prev\"] <= pmax)]\n",
    "print(len(df_pbin))\n",
    "\n",
    "foo = df_pbin.groupby(\"rmin\").agg({\"prev\": \"mean\"}).reset_index()\n",
    "    \n",
    "\n",
    "plt.figure(figsize=(10,5))\n",
    "sns.boxplot(x=\"rmin\", y=\"prev\",data=df_pbin)\n",
    "# plt.plot(foo[\"rmin\"]/20, foo[\"prev\"])\n",
    "# plt.axhline(np.max(df_pbin[\"catch_prev\"]), color='gray')\n",
    "# plt.axhline(np.min(df_pbin[\"catch_prev\"]), color='gray')\n",
    "plt.fill_between([-1, np.max(foo[\"rmin\"])],\n",
    "                  np.min(df_pbin[\"catch_prev\"]),\n",
    "                  np.max(df_pbin[\"catch_prev\"]), color='gray', alpha=0.5, label=\"Background prevalence\")\n",
    "plt.ylim([0,0.8])\n",
    "plt.xlim([-0.5,310/20])\n",
    "plt.legend()\n",
    "plt.title(\"Catchment prevalence between {}% and {}%\".format(pmin*100, pmax*100))"
   ]
  },
  {
   "cell_type": "code",
   "execution_count": 384,
   "metadata": {
    "ExecuteTime": {
     "end_time": "2020-02-06T21:29:23.539610Z",
     "start_time": "2020-02-06T21:29:23.175631Z"
    }
   },
   "outputs": [
    {
     "data": {
      "text/plain": [
       "Text(0, 0.5, 'Radius (m)')"
      ]
     },
     "execution_count": 384,
     "metadata": {},
     "output_type": "execute_result"
    },
    {
     "data": {
      "image/png": "[encoded data removed]",
      "text/plain": [
       "<Figure size 432x288 with 1 Axes>"
      ]
     },
     "metadata": {
      "needs_background": "light"
     },
     "output_type": "display_data"
    }
   ],
   "source": [
    "r_optimal = np.array([10,10,10,10,10,20, 40, 20,20,60, 10,10,10])\n",
    "r_maximal = np.array([10,10,10,10,60,60,140,100,20,140,10,10,10])\n",
    "prev_bins = np.array([0,0.005,0.01,0.02,0.03,0.04,0.06,0.08,0.1,0.15,0.2,0.3,0.4,0.5])\n",
    "\n",
    "pb_med = (prev_bins[:-1]+prev_bins[1:])/2\n",
    "plt.plot(pb_med,r_optimal,marker='o',label=\"Minimum\")\n",
    "plt.plot(pb_med,r_maximal,marker='o',label=\"Optimal\")\n",
    "plt.ylim([0,150])\n",
    "plt.xlabel(\"Background prevalence\")\n",
    "plt.ylabel(\"Radius (m)\")"
   ]
  },
  {
   "cell_type": "markdown",
   "metadata": {
    "ExecuteTime": {
     "end_time": "2020-01-29T22:37:56.986608Z",
     "start_time": "2020-01-29T22:37:56.381872Z"
    }
   },
   "source": [
    "# Estimate error bars"
   ]
  },
  {
   "cell_type": "code",
   "execution_count": 392,
   "metadata": {
    "ExecuteTime": {
     "end_time": "2020-02-07T18:40:37.107420Z",
     "start_time": "2020-02-07T18:40:35.175402Z"
    }
   },
   "outputs": [
    {
     "data": {
      "text/plain": [
       "{0: array([ 3.,  0.,  0.,  0.,  0.,  6.,  0.,  0., 12., 10., 18.,  0.,  5.,\n",
       "         8.,  9.,  0.,  0., 11., 20., 14., 15.,  3.,  5., 59., 75.]),\n",
       " 1: array([ 7.,  0.,  0.,  0.,  9., 10.,  5.,  0., 59., 15., 24., 11., 22.,\n",
       "        35., 24., 11.,  5., 23., 27., 18.,  9., 24., 57.,  4., 10.]),\n",
       " 2: array([ 7.,  0.,  0.,  0.,  9., 10.,  5.,  0., 59., 15., 24., 11., 22.,\n",
       "        35., 24., 11.,  5., 23., 27., 18.,  9., 24., 57.,  4., 10.]),\n",
       " 3: array([11.,  0.,  0.,  0.,  0.,  0., 10., 11.,  0.,  0., 15.,  0.,  6.,\n",
       "         9., 11.,  2.,  0.,  0.,  0.,  5.,  6.,  0.,  0.,  0.,  4.]),\n",
       " 4: array([18.,  2.,  2.,  0.,  0., 12.,  0.,  3.,  0.,  0.,  0.,  0.,  8.,\n",
       "         0.,  0.,  0.,  0.,  0., 10.,  7.,  0.,  0.,  7.,  7., 26.]),\n",
       " 5: array([18.,  2.,  2.,  0.,  0., 12.,  0.,  3.,  0.,  0.,  0.,  0.,  8.,\n",
       "         0.,  0.,  0.,  0.,  0., 10.,  7.,  0.,  0.,  7.,  7., 26.]),\n",
       " 6: array([ 2.,  0.,  0.,  6.,  0.,  8.,  6.,  0.,  7.,  0.,  0.,  0.,  0.,\n",
       "         0.,  0.,  0.,  0.,  0.,  0., 23., 10., 17.,  8.,  0.,  2.]),\n",
       " 7: array([ 8.,  0.,  0.,  5.,  0.,  0., 40., 19.,  0.,  0., 11.,  4.,  0.,\n",
       "         0., 19.,  8., 14., 10., 50.,  0.,  9.,  8.,  6., 14., 16.]),\n",
       " 8: array([ 8.,  0.,  0.,  5.,  0.,  0., 40., 19.,  0.,  0., 11.,  4.,  0.,\n",
       "         0., 19.,  8., 14., 10., 50.,  0.,  9.,  8.,  6., 14., 16.]),\n",
       " 9: array([ 9.,  0.,  0.,  0.,  0.,  0.,  0., 12.,  0.,  4.,  0.,  6., 11.,\n",
       "         4.,  7.,  7.,  6., 13.,  9.,  2.,  0.,  0., 27., 44., 11.]),\n",
       " 10: array([17.,  0.,  0.,  0.,  0., 10., 14., 15.,  6.,  0.,  4.,  1.,  0.,\n",
       "         8., 60.,  3., 13.,  8., 17., 26., 22., 12., 24., 22.,  5.]),\n",
       " 11: array([126.,  89.,  22.,  10.,  40.,  22.,   2.,   0.,  45.,   7.,  17.,\n",
       "          2.,   0.,  12.,   4.,   4.,   0.,  14.,   0.,   0.,   4.,   0.,\n",
       "         14.,   0.,  24.]),\n",
       " 12: array([ 3.,  0., 35.,  8., 18.,  0.,  0.,  0.,  0.,  0.,  5.,  7.,  6.,\n",
       "         5.,  7., 12., 19.,  7., 12., 31., 15.,  8., 17., 15., 26.]),\n",
       " 13: array([ 6.,  0.,  0.,  0.,  7., 10.,  4.,  3.,  0.,  0.,  9., 12.,  3.,\n",
       "         6., 25.,  7., 19.,  4.,  7.,  7., 17.,  0.,  5., 18.,  5.]),\n",
       " 14: array([76., 87.,  0.,  0.,  0.,  8.,  7., 37., 10., 11.,  4., 18.,  0.,\n",
       "        10.,  0.,  6.,  0.,  4.,  4.,  0.,  3., 26., 16.,  5.,  0.]),\n",
       " 15: array([76., 87.,  0.,  0.,  0.,  8.,  7., 37., 10., 11.,  4., 18.,  0.,\n",
       "        10.,  0.,  6.,  0.,  4.,  4.,  0.,  3., 26., 16.,  5.,  0.]),\n",
       " 16: array([11.,  0.,  0., 10.,  4.,  2.,  0., 55.,  0.,  6.,  0.,  2.,  6.,\n",
       "        41., 25., 30., 24., 31., 39., 79., 88., 50.,  6.,  7., 15.]),\n",
       " 17: array([ 9.,  3.,  0., 11.,  0.,  0.,  6.,  0.,  0., 19.,  0., 10.,  2.,\n",
       "         0.,  0.,  0.,  8.,  5., 12.,  0., 19.,  4.,  0.,  0.,  7.]),\n",
       " 18: array([ 31.,   0.,  13.,   0.,  13.,   0.,  12.,   8., 215.,  79.,  16.,\n",
       "          8.,   2.,  19.,   0.,   0.,   0.,   0.,   0.,  13.,   0.,  14.,\n",
       "          4.,   0.,   4.]),\n",
       " 19: array([ 58.,   0.,  13.,   5.,   0.,   0.,  18., 106.,  56.,  49.,   6.,\n",
       "          6.,   0.,  20.,   0.,   0.,  49.,   0.,  47.,  10.,   8.,  25.,\n",
       "         38.,   0.,   7.]),\n",
       " 20: array([ 2.,  3.,  8.,  0., 11.,  0.,  1., 19., 18., 12., 36.,  7., 13.,\n",
       "         6., 27., 12., 42., 84., 19., 73., 13., 14., 29., 27., 14.]),\n",
       " 21: array([25., 99., 29., 10.,  0.,  0., 10.,  6., 19., 42., 10., 12.,  0.,\n",
       "         0.,  0., 10.,  6.,  0.,  3.,  4., 21.,  4., 17.,  0.,  5.]),\n",
       " 22: array([ 5., 19.,  0., 29., 68.,  2., 17., 10., 21., 18., 32., 11., 27.,\n",
       "        30., 27.,  9.,  3., 27., 26., 10., 50., 49., 29., 22.,  0.]),\n",
       " 23: array([29.,  0.,  0.,  0.,  0., 13., 30., 10., 27., 12., 13.,  3.,  2.,\n",
       "         0.,  9.,  0., 14.,  0.,  8.,  0.,  4.,  0.,  0.,  0.,  0.]),\n",
       " 24: array([25.,  0.,  6.,  4.,  0.,  8.,  0.,  7., 16.,  0.,  8., 10., 24.,\n",
       "        16., 17.,  0., 12.,  8., 26., 36., 11.,  2., 70., 10., 28.]),\n",
       " 25: array([25.,  0.,  6.,  4.,  0.,  8.,  0.,  7., 16.,  0.,  8., 10., 24.,\n",
       "        16., 17.,  0., 12.,  8., 26., 36., 11.,  2., 70., 10., 28.]),\n",
       " 26: array([25.,  0.,  6.,  4.,  0.,  8.,  0.,  7., 16.,  0.,  8., 10., 24.,\n",
       "        16., 17.,  0., 12.,  8., 26., 36., 11.,  2., 70., 10., 28.]),\n",
       " 27: array([25.,  0.,  6.,  4.,  0.,  8.,  0.,  7., 16.,  0.,  8., 10., 24.,\n",
       "        16., 17.,  0., 12.,  8., 26., 36., 11.,  2., 70., 10., 28.]),\n",
       " 28: array([25.,  0.,  6.,  4.,  0.,  8.,  0.,  7., 16.,  0.,  8., 10., 24.,\n",
       "        16., 17.,  0., 12.,  8., 26., 36., 11.,  2., 70., 10., 28.]),\n",
       " 29: array([25.,  0.,  6.,  4.,  0.,  8.,  0.,  7., 16.,  0.,  8., 10., 24.,\n",
       "        16., 17.,  0., 12.,  8., 26., 36., 11.,  2., 70., 10., 28.]),\n",
       " 30: array([25.,  0.,  6.,  4.,  0.,  8.,  0.,  7., 16.,  0.,  8., 10., 24.,\n",
       "        16., 17.,  0., 12.,  8., 26., 36., 11.,  2., 70., 10., 28.]),\n",
       " 31: array([ 2.,  0.,  0.,  0.,  5., 10.,  0.,  5., 11., 19.,  0.,  0.,  4.,\n",
       "        17.,  7.,  0., 11.,  0.,  0.,  5., 17., 20., 35., 12., 22.]),\n",
       " 32: array([ 3.,  0., 10.,  0.,  0.,  5.,  0.,  0.,  5., 14., 29.,  4.,  0.,\n",
       "         3.,  0.,  0.,  8., 10.,  3.,  3.,  0., 13.,  0., 18.,  0.]),\n",
       " 33: array([ 7.,  0.,  0.,  0., 12.,  0., 18., 12.,  6., 39.,  0.,  6., 12.,\n",
       "         6., 27.,  2., 42., 15., 21.,  5., 36., 13., 16.,  4.,  4.]),\n",
       " 34: array([ 7.,  0.,  0.,  0., 12.,  0., 18., 12.,  6., 39.,  0.,  6., 12.,\n",
       "         6., 27.,  2., 42., 15., 21.,  5., 36., 13., 16.,  4.,  4.]),\n",
       " 35: array([4., 0., 0., 0., 0., 0., 0., 0., 0., 6., 0., 0., 0., 0., 6., 0., 0.,\n",
       "        3., 0., 0., 0., 0., 0., 0., 0.]),\n",
       " 36: array([ 7.,  6.,  0.,  0.,  8.,  0.,  7.,  4.,  8.,  7., 43., 59., 17.,\n",
       "        11., 12., 20.,  0., 19., 23., 25., 19., 15., 10., 27., 14.]),\n",
       " 37: array([116.,  40.,  52.,   0.,   7.,   5.,   0.,  59.,  12.,  41.,  18.,\n",
       "         11.,  50.,  12.,  13.,  27.,  13.,   0.,   0.,   7.,  14.,  22.,\n",
       "         20.,  16.,  10.]),\n",
       " 38: array([116.,  40.,  52.,   0.,   7.,   5.,   0.,  59.,  12.,  41.,  18.,\n",
       "         11.,  50.,  12.,  13.,  27.,  13.,   0.,   0.,   7.,  14.,  22.,\n",
       "         20.,  16.,  10.]),\n",
       " 39: array([116.,  40.,  52.,   0.,   7.,   5.,   0.,  59.,  12.,  41.,  18.,\n",
       "         11.,  50.,  12.,  13.,  27.,  13.,   0.,   0.,   7.,  14.,  22.,\n",
       "         20.,  16.,  10.]),\n",
       " 40: array([116.,  40.,  52.,   0.,   7.,   5.,   0.,  59.,  12.,  41.,  18.,\n",
       "         11.,  50.,  12.,  13.,  27.,  13.,   0.,   0.,   7.,  14.,  22.,\n",
       "         20.,  16.,  10.]),\n",
       " 41: array([ 8.,  0.,  0.,  6.,  0., 12.,  0.,  0.,  0.,  0.,  0.,  0.,  6.,\n",
       "        19., 15.,  0.,  0.,  0.,  7., 25., 20.,  0.,  4., 12., 63.]),\n",
       " 42: array([  7.,   6.,   0.,   0.,   8.,  11.,   0.,   0.,   7.,  10.,   0.,\n",
       "          0.,  51.,  33.,  42.,  22., 125.,  50.,   5.,  78.,   0.,  32.,\n",
       "         16.,  44.,   4.]),\n",
       " 43: array([97., 37., 29.,  0.,  0.,  0., 15., 32., 15., 15.,  0., 18.,  4.,\n",
       "         6.,  0.,  6.,  4.,  0.,  0.,  4.,  3.,  0., 37.,  5.,  5.]),\n",
       " 44: array([18., 14., 51., 38., 13.,  4.,  2., 16.,  0., 17., 31., 65.,  9.,\n",
       "        22.,  3., 19., 10., 20., 33., 76., 20., 12.,  5., 23.,  9.]),\n",
       " 45: array([24.,  0.,  0.,  2., 14.,  0., 14.,  0.,  0.,  7.,  0.,  0.,  0.,\n",
       "         0.,  0.,  0.,  0.,  0.,  8.,  9., 16.,  6., 26., 34.,  6.]),\n",
       " 46: array([ 3.,  0.,  0.,  0., 15.,  0.,  0.,  3.,  7.,  0., 10.,  0.,  4.,\n",
       "        14.,  5.,  6., 17.,  5.,  3., 10.,  5., 13.,  5.,  5.,  2.]),\n",
       " 47: array([  4.,   0.,   0.,   0.,   0.,  19., 204.,  45.,  18.,   7.,   0.,\n",
       "          0.,   8.,  18.,  30.,  12.,  21.,  24.,  50.,   0.,   7.,   4.,\n",
       "         13.,   0.,  11.]),\n",
       " 48: array([ 5.,  0.,  0.,  3.,  3., 10., 11.,  3.,  4.,  0.,  6., 16.,  0.,\n",
       "        11.,  4.,  5.,  0., 20.,  3.,  0.,  0.,  0.,  0.,  3.,  0.]),\n",
       " 49: array([ 5.,  0.,  0.,  3.,  3., 10., 11.,  3.,  4.,  0.,  6., 16.,  0.,\n",
       "        11.,  4.,  5.,  0., 20.,  3.,  0.,  0.,  0.,  0.,  3.,  0.]),\n",
       " 50: array([ 5.,  0.,  0.,  3.,  3., 10., 11.,  3.,  4.,  0.,  6., 16.,  0.,\n",
       "        11.,  4.,  5.,  0., 20.,  3.,  0.,  0.,  0.,  0.,  3.,  0.]),\n",
       " 51: array([ 5.,  8.,  8.,  0.,  0.,  7.,  0., 19.,  5.,  9.,  0.,  8., 19.,\n",
       "         4., 11.,  6., 12., 26., 22.,  3., 20.,  0., 27.,  6.,  0.]),\n",
       " 52: array([13.,  0.,  0.,  0.,  0., 13., 20.,  1.,  5.,  1., 17., 10., 17.,\n",
       "         6., 36., 44., 18., 17.,  6.,  0., 30., 32., 17.,  5., 16.]),\n",
       " 53: array([19.,  0.,  0.,  0.,  0.,  0.,  0.,  0.,  0.,  7.,  0.,  0.,  0.,\n",
       "         0.,  0., 20.,  0.,  0.,  0.,  0.,  0.,  0.,  0., 12., 10.]),\n",
       " 54: array([19.,  0.,  0.,  0.,  0.,  0.,  0.,  0.,  0.,  7.,  0.,  0.,  0.,\n",
       "         0.,  0., 20.,  0.,  0.,  0.,  0.,  0.,  0.,  0., 12., 10.]),\n",
       " 55: array([ 8.,  9.,  0.,  9., 18., 23., 27., 20., 30.,  8., 73.,  4., 12.,\n",
       "        43., 12., 10.,  2., 20., 31., 32.,  0., 12., 18.,  0., 28.]),\n",
       " 56: array([ 7.,  0.,  0., 55.,  0.,  8.,  0.,  5.,  0.,  6., 22.,  0.,  3.,\n",
       "        13.,  3.,  4., 33.,  0.,  0., 45., 12.,  6.,  3., 42.,  8.]),\n",
       " 57: array([ 10.,   0.,   0.,   4.,   0.,   8.,   2.,  10.,   7.,  13.,  23.,\n",
       "         10.,   6.,  19.,   1.,   0.,  32.,   0.,  71.,  21.,  43., 178.,\n",
       "          1.,   5.,  48.]),\n",
       " 58: array([10.,  0.,  0.,  0.,  0.,  0., 15., 10.,  2.,  6.,  0.,  3.,  0.,\n",
       "         5., 16.,  8.,  0.,  0., 11.,  4.,  0.,  0., 17., 16.,  8.]),\n",
       " 59: array([10.,  0.,  0.,  0.,  0.,  0., 15., 10.,  2.,  6.,  0.,  3.,  0.,\n",
       "         5., 16.,  8.,  0.,  0., 11.,  4.,  0.,  0., 17., 16.,  8.]),\n",
       " 60: array([23.,  2.,  0.,  0.,  0.,  0.,  0.,  0.,  0.,  0.,  4.,  0., 10.,\n",
       "         0.,  0.,  7.,  0., 38.,  9.,  4.,  0.,  0.,  2.,  4.,  0.]),\n",
       " 61: array([  9.,   7.,   0.,   0.,   0.,   8.,   8.,   6.,  12.,   0.,   0.,\n",
       "         17.,  21.,  34.,   0.,  79., 101.,  27.,  19.,  34.,  12.,   0.,\n",
       "         60.,  87.,   5.]),\n",
       " 62: array([61., 73., 29.,  0.,  0.,  0., 15., 37.,  3., 22., 18.,  0.,  4.,\n",
       "         6.,  0.,  6.,  4.,  0.,  0.,  4.,  3.,  0., 37.,  5.,  5.]),\n",
       " 63: array([105.,  53.,   0.,  10.,  10.,   0.,   5.,  31.,   0.,   0.,   7.,\n",
       "         10.,   5.,   6.,   5.,   4.,   5.,  13.,   0.,   0.,  21.,   5.,\n",
       "         31.,  13.,   3.]),\n",
       " 64: array([ 53., 150.,  34.,   8.,  16.,  48.,   2.,   0.,   0.,  52.,   0.,\n",
       "         19.,   0.,   4.,  12.,   4.,   0.,   0.,  14.,   0.,   4.,   0.,\n",
       "          0.,  14.,  24.]),\n",
       " 65: array([10.,  0.,  0.,  0.,  0.,  5.,  0.,  0., 15., 33.,  0.,  9.,  0.,\n",
       "        17.,  5.,  0.,  9., 22., 13.,  5., 14., 19.,  6.,  6.,  0.]),\n",
       " 66: array([ 4.,  0.,  0.,  0.,  5.,  0.,  0.,  0.,  0.,  0.,  0.,  0.,  0.,\n",
       "         0.,  0.,  0.,  0.,  0.,  0., 14.,  0.,  0.,  0.,  0.,  0.]),\n",
       " 67: array([ 9.,  0.,  0.,  0.,  0.,  0.,  0.,  0.,  0.,  8.,  0.,  0.,  9.,\n",
       "         0.,  0.,  9., 14.,  1.,  8.,  6., 11., 82.,  0.,  9., 30.]),\n",
       " 68: array([10.,  4.,  0., 13.,  3.,  0., 15.,  2.,  0.,  0.,  3.,  0.,  0.,\n",
       "         8.,  0.,  0.,  0.,  4., 15.,  0., 17.,  4.,  3.,  0.,  0.]),\n",
       " 69: array([ 6.,  0.,  0.,  0.,  0.,  0.,  0.,  8.,  0.,  0., 10., 16.,  0.,\n",
       "        39.,  0.,  5., 10.,  3.,  0.,  4.,  9.,  5., 15.,  9., 20.]),\n",
       " 70: array([ 6.,  0.,  0.,  0.,  0.,  0.,  0.,  8.,  0.,  0., 10., 16.,  0.,\n",
       "        39.,  0.,  5., 10.,  3.,  0.,  4.,  9.,  5., 15.,  9., 20.]),\n",
       " 71: array([ 6.,  0.,  0.,  0.,  0.,  0.,  0.,  8.,  0.,  0., 10., 16.,  0.,\n",
       "        39.,  0.,  5., 10.,  3.,  0.,  4.,  9.,  5., 15.,  9., 20.]),\n",
       " 72: array([ 2.,  0., 20.,  0.,  7.,  0.,  0.,  0.,  4.,  0.,  3.,  0.,  9.,\n",
       "         4.,  0.,  0.,  0.,  0.,  0.,  0., 17., 10.,  0.,  6.,  5.]),\n",
       " 73: array([36.,  0.,  0.,  0.,  5.,  0.,  0.,  0., 12.,  0.,  6.,  0.,  8.,\n",
       "        66., 11.,  5.,  5.,  9., 17.,  5.,  6.,  2., 24., 16., 14.]),\n",
       " 74: array([34.,  0.,  0.,  0.,  0.,  0.,  0.,  0.,  0.,  2.,  0.,  0.,  0.,\n",
       "         4.,  0.,  0.,  0.,  1., 13.,  0., 30.,  9., 36.,  2., 16.]),\n",
       " 75: array([37., 19.,  4.,  0.,  6.,  1.,  0.,  0., 12., 16., 21., 36., 18.,\n",
       "        16.,  5., 30., 16., 14., 14., 27., 19., 19., 11.,  9., 75.]),\n",
       " 76: array([  6.,   0.,   0.,   0.,  26.,   0.,  23.,   8.,  10.,  10.,   6.,\n",
       "          3.,   5.,  31.,  16.,  58.,  53., 100.,  25.,  45.,  21.,  40.,\n",
       "         25.,  30.,   8.]),\n",
       " 77: array([21.,  0.,  0.,  4.,  5.,  9.,  4., 11., 19., 15.,  0.,  6., 32.,\n",
       "        20., 16., 54., 36., 26., 23., 14.,  5., 23., 17., 33.,  0.]),\n",
       " 78: array([29.,  0.,  0.,  8.,  0.,  4.,  3.,  5., 22.,  0.,  0.,  6.,  0.,\n",
       "         0.,  0.,  6.,  2.,  5.,  5.,  0., 14., 10., 11., 16.,  4.]),\n",
       " 79: array([12.,  4., 14.,  0.,  0., 15.,  0., 17., 10., 18.,  8.,  7., 12.,\n",
       "         0.,  8., 26.,  7., 19.,  9., 25., 32., 21., 10., 10., 30.]),\n",
       " 80: array([12.,  4., 14.,  0.,  0., 15.,  0., 17., 10., 18.,  8.,  7., 12.,\n",
       "         0.,  8., 26.,  7., 19.,  9., 25., 32., 21., 10., 10., 30.]),\n",
       " 81: array([12.,  4., 14.,  0.,  0., 15.,  0., 17., 10., 18.,  8.,  7., 12.,\n",
       "         0.,  8., 26.,  7., 19.,  9., 25., 32., 21., 10., 10., 30.]),\n",
       " 82: array([ 38.,   0.,   8.,   0.,   0.,  17.,   6., 107.,  31.,  27.,   0.,\n",
       "          6.,   0.,   0.,   9.,   3.,   0.,   0.,  18.,   4.,   4.,   0.,\n",
       "          0.,   4.,   5.]),\n",
       " 83: array([7., 0., 0., 5., 0., 0., 0., 0., 0., 0., 0., 0., 0., 0., 0., 0., 0.,\n",
       "        0., 0., 0., 0., 0., 0., 0., 0.]),\n",
       " 84: array([ 1.,  0.,  0.,  0.,  4.,  0.,  1., 59.,  8.,  0.,  1.,  5., 14.,\n",
       "         0.,  9., 25.,  9.,  8.,  9., 29.,  0.,  9., 42.,  5., 36.]),\n",
       " 85: array([ 4.,  0.,  0.,  0.,  9., 13.,  5., 39., 19., 28.,  8., 24.,  6.,\n",
       "         6., 17., 55., 35.,  4., 15., 55., 10., 29.,  5.,  9., 34.]),\n",
       " 86: array([ 8.,  0.,  0.,  0.,  0.,  2.,  0.,  0.,  8.,  0.,  4.,  0.,  7.,\n",
       "        67., 14., 35., 25.,  7., 22., 33., 19., 29., 32., 14., 10.]),\n",
       " 87: array([14.,  0.,  0.,  0.,  0.,  0.,  0.,  0.,  0.,  0.,  0.,  0.,  0.,\n",
       "         0.,  0.,  0.,  0.,  6.,  2.,  0.,  0.,  0.,  0.,  0.,  0.]),\n",
       " 88: array([ 58.,   0.,  13.,   5.,   0.,   0.,  18., 116.,  46.,  55.,   6.,\n",
       "          0.,   8.,  12.,   0.,   7.,  42.,   0.,  47.,  14.,   4.,  25.,\n",
       "         38.,   3.,  12.]),\n",
       " 89: array([133.,  33.,   8.,  34.,   7.,   0.,   5.,  59.,  18.,  23.,  41.,\n",
       "         32.,  18.,  12.,  16.,  19.,  18.,   0.,   3.,  18.,   7.,  27.,\n",
       "         24.,   0.,  10.]),\n",
       " 90: array([ 6.,  0.,  0.,  0.,  0.,  0.,  4.,  9.,  0., 20.,  0.,  0.,  0.,\n",
       "         0.,  0.,  0.,  4.,  7.,  0.,  0.,  0.,  0.,  0.,  0.,  0.]),\n",
       " 91: array([1., 0., 0., 0., 0., 0., 0., 0., 0., 0., 0., 0., 0., 0., 0., 0., 0.,\n",
       "        0., 8., 0., 0., 0., 0., 0., 0.]),\n",
       " 92: array([24.,  0.,  0.,  2.,  0., 22.,  0.,  6.,  0.,  0.,  7.,  0.,  0.,\n",
       "         0.,  0.,  0.,  0.,  0.,  8.,  9., 22.,  0., 39., 27.,  0.]),\n",
       " 93: array([24.,  0.,  0.,  2.,  0., 22.,  0.,  6.,  0.,  0.,  7.,  0.,  0.,\n",
       "         0.,  0.,  0.,  0.,  0.,  8.,  9., 22.,  0., 39., 27.,  0.]),\n",
       " 94: array([10.,  0.,  0.,  0.,  3.,  5., 24., 30., 27.,  6.,  7.,  3.,  2.,\n",
       "        12.,  3., 21.,  6., 11., 25., 51., 21., 15.,  4.,  0.,  6.]),\n",
       " 95: array([ 46.,   0.,   0.,   0.,   6.,   4.,   7.,   5.,  36.,   5.,  14.,\n",
       "          4.,   8.,   0.,   0.,   7.,   5.,   0.,  14.,  22.,  25.,  30.,\n",
       "         28.,  73., 133.]),\n",
       " 96: array([72., 47., 39., 10., 10.,  0.,  5.,  0., 31.,  7., 10.,  0.,  2.,\n",
       "         5.,  4., 10.,  5.,  9.,  3.,  0.,  0., 24.,  2., 35., 10.]),\n",
       " 97: array([  4.,   5.,   0.,  19.,   0.,   0.,   7.,   0.,  12.,   0.,  43.,\n",
       "          6.,   0.,  21.,  87.,  26.,  67., 102.,  42.,  30.,  10.,  11.,\n",
       "         15.,  20.,  18.]),\n",
       " 98: array([ 4.,  5.,  0., 15.,  4.,  7.,  0.,  2.,  0., 10.,  9., 40., 10.,\n",
       "        45., 13., 59., 97., 85., 24., 20., 31., 12., 18., 14., 32.]),\n",
       " 99: array([ 6.,  0.,  0.,  0.,  0.,  0.,  0.,  0., 28.,  5.,  4.,  0.,  7.,\n",
       "         0.,  5., 13., 10.,  0., 21., 39.,  0.,  8.,  5., 15.,  0.]),\n",
       " 100: array([ 6.,  0.,  0.,  0.,  0.,  5.,  0.,  8.,  0.,  0.,  0.,  2.,  0.,\n",
       "         0.,  0.,  0.,  0.,  2.,  0.,  0.,  0.,  6., 16.,  0.,  3.]),\n",
       " 101: array([32.,  0.,  0.,  0.,  1.,  0.,  0.,  7.,  0.,  7.,  0.,  3.,  3.,\n",
       "        26.,  7.,  0.,  4.,  5.,  0.,  0.,  5.,  8.,  0., 40.,  3.]),\n",
       " 102: array([ 8.,  0.,  0.,  3.,  0.,  0.,  0.,  0.,  4.,  4.,  0.,  0.,  0.,\n",
       "         6.,  9., 14., 68., 21., 27., 13.,  0., 12.,  9.,  5.,  0.]),\n",
       " 103: array([ 6.,  0.,  0.,  6.,  0., 13.,  7., 43., 14., 33.,  5.,  0.,  0.,\n",
       "        21.,  6., 13., 10.,  1., 29.,  0., 47., 11.,  9., 14., 39.]),\n",
       " 104: array([ 6.,  0.,  0.,  6.,  0., 13.,  7., 43., 14., 33.,  5.,  0.,  0.,\n",
       "        21.,  6., 13., 10.,  1., 29.,  0., 47., 11.,  9., 14., 39.]),\n",
       " 105: array([ 6., 11.,  6.,  3.,  7.,  0., 11., 16.,  0.,  3., 12.,  5., 13.,\n",
       "         0.,  7.,  0.,  4., 20., 43.,  3.,  4.,  0.,  4., 11.,  1.]),\n",
       " 106: array([ 6., 11.,  6.,  3.,  7.,  0., 11., 16.,  0.,  3., 12.,  5., 13.,\n",
       "         0.,  7.,  0.,  4., 20., 43.,  3.,  4.,  0.,  4., 11.,  1.]),\n",
       " 107: array([ 7.,  0., 14.,  0.,  7.,  0.,  0.,  0.,  0., 10., 19.,  5., 17.,\n",
       "         0.,  5.,  8.,  7., 34., 24., 20.,  4.,  6., 23.,  4.,  0.]),\n",
       " 108: array([ 7.,  0., 14.,  0.,  7.,  0.,  0.,  0.,  0., 10., 19.,  5., 17.,\n",
       "         0.,  5.,  8.,  7., 34., 24., 20.,  4.,  6., 23.,  4.,  0.]),\n",
       " 109: array([ 7.,  0., 14.,  0.,  7.,  0.,  0.,  0.,  0., 10., 19.,  5., 17.,\n",
       "         0.,  5.,  8.,  7., 34., 24., 20.,  4.,  6., 23.,  4.,  0.]),\n",
       " 110: array([17.,  0.,  9.,  0.,  0.,  0.,  0., 30., 19.,  0.,  7.,  0., 14.,\n",
       "        18., 30.,  0.,  0.,  8.,  0.,  0.,  0.,  3.,  4.,  2., 13.]),\n",
       " 111: array([ 3.,  0.,  6.,  0.,  0.,  8., 14.,  8.,  5.,  3., 17.,  0., 17.,\n",
       "         9.,  0., 10., 10.,  6., 19.,  2., 15.,  8., 12., 18., 34.]),\n",
       " 112: array([ 9.,  0., 17.,  0.,  0., 21.,  0., 11.,  4., 10.,  7., 19., 28.,\n",
       "         0.,  0.,  0.,  0., 35., 32., 10., 12.,  9., 51., 34., 45.]),\n",
       " 113: array([ 9.,  0., 17.,  0.,  0., 21.,  0., 11.,  4., 10.,  7., 19., 28.,\n",
       "         0.,  0.,  0.,  0., 35., 32., 10., 12.,  9., 51., 34., 45.]),\n",
       " 114: array([ 5.,  0., 13.,  0.,  5., 11.,  0.,  0.,  0.,  0., 10.,  6.,  4.,\n",
       "         5., 12.,  0.,  0., 14., 12.,  3., 25.,  5., 10.,  0., 20.]),\n",
       " 115: array([ 2.,  0., 12.,  0., 12.,  7.,  0., 18.,  5.,  6.,  4.,  8., 60.,\n",
       "         3.,  0., 12.,  6., 12., 13.,  5., 28., 44., 53., 51.,  6.]),\n",
       " 116: array([ 4.,  0.,  0.,  6.,  0.,  6.,  4.,  0.,  7.,  6., 10.,  6.,  5.,\n",
       "         2.,  5.,  3.,  0.,  9.,  0., 13.,  3.,  0., 45.,  0., 12.]),\n",
       " 117: array([ 8.,  0.,  0., 13., 28.,  0., 19.,  3., 13.,  5.,  0.,  5.,  8.,\n",
       "        21., 17., 10.,  8., 12.,  7.,  6.,  0.,  0.,  9., 11.,  4.]),\n",
       " 118: array([ 8.,  0.,  0.,  5.,  0.,  7.,  0.,  6., 15.,  0.,  0.,  0.,  0.,\n",
       "        26., 11.,  0.,  0.,  4.,  0.,  0.,  0.,  9.,  0.,  5.,  1.]),\n",
       " 119: array([ 8.,  0.,  0.,  5.,  0.,  7.,  0.,  6., 15.,  0.,  0.,  0.,  0.,\n",
       "        26., 11.,  0.,  0.,  4.,  0.,  0.,  0.,  9.,  0.,  5.,  1.]),\n",
       " 120: array([ 8.,  0.,  0.,  5.,  0.,  7.,  0.,  6., 15.,  0.,  0.,  0.,  0.,\n",
       "        26., 11.,  0.,  0.,  4.,  0.,  0.,  0.,  9.,  0.,  5.,  1.]),\n",
       " 121: array([ 10.,   0.,   8.,   0.,   4.,  25.,   7.,  26.,   0.,  24.,  22.,\n",
       "          4.,   8.,   8.,  23.,  40.,  16.,  34.,  11.,  20.,  42., 135.,\n",
       "        100.,  67.,  50.]),\n",
       " 122: array([38., 12.,  0.,  0., 16.,  2., 14., 13.,  8.,  3.,  0., 10., 16.,\n",
       "         0.,  9.,  2., 24., 14., 11.,  9.,  7.,  7., 14.,  3.,  6.]),\n",
       " 123: array([ 6.,  0.,  0.,  0.,  0., 12.,  8., 17., 22., 35., 10., 35., 11.,\n",
       "         4., 60., 17., 20., 16., 37., 15., 23., 25., 10., 17., 21.]),\n",
       " 124: array([ 2.,  0., 12.,  0., 12.,  3.,  0.,  0.,  0.,  0.,  0.,  0.,  0.,\n",
       "         0., 21., 10.,  0.,  0.,  0.,  0.,  6.,  0.,  0.,  4.,  5.]),\n",
       " 125: array([21.,  0.,  0.,  0., 16.,  4.,  0.,  4.,  6.,  3., 11.,  0.,  2.,\n",
       "         7., 21., 11.,  8., 18.,  5.,  9.,  4.,  9.,  0.,  4.,  8.]),\n",
       " 126: array([50.,  0.,  0.,  0.,  5., 10., 12.,  0.,  6., 23.,  0.,  0.,  0.,\n",
       "        55., 24., 10.,  0.,  9.,  5., 20.,  4.,  0., 21.,  0., 12.]),\n",
       " 127: array([ 9.,  0.,  0.,  0.,  6., 18.,  0.,  5.,  0.,  4.,  6., 14.,  6.,\n",
       "         6.,  6.,  0.,  9.,  9.,  9., 66., 16.,  0., 10., 28., 16.]),\n",
       " 128: array([ 1.,  0.,  5.,  7., 16.,  0.,  5.,  9.,  4.,  4., 24., 10., 38.,\n",
       "         0., 10., 16.,  8.,  9.,  0.,  8.,  0., 14.,  0.,  0.,  6.]),\n",
       " 129: array([12.,  0.,  2.,  8.,  0.,  3.,  4.,  0., 10.,  0.,  9.,  4.,  2.,\n",
       "         6.,  0.,  0.,  7., 14.,  2.,  6.,  4.,  0.,  6., 11.,  0.]),\n",
       " 130: array([12.,  0.,  2.,  8.,  0.,  3.,  4.,  0., 10.,  0.,  9.,  4.,  2.,\n",
       "         6.,  0.,  0.,  7., 14.,  2.,  6.,  4.,  0.,  6., 11.,  0.]),\n",
       " 131: array([114.,  28.,  16.,  10.,  10.,   0.,   5.,  31.,   0.,   0.,  17.,\n",
       "          0.,   2.,   8.,   1.,   5.,  10.,  12.,   0.,   0.,   6.,  18.,\n",
       "         12.,  28.,   9.]),\n",
       " 132: array([114.,  28.,  16.,  10.,  10.,   0.,   5.,  31.,   0.,   0.,  17.,\n",
       "          0.,   2.,   8.,   1.,   5.,  10.,  12.,   0.,   0.,   6.,  18.,\n",
       "         12.,  28.,   9.]),\n",
       " 133: array([34., 21.,  4.,  4.,  0.,  0.,  1.,  0.,  5.,  2.,  0.,  0., 12.,\n",
       "         9., 11., 11., 15., 19., 16., 15.,  3., 20., 10., 21., 12.]),\n",
       " 134: array([ 5.,  1.,  8.,  0.,  0.,  0., 28.,  6.,  4., 14., 11.,  3., 54.,\n",
       "         3., 12.,  0.,  1.,  0., 31., 29., 56.,  9., 47., 17., 29.]),\n",
       " 135: array([81., 61., 16., 10., 10.,  0.,  5., 31.,  0.,  7., 10.,  0.,  2.,\n",
       "         5.,  4.,  5., 10., 12.,  0.,  0.,  6., 18.,  2., 38.,  7.]),\n",
       " 136: array([ 3.,  0.,  0.,  0.,  0.,  2.,  0.,  0.,  4., 26., 14.,  9.,  0.,\n",
       "         0.,  0.,  0., 30.,  3.,  4.,  0., 10., 16., 26., 13., 20.]),\n",
       " 137: array([ 3.,  0.,  6.,  9.,  7., 30.,  0.,  0.,  0.,  8.,  0.,  9.,  5.,\n",
       "         3.,  2.,  6.,  0., 20.,  0.,  0.,  2., 19.,  0., 19., 15.]),\n",
       " 138: array([ 9.,  0.,  0., 16.,  6.,  6.,  8., 13.,  1.,  0.,  0., 18.,  5.,\n",
       "         5., 21., 12., 26., 15., 12., 15.,  1., 79., 15.,  2., 15.]),\n",
       " 139: array([13.,  0.,  0.,  0., 13., 14.,  1., 11.,  0., 12.,  0., 10., 18.,\n",
       "         8.,  0., 19.,  7., 22., 14., 13.,  0.,  6.,  2., 17., 11.]),\n",
       " 140: array([ 8.,  0.,  0.,  0.,  4.,  0.,  0.,  6., 14.,  0.,  0.,  0.,  0.,\n",
       "         0.,  5.,  7., 13.,  0.,  0.,  0.,  0.,  5.,  6.,  7.,  0.]),\n",
       " 141: array([ 8.,  0.,  0.,  0.,  4.,  0.,  0.,  6., 14.,  0.,  0.,  0.,  0.,\n",
       "         0.,  5.,  7., 13.,  0.,  0.,  0.,  0.,  5.,  6.,  7.,  0.]),\n",
       " 142: array([ 4.,  0.,  0.,  4.,  6.,  5.,  5., 10.,  1.,  0., 21., 12.,  7.,\n",
       "         0.,  8.,  6.,  2.,  0., 23., 11., 13., 63., 22., 20., 13.]),\n",
       " 143: array([32.,  4., 18.,  0., 12.,  6., 23., 10., 28., 16., 41., 23., 56.,\n",
       "        12.,  7., 47., 16.,  9., 28.,  6., 71.,  7.,  6.,  6.,  1.]),\n",
       " 144: array([ 6.,  0.,  0.,  0.,  0.,  0.,  0.,  0.,  9.,  0., 16.,  6.,  0.,\n",
       "        15.,  0.,  0., 30., 13.,  0.,  6.,  2.,  0., 14., 26., 11.]),\n",
       " 145: array([ 6.,  0.,  0.,  0.,  0.,  0.,  0.,  0.,  9.,  0., 16.,  6.,  0.,\n",
       "        15.,  0.,  0., 30., 13.,  0.,  6.,  2.,  0., 14., 26., 11.]),\n",
       " 146: array([ 7.,  0.,  0.,  0.,  0., 15., 10.,  0.,  0.,  2., 14.,  0.,  6.,\n",
       "         0.,  8.,  7.,  1.,  6., 26., 43.,  4.,  7.,  4.,  6., 15.]),\n",
       " 147: array([ 4.,  0.,  0.,  3.,  2.,  0.,  0.,  7.,  0.,  0.,  0.,  0.,  0.,\n",
       "        12.,  1.,  0.,  3.,  0.,  0.,  0.,  0.,  0.,  0.,  0.,  0.]),\n",
       " 148: array([  9.,  18.,   3.,   0.,   3.,  19.,  26.,   2.,   5.,  16.,   0.,\n",
       "         11.,   9.,  10., 124.,  20.,   9.,  19.,  14.,   0.,   0.,  13.,\n",
       "          0.,  24.,  11.]),\n",
       " 149: array([13., 25.,  3., 16.,  0.,  5., 25., 12., 90., 28., 18., 19., 55.,\n",
       "         0.,  8.,  0.,  6.,  0., 16., 39., 32.,  8.,  8.,  0., 48.]),\n",
       " 150: array([13., 25.,  3., 16.,  0.,  5., 25., 12., 90., 28., 18., 19., 55.,\n",
       "         0.,  8.,  0.,  6.,  0., 16., 39., 32.,  8.,  8.,  0., 48.]),\n",
       " 151: array([ 9.,  0.,  0.,  3.,  0.,  0.,  0.,  0., 15.,  0., 25., 35.,  3.,\n",
       "        19.,  0., 24., 22.,  0., 18.,  0.,  1.,  0.,  4.,  7.,  7.]),\n",
       " 152: array([ 5.,  0.,  5.,  0.,  0.,  3., 10., 17.,  0., 11.,  0.,  7., 14.,\n",
       "         2.,  0.,  8.,  9.,  5.,  1., 11.,  0.,  5.,  5.,  0.,  0.]),\n",
       " 153: array([13.,  0.,  0.,  3., 14.,  5.,  0.,  4.,  0., 11.,  8.,  5.,  0.,\n",
       "        11., 10.,  4.,  4.,  9.,  0.,  8., 30., 12., 10., 15., 12.]),\n",
       " 154: array([  7.,   0.,   0.,   0.,   0.,   0.,  10.,   7.,   0.,   0.,   0.,\n",
       "         17.,  27.,  20.,   0.,   0.,   0.,  10.,  28.,  34.,   0.,  56.,\n",
       "        124.,  47.,   0.]),\n",
       " 155: array([18.,  0.,  2.,  8., 31.,  6., 12.,  0., 10., 11.,  0.,  2.,  2.,\n",
       "         4., 13., 28.,  5., 12.,  7.,  4.,  0., 19., 45.,  0.,  4.]),\n",
       " 156: array([ 4.,  0.,  0.,  2.,  3.,  0.,  6.,  8., 16.,  0., 20.,  4., 13.,\n",
       "         5., 13., 28.,  2.,  9., 15.,  9.,  3.,  0.,  9., 61., 10.]),\n",
       " 157: array([185.,  52.,  10.,  32.,  22.,  10.,   0.,   0.,  52.,   0.,  13.,\n",
       "          4.,   2.,   4.,  16.,   0.,   0.,   0.,  14.,   4.,   0.,  14.,\n",
       "          0.,  24.,  26.]),\n",
       " 158: array([ 17.,   0.,  59.,   0.,   0.,   0.,   5.,   0.,   0.,  45., 115.,\n",
       "         56.,  20.,   0.,   8.,   0.,  12.,   0.,  27.,  22.,  47.,  10.,\n",
       "         15.,  28.,  25.]),\n",
       " 159: array([ 17.,   0.,  59.,   0.,   0.,   0.,   5.,   0.,   0.,  45., 115.,\n",
       "         56.,  20.,   0.,   8.,   0.,  12.,   0.,  27.,  22.,  47.,  10.,\n",
       "         15.,  28.,  25.]),\n",
       " 160: array([ 10.,   0.,   8.,   0.,   4.,  25.,   7.,  26.,   0.,  24.,  22.,\n",
       "          4.,  14.,   2.,  23.,  40.,  16.,  29.,   5.,  31., 107.,  89.,\n",
       "         81.,  66.,  64.]),\n",
       " 161: array([ 10.,   0.,   8.,   0.,   4.,  25.,   7.,  26.,   0.,  24.,  22.,\n",
       "          4.,  14.,   2.,  23.,  40.,  16.,  29.,   5.,  31., 107.,  89.,\n",
       "         81.,  66.,  64.]),\n",
       " 162: array([ 2.,  0.,  0., 10.,  0.,  0.,  5.,  7., 13.,  5., 27., 36.,  7.,\n",
       "        10., 24.,  0.,  6.,  7., 14.,  1.,  0.,  0.,  0.,  4., 16.]),\n",
       " 163: array([  9.,   0.,   0.,  33., 120.,  21.,  48.,   0.,   0.,   0.,   0.,\n",
       "          0.,   2.,   0.,   5.,   0.,   5.,   2.,   3.,  21.,   0.,   1.,\n",
       "          0.,   0.,  39.]),\n",
       " 164: array([  9.,   0.,   0.,  33., 120.,  21.,  48.,   0.,   0.,   0.,   0.,\n",
       "          0.,   2.,   0.,   5.,   0.,   5.,   2.,   3.,  21.,   0.,   1.,\n",
       "          0.,   0.,  39.]),\n",
       " 165: array([  9.,   0.,   0.,  33., 120.,  21.,  48.,   0.,   0.,   0.,   0.,\n",
       "          0.,   2.,   0.,   5.,   0.,   5.,   2.,   3.,  21.,   0.,   1.,\n",
       "          0.,   0.,  39.]),\n",
       " 166: array([  9.,   0.,   0.,  33., 120.,  21.,  48.,   0.,   0.,   0.,   0.,\n",
       "          0.,   2.,   0.,   5.,   0.,   5.,   2.,   3.,  21.,   0.,   1.,\n",
       "          0.,   0.,  39.]),\n",
       " 167: array([ 8.,  0.,  0.,  4.,  0.,  0.,  0., 10.,  0.,  0.,  0.,  3.,  0.,\n",
       "         0., 11.,  6., 13.,  0., 38., 55.,  7.,  5.,  6., 25., 38.]),\n",
       " 168: array([ 7.,  8., 12.,  7.,  0., 17.,  9.,  0.,  0.,  4., 10.,  3.,  2.,\n",
       "         4.,  3., 19., 12.,  0.,  0.,  0.,  6., 13.,  0.,  4.,  3.]),\n",
       " 169: array([ 4.,  0.,  0.,  0.,  0.,  0.,  0.,  0.,  0.,  0.,  0.,  6.,  7.,\n",
       "        20., 16.,  4.,  6., 11.,  9., 17.,  6., 26.,  0.,  4.,  8.]),\n",
       " 170: array([30.,  0.,  0.,  5., 10., 23., 26., 76., 44.,  0., 17.,  0.,  0.,\n",
       "         5.,  4.,  0.,  0.,  4., 14.,  0., 11., 18., 15.,  7., 16.]),\n",
       " 171: array([29., 50., 95., 34.,  0.,  7., 12., 22., 15., 68., 53., 12., 24.,\n",
       "        17.,  7., 17.,  6., 15.,  6.,  8., 19., 31., 18.,  0., 24.]),\n",
       " 172: array([29., 50., 95., 34.,  0.,  7., 12., 22., 15., 68., 53., 12., 24.,\n",
       "        17.,  7., 17.,  6., 15.,  6.,  8., 19., 31., 18.,  0., 24.]),\n",
       " 173: array([29., 50., 95., 34.,  0.,  7., 12., 22., 15., 68., 53., 12., 24.,\n",
       "        17.,  7., 17.,  6., 15.,  6.,  8., 19., 31., 18.,  0., 24.]),\n",
       " 174: array([36.,  0.,  0.,  0.,  5.,  0.,  0.,  0., 12.,  0.,  6.,  0.,  8.,\n",
       "        56., 21.,  5.,  5.,  9.,  0., 22.,  6.,  2., 19., 17., 14.]),\n",
       " 175: array([12.,  2.,  0.,  0.,  4., 30., 13., 14., 15.,  6.,  6., 14.,  0.,\n",
       "        10., 18.,  8.,  3.,  9.,  0.,  0.,  0.,  4.,  0.,  0.,  2.]),\n",
       " 176: array([12.,  2.,  0.,  0.,  4., 30., 13., 14., 15.,  6.,  6., 14.,  0.,\n",
       "        10., 18.,  8.,  3.,  9.,  0.,  0.,  0.,  4.,  0.,  0.,  2.]),\n",
       " 177: array([12.,  2.,  0.,  0.,  4., 30., 13., 14., 15.,  6.,  6., 14.,  0.,\n",
       "        10., 18.,  8.,  3.,  9.,  0.,  0.,  0.,  4.,  0.,  0.,  2.]),\n",
       " 178: array([21.,  0.,  0.,  0., 16.,  4.,  0.,  4.,  6.,  3., 11.,  0.,  9.,\n",
       "         0., 21., 11.,  8., 18.,  5.,  9.,  4.,  9.,  0.,  4.,  8.]),\n",
       " 179: array([21.,  0.,  0.,  0., 16.,  4.,  0.,  4.,  6.,  3., 11.,  0.,  9.,\n",
       "         0., 21., 11.,  8., 18.,  5.,  9.,  4.,  9.,  0.,  4.,  8.]),\n",
       " 180: array([ 6.,  5.,  3.,  3., 20.,  7., 47.,  4.,  0., 12.,  7.,  7.,  1.,\n",
       "         0.,  3., 10.,  5.,  0.,  7.,  0., 24., 40., 18., 55., 21.]),\n",
       " 181: array([ 4.,  3.,  5., 11., 10.,  0.,  1., 10., 37., 29.,  1.,  0.,  0.,\n",
       "        12.,  3.,  0., 14.,  0.,  9.,  9.,  7.,  0., 18.,  0., 19.]),\n",
       " 182: array([ 33.,   4.,   0.,   0.,  10.,  12.,  14., 118.,  91.,  37.,   7.,\n",
       "         18.,  15.,  17.,   7.,   0.,  69.,   0.,  43.,  21.,  29.,  35.,\n",
       "         12.,   0.,  47.]),\n",
       " 183: array([12.,  0.,  2.,  6.,  0.,  2., 13.,  7.,  0.,  0., 30.,  6.,  6.,\n",
       "         3., 27., 14.,  0.,  7., 18.,  8.,  0.,  3.,  0.,  4.,  0.]),\n",
       " 184: array([ 9.,  0.,  2.,  0.,  2.,  4.,  0., 10.,  0.,  7.,  7.,  3., 15.,\n",
       "         6., 19., 11., 11., 25., 19.,  7.,  1., 14.,  4.,  0.,  6.]),\n",
       " 185: array([ 4.,  4.,  0.,  1., 23.,  1.,  8., 26.,  0.,  0., 29., 73., 11.,\n",
       "         6.,  0., 77., 32.,  7., 15., 21., 18., 13., 28., 27., 30.]),\n",
       " 186: array([ 7.,  0.,  3.,  5.,  0.,  0.,  0.,  3.,  0.,  0.,  7.,  0.,  0.,\n",
       "         7., 10., 10., 11.,  3.,  0.,  2.,  4.,  3.,  9.,  0.,  0.]),\n",
       " 187: array([19.,  0.,  0.,  6., 11.,  0.,  0., 11.,  9., 28., 46., 19.,  5.,\n",
       "        29., 23., 47., 59., 10., 18., 39., 37.,  0., 21.,  8.,  6.]),\n",
       " 188: array([13.,  0.,  0.,  0.,  0.,  3.,  0., 13.,  0.,  0.,  0.,  0.,  0.,\n",
       "         0.,  0.,  7.,  0.,  5.,  0.,  0.,  0.,  0.,  2.,  0.,  0.]),\n",
       " 189: array([12.,  3.,  0.,  0.,  2., 14., 19., 10.,  0., 10.,  4.,  2.,  4.,\n",
       "         9.,  1.,  2.,  0., 13.,  4.,  3., 12.,  0.,  0., 18.,  4.]),\n",
       " 190: array([13.,  1., 24.,  0.,  0., 26., 10.,  8.,  0.,  0., 27.,  0., 15.,\n",
       "         5.,  3.,  0.,  5.,  2., 23.,  2., 29., 13., 16.,  3., 23.]),\n",
       " 191: array([11.,  7.,  8.,  8.,  7.,  0., 19.,  3.,  1.,  0.,  2.,  4., 13.,\n",
       "         3., 24.,  0.,  0.,  7.,  4., 10.,  3.,  2.,  3.,  4.,  0.]),\n",
       " 192: array([ 5.,  0.,  0.,  6.,  0.,  9.,  0.,  6.,  8.,  0.,  0.,  5.,  0.,\n",
       "         0., 10., 20.,  0., 18., 13.,  0.,  3., 10., 21.,  9., 77.]),\n",
       " 193: array([ 5.,  0.,  0.,  0.,  0., 16., 11.,  0., 24., 53., 21., 22., 25.,\n",
       "         0., 27., 13., 37., 23., 21., 13.,  7., 20., 17.,  7., 34.]),\n",
       " 194: array([ 5.,  0.,  0.,  0.,  0.,  0., 65.,  0.,  0., 16.,  0.,  4.,  5.,\n",
       "        27.,  9.,  0., 29., 32.,  3., 18., 20., 11., 73., 31., 48.]),\n",
       " 195: array([ 41.,   9.,  25.,  31., 142.,  62.,   0.,  13.,   0.,  29.,  15.,\n",
       "         13.,   0.,   0.,   4.,   0.,  10.,  14.,  12.,  50.,  14.,   7.,\n",
       "          1.,   8.,   7.]),\n",
       " 196: array([ 9.,  0.,  5.,  0., 11.,  8.,  0.,  0.,  0.,  7.,  0.,  0., 19.,\n",
       "         0.,  0., 12.,  7., 26.,  0., 11.,  5.,  6., 33., 24.,  0.]),\n",
       " 197: array([ 7.,  0.,  0.,  4.,  0.,  0.,  9.,  0.,  0.,  0., 11.,  0.,  9.,\n",
       "         0.,  6.,  5., 10., 15., 12., 10.,  5.,  3.,  8.,  0.,  0.]),\n",
       " 198: array([22.,  0.,  0.,  0.,  0.,  0.,  0., 10.,  0.,  0.,  0.,  0.,  0.,\n",
       "         7.,  0., 16.,  0.,  0.,  0.,  4.,  0.,  0.,  0.,  0.,  0.]),\n",
       " 199: array([18., 20.,  3.,  0., 21., 10.,  0., 33., 81., 11., 38., 19., 49.,\n",
       "         6.,  0.,  8.,  2.,  4.,  0., 38., 17., 40.,  2.,  6.,  5.]),\n",
       " 200: array([ 4.,  0.,  0.,  0.,  0.,  0.,  0., 28.,  8.,  0.,  6., 21., 11.,\n",
       "        26., 69.,  6.,  9., 17.,  6.,  0.,  0., 20., 11., 11., 22.]),\n",
       " 201: array([ 5.,  0.,  6.,  5.,  0.,  0.,  2.,  7., 19.,  0.,  0.,  4.,  3.,\n",
       "         0., 11.,  4., 13.,  2.,  9., 12., 14.,  7., 20., 15., 15.]),\n",
       " 202: array([  7.,   0.,  28.,   5.,   7.,   0.,   8.,   9.,   5.,   8.,  10.,\n",
       "         29.,  15., 105.,  22.,  35.,  28.,  37.,  19.,  21.,  55.,  45.,\n",
       "         40.,  21.,  17.]),\n",
       " 203: array([38., 12.,  0.,  5., 11.,  2., 14., 13.,  5.,  6.,  0., 10., 16.,\n",
       "         0.,  9.,  2., 24., 14., 11.,  9.,  7.,  7., 14.,  3.,  2.]),\n",
       " 204: array([38., 12.,  0.,  5., 11.,  2., 14., 13.,  5.,  6.,  0., 10., 16.,\n",
       "         0.,  9.,  2., 24., 14., 11.,  9.,  7.,  7., 14.,  3.,  2.]),\n",
       " 205: array([ 4.,  0.,  3.,  0.,  5., 15.,  6., 13.,  4.,  0.,  0.,  4., 22.,\n",
       "         0., 10., 21.,  0.,  0., 17.,  4., 38.,  6.,  0., 10., 21.]),\n",
       " 206: array([ 4.,  0.,  3.,  0.,  5., 15.,  6., 13.,  4.,  0.,  0.,  4., 22.,\n",
       "         0., 10., 21.,  0.,  0., 17.,  4., 38.,  6.,  0., 10., 21.]),\n",
       " 207: array([ 10.,   0.,   2.,   4.,   0.,  10.,  15.,  17.,   8.,  14.,   6.,\n",
       "          9.,  10.,   3.,  11.,   0.,  13.,   8.,  14.,  28.,  83., 104.,\n",
       "          3.,   5.,  10.]),\n",
       " 208: array([13.,  0.,  0., 20.,  6.,  6., 14., 43., 17.,  1.,  4., 26.,  5.,\n",
       "        24., 20.,  0.,  9.,  8., 33., 27.,  0., 37., 29., 35., 18.]),\n",
       " 209: array([ 6.,  0.,  0.,  0.,  0.,  0.,  0.,  6.,  7.,  1., 14., 22.,  9.,\n",
       "         4., 10.,  0., 11.,  0., 11., 11.,  0., 19.,  7.,  9.,  2.]),\n",
       " 210: array([54., 21., 57.,  0., 22.,  0.,  0.,  2., 33.,  8., 11., 27., 23.,\n",
       "        31., 15., 14., 61., 48.,  5., 18.,  7.,  4., 26.,  7.,  1.]),\n",
       " 211: array([5., 0., 0., 0., 2., 8., 0., 0., 0., 0., 0., 0., 0., 0., 0., 0., 0.,\n",
       "        0., 0., 0., 0., 0., 0., 0., 0.]),\n",
       " 212: array([39.,  0.,  9.,  0.,  0.,  0., 22.,  2.,  0.,  2., 10.,  9., 33.,\n",
       "        12., 87., 27., 29., 54., 19., 31.,  6., 21., 10.,  6., 29.]),\n",
       " 213: array([39.,  0.,  9.,  0.,  0.,  0., 22.,  2.,  0.,  2., 10.,  9., 33.,\n",
       "        12., 87., 27., 29., 54., 19., 31.,  6., 21., 10.,  6., 29.]),\n",
       " 214: array([ 0.,  0.,  0.,  0.,  0.,  0., 12.,  0.,  0.,  0.,  0.,  5.,  0.,\n",
       "         0.,  0., 17.,  2.,  0.,  1.,  0.,  0., 10.,  0., 28., 91.]),\n",
       " 215: array([ 5.,  0.,  0.,  5.,  2.,  0., 10., 11., 29.,  5., 14., 27., 20.,\n",
       "         9.,  0., 12.,  4.,  3.,  0.,  8., 12.,  3.,  8.,  4.,  1.]),\n",
       " 216: array([18.,  2.,  2.,  0.,  0., 12.,  3.,  0.,  0.,  0.,  0.,  0.,  8.,\n",
       "         0.,  0.,  0.,  0.,  0., 10.,  7.,  0.,  0.,  7.,  7., 26.]),\n",
       " 217: array([18.,  2.,  2.,  0.,  0., 12.,  3.,  0.,  0.,  0.,  0.,  0.,  8.,\n",
       "         0.,  0.,  0.,  0.,  0., 10.,  7.,  0.,  0.,  7.,  7., 26.]),\n",
       " 218: array([ 8.,  3.,  0.,  7.,  6.,  9., 15.,  7., 11.,  3.,  7.,  7.,  0.,\n",
       "        12., 24.,  8., 44.,  0.,  9.,  5.,  7.,  0.,  1.,  0., 15.]),\n",
       " 219: array([16.,  0.,  0.,  0.,  0., 10.,  4., 20.,  9., 15.,  0., 16., 16.,\n",
       "        16.,  6.,  5., 31., 19.,  7., 61., 28.,  9., 12., 55., 13.]),\n",
       " 220: array([16.,  0.,  0.,  0.,  0., 10.,  4., 20.,  9., 15.,  0., 16., 16.,\n",
       "        16.,  6.,  5., 31., 19.,  7., 61., 28.,  9., 12., 55., 13.]),\n",
       " 221: array([  7.,   4.,   0.,   6.,   0.,   0.,   0.,   0.,   0.,   8.,   0.,\n",
       "         18.,   0.,  48., 116., 108.,  19.,  23.,  36.,  12.,   0.,   0.,\n",
       "          0.,   7.,   0.]),\n",
       " 222: array([101., 114.,  22.,   8.,  24.,  40.,   2.,   0.,  45.,   7.,  17.,\n",
       "          2.,   0.,  12.,   4.,   4.,   0.,  14.,   0.,   0.,   4.,   0.,\n",
       "         14.,   0.,  24.]),\n",
       " 223: array([101., 114.,  22.,   8.,  24.,  40.,   2.,   0.,  45.,   7.,  17.,\n",
       "          2.,   0.,  12.,   4.,   4.,   0.,  14.,   0.,   0.,   4.,   0.,\n",
       "         14.,   0.,  24.]),\n",
       " 224: array([17., 10.,  0.,  3.,  0.,  3.,  6., 19., 22.,  5.,  0., 16.,  0.,\n",
       "        20.,  4., 61., 81.,  8., 28.,  0., 21.,  0.,  0.,  6., 22.]),\n",
       " 225: array([ 7.,  0.,  0.,  7.,  0.,  6., 23.,  0.,  3.,  0.,  0.,  0.,  6.,\n",
       "        16.,  4.,  8.,  4.,  0., 16.,  0.,  8.,  6., 24., 36.,  4.]),\n",
       " 226: array([ 3.,  0.,  0., 22.,  0.,  0.,  0.,  0.,  5., 13., 12., 20.,  3.,\n",
       "        10.,  9., 10., 42., 28., 55., 34., 16.,  8., 25., 32., 17.]),\n",
       " 227: array([ 9.,  0.,  0.,  0.,  0.,  0.,  5., 10.,  0.,  0.,  0., 11., 16.,\n",
       "        26., 17.,  4.,  9.,  0.,  4.,  6.,  4., 10.,  5.,  0.,  2.]),\n",
       " 228: array([ 9.,  0.,  0.,  0.,  0.,  0.,  5., 10.,  0.,  0.,  0., 11., 16.,\n",
       "        26., 17.,  4.,  9.,  0.,  4.,  6.,  4., 10.,  5.,  0.,  2.]),\n",
       " 229: array([ 7.,  0.,  0.,  1.,  3.,  0.,  0.,  0.,  0.,  0.,  8.,  4.,  0.,\n",
       "         0., 30.,  0.,  0.,  4.,  0.,  6.,  0.,  0., 12.,  5.,  0.]),\n",
       " 230: array([ 8.,  0.,  5.,  0.,  0.,  0.,  0., 18., 10., 13.,  4., 18.,  3.,\n",
       "        14.,  0., 14.,  0., 20., 16., 14.,  0., 14.,  6.,  0.,  0.]),\n",
       " 231: array([ 8.,  0.,  5.,  0.,  0.,  0.,  0., 18., 10., 13.,  4., 18.,  3.,\n",
       "        14.,  0., 14.,  0., 20., 16., 14.,  0., 14.,  6.,  0.,  0.]),\n",
       " 232: array([37.,  0.,  4.,  0.,  0., 10.,  0.,  0.,  0.,  0.,  0.,  4.,  0.,\n",
       "         0.,  3.,  0., 11., 24.,  0.,  0.,  0.,  0.,  0.,  4.,  0.]),\n",
       " 233: array([37.,  0.,  4.,  0.,  0., 10.,  0.,  0.,  0.,  0.,  0.,  4.,  0.,\n",
       "         0.,  3.,  0., 11., 24.,  0.,  0.,  0.,  0.,  0.,  4.,  0.]),\n",
       " 234: array([163.,  74.,  18.,  24.,  22.,  10.,   0.,   0.,  41.,  11.,  13.,\n",
       "          0.,   6.,   0.,  12.,   8.,   0.,   0.,  18.,   0.,   0.,  14.,\n",
       "          3.,  47.,   0.]),\n",
       " 235: array([163.,  74.,  18.,  24.,  22.,  10.,   0.,   0.,  41.,  11.,  13.,\n",
       "          0.,   6.,   0.,  12.,   8.,   0.,   0.,  18.,   0.,   0.,  14.,\n",
       "          3.,  47.,   0.]),\n",
       " 236: array([ 3.,  0., 10.,  0.,  3.,  2.,  0., 12.,  7.,  1.,  6.,  0.,  0.,\n",
       "         5.,  5.,  6.,  2., 14.,  2., 15.,  0.,  5., 15.,  5.,  0.]),\n",
       " 237: array([10.,  0.,  0.,  0.,  0.,  0.,  0.,  0.,  0.,  0.,  0.,  0.,  0.,\n",
       "         0.,  0.,  0.,  0., 12.,  0., 11.,  0.,  5., 25.,  7.,  0.]),\n",
       " 238: array([7., 0., 0., 0., 0., 6., 0., 0., 0., 2., 0., 0., 0., 0., 0., 0., 0.,\n",
       "        0., 0., 0., 0., 0., 0., 0., 0.]),\n",
       " 239: array([11.,  0.,  2.,  0.,  0.,  0.,  8., 14.,  0.,  3.,  0.,  0., 12.,\n",
       "         5.,  7.,  8.,  2.,  0.,  0.,  2.,  0.,  0.,  1.,  8., 35.]),\n",
       " 240: array([ 9.,  0.,  4.,  0.,  0.,  2.,  2., 13.,  0.,  0.,  7.,  1.,  5.,\n",
       "        14.,  0.,  5.,  0.,  1.,  9.,  4., 11., 14.,  7.,  0.,  6.]),\n",
       " 241: array([ 4.,  0.,  0.,  6.,  1.,  0.,  2.,  0.,  3.,  0.,  0.,  7.,  2.,\n",
       "        16.,  0., 17.,  0.,  0.,  5.,  0.,  8.,  4.,  2.,  5., 14.]),\n",
       " 242: array([ 4.,  0.,  0.,  6.,  1.,  0.,  2.,  0.,  3.,  0.,  0.,  7.,  2.,\n",
       "        16.,  0., 17.,  0.,  0.,  5.,  0.,  8.,  4.,  2.,  5., 14.]),\n",
       " 243: array([24., 63., 28., 17., 22.,  0.,  2.,  0., 35.,  6., 20., 18., 25.,\n",
       "        26., 15., 10., 56., 59.,  9.,  3., 12., 20., 22.,  2.,  4.]),\n",
       " 244: array([ 2.,  0.,  5.,  0., 15.,  0.,  0.,  5., 13., 20.,  0.,  9., 17.,\n",
       "        21.,  0.,  9.,  0., 13., 16., 14.,  9.,  4., 17.,  8.,  0.]),\n",
       " 245: array([ 3.,  0.,  2.,  7.,  0.,  0., 10.,  2., 12., 10.,  0.,  0.,  5.,\n",
       "         8.,  6.,  6., 15.,  0., 12., 59.,  0., 23., 37., 19.,  6.]),\n",
       " 246: array([15.,  0.,  0., 10.,  0.,  0., 20.,  0., 13., 10.,  9.,  6.,  2.,\n",
       "        11.,  5., 60., 12., 24., 10., 60.,  5., 16., 14., 23., 10.]),\n",
       " 247: array([ 2.,  0.,  0.,  5.,  0.,  0.,  0., 15., 11., 19., 21.,  7.,  4.,\n",
       "        10.,  0.,  3.,  0.,  3.,  0., 13.,  3., 10.,  0.,  0.,  0.]),\n",
       " 248: array([59., 75., 29.,  0.,  0.,  0., 15., 32., 15., 15.,  0., 18.,  4.,\n",
       "         6.,  0.,  6.,  4.,  0.,  0.,  4.,  3.,  0., 37.,  5.,  5.]),\n",
       " 249: array([200.,  37.,   8.,  16.,  40.,  10.,   0.,   0.,  52.,   0.,  13.,\n",
       "          4.,   2.,   4.,  16.,   0.,   0.,   0.,  14.,   4.,   0.,   0.,\n",
       "         14.,  24.,  26.]),\n",
       " 250: array([200.,  37.,   8.,  16.,  40.,  10.,   0.,   0.,  52.,   0.,  13.,\n",
       "          4.,   2.,   4.,  16.,   0.,   0.,   0.,  14.,   4.,   0.,   0.,\n",
       "         14.,  24.,  26.]),\n",
       " 251: array([ 3.,  0.,  0., 15.,  0., 10.,  8., 13.,  0.,  6.,  0., 47., 14.,\n",
       "         3.,  0., 22., 13.,  7.,  0.,  4.,  0., 11.,  0.,  6.,  0.]),\n",
       " 252: array([16.,  0.,  5.,  0.,  0.,  0.,  3.,  0.,  9., 12.,  5.,  0.,  4.,\n",
       "        10.,  4.,  0.,  0., 30.,  0.,  3., 15.,  7.,  3.,  3.,  5.]),\n",
       " 253: array([19.,  0.,  0.,  0.,  0.,  0.,  0.,  0.,  7.,  0.,  0.,  2.,  9.,\n",
       "         0.,  0.,  0.,  0.,  4.,  0.,  0.,  0.,  0.,  7.,  9.,  3.]),\n",
       " 254: array([ 35., 116.,  41.,  16.,   7.,   0.,   0.,  39.,   6.,  72.,  53.,\n",
       "         13.,  23.,  12.,  12.,  23.,   0.,  11.,  10.,   8.,   8.,  30.,\n",
       "         20.,  10.,   0.]),\n",
       " 255: array([20., 35.,  4.,  0.,  4.,  0.,  5.,  0.,  1.,  2.,  7.,  0.,  0.,\n",
       "        17., 12., 11., 25., 10.,  3., 18., 17., 13., 10., 24.,  2.]),\n",
       " 256: array([ 2., 16.,  0.,  0.,  0., 11.,  0.,  0.,  0.,  1., 19.,  0., 11.,\n",
       "         0.,  0.,  4.,  5.,  4., 17., 11.,  4.,  3.,  7.,  2.,  5.]),\n",
       " 257: array([17.,  0.,  0., 59.,  0.,  0.,  0.,  5.,  0., 13., 92., 70., 55.,\n",
       "         6.,  8.,  0., 11.,  1.,  7., 42., 11., 36., 14., 11., 28.]),\n",
       " 258: array([ 7.,  7.,  5.,  3.,  8., 14.,  4., 47., 12.,  3.,  0.,  5.,  3.,\n",
       "         4.,  3.,  5., 10.,  0.,  0., 12.,  8.,  0., 31., 62., 10.]),\n",
       " 259: array([ 2.,  0.,  0.,  7.,  0.,  0.,  0.,  0.,  0.,  0.,  0.,  7.,  0.,\n",
       "         1.,  0.,  3., 12.,  0.,  0.,  0.,  0.,  0.,  0.,  0.,  0.]),\n",
       " 260: array([ 58.,   0.,  13.,   5.,   0.,   0.,  18., 106.,  56.,  49.,   6.,\n",
       "          6.,   0.,  20.,   0.,   0.,  49.,   0.,  47.,  10.,   8.,  25.,\n",
       "         38.,   0.,   7.]),\n",
       " 261: array([ 58.,   0.,  13.,   5.,   0.,   0.,  18., 106.,  56.,  49.,   6.,\n",
       "          6.,   0.,  20.,   0.,   0.,  49.,   0.,  47.,  10.,   8.,  25.,\n",
       "         38.,   0.,   7.]),\n",
       " 262: array([ 58.,   0.,  13.,   5.,   0.,   0.,  18., 106.,  56.,  49.,   6.,\n",
       "          6.,   0.,  20.,   0.,   0.,  49.,   0.,  47.,  10.,   8.,  25.,\n",
       "         38.,   0.,   7.]),\n",
       " 263: array([ 58.,   0.,  13.,   5.,   0.,   0.,  18., 106.,  56.,  49.,   6.,\n",
       "          6.,   0.,  20.,   0.,   0.,  49.,   0.,  47.,  10.,   8.,  25.,\n",
       "         38.,   0.,   7.]),\n",
       " 264: array([ 58.,   0.,  13.,   5.,   0.,   0.,  18., 106.,  56.,  49.,   6.,\n",
       "          6.,   0.,  20.,   0.,   0.,  49.,   0.,  47.,  10.,   8.,  25.,\n",
       "         38.,   0.,   7.]),\n",
       " 265: array([ 58.,   0.,  13.,   5.,   0.,   0.,  18., 106.,  56.,  49.,   6.,\n",
       "          6.,   0.,  20.,   0.,   0.,  49.,   0.,  47.,  10.,   8.,  25.,\n",
       "         38.,   0.,   7.]),\n",
       " 266: array([ 58.,   0.,  13.,   5.,   0.,   0.,  18., 106.,  56.,  49.,   6.,\n",
       "          6.,   0.,  20.,   0.,   0.,  49.,   0.,  47.,  10.,   8.,  25.,\n",
       "         38.,   0.,   7.]),\n",
       " 267: array([ 58.,   0.,  13.,   5.,   0.,   0.,  18., 106.,  56.,  49.,   6.,\n",
       "          6.,   0.,  20.,   0.,   0.,  49.,   0.,  47.,  10.,   8.,  25.,\n",
       "         38.,   0.,   7.]),\n",
       " 268: array([ 3.,  0.,  0.,  0.,  2.,  3.,  0.,  0.,  0., 29., 22., 23., 23.,\n",
       "         0., 18., 26.,  5.,  7.,  0., 25., 10., 23.,  7.,  9., 54.]),\n",
       " 269: array([  8.,   0.,   0.,   0.,   0.,   0.,   1.,   0.,   0.,   2.,   0.,\n",
       "          0.,   0.,   5.,   0.,   0.,   0., 120.,   6.,  62.,  32.,  17.,\n",
       "          5.,  17.,  37.]),\n",
       " 270: array([  8.,   0.,   0.,   0.,   0.,   0.,   1.,   0.,   0.,   2.,   0.,\n",
       "          0.,   0.,   5.,   0.,   0.,   0., 120.,   6.,  62.,  32.,  17.,\n",
       "          5.,  17.,  37.]),\n",
       " 271: array([  8.,   0.,   0.,   0.,   0.,   0.,   1.,   0.,   0.,   2.,   0.,\n",
       "          0.,   0.,   5.,   0.,   0.,   0., 120.,   6.,  62.,  32.,  17.,\n",
       "          5.,  17.,  37.]),\n",
       " 272: array([  6.,  15.,  19.,   7.,  29.,  10.,  32.,  26.,  16.,  18., 103.,\n",
       "         19.,  22.,   0.,  20.,  12.,  16.,  10.,  24.,   8.,  33.,  35.,\n",
       "         25.,   0.,  14.]),\n",
       " 273: array([83., 75.,  0., 10., 10.,  0.,  5., 31.,  0.,  0.,  7., 10.,  5.,\n",
       "         6.,  5.,  4.,  8., 10.,  0.,  6., 15.,  5., 35.,  9.,  2.]),\n",
       " 274: array([12.,  0.,  0.,  0.,  0.,  0.,  0., 14.,  7.,  0.,  0.,  0.,  3.,\n",
       "         0.,  0.,  0.,  0.,  0.,  0.,  0.,  0.,  0.,  5.,  0.,  0.]),\n",
       " 275: array([18.,  2.,  0., 26., 13.,  1., 17.,  0., 10., 11.,  0.,  2.,  0.,\n",
       "        19., 12.,  8., 13., 19.,  0.,  4.,  0., 28., 36.,  0.,  0.]),\n",
       " 276: array([ 3.,  0.,  0.,  0.,  4.,  3.,  4.,  0., 26.,  0.,  0.,  0., 10.,\n",
       "         0.,  5.,  4., 21.,  0.,  0.,  0.,  1.,  7.,  8.,  5.,  0.]),\n",
       " 277: array([ 7.,  0.,  8.,  0.,  0., 15., 52.,  0., 13.,  0.,  0.,  8., 25.,\n",
       "         4.,  4.,  0.,  9., 39., 16., 26., 19., 11.,  8., 18.,  8.]),\n",
       " 278: array([ 7.,  0.,  8.,  0.,  0., 15., 52.,  0., 13.,  0.,  0.,  8., 25.,\n",
       "         4.,  4.,  0.,  9., 39., 16., 26., 19., 11.,  8., 18.,  8.]),\n",
       " 279: array([13.,  0., 18.,  8.,  6.,  0., 33.,  0.,  0.,  0.,  4., 27.,  8.,\n",
       "         0., 13., 20.,  3.,  2.,  6.,  6.,  0.,  0.,  7.,  0.,  0.]),\n",
       " 280: array([  1.,   3.,   7.,   3.,   3.,   0.,   0.,  17.,  13.,   6.,  17.,\n",
       "          3.,  21.,   6.,   4.,  10.,   9.,   0.,   1.,  20.,   5.,  17.,\n",
       "          0.,   5., 107.]),\n",
       " 281: array([ 1.,  0., 22.,  0.,  8., 11.,  0.,  0.,  9.,  0.,  0.,  4.,  9.,\n",
       "         0., 34.,  4., 18., 20.,  5.,  0., 12., 22., 38.,  8., 26.]),\n",
       " 282: array([ 4.,  0., 14.,  3., 13., 14.,  0.,  4.,  0.,  0., 16.,  9.,  3.,\n",
       "         3.,  0.,  5., 12.,  0.,  0.,  6.,  8.,  8.,  0.,  4., 17.]),\n",
       " 283: array([140., 105.,  10.,  36.,  12.,   8.,   0.,  13.,  39.,   0.,  13.,\n",
       "          0.,   6.,   4.,   8.,   8.,   0.,   0.,  18.,   0.,   0.,  14.,\n",
       "          8.,  42.,   0.]),\n",
       " 284: array([140., 105.,  10.,  36.,  12.,   8.,   0.,  13.,  39.,   0.,  13.,\n",
       "          0.,   6.,   4.,   8.,   8.,   0.,   0.,  18.,   0.,   0.,  14.,\n",
       "          8.,  42.,   0.]),\n",
       " 285: array([ 3., 13., 10.,  4.,  0., 11., 21.,  8.,  0., 15., 20., 12.,  0.,\n",
       "         0.,  9., 19., 14., 19., 33.,  0., 41., 22.,  8., 42., 53.]),\n",
       " 286: array([10.,  0.,  0.,  0.,  0.,  0.,  0.,  0.,  0.,  0.,  0.,  0.,  0.,\n",
       "         0., 12.,  0.,  0.,  0., 16.,  0., 10.,  0.,  0.,  5.,  7.]),\n",
       " 287: array([ 5.,  0., 11., 15.,  4., 39., 32.,  3., 14., 49., 43., 12., 23.,\n",
       "        34.,  7.,  0.,  4., 26., 27., 20., 28., 30.,  5.,  6., 10.]),\n",
       " 288: array([11.,  0.,  0.,  0.,  0.,  7.,  0.,  0.,  0.,  0.,  0.,  0.,  0.,\n",
       "         5.,  2.,  0.,  3., 11.,  0.,  0.,  0.,  0.,  0.,  0.,  0.]),\n",
       " 289: array([ 13.,   0.,   0.,   0.,   4.,   0.,   0.,   0.,   0.,   0.,  30.,\n",
       "         27.,   0.,  14.,   0.,  13.,   0.,  55., 179.,  44.,  42.,   6.,\n",
       "          0.,  14.,   7.]),\n",
       " 290: array([56.,  0.,  0.,  4.,  1.,  6.,  0.,  6.,  8., 14., 25., 29., 25.,\n",
       "        12., 23., 12., 16., 20.,  4., 41., 14., 25.,  2.,  7., 36.]),\n",
       " 291: array([ 6.,  0.,  0.,  0.,  0.,  5.,  0.,  5.,  3.,  0.,  0.,  0.,  2.,\n",
       "         0.,  0.,  0.,  0.,  0.,  2.,  0.,  0.,  6.,  4., 12.,  0.]),\n",
       " 292: array([ 7.,  0.,  0.,  0.,  0.,  0.,  0., 30.,  8., 17., 35.,  5., 27.,\n",
       "         0.,  2., 16., 35., 16., 12., 52., 10.,  0.,  6., 23.,  9.]),\n",
       " 293: array([ 33.,   1.,  47., 117.,  10.,   0.,   5.,  27.,  22.,  63.,   0.,\n",
       "         31.,  29.,  53.,   0.,   8.,   9.,   6.,   7.,  16.,  13.,   0.,\n",
       "          8.,  19.,  37.]),\n",
       " 294: array([ 4.,  9.,  0.,  0.,  3.,  0.,  9.,  0.,  0.,  0.,  0.,  0.,  0.,\n",
       "         8.,  0.,  7.,  0.,  0., 11., 10.,  0.,  9., 13.,  8., 17.]),\n",
       " 295: array([19.,  0.,  0.,  0., 17.,  0.,  0., 11.,  9., 31., 43., 19.,  5.,\n",
       "        29., 15., 55., 59., 14., 14., 36., 40.,  0., 21.,  8.,  6.]),\n",
       " 296: array([132., 113.,   3.,  43.,  12.,   0.,   8.,   0.,  20.,  32.,   0.,\n",
       "         13.,   6.,   0.,   8.,  12.,   0.,   0.,  18.,   0.,   0.,  14.,\n",
       "          3.,  47.,   0.]),\n",
       " 297: array([132., 113.,   3.,  43.,  12.,   0.,   8.,   0.,  20.,  32.,   0.,\n",
       "         13.,   6.,   0.,   8.,  12.,   0.,   0.,  18.,   0.,   0.,  14.,\n",
       "          3.,  47.,   0.]),\n",
       " 298: array([132., 113.,   3.,  43.,  12.,   0.,   8.,   0.,  20.,  32.,   0.,\n",
       "         13.,   6.,   0.,   8.,  12.,   0.,   0.,  18.,   0.,   0.,  14.,\n",
       "          3.,  47.,   0.]),\n",
       " 299: array([ 5.,  0.,  4.,  6., 16.,  5.,  8.,  6.,  0., 25., 12.,  5.,  5.,\n",
       "        10.,  0.,  4., 26.,  0., 13., 59., 74., 56.,  4., 31., 32.]),\n",
       " 300: array([10.,  0.,  0.,  0.,  2.,  8., 15., 30.,  0.,  0.,  5., 12.,  4.,\n",
       "        13.,  6., 12., 10.,  0.,  9.,  5., 31., 42., 93., 78., 13.]),\n",
       " 301: array([ 7., 18.,  3., 14.,  0.,  0.,  0.,  0.,  6., 36.,  4.,  0.,  0.,\n",
       "        14.,  4., 13., 11.,  0.,  4., 16.,  3.,  2., 12.,  0.,  7.]),\n",
       " 302: array([13.,  0.,  5.,  0., 22.,  0.,  0., 12.,  5.,  7.,  3.,  0.,  9.,\n",
       "         7.,  0.,  0.,  5.,  9.,  4., 13.,  0.,  0.,  0., 10., 16.]),\n",
       " 303: array([13.,  0.,  5.,  0., 22.,  0.,  0., 12.,  5.,  7.,  3.,  0.,  9.,\n",
       "         7.,  0.,  0.,  5.,  9.,  4., 13.,  0.,  0.,  0., 10., 16.]),\n",
       " 304: array([10.,  0.,  0.,  0.,  0., 29.,  0.,  0.,  7.,  0.,  3.,  0., 18.,\n",
       "         3., 13.,  7.,  3., 38.,  6.,  0., 41.,  5., 27., 16.,  0.]),\n",
       " 305: array([ 9.,  0.,  0.,  0.,  0., 33.,  0.,  6.,  3., 20.,  4., 26., 14.,\n",
       "        15.,  9.,  0.,  8., 31., 11., 53., 33.,  5.,  2., 20., 24.]),\n",
       " 306: array([ 5.,  0.,  5.,  0.,  0.,  0.,  9.,  0.,  0.,  3.,  0., 28.,  0.,\n",
       "         7., 12.,  0., 10., 28., 19.,  0.,  9.,  0., 16.,  0.,  9.]),\n",
       " 307: array([ 8.,  0.,  9.,  0.,  0.,  5.,  0., 10.,  3., 21., 25., 31., 41.,\n",
       "         4., 57., 18., 35., 19.,  1., 32., 33., 81., 21., 70.,  4.]),\n",
       " 308: array([ 8.,  0.,  9.,  0.,  0.,  5.,  0., 10.,  3., 21., 25., 31., 41.,\n",
       "         4., 57., 18., 35., 19.,  1., 32., 33., 81., 21., 70.,  4.]),\n",
       " 309: array([ 8.,  0.,  9.,  0.,  0.,  5.,  0., 10.,  3., 21., 25., 31., 41.,\n",
       "         4., 57., 18., 35., 19.,  1., 32., 33., 81., 21., 70.,  4.]),\n",
       " 310: array([ 3.,  0.,  0.,  5., 25.,  0.,  5.,  0.,  3.,  8., 89.,  0., 22.,\n",
       "        13., 34., 66., 82., 46., 34., 15., 11., 33., 10., 29., 25.])}"
      ]
     },
     "execution_count": 392,
     "metadata": {},
     "output_type": "execute_result"
    }
   ],
   "source": [
    "get_spatial_layout_around_cases(sdf)"
   ]
  },
  {
   "cell_type": "code",
   "execution_count": 391,
   "metadata": {
    "ExecuteTime": {
     "end_time": "2020-02-07T18:40:32.345511Z",
     "start_time": "2020-02-07T18:40:32.333546Z"
    }
   },
   "outputs": [],
   "source": [
    "# simulate catchment\n",
    "# given catch and round, use kdtree to make a dictionary.  Keys are ii, values are array of number of ppl in each rbin.\n",
    "# Then do N realizations (assuming background value of catch_prev, and compute error.\n",
    "\n",
    "rbins = np.arange(0,520,20)\n",
    "\n",
    "def get_spatial_layout_around_cases(sdf, rbins = rbins):\n",
    "    n_rbins = len(rbins)-1\n",
    "\n",
    "    ckdt_all = cKDTree(np.array(sdf[[\"x\",\"y\"]]))\n",
    "    \n",
    "    pos_cut = sdf[\"rdt_pos\"]==1\n",
    "    n_index = int(np.sum(pos_cut))\n",
    "    if np.sum(n_index) > 0:\n",
    "        pos_individuals_xy = np.array(sdf[[\"x\", \"y\"]][pos_cut])\n",
    "        ckdt_pos = cKDTree(pos_individuals_xy)\n",
    "        c_data = ckdt_pos.count_neighbors(ckdt_pos, rbins)\n",
    "\n",
    "        # Loop over every RDT-positive, and use KDtrees to get prev(R) around it:\n",
    "        \n",
    "\n",
    "        layout_dict = {}\n",
    "        for ii in np.arange(n_index):\n",
    "            n_vs_R = np.zeros(n_rbins)\n",
    "            \n",
    "            X = pos_individuals_xy[ii]\n",
    "            for ri in np.arange(n_rbins):\n",
    "                a,b,n_vs_R[ri] = positivity_within_radius(X, ckdt_pos, ckdt_all, rbins[ri+1], rbins[ri])\n",
    "\n",
    "            layout_dict[ii] = np.copy(n_vs_R)\n",
    "\n",
    "    return layout_dict"
   ]
  },
  {
   "cell_type": "code",
   "execution_count": 216,
   "metadata": {
    "ExecuteTime": {
     "end_time": "2020-02-06T18:48:24.914931Z",
     "start_time": "2020-02-06T18:48:24.899349Z"
    }
   },
   "outputs": [],
   "source": [
    "def simulate_realizations_for_catch(layout_dict, catch_prev, N_iterations=1000, return_distribution=False):\n",
    "    # layout_dict: key is ii of index cases, value is n_vs_R around particular index case\n",
    "    # catch_prev given to know the background rate we should sample\n",
    "    #     numpy.random.binomial(n, p, size=None) \n",
    "    # n --> n in R bin, p--> catch_prev\n",
    "    n_index_cases = len(list(layout_dict.values()))\n",
    "    \n",
    "    # Each row of all_data will constitute a single random iteration\n",
    "#     all_data = np.zeros([N_iterations, n_rbins]) \n",
    "\n",
    "    rm = np.array([])\n",
    "    v = np.array([])\n",
    "    iteration_array = np.array([])\n",
    "    \n",
    "    def simulate_realization_for_index(ii):\n",
    "        # ii is index case number to look up in layout_dict\n",
    "        n_vs_r = layout_dict[ii]\n",
    "        \n",
    "        npos_vs_r = np.zeros_like(n_vs_r)\n",
    "        for k in np.arange(len(n_vs_r)):\n",
    "            n = n_vs_r[k]\n",
    "            p = catch_prev\n",
    "            npos_vs_r[k] = np.random.binomial(n,p)\n",
    "        \n",
    "        return npos_vs_r/n_vs_r\n",
    "    \n",
    "    \n",
    "    for j in np.arange(N_iterations):\n",
    "        iteration_data = np.zeros([n_index_cases, n_rbins])\n",
    "        \n",
    "        for ii in np.arange(n_index_cases):\n",
    "            iteration_data[ii,:] = simulate_realization_for_index(ii)\n",
    "            \n",
    "        rm = np.append(rm, rbins[:-1])\n",
    "        v = np.append(v, get_mean_profile_without_nans(iteration_data))\n",
    "        iteration_array = np.append(iteration_array, j*np.ones_like(rbins[:-1]))\n",
    "#         all_data[j,:] = get_mean_profile_without_nans(iteration_data)\n",
    "    \n",
    "    return pd.DataFrame({\"rmin\": rm,\n",
    "                        \"v\": v,\n",
    "                        \"iteration\": iteration_array})\n",
    "#     return all_data\n",
    "    # return all, or return distributions\n",
    "    "
   ]
  },
  {
   "cell_type": "code",
   "execution_count": 198,
   "metadata": {
    "ExecuteTime": {
     "end_time": "2020-02-06T18:18:26.120146Z",
     "start_time": "2020-02-06T18:18:26.112168Z"
    }
   },
   "outputs": [],
   "source": [
    "def percentile_across_axis(m, p):\n",
    "    # m is matrix\n",
    "    n_rbins = m.shape[1]\n",
    "    return_array = np.zeros(n_rbins)\n",
    "    for i in np.arange(n_rbins):\n",
    "        return_array[i] = np.percentile(m[:,i],p)\n",
    "        \n",
    "    return return_array "
   ]
  },
  {
   "cell_type": "code",
   "execution_count": 300,
   "metadata": {
    "ExecuteTime": {
     "end_time": "2020-02-06T19:46:26.187896Z",
     "start_time": "2020-02-06T19:45:27.333462Z"
    }
   },
   "outputs": [
    {
     "name": "stdout",
     "output_type": "stream",
     "text": [
      "('Batoka', 7)\n",
      "('Batoka', 8)\n",
      "('Batoka', 9)\n",
      "('Batoka', 10)\n",
      "('Bbondo', 1)\n",
      "('Bbondo', 2)\n",
      "('Bbondo', 3)\n",
      "('Bbondo', 4)\n"
     ]
    },
    {
     "name": "stderr",
     "output_type": "stream",
     "text": [
      "c:\\users\\jsuresh\\venv\\idm\\lib\\site-packages\\ipykernel_launcher.py:25: RuntimeWarning: invalid value encountered in true_divide\n"
     ]
    },
    {
     "name": "stdout",
     "output_type": "stream",
     "text": [
      "('Bbondo', 5)\n",
      "('Bbondo', 6)\n",
      "('Bbondo', 7)\n",
      "('Bbondo', 8)\n",
      "('Bbondo', 9)\n",
      "('Bbondo', 10)\n",
      "('Buleyamalima', 7)\n",
      "('Buleyamalima', 8)\n",
      "('Buleyamalima', 9)\n",
      "('Buleyamalima', 10)\n",
      "('Chaanga', 9)\n",
      "('Chabbobboma', 1)\n",
      "('Chabbobboma', 2)\n",
      "('Chabbobboma', 3)\n",
      "('Chabbobboma', 4)\n",
      "('Chabbobboma', 5)\n",
      "('Chabbobboma', 6)\n",
      "('Chabbobboma', 9)\n",
      "('Chabbobboma', 10)\n",
      "('Chasanga', 1)\n",
      "('Chasanga', 2)\n",
      "('Chasanga', 3)\n",
      "('Chasanga', 6)\n",
      "('Cheeba', 7)\n",
      "('Cheeba', 8)\n",
      "('Cheeba', 9)\n",
      "('Cheeba', 10)\n",
      "('Chipepo', 1)\n",
      "('Chipepo', 2)\n",
      "('Chipepo', 3)\n",
      "('Chipepo', 4)\n",
      "('Chipepo', 5)\n",
      "('Chipepo', 6)\n",
      "('Chipepo', 9)\n",
      "('Chipepo Siavonga', 1)\n",
      "('Chipepo Siavonga', 2)\n",
      "('Chipepo Siavonga', 3)\n",
      "('Chipepo Siavonga', 4)\n"
     ]
    },
    {
     "ename": "KeyboardInterrupt",
     "evalue": "",
     "output_type": "error",
     "traceback": [
      "\u001b[1;31m---------------------------------------------------------------------------\u001b[0m",
      "\u001b[1;31mKeyboardInterrupt\u001b[0m                         Traceback (most recent call last)",
      "\u001b[1;32m<ipython-input-300-46ed75216968>\u001b[0m in \u001b[0;36m<module>\u001b[1;34m\u001b[0m\n\u001b[0;32m     14\u001b[0m     \u001b[1;32mif\u001b[0m \u001b[0mlen\u001b[0m\u001b[1;33m(\u001b[0m\u001b[0msdf\u001b[0m\u001b[1;33m)\u001b[0m \u001b[1;33m>\u001b[0m \u001b[1;36m50\u001b[0m \u001b[1;32mand\u001b[0m \u001b[0mcatch_prev\u001b[0m \u001b[1;33m>\u001b[0m \u001b[0mpmin\u001b[0m \u001b[1;32mand\u001b[0m \u001b[0mcatch_prev\u001b[0m \u001b[1;33m<\u001b[0m \u001b[0mpmax\u001b[0m\u001b[1;33m:\u001b[0m\u001b[1;33m\u001b[0m\u001b[0m\n\u001b[0;32m     15\u001b[0m         \u001b[0mdd\u001b[0m \u001b[1;33m=\u001b[0m \u001b[0mget_spatial_layout_around_cases\u001b[0m\u001b[1;33m(\u001b[0m\u001b[0msdf\u001b[0m\u001b[1;33m,\u001b[0m \u001b[0mrbins\u001b[0m\u001b[1;33m=\u001b[0m\u001b[0mrbins\u001b[0m\u001b[1;33m)\u001b[0m\u001b[1;33m\u001b[0m\u001b[0m\n\u001b[1;32m---> 16\u001b[1;33m         \u001b[0mdf_hold\u001b[0m \u001b[1;33m=\u001b[0m \u001b[0msimulate_realizations_for_catch\u001b[0m\u001b[1;33m(\u001b[0m\u001b[0mdd\u001b[0m\u001b[1;33m,\u001b[0m \u001b[0mcatch_prev\u001b[0m\u001b[1;33m,\u001b[0m \u001b[0mN_iterations\u001b[0m\u001b[1;33m=\u001b[0m\u001b[0mN_iterations\u001b[0m\u001b[1;33m)\u001b[0m\u001b[1;33m\u001b[0m\u001b[0m\n\u001b[0m\u001b[0;32m     17\u001b[0m         \u001b[0mdf_hold\u001b[0m\u001b[1;33m[\u001b[0m\u001b[1;34m\"catch\"\u001b[0m\u001b[1;33m]\u001b[0m \u001b[1;33m=\u001b[0m \u001b[0mi\u001b[0m\u001b[1;33m[\u001b[0m\u001b[1;36m0\u001b[0m\u001b[1;33m]\u001b[0m\u001b[1;33m\u001b[0m\u001b[0m\n\u001b[0;32m     18\u001b[0m         \u001b[0mdf_hold\u001b[0m\u001b[1;33m[\u001b[0m\u001b[1;34m\"round\"\u001b[0m\u001b[1;33m]\u001b[0m \u001b[1;33m=\u001b[0m \u001b[0mi\u001b[0m\u001b[1;33m[\u001b[0m\u001b[1;36m1\u001b[0m\u001b[1;33m]\u001b[0m\u001b[1;33m\u001b[0m\u001b[0m\n",
      "\u001b[1;32m<ipython-input-216-6f250e97e18f>\u001b[0m in \u001b[0;36msimulate_realizations_for_catch\u001b[1;34m(layout_dict, catch_prev, N_iterations, return_distribution)\u001b[0m\n\u001b[0;32m     30\u001b[0m \u001b[1;33m\u001b[0m\u001b[0m\n\u001b[0;32m     31\u001b[0m         \u001b[1;32mfor\u001b[0m \u001b[0mii\u001b[0m \u001b[1;32min\u001b[0m \u001b[0mnp\u001b[0m\u001b[1;33m.\u001b[0m\u001b[0marange\u001b[0m\u001b[1;33m(\u001b[0m\u001b[0mn_index_cases\u001b[0m\u001b[1;33m)\u001b[0m\u001b[1;33m:\u001b[0m\u001b[1;33m\u001b[0m\u001b[0m\n\u001b[1;32m---> 32\u001b[1;33m             \u001b[0miteration_data\u001b[0m\u001b[1;33m[\u001b[0m\u001b[0mii\u001b[0m\u001b[1;33m,\u001b[0m\u001b[1;33m:\u001b[0m\u001b[1;33m]\u001b[0m \u001b[1;33m=\u001b[0m \u001b[0msimulate_realization_for_index\u001b[0m\u001b[1;33m(\u001b[0m\u001b[0mii\u001b[0m\u001b[1;33m)\u001b[0m\u001b[1;33m\u001b[0m\u001b[0m\n\u001b[0m\u001b[0;32m     33\u001b[0m \u001b[1;33m\u001b[0m\u001b[0m\n\u001b[0;32m     34\u001b[0m         \u001b[0mrm\u001b[0m \u001b[1;33m=\u001b[0m \u001b[0mnp\u001b[0m\u001b[1;33m.\u001b[0m\u001b[0mappend\u001b[0m\u001b[1;33m(\u001b[0m\u001b[0mrm\u001b[0m\u001b[1;33m,\u001b[0m \u001b[0mrbins\u001b[0m\u001b[1;33m[\u001b[0m\u001b[1;33m:\u001b[0m\u001b[1;33m-\u001b[0m\u001b[1;36m1\u001b[0m\u001b[1;33m]\u001b[0m\u001b[1;33m)\u001b[0m\u001b[1;33m\u001b[0m\u001b[0m\n",
      "\u001b[1;32m<ipython-input-216-6f250e97e18f>\u001b[0m in \u001b[0;36msimulate_realization_for_index\u001b[1;34m(ii)\u001b[0m\n\u001b[0;32m     21\u001b[0m             \u001b[0mn\u001b[0m \u001b[1;33m=\u001b[0m \u001b[0mn_vs_r\u001b[0m\u001b[1;33m[\u001b[0m\u001b[0mk\u001b[0m\u001b[1;33m]\u001b[0m\u001b[1;33m\u001b[0m\u001b[0m\n\u001b[0;32m     22\u001b[0m             \u001b[0mp\u001b[0m \u001b[1;33m=\u001b[0m \u001b[0mcatch_prev\u001b[0m\u001b[1;33m\u001b[0m\u001b[0m\n\u001b[1;32m---> 23\u001b[1;33m             \u001b[0mnpos_vs_r\u001b[0m\u001b[1;33m[\u001b[0m\u001b[0mk\u001b[0m\u001b[1;33m]\u001b[0m \u001b[1;33m=\u001b[0m \u001b[0mnp\u001b[0m\u001b[1;33m.\u001b[0m\u001b[0mrandom\u001b[0m\u001b[1;33m.\u001b[0m\u001b[0mbinomial\u001b[0m\u001b[1;33m(\u001b[0m\u001b[0mn\u001b[0m\u001b[1;33m,\u001b[0m\u001b[0mp\u001b[0m\u001b[1;33m)\u001b[0m\u001b[1;33m\u001b[0m\u001b[0m\n\u001b[0m\u001b[0;32m     24\u001b[0m \u001b[1;33m\u001b[0m\u001b[0m\n\u001b[0;32m     25\u001b[0m         \u001b[1;32mreturn\u001b[0m \u001b[0mnpos_vs_r\u001b[0m\u001b[1;33m/\u001b[0m\u001b[0mn_vs_r\u001b[0m\u001b[1;33m\u001b[0m\u001b[0m\n",
      "\u001b[1;31mKeyboardInterrupt\u001b[0m: "
     ]
    }
   ],
   "source": [
    "pmin = 0.03\n",
    "pmax = 0.04\n",
    "\n",
    "rbins = np.arange(0,520,20)\n",
    "N_iterations = 1000\n",
    "\n",
    "# all_data = {}\n",
    "\n",
    "df_list = []\n",
    "\n",
    "for i, sdf in all_rds_df.groupby([\"catch\", \"round\"]):\n",
    "    catch_prev = sdf[\"catch_prev\"].iloc[0]\n",
    "    print(i)\n",
    "    if len(sdf) > 50 and catch_prev > pmin and catch_prev < pmax:\n",
    "        dd = get_spatial_layout_around_cases(sdf, rbins=rbins)\n",
    "        df_hold = simulate_realizations_for_catch(dd, catch_prev, N_iterations=N_iterations)\n",
    "        df_hold[\"catch\"] = i[0]\n",
    "        df_hold[\"round\"] = i[1]\n",
    "        df_hold[\"tag\"] = i[0] + \"_rd{}\".format(i[1])\n",
    "        df_list.append(df_hold.copy())\n",
    "#         all_data[\"{}_rd{}\".format(i[0], i[1])] = simulate_realizations_for_catch(dd, catch_prev, N_iterations=N_iterations)\n",
    "\n"
   ]
  },
  {
   "cell_type": "code",
   "execution_count": 292,
   "metadata": {
    "ExecuteTime": {
     "end_time": "2020-02-06T19:42:56.892209Z",
     "start_time": "2020-02-06T19:42:56.639159Z"
    }
   },
   "outputs": [],
   "source": [
    "dff = pd.concat(df_list)\n",
    "dff = dff.dropna()"
   ]
  },
  {
   "cell_type": "code",
   "execution_count": 293,
   "metadata": {
    "ExecuteTime": {
     "end_time": "2020-02-06T19:42:58.149332Z",
     "start_time": "2020-02-06T19:42:58.023106Z"
    }
   },
   "outputs": [],
   "source": [
    "x = dff.groupby([\"rmin\", \"iteration\"]).agg({\"v\": \"mean\"}).reset_index()"
   ]
  },
  {
   "cell_type": "code",
   "execution_count": 294,
   "metadata": {
    "ExecuteTime": {
     "end_time": "2020-02-06T19:42:59.314858Z",
     "start_time": "2020-02-06T19:42:59.275941Z"
    }
   },
   "outputs": [],
   "source": [
    "tt = x.groupby(\"rmin\").agg({\"v\": \"median\"}).reset_index()\n",
    "t90 = x.groupby(\"rmin\").agg({\"v\": lambda x: np.percentile(x,90)}).reset_index()\n",
    "t10 = x.groupby(\"rmin\").agg({\"v\": lambda x: np.percentile(x,10)}).reset_index()"
   ]
  },
  {
   "cell_type": "code",
   "execution_count": 297,
   "metadata": {
    "ExecuteTime": {
     "end_time": "2020-02-06T19:44:30.091976Z",
     "start_time": "2020-02-06T19:44:30.082995Z"
    }
   },
   "outputs": [
    {
     "data": {
      "text/plain": [
       "Index(['rmin', 'v', 'iteration', 'catch', 'round'], dtype='object')"
      ]
     },
     "execution_count": 297,
     "metadata": {},
     "output_type": "execute_result"
    }
   ],
   "source": [
    "dff.columns"
   ]
  },
  {
   "cell_type": "code",
   "execution_count": 299,
   "metadata": {
    "ExecuteTime": {
     "end_time": "2020-02-06T19:44:51.486699Z",
     "start_time": "2020-02-06T19:44:51.203883Z"
    }
   },
   "outputs": [
    {
     "ename": "TypeError",
     "evalue": "ufunc 'add' did not contain a loop with signature matching types dtype('<U21') dtype('<U21') dtype('<U21')",
     "output_type": "error",
     "traceback": [
      "\u001b[1;31m---------------------------------------------------------------------------\u001b[0m",
      "\u001b[1;31mTypeError\u001b[0m                                 Traceback (most recent call last)",
      "\u001b[1;32mc:\\users\\jsuresh\\venv\\idm\\lib\\site-packages\\pandas\\core\\ops.py\u001b[0m in \u001b[0;36mna_op\u001b[1;34m(x, y)\u001b[0m\n\u001b[0;32m   1011\u001b[0m         \u001b[1;32mtry\u001b[0m\u001b[1;33m:\u001b[0m\u001b[1;33m\u001b[0m\u001b[0m\n\u001b[1;32m-> 1012\u001b[1;33m             \u001b[0mresult\u001b[0m \u001b[1;33m=\u001b[0m \u001b[0mexpressions\u001b[0m\u001b[1;33m.\u001b[0m\u001b[0mevaluate\u001b[0m\u001b[1;33m(\u001b[0m\u001b[0mop\u001b[0m\u001b[1;33m,\u001b[0m \u001b[0mstr_rep\u001b[0m\u001b[1;33m,\u001b[0m \u001b[0mx\u001b[0m\u001b[1;33m,\u001b[0m \u001b[0my\u001b[0m\u001b[1;33m,\u001b[0m \u001b[1;33m**\u001b[0m\u001b[0meval_kwargs\u001b[0m\u001b[1;33m)\u001b[0m\u001b[1;33m\u001b[0m\u001b[0m\n\u001b[0m\u001b[0;32m   1013\u001b[0m         \u001b[1;32mexcept\u001b[0m \u001b[0mTypeError\u001b[0m\u001b[1;33m:\u001b[0m\u001b[1;33m\u001b[0m\u001b[0m\n",
      "\u001b[1;32mc:\\users\\jsuresh\\venv\\idm\\lib\\site-packages\\pandas\\core\\computation\\expressions.py\u001b[0m in \u001b[0;36mevaluate\u001b[1;34m(op, op_str, a, b, use_numexpr, **eval_kwargs)\u001b[0m\n\u001b[0;32m    204\u001b[0m     \u001b[1;32mif\u001b[0m \u001b[0muse_numexpr\u001b[0m\u001b[1;33m:\u001b[0m\u001b[1;33m\u001b[0m\u001b[0m\n\u001b[1;32m--> 205\u001b[1;33m         \u001b[1;32mreturn\u001b[0m \u001b[0m_evaluate\u001b[0m\u001b[1;33m(\u001b[0m\u001b[0mop\u001b[0m\u001b[1;33m,\u001b[0m \u001b[0mop_str\u001b[0m\u001b[1;33m,\u001b[0m \u001b[0ma\u001b[0m\u001b[1;33m,\u001b[0m \u001b[0mb\u001b[0m\u001b[1;33m,\u001b[0m \u001b[1;33m**\u001b[0m\u001b[0meval_kwargs\u001b[0m\u001b[1;33m)\u001b[0m\u001b[1;33m\u001b[0m\u001b[0m\n\u001b[0m\u001b[0;32m    206\u001b[0m     \u001b[1;32mreturn\u001b[0m \u001b[0m_evaluate_standard\u001b[0m\u001b[1;33m(\u001b[0m\u001b[0mop\u001b[0m\u001b[1;33m,\u001b[0m \u001b[0mop_str\u001b[0m\u001b[1;33m,\u001b[0m \u001b[0ma\u001b[0m\u001b[1;33m,\u001b[0m \u001b[0mb\u001b[0m\u001b[1;33m)\u001b[0m\u001b[1;33m\u001b[0m\u001b[0m\n",
      "\u001b[1;32mc:\\users\\jsuresh\\venv\\idm\\lib\\site-packages\\pandas\\core\\computation\\expressions.py\u001b[0m in \u001b[0;36m_evaluate_standard\u001b[1;34m(op, op_str, a, b, **eval_kwargs)\u001b[0m\n\u001b[0;32m     64\u001b[0m     \u001b[1;32mwith\u001b[0m \u001b[0mnp\u001b[0m\u001b[1;33m.\u001b[0m\u001b[0merrstate\u001b[0m\u001b[1;33m(\u001b[0m\u001b[0mall\u001b[0m\u001b[1;33m=\u001b[0m\u001b[1;34m'ignore'\u001b[0m\u001b[1;33m)\u001b[0m\u001b[1;33m:\u001b[0m\u001b[1;33m\u001b[0m\u001b[0m\n\u001b[1;32m---> 65\u001b[1;33m         \u001b[1;32mreturn\u001b[0m \u001b[0mop\u001b[0m\u001b[1;33m(\u001b[0m\u001b[0ma\u001b[0m\u001b[1;33m,\u001b[0m \u001b[0mb\u001b[0m\u001b[1;33m)\u001b[0m\u001b[1;33m\u001b[0m\u001b[0m\n\u001b[0m\u001b[0;32m     66\u001b[0m \u001b[1;33m\u001b[0m\u001b[0m\n",
      "\u001b[1;31mTypeError\u001b[0m: must be str, not int",
      "\nDuring handling of the above exception, another exception occurred:\n",
      "\u001b[1;31mTypeError\u001b[0m                                 Traceback (most recent call last)",
      "\u001b[1;32mc:\\users\\jsuresh\\venv\\idm\\lib\\site-packages\\pandas\\core\\ops.py\u001b[0m in \u001b[0;36msafe_na_op\u001b[1;34m(lvalues, rvalues)\u001b[0m\n\u001b[0;32m   1032\u001b[0m             \u001b[1;32mwith\u001b[0m \u001b[0mnp\u001b[0m\u001b[1;33m.\u001b[0m\u001b[0merrstate\u001b[0m\u001b[1;33m(\u001b[0m\u001b[0mall\u001b[0m\u001b[1;33m=\u001b[0m\u001b[1;34m'ignore'\u001b[0m\u001b[1;33m)\u001b[0m\u001b[1;33m:\u001b[0m\u001b[1;33m\u001b[0m\u001b[0m\n\u001b[1;32m-> 1033\u001b[1;33m                 \u001b[1;32mreturn\u001b[0m \u001b[0mna_op\u001b[0m\u001b[1;33m(\u001b[0m\u001b[0mlvalues\u001b[0m\u001b[1;33m,\u001b[0m \u001b[0mrvalues\u001b[0m\u001b[1;33m)\u001b[0m\u001b[1;33m\u001b[0m\u001b[0m\n\u001b[0m\u001b[0;32m   1034\u001b[0m         \u001b[1;32mexcept\u001b[0m \u001b[0mException\u001b[0m\u001b[1;33m:\u001b[0m\u001b[1;33m\u001b[0m\u001b[0m\n",
      "\u001b[1;32mc:\\users\\jsuresh\\venv\\idm\\lib\\site-packages\\pandas\\core\\ops.py\u001b[0m in \u001b[0;36mna_op\u001b[1;34m(x, y)\u001b[0m\n\u001b[0;32m   1017\u001b[0m                 \u001b[0mmask\u001b[0m \u001b[1;33m=\u001b[0m \u001b[0mnotna\u001b[0m\u001b[1;33m(\u001b[0m\u001b[0mx\u001b[0m\u001b[1;33m)\u001b[0m \u001b[1;33m&\u001b[0m \u001b[0mnotna\u001b[0m\u001b[1;33m(\u001b[0m\u001b[0my\u001b[0m\u001b[1;33m)\u001b[0m\u001b[1;33m\u001b[0m\u001b[0m\n\u001b[1;32m-> 1018\u001b[1;33m                 \u001b[0mresult\u001b[0m\u001b[1;33m[\u001b[0m\u001b[0mmask\u001b[0m\u001b[1;33m]\u001b[0m \u001b[1;33m=\u001b[0m \u001b[0mop\u001b[0m\u001b[1;33m(\u001b[0m\u001b[0mx\u001b[0m\u001b[1;33m[\u001b[0m\u001b[0mmask\u001b[0m\u001b[1;33m]\u001b[0m\u001b[1;33m,\u001b[0m \u001b[0mcom\u001b[0m\u001b[1;33m.\u001b[0m\u001b[0m_values_from_object\u001b[0m\u001b[1;33m(\u001b[0m\u001b[0my\u001b[0m\u001b[1;33m[\u001b[0m\u001b[0mmask\u001b[0m\u001b[1;33m]\u001b[0m\u001b[1;33m)\u001b[0m\u001b[1;33m)\u001b[0m\u001b[1;33m\u001b[0m\u001b[0m\n\u001b[0m\u001b[0;32m   1019\u001b[0m             \u001b[1;32melse\u001b[0m\u001b[1;33m:\u001b[0m\u001b[1;33m\u001b[0m\u001b[0m\n",
      "\u001b[1;31mTypeError\u001b[0m: must be str, not int",
      "\nDuring handling of the above exception, another exception occurred:\n",
      "\u001b[1;31mTypeError\u001b[0m                                 Traceback (most recent call last)",
      "\u001b[1;32m<ipython-input-299-599dea0d9d4c>\u001b[0m in \u001b[0;36m<module>\u001b[1;34m\u001b[0m\n\u001b[1;32m----> 1\u001b[1;33m \u001b[0mdff\u001b[0m\u001b[1;33m[\u001b[0m\u001b[1;34m\"tag\"\u001b[0m\u001b[1;33m]\u001b[0m \u001b[1;33m=\u001b[0m \u001b[0mdff\u001b[0m\u001b[1;33m[\u001b[0m\u001b[1;34m\"catch\"\u001b[0m\u001b[1;33m]\u001b[0m\u001b[1;33m+\u001b[0m\u001b[1;34m\"_\"\u001b[0m\u001b[1;33m+\u001b[0m\u001b[0mdff\u001b[0m\u001b[1;33m[\u001b[0m\u001b[1;34m\"round\"\u001b[0m\u001b[1;33m]\u001b[0m\u001b[1;33m\u001b[0m\u001b[0m\n\u001b[0m\u001b[0;32m      2\u001b[0m \u001b[0mx2\u001b[0m \u001b[1;33m=\u001b[0m \u001b[0mdff\u001b[0m\u001b[1;33m.\u001b[0m\u001b[0mgroupby\u001b[0m\u001b[1;33m(\u001b[0m\u001b[1;33m[\u001b[0m\u001b[1;34m\"rmin\"\u001b[0m\u001b[1;33m,\u001b[0m \u001b[1;34m\"iteration\"\u001b[0m\u001b[1;33m]\u001b[0m\u001b[1;33m)\u001b[0m\u001b[1;33m.\u001b[0m\u001b[0magg\u001b[0m\u001b[1;33m(\u001b[0m\u001b[1;33m{\u001b[0m\u001b[1;34m\"tag\"\u001b[0m\u001b[1;33m:\u001b[0m \u001b[1;34m\"nunique\"\u001b[0m\u001b[1;33m}\u001b[0m\u001b[1;33m)\u001b[0m\u001b[1;33m.\u001b[0m\u001b[0mreset_index\u001b[0m\u001b[1;33m(\u001b[0m\u001b[1;33m)\u001b[0m\u001b[1;33m\u001b[0m\u001b[0m\n",
      "\u001b[1;32mc:\\users\\jsuresh\\venv\\idm\\lib\\site-packages\\pandas\\core\\ops.py\u001b[0m in \u001b[0;36mwrapper\u001b[1;34m(left, right)\u001b[0m\n\u001b[0;32m   1067\u001b[0m             \u001b[0mrvalues\u001b[0m \u001b[1;33m=\u001b[0m \u001b[0mrvalues\u001b[0m\u001b[1;33m.\u001b[0m\u001b[0mvalues\u001b[0m\u001b[1;33m\u001b[0m\u001b[0m\n\u001b[0;32m   1068\u001b[0m \u001b[1;33m\u001b[0m\u001b[0m\n\u001b[1;32m-> 1069\u001b[1;33m         \u001b[0mresult\u001b[0m \u001b[1;33m=\u001b[0m \u001b[0msafe_na_op\u001b[0m\u001b[1;33m(\u001b[0m\u001b[0mlvalues\u001b[0m\u001b[1;33m,\u001b[0m \u001b[0mrvalues\u001b[0m\u001b[1;33m)\u001b[0m\u001b[1;33m\u001b[0m\u001b[0m\n\u001b[0m\u001b[0;32m   1070\u001b[0m         return construct_result(left, result,\n\u001b[0;32m   1071\u001b[0m                                 index=left.index, name=res_name, dtype=None)\n",
      "\u001b[1;32mc:\\users\\jsuresh\\venv\\idm\\lib\\site-packages\\pandas\\core\\ops.py\u001b[0m in \u001b[0;36msafe_na_op\u001b[1;34m(lvalues, rvalues)\u001b[0m\n\u001b[0;32m   1035\u001b[0m             \u001b[1;32mif\u001b[0m \u001b[0mis_object_dtype\u001b[0m\u001b[1;33m(\u001b[0m\u001b[0mlvalues\u001b[0m\u001b[1;33m)\u001b[0m\u001b[1;33m:\u001b[0m\u001b[1;33m\u001b[0m\u001b[0m\n\u001b[0;32m   1036\u001b[0m                 return libalgos.arrmap_object(lvalues,\n\u001b[1;32m-> 1037\u001b[1;33m                                               lambda x: op(x, rvalues))\n\u001b[0m\u001b[0;32m   1038\u001b[0m             \u001b[1;32mraise\u001b[0m\u001b[1;33m\u001b[0m\u001b[0m\n\u001b[0;32m   1039\u001b[0m \u001b[1;33m\u001b[0m\u001b[0m\n",
      "\u001b[1;32mpandas\\_libs\\algos_common_helper.pxi\u001b[0m in \u001b[0;36mpandas._libs.algos.arrmap_object\u001b[1;34m()\u001b[0m\n",
      "\u001b[1;32mc:\\users\\jsuresh\\venv\\idm\\lib\\site-packages\\pandas\\core\\ops.py\u001b[0m in \u001b[0;36m<lambda>\u001b[1;34m(x)\u001b[0m\n\u001b[0;32m   1035\u001b[0m             \u001b[1;32mif\u001b[0m \u001b[0mis_object_dtype\u001b[0m\u001b[1;33m(\u001b[0m\u001b[0mlvalues\u001b[0m\u001b[1;33m)\u001b[0m\u001b[1;33m:\u001b[0m\u001b[1;33m\u001b[0m\u001b[0m\n\u001b[0;32m   1036\u001b[0m                 return libalgos.arrmap_object(lvalues,\n\u001b[1;32m-> 1037\u001b[1;33m                                               lambda x: op(x, rvalues))\n\u001b[0m\u001b[0;32m   1038\u001b[0m             \u001b[1;32mraise\u001b[0m\u001b[1;33m\u001b[0m\u001b[0m\n\u001b[0;32m   1039\u001b[0m \u001b[1;33m\u001b[0m\u001b[0m\n",
      "\u001b[1;31mTypeError\u001b[0m: ufunc 'add' did not contain a loop with signature matching types dtype('<U21') dtype('<U21') dtype('<U21')"
     ]
    }
   ],
   "source": [
    "dff[\"tag\"] = dff[\"catch\"]+\"_\"+dff[\"round\"]\n",
    "x2 = dff.groupby([\"rmin\", \"iteration\"]).agg({\"tag\": \"nunique\"}).reset_index()"
   ]
  },
  {
   "cell_type": "code",
   "execution_count": 295,
   "metadata": {
    "ExecuteTime": {
     "end_time": "2020-02-06T19:43:00.887937Z",
     "start_time": "2020-02-06T19:43:00.587186Z"
    }
   },
   "outputs": [
    {
     "data": {
      "text/plain": [
       "<matplotlib.lines.Line2D at 0x21c016d5198>"
      ]
     },
     "execution_count": 295,
     "metadata": {},
     "output_type": "execute_result"
    },
    {
     "data": {
      "image/png": "[encoded data removed]",
      "text/plain": [
       "<Figure size 432x288 with 1 Axes>"
      ]
     },
     "metadata": {
      "needs_background": "light"
     },
     "output_type": "display_data"
    }
   ],
   "source": [
    "plt.fill_between(t90[\"rmin\"],t90[\"v\"],t10[\"v\"], alpha=0.2)\n",
    "plt.plot(tt[\"rmin\"],tt[\"v\"])\n",
    "plt.scatter(foo[\"rmin\"], foo[\"prev\"])\n",
    "plt.axhline(np.max(df_pbin[\"catch_prev\"]), color='gray')\n",
    "plt.axhline(np.min(df_pbin[\"catch_prev\"]), color='gray')"
   ]
  },
  {
   "cell_type": "code",
   "execution_count": 301,
   "metadata": {
    "ExecuteTime": {
     "end_time": "2020-02-06T19:47:49.848755Z",
     "start_time": "2020-02-06T19:47:49.833275Z"
    }
   },
   "outputs": [
    {
     "data": {
      "text/plain": [
       "Index(['rmin', 'rmax', 'prev', 'catch', 'round', 'catch_prev'], dtype='object')"
      ]
     },
     "execution_count": 301,
     "metadata": {},
     "output_type": "execute_result"
    }
   ],
   "source": [
    "df_pbin.columns"
   ]
  },
  {
   "cell_type": "code",
   "execution_count": 309,
   "metadata": {
    "ExecuteTime": {
     "end_time": "2020-02-06T19:50:15.345689Z",
     "start_time": "2020-02-06T19:50:15.088356Z"
    }
   },
   "outputs": [
    {
     "data": {
      "text/plain": [
       "[<matplotlib.lines.Line2D at 0x21c01ea1dd8>]"
      ]
     },
     "execution_count": 309,
     "metadata": {},
     "output_type": "execute_result"
    },
    {
     "data": {
      "image/png": "[encoded data removed]",
      "text/plain": [
       "<Figure size 432x288 with 1 Axes>"
      ]
     },
     "metadata": {
      "needs_background": "light"
     },
     "output_type": "display_data"
    }
   ],
   "source": [
    "plt.plot(foo[\"rmin\"], foo[\"prev\"])"
   ]
  },
  {
   "cell_type": "code",
   "execution_count": 329,
   "metadata": {
    "ExecuteTime": {
     "end_time": "2020-02-06T20:50:37.840463Z",
     "start_time": "2020-02-06T20:50:36.161725Z"
    }
   },
   "outputs": [
    {
     "data": {
      "text/plain": [
       "(-0.5, 15.5)"
      ]
     },
     "execution_count": 329,
     "metadata": {},
     "output_type": "execute_result"
    },
    {
     "data": {
      "image/png": "[encoded data removed]",
      "text/plain": [
       "<Figure size 1440x720 with 1 Axes>"
      ]
     },
     "metadata": {
      "needs_background": "light"
     },
     "output_type": "display_data"
    }
   ],
   "source": []
  },
  {
   "cell_type": "code",
   "execution_count": 208,
   "metadata": {
    "ExecuteTime": {
     "end_time": "2020-02-06T18:22:43.161220Z",
     "start_time": "2020-02-06T18:22:43.152240Z"
    }
   },
   "outputs": [
    {
     "data": {
      "text/plain": [
       "array([[0.00520833, 0.        , 0.04166667, ..., 0.00102564, 0.        ,\n",
       "        0.0078125 ],\n",
       "       [0.00208333, 0.        , 0.        , ..., 0.        , 0.00240385,\n",
       "        0.00390625],\n",
       "       [0.00520833, 0.        , 0.05555556, ..., 0.01212121, 0.        ,\n",
       "        0.01136364],\n",
       "       ...,\n",
       "       [0.00195312, 0.        , 0.        , ..., 0.        , 0.        ,\n",
       "        0.00568182],\n",
       "       [0.00520833, 0.02380952, 0.        , ..., 0.00102564, 0.        ,\n",
       "        0.        ],\n",
       "       [0.00347222, 0.08333333, 0.        , ..., 0.        , 0.00500801,\n",
       "        0.00568182]])"
      ]
     },
     "execution_count": 208,
     "metadata": {},
     "output_type": "execute_result"
    }
   ],
   "source": [
    "# We now have 1000 random iterations for each catchment.  Go down each one, and take average over all catchments in the bin.  Then take percentiles\n",
    "def mean_over_dict(dd, ni):\n",
    "    # dd: dictionary.  ni: iteration number to average over.\n",
    "#     n_values = len(dd.keys())\n",
    "\n",
    "    r = np.array([])\n",
    "    v = np.array([])\n",
    "    for v in list(dd.values())\n",
    "        r = np.append(r, rbins[:-1])\n",
    "        v.append()\n",
    "        \n",
    "        df = pd.DataFrame({\n",
    "        \n",
    "    })\n",
    "    \n",
    "\n",
    "mean_over_pbin = np.zeros([N_iterations, n_rbins])\n",
    "for nn in np.arange(N_iterations):\n",
    "    mean_over_pbin[nn,:] = "
   ]
  },
  {
   "cell_type": "code",
   "execution_count": 170,
   "metadata": {
    "ExecuteTime": {
     "end_time": "2020-02-06T18:00:38.342993Z",
     "start_time": "2020-02-06T18:00:38.313525Z"
    }
   },
   "outputs": [
    {
     "name": "stdout",
     "output_type": "stream",
     "text": [
      "[0.         0.08333333 0.15384615 0.         0.16666667 0.08235294\n",
      " 0.07142857 0.21428571 0.08333333 0.1        0.05       0.\n",
      " 0.07142857]\n",
      "[nan  0. nan nan  0.  0. nan nan nan nan nan  0. nan]\n",
      "[0.09090909 0.26315789        nan        nan 0.05263158        nan\n",
      "        nan        nan        nan        nan        nan 0.09090909\n",
      "        nan]\n",
      "[nan nan nan nan nan nan nan nan nan nan nan  0. nan]\n",
      "[  nan 0.125   nan   nan 0.125   nan   nan   nan   nan   nan   nan 0.\n",
      "   nan]\n",
      "[nan nan nan nan nan nan nan nan nan nan nan nan nan]\n",
      "[ 0. nan nan nan nan nan  0. nan nan nan nan  0. nan]\n",
      "[0.11764706        nan        nan        nan        nan        nan\n",
      "        nan        nan        nan        nan        nan 0.\n",
      "        nan]\n",
      "[0.   0.   0.25 0.   0.5  0.   0.    nan  nan  nan  nan 0.    nan]\n",
      "[0.         0.         0.16666667 0.33333333 0.                nan\n",
      "        nan        nan        nan        nan        nan 0.125\n",
      "        nan]\n",
      "[0.    0.    0.    0.    0.125   nan   nan   nan   nan   nan   nan   nan\n",
      "   nan]\n",
      "[nan  0. nan nan  0. nan nan nan nan nan nan  0. nan]\n",
      "[nan  0. nan nan  0.  0. nan nan nan nan nan  0. nan]\n",
      "[ 0.  0.  0.  0.  0.  0. nan nan nan nan nan  0. nan]\n",
      "[       nan 0.         0.09090909 0.09090909 0.         0.\n",
      "        nan        nan        nan        nan        nan 0.33333333\n",
      "        nan]\n",
      "[0.  0.5 nan nan 0.  nan nan nan nan nan nan 0.5 nan]\n",
      "[0.04166667        nan 0.2        0.                nan 0.25\n",
      "        nan        nan        nan        nan        nan        nan\n",
      "        nan]\n",
      "[nan nan 0.  0.  nan nan nan nan nan nan nan 0.2 nan]\n",
      "[nan nan nan nan nan  0. nan nan nan nan nan  0. nan]\n",
      "[       nan 0.11111111        nan        nan 0.                nan\n",
      "        nan        nan        nan        nan        nan 0.\n",
      "        nan]\n",
      "[       nan 0.         0.         0.16666667 0.                nan\n",
      "        nan        nan        nan        nan        nan 0.\n",
      "        nan]\n",
      "[nan nan nan nan nan nan nan nan nan nan nan nan nan]\n",
      "[nan nan nan nan nan  0. nan nan nan nan nan nan nan]\n",
      "[nan nan nan nan nan nan nan nan nan nan nan nan nan]\n",
      "[       nan        nan        nan        nan        nan 0.\n",
      "        nan        nan 0.         0.09090909 0.18181818        nan\n",
      "        nan]\n"
     ]
    }
   ],
   "source": [
    "    prev_array = iteration_data\n",
    "    hold = np.zeros(prev_array.shape[1])\n",
    "    \n",
    "    for j in np.arange(prev_array.shape[1]):\n",
    "        print(prev_array[:,j])\n",
    "        no_nan_cut = np.logical_not(np.isnan(prev_array[:,j]))\n",
    "        if np.sum(no_nan_cut) == 0:\n",
    "            hold[j] = np.nan\n",
    "\n",
    "        else:\n",
    "            hold[j] = np.mean(prev_vs_R[no_nan_cut,j])\n",
    "            "
   ]
  },
  {
   "cell_type": "code",
   "execution_count": 169,
   "metadata": {
    "ExecuteTime": {
     "end_time": "2020-02-06T18:00:22.634882Z",
     "start_time": "2020-02-06T18:00:22.628218Z"
    }
   },
   "outputs": [
    {
     "data": {
      "text/plain": [
       "(13, 25)"
      ]
     },
     "execution_count": 169,
     "metadata": {},
     "output_type": "execute_result"
    }
   ],
   "source": [
    "prev_array.shape"
   ]
  },
  {
   "cell_type": "code",
   "execution_count": 306,
   "metadata": {
    "ExecuteTime": {
     "end_time": "2020-01-30T19:49:10.027051Z",
     "start_time": "2020-01-30T19:49:10.016080Z"
    }
   },
   "outputs": [],
   "source": [
    "def randomized_correlation(sdf, rbins, n_randomizations=1000, make_plot=False):\n",
    "    n_pos = np.sum(sdf[\"rdt_pos\"])\n",
    "    n_all = len(sdf)\n",
    "    n_rbins = len(rbins)\n",
    "    \n",
    "    all_data = np.zeros([n_randomizations, n_rbins])\n",
    "    ii = np.arange(n_all)\n",
    "    \n",
    "    if make_plot: \n",
    "        plt.figure()\n",
    "    \n",
    "    for j in np.arange(n_randomizations):\n",
    "        subsample = np.random.choice(ii,n_pos.astype(\"int\"), replace=False)\n",
    "        randomized_pos_xy = np.array(sdf[[\"x\", \"y\"]])[subsample]\n",
    "        \n",
    "        ckdt_pos = cKDTree(randomized_pos_xy)\n",
    "#         foo = ckdt_pos.count_neighbors(ckdt_pos, rbins)\n",
    "#         print(foo)\n",
    "        all_data[j,:] = ckdt_pos.count_neighbors(ckdt_pos, rbins)\n",
    "        \n",
    "        if make_plot:\n",
    "            plt.scatter(randomized_pos_xy[:,0],randomized_pos_xy[:,1], marker='.')\n",
    "    \n",
    "    return all_data\n",
    "\n",
    "def percentile_across_axis(m, p):\n",
    "    # m is matrix\n",
    "    n_rbins = m.shape[1]\n",
    "    return_array = np.zeros(n_rbins)\n",
    "    for i in np.arange(n_rbins):\n",
    "        return_array[i] = np.percentile(m[:,i],p)\n",
    "        \n",
    "    return return_array "
   ]
  },
  {
   "cell_type": "code",
   "execution_count": 292,
   "metadata": {
    "ExecuteTime": {
     "end_time": "2020-01-30T19:44:58.275388Z",
     "start_time": "2020-01-30T19:44:58.269384Z"
    }
   },
   "outputs": [
    {
     "data": {
      "text/plain": [
       "array([ 10,  20,  30,  40,  50,  60,  70,  80,  90, 100, 110, 120, 130,\n",
       "       140, 150, 160, 170, 180, 190, 200, 210, 220, 230, 240, 250, 260,\n",
       "       270, 280, 290, 300, 310, 320, 330, 340, 350, 360, 370, 380, 390,\n",
       "       400, 410, 420, 430, 440, 450, 460, 470, 480, 490])"
      ]
     },
     "execution_count": 292,
     "metadata": {},
     "output_type": "execute_result"
    }
   ],
   "source": [
    "rbins"
   ]
  },
  {
   "cell_type": "code",
   "execution_count": 104,
   "metadata": {
    "ExecuteTime": {
     "end_time": "2020-01-30T18:08:29.667356Z",
     "start_time": "2020-01-30T18:08:29.097736Z"
    }
   },
   "outputs": [
    {
     "data": {
      "image/png": "[encoded data removed]",
      "text/plain": [
       "<Figure size 432x288 with 1 Axes>"
      ]
     },
     "metadata": {
      "needs_background": "light"
     },
     "output_type": "display_data"
    }
   ],
   "source": [
    "plt.hist(cdf[\"catch_prev\"], bins=[0,0.0001,0.005,0.01,0.02,0.05,0.1,0.2,0.3,0.4,0.5], histtype=\"bar\")\n",
    "plt.xscale(\"log\")"
   ]
  },
  {
   "cell_type": "markdown",
   "metadata": {
    "ExecuteTime": {
     "end_time": "2020-01-30T18:06:44.041809Z",
     "start_time": "2020-01-30T18:06:44.010637Z"
    }
   },
   "source": [
    "# Try binning\n",
    "\n",
    "The nice thing is that binning just means summing up"
   ]
  },
  {
   "cell_type": "code",
   "execution_count": 106,
   "metadata": {
    "ExecuteTime": {
     "end_time": "2020-01-30T18:17:03.522821Z",
     "start_time": "2020-01-30T18:17:03.515838Z"
    }
   },
   "outputs": [
    {
     "data": {
      "text/plain": [
       "0.003639672429481347"
      ]
     },
     "execution_count": 106,
     "metadata": {},
     "output_type": "execute_result"
    }
   ],
   "source": [
    "sdf[\"catch_prev\"].iloc[0]"
   ]
  },
  {
   "cell_type": "code",
   "execution_count": 331,
   "metadata": {
    "ExecuteTime": {
     "end_time": "2020-01-30T20:09:12.010194Z",
     "start_time": "2020-01-30T20:09:11.975048Z"
    }
   },
   "outputs": [
    {
     "data": {
      "text/html": [
       "<div>\n",
       "<style scoped>\n",
       "    .dataframe tbody tr th:only-of-type {\n",
       "        vertical-align: middle;\n",
       "    }\n",
       "\n",
       "    .dataframe tbody tr th {\n",
       "        vertical-align: top;\n",
       "    }\n",
       "\n",
       "    .dataframe thead th {\n",
       "        text-align: right;\n",
       "    }\n",
       "</style>\n",
       "<table border=\"1\" class=\"dataframe\">\n",
       "  <thead>\n",
       "    <tr style=\"text-align: right;\">\n",
       "      <th></th>\n",
       "      <th>person_id</th>\n",
       "      <th>household_id</th>\n",
       "      <th>round</th>\n",
       "      <th>latitude</th>\n",
       "      <th>longitude</th>\n",
       "      <th>catch</th>\n",
       "      <th>rdt_pos</th>\n",
       "      <th>x</th>\n",
       "      <th>y</th>\n",
       "      <th>catch_prev</th>\n",
       "    </tr>\n",
       "  </thead>\n",
       "  <tbody>\n",
       "    <tr>\n",
       "      <th>816325</th>\n",
       "      <td>uuid:261c0823-8b03-478b-a590-eaee5a27e020</td>\n",
       "      <td>46229</td>\n",
       "      <td>9</td>\n",
       "      <td>-16.979981</td>\n",
       "      <td>26.861415</td>\n",
       "      <td>Mochipapa</td>\n",
       "      <td>0.0</td>\n",
       "      <td>-63537.212872</td>\n",
       "      <td>-1597.855179</td>\n",
       "      <td>0.028571</td>\n",
       "    </tr>\n",
       "    <tr>\n",
       "      <th>816326</th>\n",
       "      <td>uuid:2d056d91-b1ae-4922-8486-e1ae168dee79</td>\n",
       "      <td>38510</td>\n",
       "      <td>9</td>\n",
       "      <td>-16.786415</td>\n",
       "      <td>27.079446</td>\n",
       "      <td>Mochipapa</td>\n",
       "      <td>0.0</td>\n",
       "      <td>-40322.528474</td>\n",
       "      <td>19949.677244</td>\n",
       "      <td>0.028571</td>\n",
       "    </tr>\n",
       "    <tr>\n",
       "      <th>816327</th>\n",
       "      <td>uuid:302647a5-d304-424a-a43d-057857016114</td>\n",
       "      <td>38510</td>\n",
       "      <td>9</td>\n",
       "      <td>-16.786415</td>\n",
       "      <td>27.079446</td>\n",
       "      <td>Mochipapa</td>\n",
       "      <td>0.0</td>\n",
       "      <td>-40322.528474</td>\n",
       "      <td>19949.677244</td>\n",
       "      <td>0.028571</td>\n",
       "    </tr>\n",
       "    <tr>\n",
       "      <th>816329</th>\n",
       "      <td>uuid:3d6ef7b8-ae26-4789-993a-b9f381964450</td>\n",
       "      <td>58181</td>\n",
       "      <td>9</td>\n",
       "      <td>-16.774759</td>\n",
       "      <td>27.136090</td>\n",
       "      <td>Mochipapa</td>\n",
       "      <td>0.0</td>\n",
       "      <td>-34291.452340</td>\n",
       "      <td>21247.294304</td>\n",
       "      <td>0.028571</td>\n",
       "    </tr>\n",
       "    <tr>\n",
       "      <th>816330</th>\n",
       "      <td>uuid:3db6ec85-8373-41f2-ae95-bfaeb05db143</td>\n",
       "      <td>25758</td>\n",
       "      <td>9</td>\n",
       "      <td>-16.789541</td>\n",
       "      <td>27.085018</td>\n",
       "      <td>Mochipapa</td>\n",
       "      <td>0.0</td>\n",
       "      <td>-39729.322114</td>\n",
       "      <td>19601.784703</td>\n",
       "      <td>0.028571</td>\n",
       "    </tr>\n",
       "    <tr>\n",
       "      <th>816332</th>\n",
       "      <td>uuid:51d03cba-ccfd-4612-be6b-abbb40000f62</td>\n",
       "      <td>8379</td>\n",
       "      <td>9</td>\n",
       "      <td>-16.789663</td>\n",
       "      <td>27.085000</td>\n",
       "      <td>Mochipapa</td>\n",
       "      <td>0.0</td>\n",
       "      <td>-39731.170507</td>\n",
       "      <td>19588.095824</td>\n",
       "      <td>0.028571</td>\n",
       "    </tr>\n",
       "    <tr>\n",
       "      <th>816333</th>\n",
       "      <td>uuid:56cf4071-fa1d-4720-9039-4a06800db40e</td>\n",
       "      <td>58181</td>\n",
       "      <td>9</td>\n",
       "      <td>-16.774759</td>\n",
       "      <td>27.136090</td>\n",
       "      <td>Mochipapa</td>\n",
       "      <td>0.0</td>\n",
       "      <td>-34291.452340</td>\n",
       "      <td>21247.294304</td>\n",
       "      <td>0.028571</td>\n",
       "    </tr>\n",
       "    <tr>\n",
       "      <th>816334</th>\n",
       "      <td>uuid:59c5f62e-d4af-4fcd-a2fb-55b43c41788a</td>\n",
       "      <td>38510</td>\n",
       "      <td>9</td>\n",
       "      <td>-16.786415</td>\n",
       "      <td>27.079446</td>\n",
       "      <td>Mochipapa</td>\n",
       "      <td>0.0</td>\n",
       "      <td>-40322.528474</td>\n",
       "      <td>19949.677244</td>\n",
       "      <td>0.028571</td>\n",
       "    </tr>\n",
       "    <tr>\n",
       "      <th>816336</th>\n",
       "      <td>uuid:5c7f52de-dc4e-45d9-a2fa-0edd859b8731</td>\n",
       "      <td>38510</td>\n",
       "      <td>9</td>\n",
       "      <td>-16.786415</td>\n",
       "      <td>27.079446</td>\n",
       "      <td>Mochipapa</td>\n",
       "      <td>0.0</td>\n",
       "      <td>-40322.528474</td>\n",
       "      <td>19949.677244</td>\n",
       "      <td>0.028571</td>\n",
       "    </tr>\n",
       "    <tr>\n",
       "      <th>816337</th>\n",
       "      <td>uuid:5eca51bf-64af-453e-a72f-d7b49f4edaac</td>\n",
       "      <td>46229</td>\n",
       "      <td>9</td>\n",
       "      <td>-16.979981</td>\n",
       "      <td>26.861415</td>\n",
       "      <td>Mochipapa</td>\n",
       "      <td>0.0</td>\n",
       "      <td>-63537.212872</td>\n",
       "      <td>-1597.855179</td>\n",
       "      <td>0.028571</td>\n",
       "    </tr>\n",
       "    <tr>\n",
       "      <th>816340</th>\n",
       "      <td>uuid:7d0f3ac0-4e0c-4d44-a281-10250bba3ae5</td>\n",
       "      <td>25758</td>\n",
       "      <td>9</td>\n",
       "      <td>-16.789541</td>\n",
       "      <td>27.085018</td>\n",
       "      <td>Mochipapa</td>\n",
       "      <td>0.0</td>\n",
       "      <td>-39729.322114</td>\n",
       "      <td>19601.784703</td>\n",
       "      <td>0.028571</td>\n",
       "    </tr>\n",
       "    <tr>\n",
       "      <th>816341</th>\n",
       "      <td>uuid:7fd43b57-2d0d-401a-82e8-f36cb37c19dc</td>\n",
       "      <td>38510</td>\n",
       "      <td>9</td>\n",
       "      <td>-16.786415</td>\n",
       "      <td>27.079446</td>\n",
       "      <td>Mochipapa</td>\n",
       "      <td>0.0</td>\n",
       "      <td>-40322.528474</td>\n",
       "      <td>19949.677244</td>\n",
       "      <td>0.028571</td>\n",
       "    </tr>\n",
       "    <tr>\n",
       "      <th>816342</th>\n",
       "      <td>uuid:afe2ddd4-2703-43ac-a9ed-00e08c9504da</td>\n",
       "      <td>38510</td>\n",
       "      <td>9</td>\n",
       "      <td>-16.786415</td>\n",
       "      <td>27.079446</td>\n",
       "      <td>Mochipapa</td>\n",
       "      <td>0.0</td>\n",
       "      <td>-40322.528474</td>\n",
       "      <td>19949.677244</td>\n",
       "      <td>0.028571</td>\n",
       "    </tr>\n",
       "    <tr>\n",
       "      <th>816343</th>\n",
       "      <td>uuid:aff26da5-e979-49c8-a925-4ab4f29d715a</td>\n",
       "      <td>8379</td>\n",
       "      <td>9</td>\n",
       "      <td>-16.789663</td>\n",
       "      <td>27.085000</td>\n",
       "      <td>Mochipapa</td>\n",
       "      <td>0.0</td>\n",
       "      <td>-39731.170507</td>\n",
       "      <td>19588.095824</td>\n",
       "      <td>0.028571</td>\n",
       "    </tr>\n",
       "    <tr>\n",
       "      <th>816344</th>\n",
       "      <td>uuid:b0acfc4a-da09-4429-9277-86d21e9d5adb</td>\n",
       "      <td>58181</td>\n",
       "      <td>9</td>\n",
       "      <td>-16.774759</td>\n",
       "      <td>27.136090</td>\n",
       "      <td>Mochipapa</td>\n",
       "      <td>0.0</td>\n",
       "      <td>-34291.452340</td>\n",
       "      <td>21247.294304</td>\n",
       "      <td>0.028571</td>\n",
       "    </tr>\n",
       "    <tr>\n",
       "      <th>816346</th>\n",
       "      <td>uuid:b8a2d2e2-6e1c-4a99-9085-7f302b48c0bd</td>\n",
       "      <td>58181</td>\n",
       "      <td>9</td>\n",
       "      <td>-16.774759</td>\n",
       "      <td>27.136090</td>\n",
       "      <td>Mochipapa</td>\n",
       "      <td>0.0</td>\n",
       "      <td>-34291.452340</td>\n",
       "      <td>21247.294304</td>\n",
       "      <td>0.028571</td>\n",
       "    </tr>\n",
       "    <tr>\n",
       "      <th>816347</th>\n",
       "      <td>uuid:c17b9b0f-3391-46b2-8205-8e1db77ccf5a</td>\n",
       "      <td>46229</td>\n",
       "      <td>9</td>\n",
       "      <td>-16.979981</td>\n",
       "      <td>26.861415</td>\n",
       "      <td>Mochipapa</td>\n",
       "      <td>0.0</td>\n",
       "      <td>-63537.212872</td>\n",
       "      <td>-1597.855179</td>\n",
       "      <td>0.028571</td>\n",
       "    </tr>\n",
       "    <tr>\n",
       "      <th>816348</th>\n",
       "      <td>uuid:c2daa8ca-5d2a-4d17-8695-4f1c5f7e5b6a</td>\n",
       "      <td>25758</td>\n",
       "      <td>9</td>\n",
       "      <td>-16.789541</td>\n",
       "      <td>27.085018</td>\n",
       "      <td>Mochipapa</td>\n",
       "      <td>0.0</td>\n",
       "      <td>-39729.322114</td>\n",
       "      <td>19601.784703</td>\n",
       "      <td>0.028571</td>\n",
       "    </tr>\n",
       "    <tr>\n",
       "      <th>816349</th>\n",
       "      <td>uuid:c36967d0-7f5b-4576-b9d9-d37f8441b328</td>\n",
       "      <td>31027</td>\n",
       "      <td>9</td>\n",
       "      <td>-16.802344</td>\n",
       "      <td>27.086093</td>\n",
       "      <td>Mochipapa</td>\n",
       "      <td>0.0</td>\n",
       "      <td>-39614.820774</td>\n",
       "      <td>18176.527229</td>\n",
       "      <td>0.028571</td>\n",
       "    </tr>\n",
       "    <tr>\n",
       "      <th>816351</th>\n",
       "      <td>uuid:d1299d17-dfcb-48c5-8b6c-912e03067563</td>\n",
       "      <td>8379</td>\n",
       "      <td>9</td>\n",
       "      <td>-16.789663</td>\n",
       "      <td>27.085000</td>\n",
       "      <td>Mochipapa</td>\n",
       "      <td>0.0</td>\n",
       "      <td>-39731.170507</td>\n",
       "      <td>19588.095824</td>\n",
       "      <td>0.028571</td>\n",
       "    </tr>\n",
       "    <tr>\n",
       "      <th>816352</th>\n",
       "      <td>uuid:e02e1aa9-2802-4055-9940-f97a1db34831</td>\n",
       "      <td>8379</td>\n",
       "      <td>9</td>\n",
       "      <td>-16.789663</td>\n",
       "      <td>27.085000</td>\n",
       "      <td>Mochipapa</td>\n",
       "      <td>0.0</td>\n",
       "      <td>-39731.170507</td>\n",
       "      <td>19588.095824</td>\n",
       "      <td>0.028571</td>\n",
       "    </tr>\n",
       "    <tr>\n",
       "      <th>816354</th>\n",
       "      <td>uuid:e4a4bcf5-c6d4-4352-afd0-53ed261da476</td>\n",
       "      <td>46229</td>\n",
       "      <td>9</td>\n",
       "      <td>-16.979981</td>\n",
       "      <td>26.861415</td>\n",
       "      <td>Mochipapa</td>\n",
       "      <td>0.0</td>\n",
       "      <td>-63537.212872</td>\n",
       "      <td>-1597.855179</td>\n",
       "      <td>0.028571</td>\n",
       "    </tr>\n",
       "    <tr>\n",
       "      <th>816355</th>\n",
       "      <td>uuid:ecee7769-0925-4825-9901-f466295b466f</td>\n",
       "      <td>58181</td>\n",
       "      <td>9</td>\n",
       "      <td>-16.774759</td>\n",
       "      <td>27.136090</td>\n",
       "      <td>Mochipapa</td>\n",
       "      <td>0.0</td>\n",
       "      <td>-34291.452340</td>\n",
       "      <td>21247.294304</td>\n",
       "      <td>0.028571</td>\n",
       "    </tr>\n",
       "    <tr>\n",
       "      <th>816356</th>\n",
       "      <td>uuid:fe8ac0c7-b3f4-4e63-b515-7e568a6c4c1e</td>\n",
       "      <td>31027</td>\n",
       "      <td>9</td>\n",
       "      <td>-16.802344</td>\n",
       "      <td>27.086093</td>\n",
       "      <td>Mochipapa</td>\n",
       "      <td>0.0</td>\n",
       "      <td>-39614.820774</td>\n",
       "      <td>18176.527229</td>\n",
       "      <td>0.028571</td>\n",
       "    </tr>\n",
       "    <tr>\n",
       "      <th>816357</th>\n",
       "      <td>uuid:ff8d413f-ff89-4271-9d33-dfa73305881b</td>\n",
       "      <td>38510</td>\n",
       "      <td>9</td>\n",
       "      <td>-16.786415</td>\n",
       "      <td>27.079446</td>\n",
       "      <td>Mochipapa</td>\n",
       "      <td>0.0</td>\n",
       "      <td>-40322.528474</td>\n",
       "      <td>19949.677244</td>\n",
       "      <td>0.028571</td>\n",
       "    </tr>\n",
       "  </tbody>\n",
       "</table>\n",
       "</div>"
      ],
      "text/plain": [
       "                                        person_id household_id  round  \\\n",
       "816325  uuid:261c0823-8b03-478b-a590-eaee5a27e020        46229      9   \n",
       "816326  uuid:2d056d91-b1ae-4922-8486-e1ae168dee79        38510      9   \n",
       "816327  uuid:302647a5-d304-424a-a43d-057857016114        38510      9   \n",
       "816329  uuid:3d6ef7b8-ae26-4789-993a-b9f381964450        58181      9   \n",
       "816330  uuid:3db6ec85-8373-41f2-ae95-bfaeb05db143        25758      9   \n",
       "816332  uuid:51d03cba-ccfd-4612-be6b-abbb40000f62         8379      9   \n",
       "816333  uuid:56cf4071-fa1d-4720-9039-4a06800db40e        58181      9   \n",
       "816334  uuid:59c5f62e-d4af-4fcd-a2fb-55b43c41788a        38510      9   \n",
       "816336  uuid:5c7f52de-dc4e-45d9-a2fa-0edd859b8731        38510      9   \n",
       "816337  uuid:5eca51bf-64af-453e-a72f-d7b49f4edaac        46229      9   \n",
       "816340  uuid:7d0f3ac0-4e0c-4d44-a281-10250bba3ae5        25758      9   \n",
       "816341  uuid:7fd43b57-2d0d-401a-82e8-f36cb37c19dc        38510      9   \n",
       "816342  uuid:afe2ddd4-2703-43ac-a9ed-00e08c9504da        38510      9   \n",
       "816343  uuid:aff26da5-e979-49c8-a925-4ab4f29d715a         8379      9   \n",
       "816344  uuid:b0acfc4a-da09-4429-9277-86d21e9d5adb        58181      9   \n",
       "816346  uuid:b8a2d2e2-6e1c-4a99-9085-7f302b48c0bd        58181      9   \n",
       "816347  uuid:c17b9b0f-3391-46b2-8205-8e1db77ccf5a        46229      9   \n",
       "816348  uuid:c2daa8ca-5d2a-4d17-8695-4f1c5f7e5b6a        25758      9   \n",
       "816349  uuid:c36967d0-7f5b-4576-b9d9-d37f8441b328        31027      9   \n",
       "816351  uuid:d1299d17-dfcb-48c5-8b6c-912e03067563         8379      9   \n",
       "816352  uuid:e02e1aa9-2802-4055-9940-f97a1db34831         8379      9   \n",
       "816354  uuid:e4a4bcf5-c6d4-4352-afd0-53ed261da476        46229      9   \n",
       "816355  uuid:ecee7769-0925-4825-9901-f466295b466f        58181      9   \n",
       "816356  uuid:fe8ac0c7-b3f4-4e63-b515-7e568a6c4c1e        31027      9   \n",
       "816357  uuid:ff8d413f-ff89-4271-9d33-dfa73305881b        38510      9   \n",
       "\n",
       "         latitude  longitude      catch  rdt_pos             x             y  \\\n",
       "816325 -16.979981  26.861415  Mochipapa      0.0 -63537.212872  -1597.855179   \n",
       "816326 -16.786415  27.079446  Mochipapa      0.0 -40322.528474  19949.677244   \n",
       "816327 -16.786415  27.079446  Mochipapa      0.0 -40322.528474  19949.677244   \n",
       "816329 -16.774759  27.136090  Mochipapa      0.0 -34291.452340  21247.294304   \n",
       "816330 -16.789541  27.085018  Mochipapa      0.0 -39729.322114  19601.784703   \n",
       "816332 -16.789663  27.085000  Mochipapa      0.0 -39731.170507  19588.095824   \n",
       "816333 -16.774759  27.136090  Mochipapa      0.0 -34291.452340  21247.294304   \n",
       "816334 -16.786415  27.079446  Mochipapa      0.0 -40322.528474  19949.677244   \n",
       "816336 -16.786415  27.079446  Mochipapa      0.0 -40322.528474  19949.677244   \n",
       "816337 -16.979981  26.861415  Mochipapa      0.0 -63537.212872  -1597.855179   \n",
       "816340 -16.789541  27.085018  Mochipapa      0.0 -39729.322114  19601.784703   \n",
       "816341 -16.786415  27.079446  Mochipapa      0.0 -40322.528474  19949.677244   \n",
       "816342 -16.786415  27.079446  Mochipapa      0.0 -40322.528474  19949.677244   \n",
       "816343 -16.789663  27.085000  Mochipapa      0.0 -39731.170507  19588.095824   \n",
       "816344 -16.774759  27.136090  Mochipapa      0.0 -34291.452340  21247.294304   \n",
       "816346 -16.774759  27.136090  Mochipapa      0.0 -34291.452340  21247.294304   \n",
       "816347 -16.979981  26.861415  Mochipapa      0.0 -63537.212872  -1597.855179   \n",
       "816348 -16.789541  27.085018  Mochipapa      0.0 -39729.322114  19601.784703   \n",
       "816349 -16.802344  27.086093  Mochipapa      0.0 -39614.820774  18176.527229   \n",
       "816351 -16.789663  27.085000  Mochipapa      0.0 -39731.170507  19588.095824   \n",
       "816352 -16.789663  27.085000  Mochipapa      0.0 -39731.170507  19588.095824   \n",
       "816354 -16.979981  26.861415  Mochipapa      0.0 -63537.212872  -1597.855179   \n",
       "816355 -16.774759  27.136090  Mochipapa      0.0 -34291.452340  21247.294304   \n",
       "816356 -16.802344  27.086093  Mochipapa      0.0 -39614.820774  18176.527229   \n",
       "816357 -16.786415  27.079446  Mochipapa      0.0 -40322.528474  19949.677244   \n",
       "\n",
       "        catch_prev  \n",
       "816325    0.028571  \n",
       "816326    0.028571  \n",
       "816327    0.028571  \n",
       "816329    0.028571  \n",
       "816330    0.028571  \n",
       "816332    0.028571  \n",
       "816333    0.028571  \n",
       "816334    0.028571  \n",
       "816336    0.028571  \n",
       "816337    0.028571  \n",
       "816340    0.028571  \n",
       "816341    0.028571  \n",
       "816342    0.028571  \n",
       "816343    0.028571  \n",
       "816344    0.028571  \n",
       "816346    0.028571  \n",
       "816347    0.028571  \n",
       "816348    0.028571  \n",
       "816349    0.028571  \n",
       "816351    0.028571  \n",
       "816352    0.028571  \n",
       "816354    0.028571  \n",
       "816355    0.028571  \n",
       "816356    0.028571  \n",
       "816357    0.028571  "
      ]
     },
     "execution_count": 331,
     "metadata": {},
     "output_type": "execute_result"
    }
   ],
   "source": [
    "sdf"
   ]
  },
  {
   "cell_type": "code",
   "execution_count": 333,
   "metadata": {
    "ExecuteTime": {
     "end_time": "2020-01-30T20:10:55.781095Z",
     "start_time": "2020-01-30T20:10:55.774076Z"
    }
   },
   "outputs": [
    {
     "data": {
      "text/plain": [
       "25"
      ]
     },
     "execution_count": 333,
     "metadata": {},
     "output_type": "execute_result"
    }
   ],
   "source": [
    "len(sdf)"
   ]
  },
  {
   "cell_type": "code",
   "execution_count": 647,
   "metadata": {
    "ExecuteTime": {
     "end_time": "2020-02-01T06:12:29.845625Z",
     "start_time": "2020-02-01T06:10:05.420422Z"
    }
   },
   "outputs": [
    {
     "name": "stdout",
     "output_type": "stream",
     "text": [
      "('Chabbobboma', 2)\n",
      "('Chabbobboma', 3)\n",
      "('Chabbobboma', 6)\n",
      "('Chasanga', 2)\n",
      "('Chasanga', 3)\n",
      "('Chasanga', 6)\n",
      "('Cheeba', 7)\n",
      "('Cheeba', 10)\n",
      "('Chipepo', 2)\n",
      "('Chipepo', 3)\n",
      "('Chipepo', 6)\n",
      "('Chisanga', 7)\n",
      "('Chisanga', 8)\n",
      "('Chiyabi', 8)\n",
      "('Luumbo', 6)\n",
      "('Masuku', 7)\n",
      "('Munyama', 7)\n",
      "('Munyama', 8)\n",
      "('Munyumbwe', 2)\n",
      "('Munyumbwe', 4)\n",
      "('Nabutezi', 7)\n",
      "('Nyanga Chaamwe', 1)\n",
      "('Siansowa', 7)\n",
      "('Sianyoolo', 7)\n",
      "('Siatwinda', 9)\n",
      "('Sikaneka', 9)\n",
      "('Sinafala', 2)\n",
      "('Sinafala', 3)\n",
      "('Sinafala', 5)\n",
      "('Sinafala', 7)\n",
      "('Sinafala', 9)\n",
      "('Sinamalima', 3)\n",
      "('Sinamalima', 5)\n",
      "('Sinamalima', 6)\n",
      "('Sinamalima', 9)\n",
      "('Sinazongwe', 9)\n"
     ]
    }
   ],
   "source": [
    "sanity_check=False\n",
    "save_individual=False\n",
    "if sanity_check:\n",
    "    plt.figure(figsize=(10,10))\n",
    "\n",
    "    \n",
    "    \n",
    "rbins = np.arange(5,300,10)\n",
    "n_randomizations = 1000\n",
    "\n",
    "sum_c_data = np.zeros_like(rbins)\n",
    "sum_randomization_data = np.zeros([n_randomizations, len(rbins)])\n",
    "sum_c_underlying = np.zeros_like(rbins)\n",
    "\n",
    "for ii, sdf in all_rds_df.groupby([\"catch\", \"round\"]):\n",
    "# sdf = all_rds_df[np.logical_and(all_rds_df[\"round\"]==9, all_rds_df[\"catch\"]==\"Bbondo\")]\n",
    "    catch_prev = sdf[\"catch_prev\"].iloc[0]\n",
    "    pos_cut = sdf[\"rdt_pos\"]==1\n",
    "    \n",
    "#     if np.logical_and(catch_prev > 0.06, catch_prev <= 0.08) and np.sum(pos_cut) > 1 and len(sdf) > 50:\n",
    "    if np.logical_and(catch_prev > 0.1, catch_prev <= 0.2) and np.sum(pos_cut) > 1 and len(sdf) > 50:\n",
    "#     if len(sdf) > 50 and np.sum(pos_cut) > 1:\n",
    "        print(ii)\n",
    "        # Create kdtree\n",
    "        pos_individuals_xy = np.array(sdf[[\"x\", \"y\"]][pos_cut])\n",
    "        ckdt_pos = cKDTree(pos_individuals_xy)\n",
    "\n",
    "        c_data = ckdt_pos.count_neighbors(ckdt_pos, rbins)\n",
    "        \n",
    "        randomization_data = randomized_correlation(sdf, rbins, n_randomizations=n_randomizations)\n",
    "        \n",
    "        # testing\n",
    "#         ckdt_all = cKDTree(np.array(sdf[[\"x\",\"y\"]]))\n",
    "#         c_underlying = ckdt_all.count_neighbors(ckdt_all, rbins)\n",
    "#         sum_c_underlying += c_underlying\n",
    "        \n",
    "        sum_c_data += c_data\n",
    "        sum_randomization_data += randomization_data\n",
    "\n",
    "        \n",
    "#         print(randomization_data)\n",
    "        if save_individual:\n",
    "            c_data_diff = np.diff(c_data, prepend=0)\n",
    "            m = percentile_across_axis(np.diff(randomization_data,axis=1,prepend=0),50)\n",
    "            q1 = percentile_across_axis(np.diff(randomization_data,axis=1,prepend=0),10)\n",
    "            q3 = percentile_across_axis(np.diff(randomization_data,axis=1,prepend=0),90)\n",
    "            \n",
    "            xx = np.arange(20)\n",
    "            yy = []\n",
    "            yy_low = []\n",
    "            yy_high = []\n",
    "\n",
    "            ff = 1\n",
    "            for i in range(20):\n",
    "                num_real = np.sum(c_data_diff[i*ff:(i+1)*ff])\n",
    "                num_exp_m = np.sum(m[i*ff:(i+1)*ff])\n",
    "                num_exp_q1 = np.sum(q1[i*ff:(i+1)*ff])\n",
    "                num_exp_q3 = np.sum(q3[i*ff:(i+1)*ff])\n",
    "                \n",
    "                print(num_real)\n",
    "                print(num_exp_m)\n",
    "\n",
    "                yy.append(num_real/num_exp_m)\n",
    "                yy_low.append(num_real/num_exp_q3)\n",
    "                yy_high.append(num_real/num_exp_q1)\n",
    "    \n",
    "            plt.close('all')\n",
    "            plt.figure()\n",
    "            ff=2\n",
    "            plt.scatter(xx*5*ff,yy, label=\"Ratio to mean\", color=\"C2\")\n",
    "            plt.scatter(xx*5*ff,yy_low, label=\"Ratio to upper bound\")\n",
    "            # plt.fill_between(xx*50, yy_low,yy_high, color=\"C2\", alpha=0.2)\n",
    "            plt.axhline(1)\n",
    "            plt.legend()\n",
    "            plt.savefig(\"catch_round_correlations/{}_rd{}.png\".format(ii[0],ii[1]))\n",
    "\n",
    "        if sanity_check:\n",
    "            all_individuals_xy = np.array(sdf[[\"x\", \"y\"]])\n",
    "            ckdt_all = cKDTree(all_individuals_xy)\n",
    "            c_data_pop = ckdt_all.count_neighbors(ckdt_all, rbins)\n",
    "            plt.plot(rbins, np.diff(c_data_pop,prepend=0))\n",
    "\n",
    "        "
   ]
  },
  {
   "cell_type": "code",
   "execution_count": 648,
   "metadata": {
    "ExecuteTime": {
     "end_time": "2020-02-01T06:15:13.041752Z",
     "start_time": "2020-02-01T06:15:13.037420Z"
    }
   },
   "outputs": [],
   "source": [
    "randomization_data = sum_randomization_data\n",
    "c_data = sum_c_data\n",
    "c_underlying = sum_c_underlying"
   ]
  },
  {
   "cell_type": "code",
   "execution_count": 612,
   "metadata": {
    "ExecuteTime": {
     "end_time": "2020-02-01T05:56:26.701098Z",
     "start_time": "2020-02-01T05:56:26.465732Z"
    }
   },
   "outputs": [
    {
     "data": {
      "image/png": "[encoded data removed]",
      "text/plain": [
       "<Figure size 432x288 with 1 Axes>"
      ]
     },
     "metadata": {
      "needs_background": "light"
     },
     "output_type": "display_data"
    }
   ],
   "source": [
    "plt.plot(c_underlying/np.max(c_underlying))\n",
    "for jj in range(10):\n",
    "    plt.plot(randomization_data[jj,:]/np.max(randomization_data[jj,:]))"
   ]
  },
  {
   "cell_type": "code",
   "execution_count": 587,
   "metadata": {
    "ExecuteTime": {
     "end_time": "2020-02-01T00:22:14.774720Z",
     "start_time": "2020-02-01T00:22:14.766728Z"
    }
   },
   "outputs": [
    {
     "data": {
      "text/plain": [
       "array([[2339.,  236.,  132., ...,  102.,   94.,   92.],\n",
       "       [2327.,  170.,  114., ...,   66.,   82.,   86.],\n",
       "       [2323.,  170.,  134., ...,  122.,  128.,  124.],\n",
       "       ...,\n",
       "       [2427.,  246.,  144., ...,  108.,   92.,  116.],\n",
       "       [2325.,  318.,  134., ...,   86.,   88.,  134.],\n",
       "       [2335.,  236.,   94., ...,   84.,   94.,  104.]])"
      ]
     },
     "execution_count": 587,
     "metadata": {},
     "output_type": "execute_result"
    }
   ],
   "source": [
    "np.diff(sum_randomization_data, axis=1,prepend=0)"
   ]
  },
  {
   "cell_type": "code",
   "execution_count": 308,
   "metadata": {
    "ExecuteTime": {
     "end_time": "2020-01-30T19:49:28.529401Z",
     "start_time": "2020-01-30T19:49:28.497492Z"
    }
   },
   "outputs": [],
   "source": [
    "\n",
    "\n",
    "m = np.diff(percentile_across_axis(randomization_data,50),prepend=0)\n",
    "q1 = np.diff(percentile_across_axis(randomization_data,10),prepend=0)\n",
    "q3 = np.diff(percentile_across_axis(randomization_data,90),prepend=0)\n",
    "\n",
    "# plt.plot(rbins, np.diff(c_data,prepend=0), label=\"Observed\", color=\"C2\")\n",
    "# plt.plot(rbins, np.diff(m,prepend=0),color=\"C1\",label=\"Randomizations\")\n",
    "# plt.fill_between(rbins, np.diff(q1,prepend=0),np.diff(q3,prepend=0),alpha=0.2, color=\"C1\")\n",
    "\n",
    "# Plotting pairs (raw)\n",
    "# plt.plot(rbins, c_data, label=\"Observed\", color=\"C2\")\n",
    "# plt.plot(rbins, m,color=\"C1\",label=\"Randomizations\")\n",
    "# plt.fill_between(rbins, q1,q3,alpha=0.2, color=\"C1\")\n",
    "\n",
    "# plt.xlim([0,100])\n",
    "# # Plotting pairs (normalized?)\n",
    "# plt.plot(rbins, c_data/np.max(c_data), label=\"Observed\", color=\"C2\")\n",
    "# plt.plot(rbins, m/np.max(m),color=\"C1\",label=\"Randomizations\")\n",
    "# plt.fill_between(rbins, q1/np.max(m),q3/np.max(m),alpha=0.2, color=\"C1\")\n",
    "\n",
    "# Plotting pair enrichment (raw)\n",
    "# plt.axhline(1,linestyle='dashed', color='gray')\n",
    "# plt.plot(rbins, c_data/m, label=\"Observed\", color=\"C2\")\n",
    "# plt.fill_between(rbins, c_data/q3,c_data/q1, color=\"C2\", alpha=0.2)\n",
    "\n",
    "# Plotting pair enrichment (normalized?)\n",
    "# plt.axhline(1,linestyle='dashed', color='gray')\n",
    "# plt.plot(rbins, c_data/np.max(c_data)/(m/np.max(m)), label=\"Ratio of actual clustering to random\", color=\"C2\")\n",
    "# plt.fill_between(rbins, c_data/np.max(c_data)/(q3/np.max(m)),c_data/np.max(c_data)/(q1/np.max(m)), color=\"C2\", alpha=0.2)\n",
    "# plt.legend()\n",
    "# plt.savefig(\"twopt_binned_0_0.005.png\")"
   ]
  },
  {
   "cell_type": "code",
   "execution_count": 649,
   "metadata": {
    "ExecuteTime": {
     "end_time": "2020-02-01T06:15:25.965126Z",
     "start_time": "2020-02-01T06:15:25.937230Z"
    }
   },
   "outputs": [],
   "source": [
    "c_data = np.diff(sum_c_data, prepend=0)\n",
    "# m = np.diff(percentile_across_axis(randomization_data,50),prepend=0)\n",
    "# q1 = np.diff(percentile_across_axis(randomization_data,10),prepend=0)\n",
    "# q3 = np.diff(percentile_across_axis(randomization_data,90),prepend=0)\n",
    "\n",
    "m = percentile_across_axis(np.diff(randomization_data,axis=1,prepend=0),50)\n",
    "q1 = percentile_across_axis(np.diff(randomization_data,axis=1,prepend=0),10)\n",
    "q3 = percentile_across_axis(np.diff(randomization_data,axis=1,prepend=0),90)"
   ]
  },
  {
   "cell_type": "code",
   "execution_count": 533,
   "metadata": {
    "ExecuteTime": {
     "end_time": "2020-01-31T23:55:53.781369Z",
     "start_time": "2020-01-31T23:55:53.765354Z"
    }
   },
   "outputs": [],
   "source": [
    "m = percentile_across_axis(np.diff(randomization_data,axis=1,prepend=0),50)\n",
    "m2 = np.average(np.diff(randomization_data,axis=1,prepend=0), axis=0)\n",
    "s = 1.96*np.std(np.diff(randomization_data,axis=1,prepend=0), axis=0)\n",
    "\n",
    "q1 = percentile_across_axis(np.diff(randomization_data,axis=1,prepend=0),10)\n",
    "q3 = percentile_across_axis(np.diff(randomization_data,axis=1,prepend=0),90)"
   ]
  },
  {
   "cell_type": "code",
   "execution_count": 466,
   "metadata": {
    "ExecuteTime": {
     "end_time": "2020-01-30T21:56:57.749603Z",
     "start_time": "2020-01-30T21:56:57.741652Z"
    }
   },
   "outputs": [
    {
     "data": {
      "text/plain": [
       "array([0.01549736, 0.06683381, 0.06837498, 0.06871574, 0.0685841 ,\n",
       "       0.06402222, 0.06133657, 0.05742115, 0.05055442, 0.04172633,\n",
       "       0.0389429 , 0.03791048, 0.03900187, 0.03660508, 0.03363258,\n",
       "       0.0329432 , 0.03246783, 0.03280631, 0.0320608 , 0.03271001,\n",
       "       0.03120721, 0.03342116, 0.03105022, 0.03022624, 0.0291954 ,\n",
       "       0.03014863, 0.0301975 , 0.02991801, 0.0302149 , 0.03050767,\n",
       "       0.02897991, 0.02983671, 0.03111743, 0.02824439, 0.03185099,\n",
       "       0.03056468, 0.02981115, 0.02972219, 0.02813306, 0.03083106,\n",
       "       0.02903496, 0.02914167, 0.03009847, 0.02980756, 0.03031355,\n",
       "       0.02920105, 0.0288269 , 0.02872813, 0.02715408, 0.02898342,\n",
       "       0.03193752, 0.02777594, 0.02957429, 0.02747093, 0.02929469,\n",
       "       0.02979691, 0.03271183, 0.02932154, 0.03004377])"
      ]
     },
     "execution_count": 466,
     "metadata": {},
     "output_type": "execute_result"
    }
   ],
   "source": [
    "s/m2"
   ]
  },
  {
   "cell_type": "code",
   "execution_count": 545,
   "metadata": {
    "ExecuteTime": {
     "end_time": "2020-02-01T00:00:16.135923Z",
     "start_time": "2020-02-01T00:00:16.127946Z"
    }
   },
   "outputs": [
    {
     "data": {
      "text/plain": [
       "array([262.,   2.,   0.,   0.,   2.,   2.,   2.,   2.,   2.,   2.,   2.,\n",
       "         2.,   2.,   2.,   2.])"
      ]
     },
     "execution_count": 545,
     "metadata": {},
     "output_type": "execute_result"
    }
   ],
   "source": [
    "ma"
   ]
  },
  {
   "cell_type": "code",
   "execution_count": 552,
   "metadata": {
    "ExecuteTime": {
     "end_time": "2020-02-01T00:01:08.770470Z",
     "start_time": "2020-02-01T00:01:08.488102Z"
    }
   },
   "outputs": [
    {
     "data": {
      "text/plain": [
       "(array([385., 344., 187.,  60.,   0.,  12.,   8.,   3.,   0.,   1.]),\n",
       " array([ 0. ,  1.6,  3.2,  4.8,  6.4,  8. ,  9.6, 11.2, 12.8, 14.4, 16. ]),\n",
       " <a list of 10 Patch objects>)"
      ]
     },
     "execution_count": 552,
     "metadata": {},
     "output_type": "execute_result"
    },
    {
     "data": {
      "image/png": "[encoded data removed]",
      "text/plain": [
       "<Figure size 432x288 with 1 Axes>"
      ]
     },
     "metadata": {
      "needs_background": "light"
     },
     "output_type": "display_data"
    }
   ],
   "source": [
    "plt.scatter()"
   ]
  },
  {
   "cell_type": "code",
   "execution_count": 483,
   "metadata": {
    "ExecuteTime": {
     "end_time": "2020-01-30T22:36:25.252224Z",
     "start_time": "2020-01-30T22:36:25.246241Z"
    }
   },
   "outputs": [
    {
     "data": {
      "text/plain": [
       "100"
      ]
     },
     "execution_count": 483,
     "metadata": {},
     "output_type": "execute_result"
    }
   ],
   "source": [
    "len(rbins)"
   ]
  },
  {
   "cell_type": "code",
   "execution_count": 498,
   "metadata": {
    "ExecuteTime": {
     "end_time": "2020-01-30T22:42:10.968089Z",
     "start_time": "2020-01-30T22:42:10.669981Z"
    }
   },
   "outputs": [
    {
     "data": {
      "text/plain": [
       "(0, 500)"
      ]
     },
     "execution_count": 498,
     "metadata": {},
     "output_type": "execute_result"
    },
    {
     "data": {
      "image/png": "[encoded data removed]",
      "text/plain": [
       "<Figure size 432x288 with 1 Axes>"
      ]
     },
     "metadata": {
      "needs_background": "light"
     },
     "output_type": "display_data"
    }
   ],
   "source": [
    "plt.plot(rbins,c_data)\n",
    "plt.plot(rbins,m,color=\"C2\")\n",
    "# plt.plot(rbins,c_data/m)\n",
    "plt.fill_between(rbins,q1, q3, alpha=0.2,color=\"C2\")\n",
    "plt.xlim([0,500])"
   ]
  },
  {
   "cell_type": "code",
   "execution_count": 603,
   "metadata": {
    "ExecuteTime": {
     "end_time": "2020-02-01T00:31:33.025577Z",
     "start_time": "2020-02-01T00:31:32.661382Z"
    }
   },
   "outputs": [
    {
     "data": {
      "text/plain": [
       "<matplotlib.legend.Legend at 0x260b9b558d0>"
      ]
     },
     "execution_count": 603,
     "metadata": {},
     "output_type": "execute_result"
    },
    {
     "data": {
      "image/png": "[encoded data removed]",
      "text/plain": [
       "<Figure size 432x288 with 1 Axes>"
      ]
     },
     "metadata": {
      "needs_background": "light"
     },
     "output_type": "display_data"
    }
   ],
   "source": [
    "# Plot mean and 1.96 stdev (95%) rather than median/percentiles which will be discrete and often zero.\n",
    "\n",
    "plt.plot(rbins,c_data+1,label=\"Observed\", marker='o')\n",
    "\n",
    "# Randomized\n",
    "# yy_obs = \n",
    "plt.plot(rbins,m+1, color=\"C3\", label=\"Cases distributed randomly\", marker='o')\n",
    "plt.fill_between(rbins,q1+1,q3+1, color=\"C3\", alpha=0.3)\n",
    "# plt.xscale(\"log\")\n",
    "# plt.yscale(\"log\")\n",
    "# xx = np.arange(300)\n",
    "# yy = []\n",
    "# yy_low = []\n",
    "# yy_high = []\n",
    "# ss = []\n",
    "\n",
    "# ff = 1\n",
    "# for i in range(len(rbins)):\n",
    "#     num_real = np.sum(c_data[i*ff:(i+1)*ff])\n",
    "#     num_exp_m = np.sum(m2[i*ff:(i+1)*ff])\n",
    "#     num_exp_q1 = np.sum(m2[i*ff:(i+1)*ff]-s[i*ff:(i+1)*ff])\n",
    "#     num_exp_q3 = np.sum(m2[i*ff:(i+1)*ff]+s[i*ff:(i+1)*ff])\n",
    "    \n",
    "#     yy.append(num_real)\n",
    "#     yy_obs_m.append(num_exp_m)\n",
    "#     yy_obs_low.append(num_exp_q3)\n",
    "#     yy_obs_high.append(num_exp_q1)\n",
    "#     ss.append(num_exp_m)\n",
    "    \n",
    "\n",
    "# ss = np.array(ss)/np.max(ss)*100\n",
    "    \n",
    "# xp = xx*50*ff\n",
    "# plt.scatter(rbins,yy, label=\"Ratio to mean\", color=\"C2\", s=ss)\n",
    "# plt.scatter(rbins,yy_low, label=\"Ratio to upper bound\", s=ss)\n",
    "# plt.scatter(rbins,yy_high, label=\"Ratio to upper bound\", s=ss)\n",
    "# # plt.fill_between(xx*50, yy_low,yy_high, color=\"C2\", alpha=0.2)\n",
    "# plt.axhline(1)\n",
    "plt.ylabel(\"Number of pairs of RDT+-RDT+ people\")\n",
    "plt.xlabel(\"Radius\")\n",
    "plt.legend()"
   ]
  },
  {
   "cell_type": "code",
   "execution_count": 660,
   "metadata": {
    "ExecuteTime": {
     "end_time": "2020-02-01T06:20:08.655658Z",
     "start_time": "2020-02-01T06:20:07.254535Z"
    }
   },
   "outputs": [
    {
     "data": {
      "text/plain": [
       "<matplotlib.legend.Legend at 0x260d14429b0>"
      ]
     },
     "execution_count": 660,
     "metadata": {},
     "output_type": "execute_result"
    },
    {
     "data": {
      "image/png": "[encoded data removed]",
      "text/plain": [
       "<Figure size 432x288 with 1 Axes>"
      ]
     },
     "metadata": {
      "needs_background": "light"
     },
     "output_type": "display_data"
    }
   ],
   "source": [
    "# Plot mean and 1.96 stdev (95%) rather than median/percentiles which will be discrete and often zero.\n",
    "y = c_data-m\n",
    "y2 = (c_data-m)/m\n",
    "y3 = np.cumsum(y2)\n",
    "# y1 = \n",
    "# y2 = c_data-q3\n",
    "plt.plot(rbins,y2,label=\"Observed\")\n",
    "# plt.fill_between(rbins, (c_data-q1)/m, (c_data-np.sqrt(c_data)-q3)/m, alpha=0.2)\n",
    "plt.axhline(0, linestyle='dashed', color='gray')\n",
    "plt.fill_between(rbins, (q1-m)/m, (q3-m)/m, alpha=0.2, color='gray')\n",
    "# plt.plot(rbins,np.cumsum(c_data-m),label=\"Observed\", marker='o')\n",
    "\n",
    "# Randomized\n",
    "# yy_obs = \n",
    "# plt.plot(rbins,m+1, color=\"C3\", label=\"Cases distributed randomly\", marker='o')\n",
    "# plt.fill_between(rbins,q1+1,q3+1, color=\"C3\", alpha=0.3)\n",
    "plt.ylabel(\"Number of pairs of RDT+-RDT+ people\")\n",
    "plt.xlabel(\"Radius\")\n",
    "plt.legend()"
   ]
  },
  {
   "cell_type": "code",
   "execution_count": 653,
   "metadata": {
    "ExecuteTime": {
     "end_time": "2020-02-01T06:17:53.686251Z",
     "start_time": "2020-02-01T06:17:53.680237Z"
    }
   },
   "outputs": [
    {
     "data": {
      "text/plain": [
       "array([0.00315865, 0.00677099, 0.00844491, 0.00807503, 0.00800641,\n",
       "       0.00878614, 0.0072105 , 0.00836125, 0.00827776, 0.00906249,\n",
       "       0.00861365, 0.00875645, 0.00774194, 0.00750544, 0.0077545 ,\n",
       "       0.0080265 , 0.00802753, 0.00816987, 0.00756448, 0.00743335,\n",
       "       0.00776478, 0.00791014, 0.00820555, 0.00762759, 0.0076011 ,\n",
       "       0.00777745, 0.00753864, 0.00764719, 0.00754293, 0.00779681])"
      ]
     },
     "execution_count": 653,
     "metadata": {},
     "output_type": "execute_result"
    }
   ],
   "source": [
    "np.sqrt(c_data)/c_data"
   ]
  },
  {
   "cell_type": "code",
   "execution_count": 541,
   "metadata": {
    "ExecuteTime": {
     "end_time": "2020-01-31T23:58:19.721378Z",
     "start_time": "2020-01-31T23:58:19.710865Z"
    }
   },
   "outputs": [
    {
     "name": "stdout",
     "output_type": "stream",
     "text": [
      "[[260.   0.   2. ...   8.   2.   2.]\n",
      " [266.   0.   2. ...   2.   0.   0.]\n",
      " [262.   0.   2. ...   2.   8.   4.]\n",
      " ...\n",
      " [266.   0.   2. ...   4.   0.   0.]\n",
      " [264.   2.   4. ...   4.   2.   4.]\n",
      " [260.   2.   2. ...   8.   0.   4.]]\n",
      "[3.4996937  2.19815832 1.54814857 1.58694675 1.84659579 2.16504596\n",
      " 2.15241632 2.21085956 2.06046111 2.15995463 2.33443783 2.39135025\n",
      " 2.44229318 2.40484844 2.31588514]\n"
     ]
    }
   ],
   "source": [
    "foo = np.diff(randomization_data, prepend=0)\n",
    "print(foo)\n",
    "print(np.std(foo, axis=0))"
   ]
  },
  {
   "cell_type": "code",
   "execution_count": null,
   "metadata": {},
   "outputs": [],
   "source": []
  },
  {
   "cell_type": "code",
   "execution_count": 528,
   "metadata": {
    "ExecuteTime": {
     "end_time": "2020-01-31T23:53:28.373833Z",
     "start_time": "2020-01-31T23:53:28.022773Z"
    }
   },
   "outputs": [
    {
     "name": "stderr",
     "output_type": "stream",
     "text": [
      "c:\\users\\jsuresh\\venv\\idm\\lib\\site-packages\\ipykernel_launcher.py:17: RuntimeWarning: divide by zero encountered in true_divide\n",
      "c:\\users\\jsuresh\\venv\\idm\\lib\\site-packages\\ipykernel_launcher.py:15: RuntimeWarning: invalid value encountered in true_divide\n",
      "  from ipykernel import kernelapp as app\n",
      "c:\\users\\jsuresh\\venv\\idm\\lib\\site-packages\\ipykernel_launcher.py:17: RuntimeWarning: invalid value encountered in true_divide\n",
      "c:\\users\\jsuresh\\venv\\idm\\lib\\site-packages\\ipykernel_launcher.py:15: RuntimeWarning: divide by zero encountered in true_divide\n",
      "  from ipykernel import kernelapp as app\n"
     ]
    },
    {
     "data": {
      "text/plain": [
       "<matplotlib.legend.Legend at 0x260b32a1320>"
      ]
     },
     "execution_count": 528,
     "metadata": {},
     "output_type": "execute_result"
    },
    {
     "data": {
      "image/png": "[encoded data removed]",
      "text/plain": [
       "<Figure size 432x288 with 1 Axes>"
      ]
     },
     "metadata": {
      "needs_background": "light"
     },
     "output_type": "display_data"
    }
   ],
   "source": [
    "# Plotting pair enrichment (raw)\n",
    "xx = np.arange(300)\n",
    "yy = []\n",
    "yy_low = []\n",
    "yy_high = []\n",
    "ss = []\n",
    "\n",
    "ff = 1\n",
    "for i in range(len(rbins)):\n",
    "    num_real = np.sum(c_data[i*ff:(i+1)*ff])\n",
    "    num_exp_m = np.sum(m[i*ff:(i+1)*ff])\n",
    "    num_exp_q1 = np.sum(q1[i*ff:(i+1)*ff])\n",
    "    num_exp_q3 = np.sum(q3[i*ff:(i+1)*ff])\n",
    "    \n",
    "    yy.append(num_real/num_exp_m)\n",
    "    yy_low.append(num_real/num_exp_q3)\n",
    "    yy_high.append(num_real/num_exp_q1)\n",
    "    ss.append(num_exp_m)\n",
    "    \n",
    "ss = np.array(ss)/np.max(ss)*100\n",
    "    \n",
    "xp = xx*50*ff\n",
    "plt.scatter(rbins,yy, label=\"Ratio to mean\", color=\"C2\", s=ss)\n",
    "plt.scatter(rbins,yy_low, label=\"Ratio to upper bound\", s=ss)\n",
    "plt.scatter(rbins,yy_high, label=\"Ratio to upper bound\", s=ss)\n",
    "# plt.fill_between(xx*50, yy_low,yy_high, color=\"C2\", alpha=0.2)\n",
    "plt.axhline(1)\n",
    "plt.legend()"
   ]
  },
  {
   "cell_type": "code",
   "execution_count": 531,
   "metadata": {
    "ExecuteTime": {
     "end_time": "2020-01-31T23:53:42.924338Z",
     "start_time": "2020-01-31T23:53:42.918356Z"
    }
   },
   "outputs": [
    {
     "data": {
      "text/plain": [
       "array([262.012,   1.79 ,   1.106,   1.24 ,   1.578,   2.024,   2.152,\n",
       "         2.11 ,   2.15 ,   2.314,   2.48 ,   2.462,   2.698,   2.552,\n",
       "         2.474])"
      ]
     },
     "execution_count": 531,
     "metadata": {},
     "output_type": "execute_result"
    }
   ],
   "source": [
    "m2"
   ]
  },
  {
   "cell_type": "code",
   "execution_count": 242,
   "metadata": {
    "ExecuteTime": {
     "end_time": "2020-01-30T19:20:57.004367Z",
     "start_time": "2020-01-30T19:20:56.987908Z"
    }
   },
   "outputs": [
    {
     "name": "stdout",
     "output_type": "stream",
     "text": [
      "Household enrichment  1.7306273062730628 1.769811320754717 1.7969348659003832\n",
      "10-50m enrichment  nan nan nan\n",
      "50-100m enrichment  nan nan nan\n",
      "100-150m enrichment  nan nan nan\n",
      "100-150m enrichment  nan nan nan\n"
     ]
    }
   ],
   "source": [
    "# ll = np.diff(c_data, prepend=0)/np.diff(q3, prepend=0)\n",
    "# mm = np.diff(c_data, prepend=0)/np.diff(m, prepend=0)\n",
    "# uu = np.diff(c_data, prepend=0)/np.diff(q1, prepend=0)\n",
    "print(\"Household enrichment \", c_data[0]/q3[0], c_data[0]/m[0], c_data[0]/q1[0])\n",
    "# print(\"Household enrichment \", np.sum(ll[:5]), np.sum(mm[:5]), np.sum(uu[:5]))\n",
    "print(\"10-50m enrichment \", np.sum(c_data[:5])-ll[0], np.sum(mm[:5])-mm[0], np.sum(uu[:5])-uu[0])\n",
    "print(\"50-100m enrichment \", np.sum(ll[:10])-np.sum(ll[:5]), np.sum(mm[:10])-np.sum(mm[:5]), np.sum(uu[:10])-np.sum(uu[:5]))\n",
    "print(\"100-150m enrichment \", np.sum(ll[:15])-np.sum(ll[:0]), np.sum(mm[:15])-np.sum(mm[:0]), np.sum(uu[:15])-np.sum(uu[:0]))\n",
    "print(\"100-150m enrichment \", np.sum(ll[:15])-np.sum(ll[:0]), np.sum(mm[:15])-np.sum(mm[:0]), np.sum(uu[:15])-np.sum(uu[:0]))\n"
   ]
  },
  {
   "cell_type": "code",
   "execution_count": 267,
   "metadata": {
    "ExecuteTime": {
     "end_time": "2020-01-30T19:25:26.579502Z",
     "start_time": "2020-01-30T19:25:26.572524Z"
    }
   },
   "outputs": [
    {
     "data": {
      "text/plain": [
       "4"
      ]
     },
     "execution_count": 267,
     "metadata": {},
     "output_type": "execute_result"
    }
   ],
   "source": [
    "np.sum(c_data[30:35]-c_data[30])"
   ]
  },
  {
   "cell_type": "code",
   "execution_count": 268,
   "metadata": {
    "ExecuteTime": {
     "end_time": "2020-01-30T19:25:32.942727Z",
     "start_time": "2020-01-30T19:25:32.934754Z"
    }
   },
   "outputs": [
    {
     "data": {
      "text/plain": [
       "12.0"
      ]
     },
     "execution_count": 268,
     "metadata": {},
     "output_type": "execute_result"
    }
   ],
   "source": [
    "np.sum(q1[30:35]-q1[30])"
   ]
  },
  {
   "cell_type": "code",
   "execution_count": 264,
   "metadata": {
    "ExecuteTime": {
     "end_time": "2020-01-30T19:25:04.458317Z",
     "start_time": "2020-01-30T19:25:04.452332Z"
    }
   },
   "outputs": [
    {
     "data": {
      "text/plain": [
       "4.5"
      ]
     },
     "execution_count": 264,
     "metadata": {},
     "output_type": "execute_result"
    }
   ],
   "source": [
    "18/4"
   ]
  },
  {
   "cell_type": "code",
   "execution_count": 195,
   "metadata": {
    "ExecuteTime": {
     "end_time": "2020-01-30T18:53:57.069759Z",
     "start_time": "2020-01-30T18:53:57.061780Z"
    }
   },
   "outputs": [
    {
     "data": {
      "text/plain": [
       "array([265.,   4.,   4.,   4.,   8.,   6.,   6.,   8.,   7.,   7.])"
      ]
     },
     "execution_count": 195,
     "metadata": {},
     "output_type": "execute_result"
    }
   ],
   "source": [
    "np.diff(m, prepend=0)"
   ]
  },
  {
   "cell_type": "code",
   "execution_count": 256,
   "metadata": {
    "ExecuteTime": {
     "end_time": "2020-01-30T19:23:31.815504Z",
     "start_time": "2020-01-30T19:23:31.809521Z"
    }
   },
   "outputs": [
    {
     "data": {
      "text/plain": [
       "(49,)"
      ]
     },
     "execution_count": 256,
     "metadata": {},
     "output_type": "execute_result"
    }
   ],
   "source": [
    "c_data.shape"
   ]
  },
  {
   "cell_type": "code",
   "execution_count": 258,
   "metadata": {
    "ExecuteTime": {
     "end_time": "2020-01-30T19:23:47.336387Z",
     "start_time": "2020-01-30T19:23:47.328381Z"
    }
   },
   "outputs": [
    {
     "data": {
      "text/plain": [
       "array([469, 471, 471, 471, 479, 483, 483, 485, 491, 491, 491, 491, 497,\n",
       "       499, 499, 499, 501, 501, 505, 505, 507, 507, 507, 509, 509, 513,\n",
       "       515, 517, 521, 521, 521, 521, 521, 523, 523, 523, 525, 533, 533,\n",
       "       533, 533, 533, 541, 543, 549, 551, 553, 553, 557])"
      ]
     },
     "execution_count": 258,
     "metadata": {},
     "output_type": "execute_result"
    }
   ],
   "source": [
    "c_data[:50001]"
   ]
  },
  {
   "cell_type": "markdown",
   "metadata": {
    "ExecuteTime": {
     "end_time": "2020-02-01T06:35:32.429858Z",
     "start_time": "2020-02-01T06:35:32.425089Z"
    }
   },
   "source": [
    "# Save individual figures, comparing to underyling 2pt"
   ]
  },
  {
   "cell_type": "code",
   "execution_count": 676,
   "metadata": {
    "ExecuteTime": {
     "end_time": "2020-02-01T06:48:40.414197Z",
     "start_time": "2020-02-01T06:44:43.713422Z"
    }
   },
   "outputs": [
    {
     "name": "stdout",
     "output_type": "stream",
     "text": [
      "('Batoka', 7)\n"
     ]
    },
    {
     "name": "stderr",
     "output_type": "stream",
     "text": [
      "c:\\users\\jsuresh\\venv\\idm\\lib\\site-packages\\ipykernel_launcher.py:15: DeprecationWarning: `comb` is deprecated!\n",
      "Importing `comb` from scipy.misc is deprecated in scipy 1.0.0. Use `scipy.special.comb` instead.\n",
      "  from ipykernel import kernelapp as app\n",
      "c:\\users\\jsuresh\\venv\\idm\\lib\\site-packages\\ipykernel_launcher.py:21: DeprecationWarning: `comb` is deprecated!\n",
      "Importing `comb` from scipy.misc is deprecated in scipy 1.0.0. Use `scipy.special.comb` instead.\n"
     ]
    },
    {
     "name": "stdout",
     "output_type": "stream",
     "text": [
      "('Batoka', 8)\n",
      "('Batoka', 9)\n",
      "('Batoka', 10)\n",
      "('Bbondo', 1)\n",
      "('Bbondo', 2)\n",
      "('Bbondo', 3)\n",
      "('Bbondo', 4)\n",
      "('Bbondo', 5)\n",
      "('Bbondo', 6)\n",
      "('Bbondo', 7)\n",
      "('Bbondo', 8)\n",
      "('Bbondo', 9)\n",
      "('Bbondo', 10)\n",
      "('Buleyamalima', 7)\n",
      "('Buleyamalima', 8)\n",
      "('Buleyamalima', 9)\n",
      "('Buleyamalima', 10)\n",
      "('Chaanga', 9)\n",
      "('Chabbobboma', 1)\n",
      "('Chabbobboma', 2)\n",
      "('Chabbobboma', 3)\n",
      "('Chabbobboma', 4)\n",
      "('Chabbobboma', 5)\n",
      "('Chabbobboma', 6)\n",
      "('Chasanga', 1)\n",
      "('Chasanga', 2)\n",
      "('Chasanga', 3)\n",
      "('Chasanga', 6)\n",
      "('Cheeba', 7)\n",
      "('Cheeba', 8)\n",
      "('Cheeba', 9)\n",
      "('Cheeba', 10)\n",
      "('Chipepo', 1)\n",
      "('Chipepo', 2)\n",
      "('Chipepo', 3)\n",
      "('Chipepo', 4)\n",
      "('Chipepo', 5)\n",
      "('Chipepo', 6)\n",
      "('Chipepo Siavonga', 1)\n",
      "('Chipepo Siavonga', 2)\n",
      "('Chipepo Siavonga', 3)\n",
      "('Chipepo Siavonga', 4)\n",
      "('Chipepo Siavonga', 5)\n",
      "('Chipepo Siavonga', 6)\n",
      "('Chisanga', 7)\n",
      "('Chisanga', 8)\n",
      "('Chisanga', 9)\n",
      "('Chiyabi', 1)\n",
      "('Chiyabi', 2)\n",
      "('Chiyabi', 3)\n",
      "('Chiyabi', 4)\n",
      "('Chiyabi', 5)\n",
      "('Chiyabi', 6)\n",
      "('Chiyabi', 7)\n",
      "('Chiyabi', 8)\n",
      "('Chiyabi', 9)\n",
      "('Chiyabi', 10)\n",
      "('Dimbwe', 7)\n",
      "('Dimbwe', 8)\n",
      "('Dimbwe', 9)\n",
      "('Dimbwe', 10)\n",
      "('Gwembe', 1)\n",
      "('Gwembe', 2)\n",
      "('Gwembe', 3)\n",
      "('Gwembe', 4)\n",
      "('Gwembe', 5)\n",
      "('Gwembe', 6)\n",
      "('Harmony', 7)\n",
      "('Harmony', 9)\n",
      "('Harmony', 10)\n",
      "('Ibbwemunyama', 7)\n",
      "('Ibbwemunyama', 9)\n",
      "('Ibbwemunyama', 10)\n",
      "('Jamba', 7)\n",
      "('Jamba', 8)\n",
      "('Jamba', 9)\n",
      "('Jamba', 10)\n",
      "('Jembo', 7)\n",
      "('Jembo', 8)\n",
      "('Jembo', 9)\n",
      "('Jembo', 10)\n",
      "('Kanchele', 7)\n",
      "('Kanchele', 8)\n",
      "('Kanchele', 9)\n",
      "('Kanchele', 10)\n",
      "('Kapululira', 1)\n",
      "('Kapululira', 2)\n",
      "('Kapululira', 3)\n",
      "('Kapululira', 4)\n",
      "('Kapululira', 5)\n",
      "('Kapululira', 6)\n",
      "('Kasikili', 7)\n",
      "('Kasikili', 8)\n",
      "('Kasikili', 9)\n",
      "('Kasikili', 10)\n",
      "('Kazimaulu', 7)\n",
      "('Kazimaulu', 8)\n",
      "('Kazimaulu', 9)\n",
      "('Kazimaulu', 10)\n",
      "('Lukande', 1)\n",
      "('Lukande', 2)\n",
      "('Lukande', 3)\n",
      "('Lukande', 4)\n",
      "('Lukande', 5)\n",
      "('Lukande', 6)\n",
      "('Lusitu', 1)\n",
      "('Lusitu', 2)\n",
      "('Lusitu', 3)\n",
      "('Lusitu', 4)\n",
      "('Lusitu', 5)\n",
      "('Lusitu', 6)\n",
      "('Luumbo', 1)\n",
      "('Luumbo', 2)\n",
      "('Luumbo', 3)\n",
      "('Luumbo', 4)\n",
      "('Luumbo', 5)\n",
      "('Luumbo', 6)\n",
      "('Luumbo', 7)\n",
      "('Luumbo', 8)\n",
      "('Luumbo', 9)\n",
      "('Luumbo', 10)\n",
      "('Luyaba', 7)\n",
      "('Luyaba', 9)\n",
      "('Maamba', 7)\n",
      "('Maamba', 8)\n",
      "('Maamba', 9)\n",
      "('Maamba', 10)\n",
      "('Manchanvwa', 7)\n",
      "('Manchanvwa', 8)\n",
      "('Manchanvwa', 9)\n",
      "('Manchanvwa', 10)\n",
      "('Mapatizya', 1)\n",
      "('Mapatizya', 2)\n",
      "('Mapatizya', 3)\n",
      "('Mapatizya', 4)\n",
      "('Mapatizya', 5)\n",
      "('Mapatizya', 6)\n",
      "('Mapatizya', 7)\n",
      "('Mapatizya', 8)\n",
      "('Mapatizya', 9)\n",
      "('Mapatizya', 10)\n",
      "('Masempela', 7)\n",
      "('Masempela', 8)\n",
      "('Masempela', 9)\n",
      "('Masempela', 10)\n",
      "('Masuku', 7)\n",
      "('Masuku', 8)\n",
      "('Masuku', 9)\n",
      "('Masuku', 10)\n",
      "('Masuku Mines', 7)\n",
      "('Masuku Mines', 8)\n",
      "('Masuku Mines', 9)\n",
      "('Masuku Mines', 10)\n",
      "('Matua', 7)\n",
      "('Matua', 8)\n",
      "('Matua', 9)\n",
      "('Matua', 10)\n",
      "('Moomba', 7)\n",
      "('Moomba', 9)\n",
      "('Mtendere', 1)\n",
      "('Mtendere', 2)\n",
      "('Mtendere', 3)\n",
      "('Mtendere', 4)\n",
      "('Mtendere', 5)\n",
      "('Mtendere', 6)\n",
      "('Mtendere', 7)\n",
      "('Mtendere', 8)\n",
      "('Mtendere', 9)\n",
      "('Mtendere', 10)\n",
      "('Munyama', 7)\n",
      "('Munyama', 8)\n",
      "('Munyama', 9)\n",
      "('Munyama', 10)\n",
      "('Munyumbwe', 1)\n",
      "('Munyumbwe', 2)\n",
      "('Munyumbwe', 3)\n",
      "('Munyumbwe', 4)\n",
      "('Munyumbwe', 5)\n",
      "('Munyumbwe', 6)\n",
      "('Munyumbwe', 7)\n",
      "('Munyumbwe', 8)\n",
      "('Munyumbwe', 9)\n",
      "('Munyumbwe', 10)\n",
      "('Nabutezi', 7)\n",
      "('Nabutezi', 8)\n",
      "('Nabutezi', 9)\n",
      "('Nabutezi', 10)\n",
      "('Nakempa', 7)\n",
      "('Nakempa', 9)\n",
      "('Nakempa', 10)\n",
      "('Namaila', 7)\n",
      "('Namaila', 8)\n",
      "('Namaila', 9)\n",
      "('Namaila', 10)\n",
      "('Nanduba', 7)\n",
      "('Nanduba', 8)\n",
      "('Nanduba', 9)\n",
      "('Nyanga Chaamwe', 1)\n",
      "('Nyanga Chaamwe', 2)\n",
      "('Nyanga Chaamwe', 3)\n",
      "('Nyanga Chaamwe', 4)\n",
      "('Nyanga Chaamwe', 5)\n",
      "('Nyanga Chaamwe', 6)\n",
      "('Siameja', 7)\n",
      "('Siameja', 8)\n",
      "('Siameja', 9)\n",
      "('Siameja', 10)\n",
      "('Siansowa', 7)\n",
      "('Siansowa', 8)\n",
      "('Siansowa', 9)\n",
      "('Siansowa', 10)\n",
      "('Sianyoolo', 7)\n",
      "('Sianyoolo', 8)\n",
      "('Sianyoolo', 9)\n",
      "('Sianyoolo', 10)\n",
      "('Siatwinda', 9)\n",
      "('Siavonga', 9)\n",
      "('Sikaneka', 7)\n",
      "('Sikaneka', 8)\n",
      "('Sikaneka', 9)\n",
      "('Sikaneka', 10)\n",
      "('Simukanka', 7)\n",
      "('Simukanka', 8)\n",
      "('Simukanka', 9)\n",
      "('Simukanka', 10)\n",
      "('Sinafala', 1)\n",
      "('Sinafala', 2)\n",
      "('Sinafala', 3)\n",
      "('Sinafala', 4)\n",
      "('Sinafala', 5)\n",
      "('Sinafala', 6)\n",
      "('Sinafala', 7)\n",
      "('Sinafala', 8)\n",
      "('Sinafala', 9)\n",
      "('Sinafala', 10)\n",
      "('Sinamalima', 1)\n",
      "('Sinamalima', 2)\n",
      "('Sinamalima', 3)\n",
      "('Sinamalima', 4)\n",
      "('Sinamalima', 5)\n",
      "('Sinamalima', 6)\n",
      "('Sinamalima', 7)\n",
      "('Sinamalima', 8)\n",
      "('Sinamalima', 9)\n",
      "('Sinamalima', 10)\n",
      "('Sinazeze', 7)\n",
      "('Sinazeze', 8)\n",
      "('Sinazeze', 9)\n",
      "('Sinazeze', 10)\n",
      "('Sinazongwe', 9)\n",
      "('Sinazongwe', 10)\n",
      "('Sulwegonde', 1)\n",
      "('Sulwegonde', 2)\n",
      "('Sulwegonde', 3)\n",
      "('Sulwegonde', 4)\n",
      "('Sulwegonde', 5)\n",
      "('Sulwegonde', 6)\n",
      "('Sulwegonde', 7)\n",
      "('Sulwegonde', 8)\n",
      "('Sulwegonde', 9)\n",
      "('Sulwegonde', 10)\n"
     ]
    },
    {
     "data": {
      "image/png": "[encoded data removed]",
      "text/plain": [
       "<Figure size 432x288 with 1 Axes>"
      ]
     },
     "metadata": {
      "needs_background": "light"
     },
     "output_type": "display_data"
    }
   ],
   "source": [
    "rbins = np.arange(5,5000,20)\n",
    "\n",
    "for ii, sdf in all_rds_df.groupby([\"catch\", \"round\"]):\n",
    "    catch_prev = sdf[\"catch_prev\"].iloc[0]\n",
    "    pos_cut = sdf[\"rdt_pos\"]==1\n",
    "    \n",
    "    if len(sdf) > 50 and np.sum(pos_cut) > 1:\n",
    "        print(ii)\n",
    "        # Create kdtree\n",
    "        pos_individuals_xy = np.array(sdf[[\"x\", \"y\"]][pos_cut])\n",
    "        \n",
    "        ckdt_pos = cKDTree(pos_individuals_xy)\n",
    "        c_data = ckdt_pos.count_neighbors(ckdt_pos, rbins)\n",
    "        n_pos = np.sum(pos_cut)\n",
    "        n_pos_pairs = scipy.misc.comb(n_pos,2)\n",
    "        c_data_norm = np.diff(c_data/n_pos_pairs, prepend=0)\n",
    "        \n",
    "        ckdt_all = cKDTree(np.array(sdf[[\"x\",\"y\"]]))\n",
    "        c_pop = ckdt_all.count_neighbors(ckdt_all, rbins)\n",
    "        n_pop = len(sdf)\n",
    "        n_pop_pairs = scipy.misc.comb(n_pop,2)\n",
    "        c_pop_norm = np.diff(c_pop/n_pop_pairs, prepend=0)\n",
    "       \n",
    "        plt.close('all')\n",
    "        plt.figure()\n",
    "        plt.plot(rbins,c_data_norm, label=\"cases\")\n",
    "        plt.plot(rbins, c_pop_norm, label=\"population\")\n",
    "#         plt.axhline(1)\n",
    "        plt.legend()\n",
    "        plt.savefig(\"vs_pop/{}_rd{}.png\".format(ii[0],ii[1]))\n"
   ]
  },
  {
   "cell_type": "code",
   "execution_count": 689,
   "metadata": {
    "ExecuteTime": {
     "end_time": "2020-02-01T07:02:10.124361Z",
     "start_time": "2020-02-01T07:01:46.685411Z"
    },
    "scrolled": true
   },
   "outputs": [
    {
     "name": "stdout",
     "output_type": "stream",
     "text": [
      "prev bin  0\n"
     ]
    },
    {
     "name": "stderr",
     "output_type": "stream",
     "text": [
      "c:\\users\\jsuresh\\venv\\idm\\lib\\site-packages\\ipykernel_launcher.py:28: DeprecationWarning: `comb` is deprecated!\n",
      "Importing `comb` from scipy.misc is deprecated in scipy 1.0.0. Use `scipy.special.comb` instead.\n",
      "c:\\users\\jsuresh\\venv\\idm\\lib\\site-packages\\ipykernel_launcher.py:34: DeprecationWarning: `comb` is deprecated!\n",
      "Importing `comb` from scipy.misc is deprecated in scipy 1.0.0. Use `scipy.special.comb` instead.\n"
     ]
    },
    {
     "name": "stdout",
     "output_type": "stream",
     "text": [
      "prev bin  1\n",
      "prev bin  2\n",
      "prev bin  3\n",
      "prev bin  4\n",
      "prev bin  5\n",
      "prev bin  6\n",
      "prev bin  7\n",
      "prev bin  8\n",
      "prev bin  9\n",
      "prev bin  10\n",
      "prev bin  11\n"
     ]
    },
    {
     "data": {
      "image/png": "[encoded data removed]",
      "text/plain": [
       "<Figure size 432x288 with 1 Axes>"
      ]
     },
     "metadata": {
      "needs_background": "light"
     },
     "output_type": "display_data"
    }
   ],
   "source": [
    "# Add things, giving each catchment EQUAL weight.\n",
    "\n",
    "rbins = np.arange(5,500,10)\n",
    "\n",
    "prev_bins = np.array([0,0.005,0.01,0.02,0.04,0.06,0.08,0.1,0.15,0.2,0.3,0.4,0.5])\n",
    "\n",
    "\n",
    "\n",
    "for pp in range(len(prev_bins)-1):\n",
    "    print(\"prev bin \",pp)\n",
    "    catch_weighted_data = np.zeros_like(rbins).astype(\"float\")\n",
    "    catch_weighted_underlying = np.zeros_like(rbins).astype(\"float\")\n",
    "    num_catch_in_prevbin = 0\n",
    "    \n",
    "    for ii, sdf in all_rds_df.groupby([\"catch\", \"round\"]):\n",
    "        catch_prev = sdf[\"catch_prev\"].iloc[0]\n",
    "        pos_cut = sdf[\"rdt_pos\"]==1\n",
    "        \n",
    "        if np.logical_and(catch_prev > prev_bins[pp], catch_prev <= prev_bins[pp+1]) and np.sum(pos_cut) > 1 and len(sdf) > 50:\n",
    "            num_catch_in_prevbin += 1\n",
    "#             print(ii)\n",
    "            # Create kdtree\n",
    "            pos_individuals_xy = np.array(sdf[[\"x\", \"y\"]][pos_cut])\n",
    "\n",
    "            ckdt_pos = cKDTree(pos_individuals_xy)\n",
    "            c_data = ckdt_pos.count_neighbors(ckdt_pos, rbins)\n",
    "            n_pos = np.sum(pos_cut)\n",
    "            n_pos_pairs = scipy.misc.comb(n_pos,2)\n",
    "            c_data_norm = np.diff(c_data/n_pos_pairs, prepend=0)\n",
    "\n",
    "            ckdt_all = cKDTree(np.array(sdf[[\"x\",\"y\"]]))\n",
    "            c_pop = ckdt_all.count_neighbors(ckdt_all, rbins)\n",
    "            n_pop = len(sdf)\n",
    "            n_pop_pairs = scipy.misc.comb(n_pop,2)\n",
    "            c_pop_norm = np.diff(c_pop/n_pop_pairs, prepend=0)\n",
    "\n",
    "            catch_weighted_data += c_data_norm\n",
    "            catch_weighted_underlying += c_pop_norm\n",
    "            \n",
    "            \n",
    "    plt.close('all')\n",
    "    plt.figure()\n",
    "    plt.plot(rbins,catch_weighted_data, label=\"cases\")\n",
    "    plt.plot(rbins, catch_weighted_underlying, label=\"population\")\n",
    "#         plt.axhline(1)\n",
    "    plt.legend()\n",
    "    plt.savefig(\"vs_pop/prev_{}_{}.png\".format(prev_bins[pp],prev_bins[pp+1]))\n"
   ]
  },
  {
   "cell_type": "code",
   "execution_count": 693,
   "metadata": {
    "ExecuteTime": {
     "end_time": "2020-02-01T07:07:04.909537Z",
     "start_time": "2020-02-01T07:06:39.176982Z"
    }
   },
   "outputs": [
    {
     "name": "stdout",
     "output_type": "stream",
     "text": [
      "prev bin  0\n"
     ]
    },
    {
     "name": "stderr",
     "output_type": "stream",
     "text": [
      "c:\\users\\jsuresh\\venv\\idm\\lib\\site-packages\\ipykernel_launcher.py:27: DeprecationWarning: `comb` is deprecated!\n",
      "Importing `comb` from scipy.misc is deprecated in scipy 1.0.0. Use `scipy.special.comb` instead.\n",
      "c:\\users\\jsuresh\\venv\\idm\\lib\\site-packages\\ipykernel_launcher.py:33: DeprecationWarning: `comb` is deprecated!\n",
      "Importing `comb` from scipy.misc is deprecated in scipy 1.0.0. Use `scipy.special.comb` instead.\n"
     ]
    },
    {
     "name": "stdout",
     "output_type": "stream",
     "text": [
      "prev bin  1\n",
      "prev bin  2\n",
      "prev bin  3\n",
      "prev bin  4\n",
      "prev bin  5\n",
      "prev bin  6\n",
      "prev bin  7\n",
      "prev bin  8\n",
      "prev bin  9\n",
      "prev bin  10\n",
      "prev bin  11\n"
     ]
    },
    {
     "data": {
      "image/png": "[encoded data removed]",
      "text/plain": [
       "<Figure size 432x288 with 1 Axes>"
      ]
     },
     "metadata": {
      "needs_background": "light"
     },
     "output_type": "display_data"
    }
   ],
   "source": [
    "# Add things, giving each catchment POPULATION-weight.\n",
    "\n",
    "rbins = np.arange(5,500,10)\n",
    "\n",
    "prev_bins = np.array([0,0.005,0.01,0.02,0.04,0.06,0.08,0.1,0.15,0.2,0.3,0.4,0.5])\n",
    "\n",
    "\n",
    "\n",
    "for pp in range(len(prev_bins)-1):\n",
    "    print(\"prev bin \",pp)\n",
    "    pop_weighted_data = np.zeros_like(rbins).astype(\"float\")\n",
    "    pop_weighted_underlying = np.zeros_like(rbins).astype(\"float\")\n",
    "    num_pop_in_prevbin = 0\n",
    "    \n",
    "    for ii, sdf in all_rds_df.groupby([\"catch\", \"round\"]):\n",
    "        catch_prev = sdf[\"catch_prev\"].iloc[0]\n",
    "        pos_cut = sdf[\"rdt_pos\"]==1\n",
    "        \n",
    "        if np.logical_and(catch_prev > prev_bins[pp], catch_prev <= prev_bins[pp+1]) and np.sum(pos_cut) > 1 and len(sdf) > 50:\n",
    "            num_pos = np.sum(pos_cut)\n",
    "            num_pop_in_prevbin += num_pos\n",
    "            pos_individuals_xy = np.array(sdf[[\"x\", \"y\"]][pos_cut])\n",
    "\n",
    "            ckdt_pos = cKDTree(pos_individuals_xy)\n",
    "            c_data = ckdt_pos.count_neighbors(ckdt_pos, rbins)\n",
    "            n_pos = np.sum(pos_cut)\n",
    "            n_pos_pairs = scipy.misc.comb(n_pos,2)\n",
    "            c_data_norm = np.diff(c_data/n_pos_pairs, prepend=0)\n",
    "\n",
    "            ckdt_all = cKDTree(np.array(sdf[[\"x\",\"y\"]]))\n",
    "            c_pop = ckdt_all.count_neighbors(ckdt_all, rbins)\n",
    "            n_pop = len(sdf)\n",
    "            n_pop_pairs = scipy.misc.comb(n_pop,2)\n",
    "            c_pop_norm = np.diff(c_pop/n_pop_pairs, prepend=0)\n",
    "\n",
    "            pop_weighted_data += num_pos * c_data_norm\n",
    "            pop_weighted_underlying += num_pos * c_pop_norm\n",
    "            \n",
    "    # Normalize\n",
    "    pop_weighted_data /= num_pop_in_prevbin\n",
    "    pop_weighted_underlying /= num_pop_in_prevbin\n",
    "            \n",
    "    plt.close('all')\n",
    "    plt.figure()\n",
    "    plt.plot(rbins,pop_weighted_data, label=\"cases\")\n",
    "    plt.plot(rbins, pop_weighted_underlying, label=\"population\")\n",
    "#         plt.axhline(1)\n",
    "    plt.legend()\n",
    "    plt.savefig(\"vs_pop/pop_weighted_prev_{}_{}.png\".format(prev_bins[pp],prev_bins[pp+1]))\n"
   ]
  },
  {
   "cell_type": "code",
   "execution_count": 672,
   "metadata": {
    "ExecuteTime": {
     "end_time": "2020-02-01T06:42:25.638912Z",
     "start_time": "2020-02-01T06:42:25.607971Z"
    }
   },
   "outputs": [
    {
     "name": "stderr",
     "output_type": "stream",
     "text": [
      "c:\\users\\jsuresh\\venv\\idm\\lib\\site-packages\\ipykernel_launcher.py:6: DeprecationWarning: `comb` is deprecated!\n",
      "Importing `comb` from scipy.misc is deprecated in scipy 1.0.0. Use `scipy.special.comb` instead.\n",
      "  \n",
      "c:\\users\\jsuresh\\venv\\idm\\lib\\site-packages\\ipykernel_launcher.py:12: DeprecationWarning: `comb` is deprecated!\n",
      "Importing `comb` from scipy.misc is deprecated in scipy 1.0.0. Use `scipy.special.comb` instead.\n",
      "  if sys.path[0] == '':\n"
     ]
    }
   ],
   "source": [
    "        pos_individuals_xy = np.array(sdf[[\"x\", \"y\"]][pos_cut])\n",
    "        \n",
    "        ckdt_pos = cKDTree(pos_individuals_xy)\n",
    "        c_data = ckdt_pos.count_neighbors(ckdt_pos, rbins)\n",
    "        n_pos = np.sum(pos_cut)\n",
    "        n_pos_pairs = scipy.misc.comb(n_pos,2)\n",
    "        c_data_norm = c_data/n_pos_pairs\n",
    "        \n",
    "        ckdt_all = cKDTree(np.array(sdf[[\"x\",\"y\"]]))\n",
    "        c_pop = ckdt_all.count_neighbors(ckdt_all, rbins)\n",
    "        n_pop = len(sdf)\n",
    "        n_pop_pairs = scipy.misc.comb(n_pop,2)\n",
    "        c_pop_norm = c_pop/n_pop_pairs"
   ]
  },
  {
   "cell_type": "code",
   "execution_count": 673,
   "metadata": {
    "ExecuteTime": {
     "end_time": "2020-02-01T06:42:38.254639Z",
     "start_time": "2020-02-01T06:42:38.247628Z"
    }
   },
   "outputs": [
    {
     "data": {
      "text/plain": [
       "array([0.00422813, 0.00500436, 0.00559039, 0.00607083, 0.00645835,\n",
       "       0.00704359, 0.00762013, 0.00834811, 0.00905079, 0.00989147,\n",
       "       0.01068273, 0.01170017, 0.01257407, 0.01332024, 0.01432582,\n",
       "       0.01542551, 0.01647894, 0.01733504, 0.0181694 , 0.01913425,\n",
       "       0.02017185, 0.02111258, 0.02196117, 0.02286512, 0.02351837,\n",
       "       0.02450813, 0.02547773, 0.02628124, 0.02720615, 0.02825404])"
      ]
     },
     "execution_count": 673,
     "metadata": {},
     "output_type": "execute_result"
    }
   ],
   "source": [
    "c_pop_norm"
   ]
  },
  {
   "cell_type": "code",
   "execution_count": 669,
   "metadata": {
    "ExecuteTime": {
     "end_time": "2020-02-01T06:42:03.804487Z",
     "start_time": "2020-02-01T06:42:03.797504Z"
    }
   },
   "outputs": [
    {
     "data": {
      "text/plain": [
       "5057790.0"
      ]
     },
     "execution_count": 669,
     "metadata": {},
     "output_type": "execute_result"
    }
   ],
   "source": [
    "n_pop_pairs"
   ]
  },
  {
   "cell_type": "code",
   "execution_count": 670,
   "metadata": {
    "ExecuteTime": {
     "end_time": "2020-02-01T06:42:08.385215Z",
     "start_time": "2020-02-01T06:42:08.379229Z"
    }
   },
   "outputs": [
    {
     "data": {
      "text/plain": [
       "1953.0"
      ]
     },
     "execution_count": 670,
     "metadata": {},
     "output_type": "execute_result"
    }
   ],
   "source": [
    "n_pos_pairs"
   ]
  },
  {
   "cell_type": "code",
   "execution_count": 671,
   "metadata": {
    "ExecuteTime": {
     "end_time": "2020-02-01T06:42:14.663633Z",
     "start_time": "2020-02-01T06:42:14.656652Z"
    }
   },
   "outputs": [
    {
     "data": {
      "text/plain": [
       "array([123, 127, 127, 127, 127, 127, 127, 127, 127, 129, 129, 141, 141,\n",
       "       141, 141, 141, 141, 147, 147, 147, 155, 155, 155, 155, 161, 161,\n",
       "       161, 163, 165, 183], dtype=int64)"
      ]
     },
     "execution_count": 671,
     "metadata": {},
     "output_type": "execute_result"
    }
   ],
   "source": [
    "c_pop"
   ]
  },
  {
   "cell_type": "code",
   "execution_count": 694,
   "metadata": {
    "ExecuteTime": {
     "end_time": "2020-02-01T07:13:29.279207Z",
     "start_time": "2020-02-01T07:13:29.234923Z"
    }
   },
   "outputs": [
    {
     "data": {
      "text/html": [
       "<div>\n",
       "<style scoped>\n",
       "    .dataframe tbody tr th:only-of-type {\n",
       "        vertical-align: middle;\n",
       "    }\n",
       "\n",
       "    .dataframe tbody tr th {\n",
       "        vertical-align: top;\n",
       "    }\n",
       "\n",
       "    .dataframe thead th {\n",
       "        text-align: right;\n",
       "    }\n",
       "</style>\n",
       "<table border=\"1\" class=\"dataframe\">\n",
       "  <thead>\n",
       "    <tr style=\"text-align: right;\">\n",
       "      <th></th>\n",
       "      <th>catch</th>\n",
       "      <th>round</th>\n",
       "      <th>catch_prev</th>\n",
       "    </tr>\n",
       "  </thead>\n",
       "  <tbody>\n",
       "    <tr>\n",
       "      <th>0</th>\n",
       "      <td>Bbondo</td>\n",
       "      <td>1</td>\n",
       "      <td>0.092425</td>\n",
       "    </tr>\n",
       "    <tr>\n",
       "      <th>1</th>\n",
       "      <td>Chabbobboma</td>\n",
       "      <td>1</td>\n",
       "      <td>0.430073</td>\n",
       "    </tr>\n",
       "    <tr>\n",
       "      <th>2</th>\n",
       "      <td>Chasanga</td>\n",
       "      <td>1</td>\n",
       "      <td>0.295122</td>\n",
       "    </tr>\n",
       "    <tr>\n",
       "      <th>3</th>\n",
       "      <td>Chipepo</td>\n",
       "      <td>1</td>\n",
       "      <td>0.324651</td>\n",
       "    </tr>\n",
       "    <tr>\n",
       "      <th>4</th>\n",
       "      <td>Chipepo Siavonga</td>\n",
       "      <td>1</td>\n",
       "      <td>0.034213</td>\n",
       "    </tr>\n",
       "    <tr>\n",
       "      <th>5</th>\n",
       "      <td>Chiyabi</td>\n",
       "      <td>1</td>\n",
       "      <td>0.472422</td>\n",
       "    </tr>\n",
       "    <tr>\n",
       "      <th>6</th>\n",
       "      <td>Gwembe</td>\n",
       "      <td>1</td>\n",
       "      <td>0.013803</td>\n",
       "    </tr>\n",
       "    <tr>\n",
       "      <th>7</th>\n",
       "      <td>Kapululira</td>\n",
       "      <td>1</td>\n",
       "      <td>0.027987</td>\n",
       "    </tr>\n",
       "    <tr>\n",
       "      <th>8</th>\n",
       "      <td>Lukande</td>\n",
       "      <td>1</td>\n",
       "      <td>0.018696</td>\n",
       "    </tr>\n",
       "    <tr>\n",
       "      <th>9</th>\n",
       "      <td>Lusitu</td>\n",
       "      <td>1</td>\n",
       "      <td>0.032887</td>\n",
       "    </tr>\n",
       "    <tr>\n",
       "      <th>10</th>\n",
       "      <td>Luumbo</td>\n",
       "      <td>1</td>\n",
       "      <td>0.422594</td>\n",
       "    </tr>\n",
       "    <tr>\n",
       "      <th>11</th>\n",
       "      <td>Mapatizya</td>\n",
       "      <td>1</td>\n",
       "      <td>0.052316</td>\n",
       "    </tr>\n",
       "    <tr>\n",
       "      <th>12</th>\n",
       "      <td>Mtendere</td>\n",
       "      <td>1</td>\n",
       "      <td>0.058154</td>\n",
       "    </tr>\n",
       "    <tr>\n",
       "      <th>13</th>\n",
       "      <td>Munyumbwe</td>\n",
       "      <td>1</td>\n",
       "      <td>0.271596</td>\n",
       "    </tr>\n",
       "    <tr>\n",
       "      <th>14</th>\n",
       "      <td>Nyanga Chaamwe</td>\n",
       "      <td>1</td>\n",
       "      <td>0.110439</td>\n",
       "    </tr>\n",
       "    <tr>\n",
       "      <th>15</th>\n",
       "      <td>Sinafala</td>\n",
       "      <td>1</td>\n",
       "      <td>0.462043</td>\n",
       "    </tr>\n",
       "    <tr>\n",
       "      <th>16</th>\n",
       "      <td>Sinamalima</td>\n",
       "      <td>1</td>\n",
       "      <td>0.491609</td>\n",
       "    </tr>\n",
       "    <tr>\n",
       "      <th>17</th>\n",
       "      <td>Sulwegonde</td>\n",
       "      <td>1</td>\n",
       "      <td>0.275845</td>\n",
       "    </tr>\n",
       "    <tr>\n",
       "      <th>18</th>\n",
       "      <td>Bbondo</td>\n",
       "      <td>2</td>\n",
       "      <td>0.022165</td>\n",
       "    </tr>\n",
       "    <tr>\n",
       "      <th>19</th>\n",
       "      <td>Chabbobboma</td>\n",
       "      <td>2</td>\n",
       "      <td>0.195294</td>\n",
       "    </tr>\n",
       "    <tr>\n",
       "      <th>20</th>\n",
       "      <td>Chasanga</td>\n",
       "      <td>2</td>\n",
       "      <td>0.168201</td>\n",
       "    </tr>\n",
       "    <tr>\n",
       "      <th>21</th>\n",
       "      <td>Chipepo</td>\n",
       "      <td>2</td>\n",
       "      <td>0.173514</td>\n",
       "    </tr>\n",
       "    <tr>\n",
       "      <th>22</th>\n",
       "      <td>Chipepo Siavonga</td>\n",
       "      <td>2</td>\n",
       "      <td>0.013933</td>\n",
       "    </tr>\n",
       "    <tr>\n",
       "      <th>23</th>\n",
       "      <td>Chiyabi</td>\n",
       "      <td>2</td>\n",
       "      <td>0.280829</td>\n",
       "    </tr>\n",
       "    <tr>\n",
       "      <th>24</th>\n",
       "      <td>Gwembe</td>\n",
       "      <td>2</td>\n",
       "      <td>0.007328</td>\n",
       "    </tr>\n",
       "    <tr>\n",
       "      <th>25</th>\n",
       "      <td>Kapululira</td>\n",
       "      <td>2</td>\n",
       "      <td>0.032376</td>\n",
       "    </tr>\n",
       "    <tr>\n",
       "      <th>26</th>\n",
       "      <td>Lukande</td>\n",
       "      <td>2</td>\n",
       "      <td>0.004023</td>\n",
       "    </tr>\n",
       "    <tr>\n",
       "      <th>27</th>\n",
       "      <td>Lusitu</td>\n",
       "      <td>2</td>\n",
       "      <td>0.017237</td>\n",
       "    </tr>\n",
       "    <tr>\n",
       "      <th>28</th>\n",
       "      <td>Luumbo</td>\n",
       "      <td>2</td>\n",
       "      <td>0.275744</td>\n",
       "    </tr>\n",
       "    <tr>\n",
       "      <th>29</th>\n",
       "      <td>Mapatizya</td>\n",
       "      <td>2</td>\n",
       "      <td>0.040537</td>\n",
       "    </tr>\n",
       "    <tr>\n",
       "      <th>...</th>\n",
       "      <td>...</td>\n",
       "      <td>...</td>\n",
       "      <td>...</td>\n",
       "    </tr>\n",
       "    <tr>\n",
       "      <th>263</th>\n",
       "      <td>Masempela</td>\n",
       "      <td>10</td>\n",
       "      <td>0.009648</td>\n",
       "    </tr>\n",
       "    <tr>\n",
       "      <th>264</th>\n",
       "      <td>Masuku</td>\n",
       "      <td>10</td>\n",
       "      <td>0.011107</td>\n",
       "    </tr>\n",
       "    <tr>\n",
       "      <th>265</th>\n",
       "      <td>Masuku Mines</td>\n",
       "      <td>10</td>\n",
       "      <td>0.013019</td>\n",
       "    </tr>\n",
       "    <tr>\n",
       "      <th>266</th>\n",
       "      <td>Matua</td>\n",
       "      <td>10</td>\n",
       "      <td>0.012239</td>\n",
       "    </tr>\n",
       "    <tr>\n",
       "      <th>267</th>\n",
       "      <td>Mochipapa</td>\n",
       "      <td>10</td>\n",
       "      <td>0.000000</td>\n",
       "    </tr>\n",
       "    <tr>\n",
       "      <th>268</th>\n",
       "      <td>Moomba</td>\n",
       "      <td>10</td>\n",
       "      <td>0.000460</td>\n",
       "    </tr>\n",
       "    <tr>\n",
       "      <th>269</th>\n",
       "      <td>Moyo</td>\n",
       "      <td>10</td>\n",
       "      <td>0.000000</td>\n",
       "    </tr>\n",
       "    <tr>\n",
       "      <th>270</th>\n",
       "      <td>Mtendere</td>\n",
       "      <td>10</td>\n",
       "      <td>0.009534</td>\n",
       "    </tr>\n",
       "    <tr>\n",
       "      <th>271</th>\n",
       "      <td>Munyama</td>\n",
       "      <td>10</td>\n",
       "      <td>0.022862</td>\n",
       "    </tr>\n",
       "    <tr>\n",
       "      <th>272</th>\n",
       "      <td>Munyumbwe</td>\n",
       "      <td>10</td>\n",
       "      <td>0.004971</td>\n",
       "    </tr>\n",
       "    <tr>\n",
       "      <th>273</th>\n",
       "      <td>Nabutezi</td>\n",
       "      <td>10</td>\n",
       "      <td>0.019188</td>\n",
       "    </tr>\n",
       "    <tr>\n",
       "      <th>274</th>\n",
       "      <td>Nakempa</td>\n",
       "      <td>10</td>\n",
       "      <td>0.004658</td>\n",
       "    </tr>\n",
       "    <tr>\n",
       "      <th>275</th>\n",
       "      <td>Namaila</td>\n",
       "      <td>10</td>\n",
       "      <td>0.004704</td>\n",
       "    </tr>\n",
       "    <tr>\n",
       "      <th>276</th>\n",
       "      <td>Nanduba</td>\n",
       "      <td>10</td>\n",
       "      <td>0.000000</td>\n",
       "    </tr>\n",
       "    <tr>\n",
       "      <th>277</th>\n",
       "      <td>Ndondi</td>\n",
       "      <td>10</td>\n",
       "      <td>0.076923</td>\n",
       "    </tr>\n",
       "    <tr>\n",
       "      <th>278</th>\n",
       "      <td>Nyanga Chaamwe</td>\n",
       "      <td>10</td>\n",
       "      <td>0.000000</td>\n",
       "    </tr>\n",
       "    <tr>\n",
       "      <th>279</th>\n",
       "      <td>Siameja</td>\n",
       "      <td>10</td>\n",
       "      <td>0.008335</td>\n",
       "    </tr>\n",
       "    <tr>\n",
       "      <th>280</th>\n",
       "      <td>Siamuleya</td>\n",
       "      <td>10</td>\n",
       "      <td>0.000000</td>\n",
       "    </tr>\n",
       "    <tr>\n",
       "      <th>281</th>\n",
       "      <td>Siansowa</td>\n",
       "      <td>10</td>\n",
       "      <td>0.015059</td>\n",
       "    </tr>\n",
       "    <tr>\n",
       "      <th>282</th>\n",
       "      <td>Sianyoolo</td>\n",
       "      <td>10</td>\n",
       "      <td>0.010636</td>\n",
       "    </tr>\n",
       "    <tr>\n",
       "      <th>283</th>\n",
       "      <td>Siatwinda</td>\n",
       "      <td>10</td>\n",
       "      <td>0.000000</td>\n",
       "    </tr>\n",
       "    <tr>\n",
       "      <th>284</th>\n",
       "      <td>Sikalongo</td>\n",
       "      <td>10</td>\n",
       "      <td>0.000000</td>\n",
       "    </tr>\n",
       "    <tr>\n",
       "      <th>285</th>\n",
       "      <td>Sikaneka</td>\n",
       "      <td>10</td>\n",
       "      <td>0.032753</td>\n",
       "    </tr>\n",
       "    <tr>\n",
       "      <th>286</th>\n",
       "      <td>Simakutu</td>\n",
       "      <td>10</td>\n",
       "      <td>0.000000</td>\n",
       "    </tr>\n",
       "    <tr>\n",
       "      <th>287</th>\n",
       "      <td>Simukanka</td>\n",
       "      <td>10</td>\n",
       "      <td>0.004404</td>\n",
       "    </tr>\n",
       "    <tr>\n",
       "      <th>288</th>\n",
       "      <td>Sinafala</td>\n",
       "      <td>10</td>\n",
       "      <td>0.029499</td>\n",
       "    </tr>\n",
       "    <tr>\n",
       "      <th>289</th>\n",
       "      <td>Sinamalima</td>\n",
       "      <td>10</td>\n",
       "      <td>0.039709</td>\n",
       "    </tr>\n",
       "    <tr>\n",
       "      <th>290</th>\n",
       "      <td>Sinazeze</td>\n",
       "      <td>10</td>\n",
       "      <td>0.023683</td>\n",
       "    </tr>\n",
       "    <tr>\n",
       "      <th>291</th>\n",
       "      <td>Sinazongwe</td>\n",
       "      <td>10</td>\n",
       "      <td>0.027397</td>\n",
       "    </tr>\n",
       "    <tr>\n",
       "      <th>292</th>\n",
       "      <td>Sulwegonde</td>\n",
       "      <td>10</td>\n",
       "      <td>0.007665</td>\n",
       "    </tr>\n",
       "  </tbody>\n",
       "</table>\n",
       "<p>293 rows × 3 columns</p>\n",
       "</div>"
      ],
      "text/plain": [
       "                catch  round  catch_prev\n",
       "0              Bbondo      1    0.092425\n",
       "1         Chabbobboma      1    0.430073\n",
       "2            Chasanga      1    0.295122\n",
       "3             Chipepo      1    0.324651\n",
       "4    Chipepo Siavonga      1    0.034213\n",
       "5             Chiyabi      1    0.472422\n",
       "6              Gwembe      1    0.013803\n",
       "7          Kapululira      1    0.027987\n",
       "8             Lukande      1    0.018696\n",
       "9              Lusitu      1    0.032887\n",
       "10             Luumbo      1    0.422594\n",
       "11          Mapatizya      1    0.052316\n",
       "12           Mtendere      1    0.058154\n",
       "13          Munyumbwe      1    0.271596\n",
       "14     Nyanga Chaamwe      1    0.110439\n",
       "15           Sinafala      1    0.462043\n",
       "16         Sinamalima      1    0.491609\n",
       "17         Sulwegonde      1    0.275845\n",
       "18             Bbondo      2    0.022165\n",
       "19        Chabbobboma      2    0.195294\n",
       "20           Chasanga      2    0.168201\n",
       "21            Chipepo      2    0.173514\n",
       "22   Chipepo Siavonga      2    0.013933\n",
       "23            Chiyabi      2    0.280829\n",
       "24             Gwembe      2    0.007328\n",
       "25         Kapululira      2    0.032376\n",
       "26            Lukande      2    0.004023\n",
       "27             Lusitu      2    0.017237\n",
       "28             Luumbo      2    0.275744\n",
       "29          Mapatizya      2    0.040537\n",
       "..                ...    ...         ...\n",
       "263         Masempela     10    0.009648\n",
       "264            Masuku     10    0.011107\n",
       "265      Masuku Mines     10    0.013019\n",
       "266             Matua     10    0.012239\n",
       "267         Mochipapa     10    0.000000\n",
       "268            Moomba     10    0.000460\n",
       "269              Moyo     10    0.000000\n",
       "270          Mtendere     10    0.009534\n",
       "271           Munyama     10    0.022862\n",
       "272         Munyumbwe     10    0.004971\n",
       "273          Nabutezi     10    0.019188\n",
       "274           Nakempa     10    0.004658\n",
       "275           Namaila     10    0.004704\n",
       "276           Nanduba     10    0.000000\n",
       "277            Ndondi     10    0.076923\n",
       "278    Nyanga Chaamwe     10    0.000000\n",
       "279           Siameja     10    0.008335\n",
       "280         Siamuleya     10    0.000000\n",
       "281          Siansowa     10    0.015059\n",
       "282         Sianyoolo     10    0.010636\n",
       "283         Siatwinda     10    0.000000\n",
       "284         Sikalongo     10    0.000000\n",
       "285          Sikaneka     10    0.032753\n",
       "286          Simakutu     10    0.000000\n",
       "287         Simukanka     10    0.004404\n",
       "288          Sinafala     10    0.029499\n",
       "289        Sinamalima     10    0.039709\n",
       "290          Sinazeze     10    0.023683\n",
       "291        Sinazongwe     10    0.027397\n",
       "292        Sulwegonde     10    0.007665\n",
       "\n",
       "[293 rows x 3 columns]"
      ]
     },
     "execution_count": 694,
     "metadata": {},
     "output_type": "execute_result"
    }
   ],
   "source": [
    "cdf"
   ]
  },
  {
   "cell_type": "code",
   "execution_count": null,
   "metadata": {},
   "outputs": [],
   "source": []
  }
 ],
 "metadata": {
  "kernelspec": {
   "display_name": "Python 3",
   "language": "python",
   "name": "python3"
  },
  "language_info": {
   "codemirror_mode": {
    "name": "ipython",
    "version": 3
   },
   "file_extension": ".py",
   "mimetype": "text/x-python",
   "name": "python",
   "nbconvert_exporter": "python",
   "pygments_lexer": "ipython3",
   "version": "3.6.6"
  },
  "toc": {
   "base_numbering": 1,
   "nav_menu": {},
   "number_sections": true,
   "sideBar": true,
   "skip_h1_title": true,
   "title_cell": "Table of Contents",
   "title_sidebar": "Contents",
   "toc_cell": true,
   "toc_position": {
    "height": "calc(100% - 180px)",
    "left": "10px",
    "top": "150px",
    "width": "259.667px"
   },
   "toc_section_display": true,
   "toc_window_display": true
  }
 },
 "nbformat": 4,
 "nbformat_minor": 2
}
