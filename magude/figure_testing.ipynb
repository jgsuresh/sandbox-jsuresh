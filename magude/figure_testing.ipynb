{
 "cells": [
  {
   "cell_type": "code",
   "execution_count": 1,
   "metadata": {},
   "outputs": [],
   "source": [
    "%matplotlib inline\n",
    "\n",
    "import numpy as np\n",
    "import pandas as pd\n",
    "import matplotlib.pyplot as plt\n",
    "import seaborn as sns\n",
    "\n",
    "sns.set_context(\"talk\")\n",
    "sns.set_style(\"white\")"
   ]
  },
  {
   "cell_type": "code",
   "execution_count": 11,
   "metadata": {},
   "outputs": [],
   "source": [
    "df = pd.read_csv(\"iver_figure_data.csv\")\n",
    "sim_map = pd.read_csv(\"sim_map.csv\")\n",
    "\n",
    "full = df.merge(sim_map, how=\"left\", left_on=\"sim_id\", right_on=\"id\")\n",
    "\n",
    "vc_only = full[full[\"int_package\"]==\"vc only\"]\n",
    "\n",
    "vc_baseline = {2016: np.median(vc_only[vc_only[\"year\"]==2016][\"infec\"]),\n",
    "               2017: np.median(vc_only[vc_only[\"year\"]==2017][\"infec\"])}\n",
    "\n",
    "# mda_only should be a dataframe with columns: mda coverage, year, cases\n",
    "subset = full[full[\"int_package\"] == \"mda without ivm\"]\n",
    "mda_wo_ivm = subset.groupby([\"mda_coverage\", \"year\"]).agg(\"median\")\n",
    "\n",
    "# mda_w_ivm should be a dataframe with columns: mda coverage, ivm_duration, year, cases\n",
    "subset = full[full[\"int_package\"] == \"mda with ivm\"]\n",
    "mda_wo_ivm = subset.groupby([\"mda_coverage\", \"ivm_duration\", \"year\"]).agg(\"median\")"
   ]
  },
  {
   "cell_type": "code",
   "execution_count": 10,
   "metadata": {},
   "outputs": [
    {
     "data": {
      "text/plain": [
       "{'2016': 92.5, '2017': 295.5}"
      ]
     },
     "execution_count": 10,
     "metadata": {},
     "output_type": "execute_result"
    }
   ],
   "source": [
    "vc_baseline"
   ]
  },
  {
   "cell_type": "code",
   "execution_count": null,
   "metadata": {},
   "outputs": [],
   "source": [
    "plt.figure()\n",
    "\n",
    "for i in [1,2]:\n",
    "    plt.subplot(2,1,i)\n",
    "    \n",
    "    if i == 1:\n",
    "        y = 2016\n",
    "    else:\n",
    "        y = 2017\n",
    "        \n",
    "    plt.title(y)\n",
    "    plt.axhline(vc_baseline[y])\n",
    "plt.show()\n"
   ]
  }
 ],
 "metadata": {
  "kernelspec": {
   "display_name": "Python 3",
   "language": "python",
   "name": "python3"
  },
  "language_info": {
   "codemirror_mode": {
    "name": "ipython",
    "version": 3
   },
   "file_extension": ".py",
   "mimetype": "text/x-python",
   "name": "python",
   "nbconvert_exporter": "python",
   "pygments_lexer": "ipython3",
   "version": "3.6.5"
  }
 },
 "nbformat": 4,
 "nbformat_minor": 2
}
