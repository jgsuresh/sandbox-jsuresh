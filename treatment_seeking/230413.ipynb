{
 "cells": [
  {
   "cell_type": "code",
   "execution_count": 2,
   "id": "d027050c-e0d4-4972-883d-c860cfdf5d5b",
   "metadata": {
    "tags": []
   },
   "outputs": [],
   "source": [
    "import numpy as np\n",
    "import matplotlib.pyplot as plt\n",
    "import pandas as pd\n",
    "import seaborn as sns"
   ]
  },
  {
   "cell_type": "code",
   "execution_count": 9,
   "id": "df3b2e57-e42d-45ad-b08c-40eb64cb08c7",
   "metadata": {
    "tags": []
   },
   "outputs": [],
   "source": [
    "N_children = 1000\n",
    "f_symptomatic = 0.25 #19.7%-34.4%\n",
    "N_symptomatic = f_symptomatic * N_children\n",
    "\n",
    "f_yes_malaria = 0.8 # dalrymple?\n",
    "f_no_malaria = 1-f_have_malaria\n",
    "\n",
    "N_symptomatic_and_yes_malaria = N_symptomatic*f_yes_malaria\n",
    "N_symptomatic_and_no_malaria = N_symptomatic*f_no_malaria"
   ]
  },
  {
   "cell_type": "code",
   "execution_count": 12,
   "id": "d2ab47e3-07f9-40ce-97f8-fb5500b4bac2",
   "metadata": {
    "tags": []
   },
   "outputs": [],
   "source": [
    "f_diagnosed = 0.665 # 57.2%-74.2%\n",
    "f_undiagnosed = 1-f_diagnosed"
   ]
  },
  {
   "cell_type": "code",
   "execution_count": 14,
   "id": "e92ee822-c13a-4996-8a4c-3c1e9f8990b6",
   "metadata": {
    "tags": []
   },
   "outputs": [
    {
     "name": "stdout",
     "output_type": "stream",
     "text": [
      "[133.0, 33.24999999999999, 67.0, 16.749999999999993]\n"
     ]
    }
   ],
   "source": [
    "N_symptomatic_and_yes_malaria_and_diagnosed = N_symptomatic_and_yes_malaria*f_diagnosed\n",
    "N_symptomatic_and_no_malaria_and_diagnosed = N_symptomatic_and_no_malaria*f_diagnosed\n",
    "N_symptomatic_and_yes_malaria_and_undiagnosed = N_symptomatic_and_yes_malaria*f_undiagnosed\n",
    "N_symptomatic_and_no_malaria_and_undiagnosed = N_symptomatic_and_no_malaria*f_undiagnosed\n",
    "\n",
    "print([N_symptomatic_and_yes_malaria_and_diagnosed,N_symptomatic_and_no_malaria_and_diagnosed,N_symptomatic_and_yes_malaria_and_undiagnosed,N_symptomatic_and_no_malaria_and_undiagnosed])"
   ]
  },
  {
   "cell_type": "code",
   "execution_count": null,
   "id": "c5f23e69-ec63-4438-a2f6-915d3d4b688d",
   "metadata": {},
   "outputs": [],
   "source": [
    "# specificity/sensitivity: for now assume diagnosis is perfect\n",
    "# Next step is what percentage of positively diagnosed kids actually receive ACT:\n",
    "f_ACT = 0.8"
   ]
  },
  {
   "cell_type": "code",
   "execution_count": 5,
   "id": "43f1c412-5e58-458c-87e6-4372ab2b361e",
   "metadata": {
    "tags": []
   },
   "outputs": [
    {
     "data": {
      "text/plain": [
       "250.0"
      ]
     },
     "execution_count": 5,
     "metadata": {},
     "output_type": "execute_result"
    }
   ],
   "source": [
    "N_symptomatic"
   ]
  },
  {
   "cell_type": "code",
   "execution_count": null,
   "id": "656a349f-2ed3-4acf-850c-12162b0b0216",
   "metadata": {},
   "outputs": [],
   "source": [
    "# Fraction of symptomatic children\n",
    "f_malarial = "
   ]
  }
 ],
 "metadata": {
  "kernelspec": {
   "display_name": "Python 3 (ipykernel)",
   "language": "python",
   "name": "python3"
  },
  "language_info": {
   "codemirror_mode": {
    "name": "ipython",
    "version": 3
   },
   "file_extension": ".py",
   "mimetype": "text/x-python",
   "name": "python",
   "nbconvert_exporter": "python",
   "pygments_lexer": "ipython3",
   "version": "3.9.13"
  }
 },
 "nbformat": 4,
 "nbformat_minor": 5
}
