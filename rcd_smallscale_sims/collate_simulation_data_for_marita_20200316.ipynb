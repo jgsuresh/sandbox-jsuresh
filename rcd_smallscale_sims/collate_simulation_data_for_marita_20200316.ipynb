{
 "cells": [
  {
   "cell_type": "markdown",
   "metadata": {
    "toc": true
   },
   "source": [
    "<h1>Table of Contents<span class=\"tocSkip\"></span></h1>\n",
    "<div class=\"toc\"><ul class=\"toc-item\"></ul></div>"
   ]
  },
  {
   "cell_type": "code",
   "execution_count": 1,
   "metadata": {
    "ExecuteTime": {
     "end_time": "2020-03-16T14:30:52.061358Z",
     "start_time": "2020-03-16T14:30:49.600004Z"
    }
   },
   "outputs": [],
   "source": [
    "import pandas as pd\n",
    "import matplotlib.pyplot as plt\n",
    "import numpy as np\n",
    "import seaborn as sns"
   ]
  },
  {
   "cell_type": "markdown",
   "metadata": {},
   "source": [
    "Intervention packages:\n",
    "\n",
    "- HS 60%\n",
    "- HS 60% + MTAT\n",
    "- HS 60% + MDA\n",
    "- HS 80% \n",
    "- HS 80% + MTAT\n",
    "- HS 100% \n",
    "- HS 100% + MTAT\n"
   ]
  },
  {
   "cell_type": "code",
   "execution_count": 21,
   "metadata": {
    "ExecuteTime": {
     "end_time": "2020-03-16T14:59:16.932431Z",
     "start_time": "2020-03-16T14:59:16.319738Z"
    }
   },
   "outputs": [],
   "source": [
    "df_no_interventions = pd.read_csv(\"endpoints_f679daa9-f15b-ea11-a2c5-c4346bcb1550.csv\") #Note: 10 seeds each\n",
    "df_hs60 = pd.read_csv(\"endpoints_6ffc3d50-085d-ea11-a2c5-c4346bcb1550.csv\")\n",
    "df_hs60_mtat = pd.read_csv(\"endpoints_88afbd76-8d62-ea11-a2c5-c4346bcb1550.csv\")\n",
    "# df_h60_mda = pd.read_csv(\"endpoints_c1b66c38-f562-ea11-a2c5-c4346bcb1550.csv\") # ONLY HAS LAST YEAR.  [RESUBMITTED]\n",
    "# df_hs80 = pd.read_csv(\"endpoints_bb6b0a20-c563-ea11-a2c5-c4346bcb1550.csv\") # ONLY HAS LAST YEAR.  resubmit\n",
    "# df_hs80_mtat = pd.read_csv(\"endpoints_5a2c10c0-0163-ea11-a2c5-c4346bcb1550.csv\") # ONLY HAS LAST YEAR.  resubmit\n",
    "# df_hs100 = (SAME AS df_hs80)\n",
    "# df_hs100_mtat = (SAME AS df_hs100_mtat)"
   ]
  },
  {
   "cell_type": "code",
   "execution_count": 22,
   "metadata": {
    "ExecuteTime": {
     "end_time": "2020-03-16T14:59:21.396669Z",
     "start_time": "2020-03-16T14:59:21.293890Z"
    }
   },
   "outputs": [
    {
     "data": {
      "text/html": [
       "<div>\n",
       "<style scoped>\n",
       "    .dataframe tbody tr th:only-of-type {\n",
       "        vertical-align: middle;\n",
       "    }\n",
       "\n",
       "    .dataframe tbody tr th {\n",
       "        vertical-align: top;\n",
       "    }\n",
       "\n",
       "    .dataframe thead th {\n",
       "        text-align: right;\n",
       "    }\n",
       "</style>\n",
       "<table border=\"1\" class=\"dataframe\">\n",
       "  <thead>\n",
       "    <tr style=\"text-align: right;\">\n",
       "      <th></th>\n",
       "      <th>year</th>\n",
       "      <th>cases</th>\n",
       "      <th>infections</th>\n",
       "      <th>EIR</th>\n",
       "      <th>avg_RDT_prev</th>\n",
       "      <th>received_treatment</th>\n",
       "      <th>received_test</th>\n",
       "      <th>received_RCD_drugs</th>\n",
       "      <th>received_campaign_drugs</th>\n",
       "      <th>arab</th>\n",
       "      <th>funest</th>\n",
       "      <th>o5_hs_rate</th>\n",
       "      <th>Run_Number</th>\n",
       "      <th>u5_hs_rate</th>\n",
       "      <th>x_Vector_Migration_Local</th>\n",
       "    </tr>\n",
       "  </thead>\n",
       "  <tbody>\n",
       "    <tr>\n",
       "      <th>count</th>\n",
       "      <td>13600.0</td>\n",
       "      <td>13600.000000</td>\n",
       "      <td>13600.000000</td>\n",
       "      <td>13600.000000</td>\n",
       "      <td>13600.000000</td>\n",
       "      <td>13600.000000</td>\n",
       "      <td>13600.000000</td>\n",
       "      <td>13600.000000</td>\n",
       "      <td>13600.0</td>\n",
       "      <td>13600.00000</td>\n",
       "      <td>13600.00000</td>\n",
       "      <td>13600.000000</td>\n",
       "      <td>13600.000000</td>\n",
       "      <td>13600.000000</td>\n",
       "      <td>13600.0</td>\n",
       "    </tr>\n",
       "    <tr>\n",
       "      <th>mean</th>\n",
       "      <td>0.0</td>\n",
       "      <td>171.031765</td>\n",
       "      <td>661.188897</td>\n",
       "      <td>2.181972</td>\n",
       "      <td>0.037610</td>\n",
       "      <td>217.492500</td>\n",
       "      <td>650.174926</td>\n",
       "      <td>136.662868</td>\n",
       "      <td>0.0</td>\n",
       "      <td>8.12000</td>\n",
       "      <td>7.32000</td>\n",
       "      <td>0.450000</td>\n",
       "      <td>49.500000</td>\n",
       "      <td>0.900000</td>\n",
       "      <td>10.0</td>\n",
       "    </tr>\n",
       "    <tr>\n",
       "      <th>std</th>\n",
       "      <td>0.0</td>\n",
       "      <td>237.728834</td>\n",
       "      <td>1098.406688</td>\n",
       "      <td>4.350508</td>\n",
       "      <td>0.054649</td>\n",
       "      <td>186.769576</td>\n",
       "      <td>325.451441</td>\n",
       "      <td>107.762789</td>\n",
       "      <td>0.0</td>\n",
       "      <td>0.39257</td>\n",
       "      <td>0.39257</td>\n",
       "      <td>0.050002</td>\n",
       "      <td>28.867131</td>\n",
       "      <td>0.100004</td>\n",
       "      <td>0.0</td>\n",
       "    </tr>\n",
       "    <tr>\n",
       "      <th>min</th>\n",
       "      <td>0.0</td>\n",
       "      <td>0.000000</td>\n",
       "      <td>0.000000</td>\n",
       "      <td>0.000000</td>\n",
       "      <td>0.000000</td>\n",
       "      <td>0.000000</td>\n",
       "      <td>0.000000</td>\n",
       "      <td>0.000000</td>\n",
       "      <td>0.0</td>\n",
       "      <td>7.45000</td>\n",
       "      <td>6.65000</td>\n",
       "      <td>0.400000</td>\n",
       "      <td>0.000000</td>\n",
       "      <td>0.800000</td>\n",
       "      <td>10.0</td>\n",
       "    </tr>\n",
       "    <tr>\n",
       "      <th>25%</th>\n",
       "      <td>0.0</td>\n",
       "      <td>8.000000</td>\n",
       "      <td>12.000000</td>\n",
       "      <td>0.021619</td>\n",
       "      <td>0.001273</td>\n",
       "      <td>34.000000</td>\n",
       "      <td>394.750000</td>\n",
       "      <td>27.000000</td>\n",
       "      <td>0.0</td>\n",
       "      <td>7.78500</td>\n",
       "      <td>6.98500</td>\n",
       "      <td>0.400000</td>\n",
       "      <td>24.750000</td>\n",
       "      <td>0.800000</td>\n",
       "      <td>10.0</td>\n",
       "    </tr>\n",
       "    <tr>\n",
       "      <th>50%</th>\n",
       "      <td>0.0</td>\n",
       "      <td>55.000000</td>\n",
       "      <td>95.000000</td>\n",
       "      <td>0.203423</td>\n",
       "      <td>0.009726</td>\n",
       "      <td>192.000000</td>\n",
       "      <td>770.000000</td>\n",
       "      <td>130.000000</td>\n",
       "      <td>0.0</td>\n",
       "      <td>8.12000</td>\n",
       "      <td>7.32000</td>\n",
       "      <td>0.450000</td>\n",
       "      <td>49.500000</td>\n",
       "      <td>0.900000</td>\n",
       "      <td>10.0</td>\n",
       "    </tr>\n",
       "    <tr>\n",
       "      <th>75%</th>\n",
       "      <td>0.0</td>\n",
       "      <td>223.000000</td>\n",
       "      <td>683.250000</td>\n",
       "      <td>1.554476</td>\n",
       "      <td>0.048731</td>\n",
       "      <td>365.000000</td>\n",
       "      <td>912.000000</td>\n",
       "      <td>233.000000</td>\n",
       "      <td>0.0</td>\n",
       "      <td>8.45500</td>\n",
       "      <td>7.65500</td>\n",
       "      <td>0.500000</td>\n",
       "      <td>74.250000</td>\n",
       "      <td>1.000000</td>\n",
       "      <td>10.0</td>\n",
       "    </tr>\n",
       "    <tr>\n",
       "      <th>max</th>\n",
       "      <td>0.0</td>\n",
       "      <td>956.000000</td>\n",
       "      <td>4867.000000</td>\n",
       "      <td>32.847967</td>\n",
       "      <td>0.220177</td>\n",
       "      <td>676.000000</td>\n",
       "      <td>1210.000000</td>\n",
       "      <td>398.000000</td>\n",
       "      <td>0.0</td>\n",
       "      <td>8.79000</td>\n",
       "      <td>7.99000</td>\n",
       "      <td>0.500000</td>\n",
       "      <td>99.000000</td>\n",
       "      <td>1.000000</td>\n",
       "      <td>10.0</td>\n",
       "    </tr>\n",
       "  </tbody>\n",
       "</table>\n",
       "</div>"
      ],
      "text/plain": [
       "          year         cases    infections           EIR  avg_RDT_prev  \\\n",
       "count  13600.0  13600.000000  13600.000000  13600.000000  13600.000000   \n",
       "mean       0.0    171.031765    661.188897      2.181972      0.037610   \n",
       "std        0.0    237.728834   1098.406688      4.350508      0.054649   \n",
       "min        0.0      0.000000      0.000000      0.000000      0.000000   \n",
       "25%        0.0      8.000000     12.000000      0.021619      0.001273   \n",
       "50%        0.0     55.000000     95.000000      0.203423      0.009726   \n",
       "75%        0.0    223.000000    683.250000      1.554476      0.048731   \n",
       "max        0.0    956.000000   4867.000000     32.847967      0.220177   \n",
       "\n",
       "       received_treatment  received_test  received_RCD_drugs  \\\n",
       "count        13600.000000   13600.000000        13600.000000   \n",
       "mean           217.492500     650.174926          136.662868   \n",
       "std            186.769576     325.451441          107.762789   \n",
       "min              0.000000       0.000000            0.000000   \n",
       "25%             34.000000     394.750000           27.000000   \n",
       "50%            192.000000     770.000000          130.000000   \n",
       "75%            365.000000     912.000000          233.000000   \n",
       "max            676.000000    1210.000000          398.000000   \n",
       "\n",
       "       received_campaign_drugs         arab       funest    o5_hs_rate  \\\n",
       "count                  13600.0  13600.00000  13600.00000  13600.000000   \n",
       "mean                       0.0      8.12000      7.32000      0.450000   \n",
       "std                        0.0      0.39257      0.39257      0.050002   \n",
       "min                        0.0      7.45000      6.65000      0.400000   \n",
       "25%                        0.0      7.78500      6.98500      0.400000   \n",
       "50%                        0.0      8.12000      7.32000      0.450000   \n",
       "75%                        0.0      8.45500      7.65500      0.500000   \n",
       "max                        0.0      8.79000      7.99000      0.500000   \n",
       "\n",
       "         Run_Number    u5_hs_rate  x_Vector_Migration_Local  \n",
       "count  13600.000000  13600.000000                   13600.0  \n",
       "mean      49.500000      0.900000                      10.0  \n",
       "std       28.867131      0.100004                       0.0  \n",
       "min        0.000000      0.800000                      10.0  \n",
       "25%       24.750000      0.800000                      10.0  \n",
       "50%       49.500000      0.900000                      10.0  \n",
       "75%       74.250000      1.000000                      10.0  \n",
       "max       99.000000      1.000000                      10.0  "
      ]
     },
     "execution_count": 22,
     "metadata": {},
     "output_type": "execute_result"
    }
   ],
   "source": [
    "df_hs80_mtat.describe()"
   ]
  },
  {
   "cell_type": "code",
   "execution_count": null,
   "metadata": {},
   "outputs": [],
   "source": [
    "df_no_interventions[\"interventions\"] = \"none\"\n",
    "df_hs60[\"interventions\"] = \"hs60_only\"\n",
    "df_hs60_mtat[\"interventions\"] = \"hs60_mtat\"\n",
    "df_hs60_mda[\"interventions\"] = \"hs60_mtda\"\n",
    "df_hs80[\"interventions\"] = \"hs80_only\"\n",
    "df_hs80_mtat[\"interventions\"] = \"hs80_mtat\"\n",
    "df_hs100[\"interventions\"] = \"hs100_only\"\n",
    "df_hs100_mtat[\"interventions\"] = \"hs100_mtat\""
   ]
  },
  {
   "cell_type": "code",
   "execution_count": null,
   "metadata": {},
   "outputs": [],
   "source": [
    "df_list = [\n",
    "    df_no_interventions, df_hs60, df_hs60_mtat, df_hs60_mda, df_hs80,\n",
    "    df_hs80_mtat, df_hs100, df_hs100_mtat\n",
    "]\n",
    "\n",
    "df_all = pd.concat(df_list, ignore_index=True)"
   ]
  },
  {
   "cell_type": "code",
   "execution_count": 37,
   "metadata": {
    "ExecuteTime": {
     "end_time": "2020-03-17T17:09:04.738701Z",
     "start_time": "2020-03-17T17:09:04.730634Z"
    }
   },
   "outputs": [
    {
     "data": {
      "text/plain": [
       "array([6.64, 6.66, 6.68, 6.7 , 6.72, 6.74, 6.76, 6.78, 6.8 , 6.82, 6.84,\n",
       "       6.86, 6.88, 6.9 , 6.92, 6.94, 6.96, 6.98, 7.  , 7.02, 7.04, 7.06,\n",
       "       7.08, 7.1 , 7.12, 7.14, 7.16, 7.18, 7.2 , 7.22, 7.24, 7.26, 7.28,\n",
       "       7.3 , 7.32, 7.34, 7.36, 7.38, 7.4 , 7.42, 7.44, 7.46, 7.48, 7.5 ,\n",
       "       7.52, 7.54, 7.56, 7.58, 7.6 , 7.62, 7.64, 7.66, 7.68, 7.7 , 7.72,\n",
       "       7.74, 7.76, 7.78, 7.8 , 7.82, 7.84, 7.86, 7.88, 7.9 , 7.92, 7.94,\n",
       "       7.96, 7.98, 8.  ])"
      ]
     },
     "execution_count": 37,
     "metadata": {},
     "output_type": "execute_result"
    }
   ],
   "source": [
    "np.linspace(6.64, 8, 69, endpoint=True)"
   ]
  },
  {
   "cell_type": "code",
   "execution_count": null,
   "metadata": {},
   "outputs": [],
   "source": []
  }
 ],
 "metadata": {
  "kernelspec": {
   "display_name": "Python 3",
   "language": "python",
   "name": "python3"
  },
  "language_info": {
   "codemirror_mode": {
    "name": "ipython",
    "version": 3
   },
   "file_extension": ".py",
   "mimetype": "text/x-python",
   "name": "python",
   "nbconvert_exporter": "python",
   "pygments_lexer": "ipython3",
   "version": "3.6.6"
  },
  "toc": {
   "base_numbering": 1,
   "nav_menu": {},
   "number_sections": true,
   "sideBar": true,
   "skip_h1_title": true,
   "title_cell": "Table of Contents",
   "title_sidebar": "Contents",
   "toc_cell": true,
   "toc_position": {},
   "toc_section_display": true,
   "toc_window_display": true
  }
 },
 "nbformat": 4,
 "nbformat_minor": 2
}
