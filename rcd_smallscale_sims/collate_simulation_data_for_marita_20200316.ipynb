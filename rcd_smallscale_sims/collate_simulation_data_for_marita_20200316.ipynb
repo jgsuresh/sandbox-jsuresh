{
 "cells": [
  {
   "cell_type": "markdown",
   "metadata": {
    "toc": true
   },
   "source": [
    "<h1>Table of Contents<span class=\"tocSkip\"></span></h1>\n",
    "<div class=\"toc\"><ul class=\"toc-item\"></ul></div>"
   ]
  },
  {
   "cell_type": "code",
   "execution_count": 2,
   "metadata": {
    "ExecuteTime": {
     "end_time": "2020-03-25T02:18:39.694984Z",
     "start_time": "2020-03-25T02:18:38.084116Z"
    }
   },
   "outputs": [],
   "source": [
    "import pandas as pd\n",
    "import matplotlib.pyplot as plt\n",
    "import numpy as np\n",
    "import seaborn as sns"
   ]
  },
  {
   "cell_type": "markdown",
   "metadata": {},
   "source": [
    "Intervention packages:\n",
    "\n",
    "- HS 60%\n",
    "- HS 60% + MTAT\n",
    "- HS 60% + MDA\n",
    "- HS 80% \n",
    "- HS 80% + MTAT\n",
    "- HS 100% \n",
    "- HS 100% + MTAT\n"
   ]
  },
  {
   "cell_type": "code",
   "execution_count": 3,
   "metadata": {
    "ExecuteTime": {
     "end_time": "2020-03-25T02:18:41.866982Z",
     "start_time": "2020-03-25T02:18:39.698979Z"
    }
   },
   "outputs": [],
   "source": [
    "df_mda = pd.read_csv(\"output/endpoints_3146677c-8268-ea11-a2c5-c4346bcb1550.csv\")\n",
    "df_mtat = pd.read_csv(\"output/endpoints_43bb7941-2369-ea11-a2c5-c4346bcb1550.csv\")"
   ]
  },
  {
   "cell_type": "code",
   "execution_count": 4,
   "metadata": {
    "ExecuteTime": {
     "end_time": "2020-03-25T02:18:45.165046Z",
     "start_time": "2020-03-25T02:18:45.044850Z"
    }
   },
   "outputs": [],
   "source": [
    "# preparing to merge:\n",
    "df_mda[\"u5_hs_rate\"] = 0.6\n",
    "df_mda[\"o5_hs_rate\"] = 0.3\n",
    "df_mda[\"intervention_package\"] = \"HS60_MDA\"\n",
    "df_mda[\"rcd_on\"] = True\n",
    "\n",
    "df_mtat[\"intervention_package\"] = \"\"\n",
    "for hs in [60,80,100]:\n",
    "    for rcd_on in [False, True]:\n",
    "        if rcd_on:\n",
    "            intervention_package_name = \"HS{}_MTAT\".format(hs)\n",
    "        else:\n",
    "            intervention_package_name = \"HS{}_only\".format(hs)\n",
    "\n",
    "        cut = np.logical_and(df_mtat[\"u5_hs_rate\"]==hs/100, df_mtat[\"rcd_on\"]==rcd_on)\n",
    "        df_mtat.loc[cut, \"intervention_package\"] = intervention_package_name"
   ]
  },
  {
   "cell_type": "code",
   "execution_count": 5,
   "metadata": {
    "ExecuteTime": {
     "end_time": "2020-03-25T02:18:54.772903Z",
     "start_time": "2020-03-25T02:18:54.354983Z"
    }
   },
   "outputs": [
    {
     "name": "stderr",
     "output_type": "stream",
     "text": [
      "c:\\users\\jsuresh\\venv\\idm\\lib\\site-packages\\ipykernel_launcher.py:1: FutureWarning: Sorting because non-concatenation axis is not aligned. A future version\n",
      "of pandas will change to not sort by default.\n",
      "\n",
      "To accept the future behavior, pass 'sort=False'.\n",
      "\n",
      "To retain the current behavior and silence the warning, pass 'sort=True'.\n",
      "\n",
      "  \"\"\"Entry point for launching an IPython kernel.\n"
     ]
    }
   ],
   "source": [
    "df_full = pd.concat([df_mda, df_mtat], ignore_index=True).sort_values([\"intervention_package\", \"funest\",\"Run_Number\", \"year\"]).reset_index(drop=True)"
   ]
  },
  {
   "cell_type": "code",
   "execution_count": 6,
   "metadata": {
    "ExecuteTime": {
     "end_time": "2020-03-25T02:19:14.939003Z",
     "start_time": "2020-03-25T02:19:07.493788Z"
    }
   },
   "outputs": [],
   "source": [
    "df_full.to_csv(\"full_sim_data.csv\", index=False)"
   ]
  },
  {
   "cell_type": "code",
   "execution_count": 7,
   "metadata": {
    "ExecuteTime": {
     "end_time": "2020-03-25T02:19:20.029222Z",
     "start_time": "2020-03-25T02:19:19.792278Z"
    }
   },
   "outputs": [],
   "source": [
    "# Clean up for Marita/Caitlin usage\n",
    "df_clean = df_full.rename(\n",
    "    columns={\n",
    "        \"received_RCD_drugs\": \"received_drugs_in_reactive_MTAT\",\n",
    "        \"received_test\": \"received_RDT_in_reactive_MTAT\",\n",
    "        \"received_treatment\": \"received_drugs_in_health_facility\",\n",
    "        \"received_campaign_drugs\": \"received_drugs_in_reactive_MDA\",\n",
    "        \"funest\": \"larval_habitat_scale\"\n",
    "    })\n",
    "\n",
    "df_clean.drop(columns= [\n",
    "    \"dll_collection_id\", \"input_collection_id\", \"exe_collection_id\", \"arab\",\n",
    "    \"x_Vector_Migration_Local\"\n",
    "],\n",
    "              inplace=True)\n",
    "\n",
    "df_clean.sort_values([\"o5_hs_rate\", \"intervention_package\", \"larval_habitat_scale\", \"Run_Number\", \"year\"], inplace=True)"
   ]
  },
  {
   "cell_type": "code",
   "execution_count": 8,
   "metadata": {
    "ExecuteTime": {
     "end_time": "2020-03-25T02:19:34.528970Z",
     "start_time": "2020-03-25T02:19:29.003116Z"
    }
   },
   "outputs": [],
   "source": [
    "df_clean.to_csv(\"rcd_simulation_data_clean_20200324.csv\", index=False)"
   ]
  },
  {
   "cell_type": "code",
   "execution_count": null,
   "metadata": {},
   "outputs": [],
   "source": []
  }
 ],
 "metadata": {
  "kernelspec": {
   "display_name": "Python 3",
   "language": "python",
   "name": "python3"
  },
  "language_info": {
   "codemirror_mode": {
    "name": "ipython",
    "version": 3
   },
   "file_extension": ".py",
   "mimetype": "text/x-python",
   "name": "python",
   "nbconvert_exporter": "python",
   "pygments_lexer": "ipython3",
   "version": "3.6.6"
  },
  "toc": {
   "base_numbering": 1,
   "nav_menu": {},
   "number_sections": true,
   "sideBar": true,
   "skip_h1_title": true,
   "title_cell": "Table of Contents",
   "title_sidebar": "Contents",
   "toc_cell": true,
   "toc_position": {},
   "toc_section_display": true,
   "toc_window_display": true
  }
 },
 "nbformat": 4,
 "nbformat_minor": 2
}
