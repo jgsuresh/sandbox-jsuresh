{
 "cells": [
  {
   "cell_type": "markdown",
   "metadata": {
    "toc": true
   },
   "source": [
    "<h1>Table of Contents<span class=\"tocSkip\"></span></h1>\n",
    "<div class=\"toc\"><ul class=\"toc-item\"><li><span><a href=\"#Burnins\" data-toc-modified-id=\"Burnins-1\"><span class=\"toc-item-num\">1&nbsp;&nbsp;</span>Burnins</a></span></li><li><span><a href=\"#MTAT\" data-toc-modified-id=\"MTAT-2\"><span class=\"toc-item-num\">2&nbsp;&nbsp;</span>MTAT</a></span></li></ul></div>"
   ]
  },
  {
   "cell_type": "code",
   "execution_count": 12,
   "metadata": {
    "ExecuteTime": {
     "end_time": "2020-03-22T01:51:21.495204Z",
     "start_time": "2020-03-22T01:51:21.257572Z"
    }
   },
   "outputs": [],
   "source": [
    "import pandas as pd\n",
    "import numpy as np\n",
    "import matplotlib.pyplot as plt"
   ]
  },
  {
   "cell_type": "markdown",
   "metadata": {
    "ExecuteTime": {
     "end_time": "2020-03-22T04:03:23.721393Z",
     "start_time": "2020-03-22T04:03:23.699453Z"
    }
   },
   "source": [
    "## Burnins"
   ]
  },
  {
   "cell_type": "code",
   "execution_count": 7,
   "metadata": {
    "ExecuteTime": {
     "end_time": "2020-03-22T01:50:23.000540Z",
     "start_time": "2020-03-22T01:50:22.977570Z"
    }
   },
   "outputs": [],
   "source": [
    "df1 = pd.read_csv(\"../output/endpoints_a9fbc42e-7368-ea11-a2c5-c4346bcb1550.csv\")\n",
    "df2 = pd.read_csv(\"../output/endpoints_374cd6bf-5c6a-ea11-a2c5-c4346bcb1550.csv\")\n"
   ]
  },
  {
   "cell_type": "code",
   "execution_count": 56,
   "metadata": {
    "ExecuteTime": {
     "end_time": "2020-03-23T21:12:20.652323Z",
     "start_time": "2020-03-23T21:12:20.242892Z"
    }
   },
   "outputs": [
    {
     "data": {
      "text/plain": [
       "Text(0.5, 0, 'larval habs')"
      ]
     },
     "execution_count": 56,
     "metadata": {},
     "output_type": "execute_result"
    },
    {
     "data": {
      "image/png": "[encoded data removed]",
      "text/plain": [
       "<Figure size 432x288 with 1 Axes>"
      ]
     },
     "metadata": {
      "needs_background": "light"
     },
     "output_type": "display_data"
    }
   ],
   "source": [
    "foo = df1.groupby(\"funest\").agg(\"mean\").reset_index()\n",
    "plt.scatter(foo[\"funest\"], foo[\"EIR\"], label=\"multi\")\n",
    "\n",
    "foo = df2.groupby(\"funest\").agg(\"mean\").reset_index()\n",
    "plt.scatter(foo[\"funest\"], foo[\"EIR\"]*30, label=\"single\")\n",
    "\n",
    "plt.legend()\n",
    "plt.ylabel(\"EIR without interventions\")\n",
    "plt.xlabel(\"larval habs\")"
   ]
  },
  {
   "cell_type": "markdown",
   "metadata": {},
   "source": [
    "## MTAT"
   ]
  },
  {
   "cell_type": "code",
   "execution_count": 44,
   "metadata": {
    "ExecuteTime": {
     "end_time": "2020-03-22T06:16:36.393234Z",
     "start_time": "2020-03-22T06:16:34.548905Z"
    }
   },
   "outputs": [],
   "source": [
    "df_single = pd.read_csv(\"../output/endpoints_ef2059d5-f46b-ea11-a2c5-c4346bcb1550.csv\")\n",
    "df_multi = pd.read_csv(\"../output/endpoints_43bb7941-2369-ea11-a2c5-c4346bcb1550.csv\")"
   ]
  },
  {
   "cell_type": "code",
   "execution_count": 45,
   "metadata": {
    "ExecuteTime": {
     "end_time": "2020-03-22T06:16:37.112202Z",
     "start_time": "2020-03-22T06:16:37.097243Z"
    }
   },
   "outputs": [],
   "source": [
    "df_single = df_single[df_single[\"year\"]==3]\n"
   ]
  },
  {
   "cell_type": "code",
   "execution_count": 31,
   "metadata": {
    "ExecuteTime": {
     "end_time": "2020-03-22T04:08:05.233194Z",
     "start_time": "2020-03-22T04:08:05.121491Z"
    }
   },
   "outputs": [],
   "source": [
    "df_multi[\"intervention_package\"] = \"\"\n",
    "for hs in [60,80,100]:\n",
    "    for rcd_on in [False, True]:\n",
    "        if rcd_on:\n",
    "            intervention_package_name = \"HS{}_MTAT\".format(hs)\n",
    "        else:\n",
    "            intervention_package_name = \"HS{}_only\".format(hs)\n",
    "\n",
    "        cut = np.logical_and(df_multi[\"u5_hs_rate\"]==hs/100, df_multi[\"rcd_on\"]==rcd_on)\n",
    "        df_multi.loc[cut, \"intervention_package\"] = intervention_package_name"
   ]
  },
  {
   "cell_type": "code",
   "execution_count": 33,
   "metadata": {
    "ExecuteTime": {
     "end_time": "2020-03-22T04:08:18.865349Z",
     "start_time": "2020-03-22T04:08:18.831438Z"
    }
   },
   "outputs": [],
   "source": [
    "df_multi = df_multi[np.logical_and(df_multi[\"year\"]==3, df_multi[\"intervention_package\"]==\"HS60_MTAT\")]"
   ]
  },
  {
   "cell_type": "code",
   "execution_count": 55,
   "metadata": {
    "ExecuteTime": {
     "end_time": "2020-03-22T06:22:49.347111Z",
     "start_time": "2020-03-22T06:22:47.941079Z"
    }
   },
   "outputs": [
    {
     "data": {
      "text/plain": [
       "Text(0, 0.5, 'avg_RDT_prev')"
      ]
     },
     "execution_count": 55,
     "metadata": {},
     "output_type": "execute_result"
    },
    {
     "data": {
      "image/png": "[encoded data removed]",
      "text/plain": [
       "<Figure size 432x288 with 1 Axes>"
      ]
     },
     "metadata": {
      "needs_background": "light"
     },
     "output_type": "display_data"
    }
   ],
   "source": [
    "foo = df_single.groupby(\"funest\").agg(\"mean\").reset_index()\n",
    "plt.scatter(foo[\"funest\"],foo[\"avg_RDT_prev\"],label=\"single\")\n",
    "\n",
    "foo = df_multi.groupby(\"funest\").agg(\"mean\").reset_index()\n",
    "plt.scatter(foo[\"funest\"],foo[\"avg_RDT_prev\"],label=\"multi\")\n",
    "\n",
    "plt.legend()\n",
    "# plt.xscale(\"log\")\n",
    "plt.yscale(\"log\")\n",
    "plt.ylabel(\"avg_RDT_prev\")"
   ]
  },
  {
   "cell_type": "code",
   "execution_count": null,
   "metadata": {},
   "outputs": [],
   "source": []
  }
 ],
 "metadata": {
  "kernelspec": {
   "display_name": "Python 3",
   "language": "python",
   "name": "python3"
  },
  "language_info": {
   "codemirror_mode": {
    "name": "ipython",
    "version": 3
   },
   "file_extension": ".py",
   "mimetype": "text/x-python",
   "name": "python",
   "nbconvert_exporter": "python",
   "pygments_lexer": "ipython3",
   "version": "3.6.6"
  },
  "toc": {
   "base_numbering": 1,
   "nav_menu": {},
   "number_sections": true,
   "sideBar": true,
   "skip_h1_title": true,
   "title_cell": "Table of Contents",
   "title_sidebar": "Contents",
   "toc_cell": true,
   "toc_position": {},
   "toc_section_display": true,
   "toc_window_display": true
  }
 },
 "nbformat": 4,
 "nbformat_minor": 2
}
