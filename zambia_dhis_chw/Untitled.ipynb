{
 "cells": [
  {
   "cell_type": "markdown",
   "metadata": {
    "toc": true
   },
   "source": [
    "<h1>Table of Contents<span class=\"tocSkip\"></span></h1>\n",
    "<div class=\"toc\"><ul class=\"toc-item\"><li><span><a href=\"#Looking-at-old-CHW-data-fields\" data-toc-modified-id=\"Looking-at-old-CHW-data-fields-1\"><span class=\"toc-item-num\">1&nbsp;&nbsp;</span>Looking at old CHW data fields</a></span></li><li><span><a href=\"#Looking-at-new-CHW-data-fields\" data-toc-modified-id=\"Looking-at-new-CHW-data-fields-2\"><span class=\"toc-item-num\">2&nbsp;&nbsp;</span>Looking at new CHW data fields</a></span></li></ul></div>"
   ]
  },
  {
   "cell_type": "code",
   "execution_count": 119,
   "metadata": {
    "ExecuteTime": {
     "end_time": "2020-02-18T19:20:45.705058Z",
     "start_time": "2020-02-18T19:20:44.700592Z"
    }
   },
   "outputs": [],
   "source": [
    "import pandas as pd\n",
    "import numpy as np\n",
    "import matplotlib.pyplot as plt\n",
    "import seaborn as sns"
   ]
  },
  {
   "cell_type": "code",
   "execution_count": 168,
   "metadata": {
    "ExecuteTime": {
     "end_time": "2020-02-19T19:58:35.831865Z",
     "start_time": "2020-02-19T19:58:35.751755Z"
    }
   },
   "outputs": [
    {
     "data": {
      "text/plain": [
       "'C:\\\\Users\\\\jsuresh\\\\Code\\\\sandbox-jsuresh\\\\zambia_dhis_chw'"
      ]
     },
     "execution_count": 168,
     "metadata": {},
     "output_type": "execute_result"
    }
   ],
   "source": [
    "pwd"
   ]
  },
  {
   "cell_type": "markdown",
   "metadata": {},
   "source": [
    "## Looking at old CHW data fields"
   ]
  },
  {
   "cell_type": "code",
   "execution_count": 2,
   "metadata": {
    "ExecuteTime": {
     "end_time": "2020-02-18T18:10:07.950160Z",
     "start_time": "2020-02-18T18:10:07.813517Z"
    }
   },
   "outputs": [],
   "source": [
    "df = pd.read_csv(\"pre_2017_chws.csv\")"
   ]
  },
  {
   "cell_type": "code",
   "execution_count": 11,
   "metadata": {
    "ExecuteTime": {
     "end_time": "2020-02-18T18:11:48.347071Z",
     "start_time": "2020-02-18T18:11:48.061827Z"
    }
   },
   "outputs": [
    {
     "data": {
      "text/plain": [
       "(array([1.463e+03, 5.050e+02, 2.660e+02, 1.120e+02, 6.800e+01, 4.600e+01,\n",
       "        3.200e+01, 1.700e+01, 1.300e+01, 9.000e+00, 7.000e+00, 5.000e+00,\n",
       "        3.000e+00, 1.000e+00, 3.000e+00, 1.000e+00, 0.000e+00, 0.000e+00,\n",
       "        0.000e+00, 0.000e+00, 1.000e+00, 0.000e+00, 1.000e+00, 1.000e+00,\n",
       "        1.000e+00]),\n",
       " array([  0.  ,   9.76,  19.52,  29.28,  39.04,  48.8 ,  58.56,  68.32,\n",
       "         78.08,  87.84,  97.6 , 107.36, 117.12, 126.88, 136.64, 146.4 ,\n",
       "        156.16, 165.92, 175.68, 185.44, 195.2 , 204.96, 214.72, 224.48,\n",
       "        234.24, 244.  ]),\n",
       " <a list of 25 Patch objects>)"
      ]
     },
     "execution_count": 11,
     "metadata": {},
     "output_type": "execute_result"
    },
    {
     "data": {
      "image/png": "[encoded data removed]",
      "text/plain": [
       "<Figure size 432x288 with 1 Axes>"
      ]
     },
     "metadata": {
      "needs_background": "light"
     },
     "output_type": "display_data"
    }
   ],
   "source": [
    "foo = df[df[\"dataelement\"]==\"Passive Number Tested\"]\n",
    "plt.hist(foo[\"value\"], bins=25)"
   ]
  },
  {
   "cell_type": "code",
   "execution_count": 12,
   "metadata": {
    "ExecuteTime": {
     "end_time": "2020-02-18T18:11:55.808069Z",
     "start_time": "2020-02-18T18:11:55.465940Z"
    }
   },
   "outputs": [
    {
     "data": {
      "text/plain": [
       "(array([2.208e+03, 1.630e+02, 7.900e+01, 4.400e+01, 1.900e+01, 1.200e+01,\n",
       "        6.000e+00, 4.000e+00, 3.000e+00, 4.000e+00, 2.000e+00, 2.000e+00,\n",
       "        0.000e+00, 0.000e+00, 1.000e+00, 0.000e+00, 0.000e+00, 1.000e+00,\n",
       "        0.000e+00, 0.000e+00, 0.000e+00, 0.000e+00, 0.000e+00, 0.000e+00,\n",
       "        1.000e+00]),\n",
       " array([  0.  ,   8.56,  17.12,  25.68,  34.24,  42.8 ,  51.36,  59.92,\n",
       "         68.48,  77.04,  85.6 ,  94.16, 102.72, 111.28, 119.84, 128.4 ,\n",
       "        136.96, 145.52, 154.08, 162.64, 171.2 , 179.76, 188.32, 196.88,\n",
       "        205.44, 214.  ]),\n",
       " <a list of 25 Patch objects>)"
      ]
     },
     "execution_count": 12,
     "metadata": {},
     "output_type": "execute_result"
    },
    {
     "data": {
      "image/png": "[encoded data removed]",
      "text/plain": [
       "<Figure size 432x288 with 1 Axes>"
      ]
     },
     "metadata": {
      "needs_background": "light"
     },
     "output_type": "display_data"
    }
   ],
   "source": [
    "foo = df[df[\"dataelement\"]==\"Passive Number Positive\"]\n",
    "plt.hist(foo[\"value\"], bins=25)"
   ]
  },
  {
   "cell_type": "code",
   "execution_count": 13,
   "metadata": {
    "ExecuteTime": {
     "end_time": "2020-02-18T18:12:01.044958Z",
     "start_time": "2020-02-18T18:12:00.774885Z"
    }
   },
   "outputs": [
    {
     "data": {
      "text/plain": [
       "(array([2.213e+03, 1.660e+02, 7.300e+01, 4.200e+01, 1.900e+01, 1.200e+01,\n",
       "        6.000e+00, 4.000e+00, 3.000e+00, 4.000e+00, 2.000e+00, 2.000e+00,\n",
       "        0.000e+00, 0.000e+00, 1.000e+00, 0.000e+00, 0.000e+00, 1.000e+00,\n",
       "        0.000e+00, 0.000e+00, 0.000e+00, 0.000e+00, 0.000e+00, 0.000e+00,\n",
       "        1.000e+00]),\n",
       " array([  0.  ,   8.56,  17.12,  25.68,  34.24,  42.8 ,  51.36,  59.92,\n",
       "         68.48,  77.04,  85.6 ,  94.16, 102.72, 111.28, 119.84, 128.4 ,\n",
       "        136.96, 145.52, 154.08, 162.64, 171.2 , 179.76, 188.32, 196.88,\n",
       "        205.44, 214.  ]),\n",
       " <a list of 25 Patch objects>)"
      ]
     },
     "execution_count": 13,
     "metadata": {},
     "output_type": "execute_result"
    },
    {
     "data": {
      "image/png": "[encoded data removed]",
      "text/plain": [
       "<Figure size 432x288 with 1 Axes>"
      ]
     },
     "metadata": {
      "needs_background": "light"
     },
     "output_type": "display_data"
    }
   ],
   "source": [
    "foo = df[df[\"dataelement\"]==\"Passive Number Treated\"]\n",
    "plt.hist(foo[\"value\"], bins=25)"
   ]
  },
  {
   "cell_type": "code",
   "execution_count": 14,
   "metadata": {
    "ExecuteTime": {
     "end_time": "2020-02-18T18:12:06.924191Z",
     "start_time": "2020-02-18T18:12:06.636945Z"
    }
   },
   "outputs": [
    {
     "data": {
      "text/plain": [
       "(array([2.21e+03, 1.27e+02, 1.16e+02, 2.80e+01, 1.40e+01, 1.90e+01,\n",
       "        8.00e+00, 1.10e+01, 4.00e+00, 2.00e+00, 2.00e+00, 1.00e+00,\n",
       "        3.00e+00, 1.00e+00, 0.00e+00, 0.00e+00, 0.00e+00, 1.00e+00,\n",
       "        0.00e+00, 0.00e+00, 0.00e+00, 0.00e+00, 0.00e+00, 0.00e+00,\n",
       "        2.00e+00]),\n",
       " array([ 0. ,  1.4,  2.8,  4.2,  5.6,  7. ,  8.4,  9.8, 11.2, 12.6, 14. ,\n",
       "        15.4, 16.8, 18.2, 19.6, 21. , 22.4, 23.8, 25.2, 26.6, 28. , 29.4,\n",
       "        30.8, 32.2, 33.6, 35. ]),\n",
       " <a list of 25 Patch objects>)"
      ]
     },
     "execution_count": 14,
     "metadata": {},
     "output_type": "execute_result"
    },
    {
     "data": {
      "image/png": "[encoded data removed]",
      "text/plain": [
       "<Figure size 432x288 with 1 Axes>"
      ]
     },
     "metadata": {
      "needs_background": "light"
     },
     "output_type": "display_data"
    }
   ],
   "source": [
    "foo = df[df[\"dataelement\"]==\"Passive Number Travelled\"]\n",
    "plt.hist(foo[\"value\"], bins=25)"
   ]
  },
  {
   "cell_type": "code",
   "execution_count": 15,
   "metadata": {
    "ExecuteTime": {
     "end_time": "2020-02-18T18:12:21.341675Z",
     "start_time": "2020-02-18T18:12:21.053339Z"
    }
   },
   "outputs": [
    {
     "data": {
      "text/plain": [
       "(array([2.237e+03, 1.520e+02, 0.000e+00, 7.000e+01, 2.100e+01, 0.000e+00,\n",
       "        1.800e+01, 1.000e+01, 0.000e+00, 1.300e+01, 8.000e+00, 0.000e+00,\n",
       "        6.000e+00, 0.000e+00, 6.000e+00, 1.000e+00, 0.000e+00, 1.000e+00,\n",
       "        0.000e+00, 0.000e+00, 3.000e+00, 0.000e+00, 0.000e+00, 0.000e+00,\n",
       "        2.000e+00]),\n",
       " array([ 0.  ,  0.64,  1.28,  1.92,  2.56,  3.2 ,  3.84,  4.48,  5.12,\n",
       "         5.76,  6.4 ,  7.04,  7.68,  8.32,  8.96,  9.6 , 10.24, 10.88,\n",
       "        11.52, 12.16, 12.8 , 13.44, 14.08, 14.72, 15.36, 16.  ]),\n",
       " <a list of 25 Patch objects>)"
      ]
     },
     "execution_count": 15,
     "metadata": {},
     "output_type": "execute_result"
    },
    {
     "data": {
      "image/png": "[encoded data removed]",
      "text/plain": [
       "<Figure size 432x288 with 1 Axes>"
      ]
     },
     "metadata": {
      "needs_background": "light"
     },
     "output_type": "display_data"
    }
   ],
   "source": [
    "foo = df[df[\"dataelement\"]==\"Passive Positive Travelled\"]\n",
    "plt.hist(foo[\"value\"], bins=25)"
   ]
  },
  {
   "cell_type": "code",
   "execution_count": 16,
   "metadata": {
    "ExecuteTime": {
     "end_time": "2020-02-18T18:12:43.381454Z",
     "start_time": "2020-02-18T18:12:43.094123Z"
    }
   },
   "outputs": [
    {
     "data": {
      "text/plain": [
       "(array([1.895e+03, 2.790e+02, 1.230e+02, 7.900e+01, 4.100e+01, 2.500e+01,\n",
       "        2.500e+01, 1.900e+01, 1.000e+01, 7.000e+00, 6.000e+00, 4.000e+00,\n",
       "        1.100e+01, 5.000e+00, 1.000e+00, 4.000e+00, 5.000e+00, 1.000e+00,\n",
       "        1.000e+00, 5.000e+00, 0.000e+00, 0.000e+00, 0.000e+00, 0.000e+00,\n",
       "        1.000e+00]),\n",
       " array([ 0.  ,  3.12,  6.24,  9.36, 12.48, 15.6 , 18.72, 21.84, 24.96,\n",
       "        28.08, 31.2 , 34.32, 37.44, 40.56, 43.68, 46.8 , 49.92, 53.04,\n",
       "        56.16, 59.28, 62.4 , 65.52, 68.64, 71.76, 74.88, 78.  ]),\n",
       " <a list of 25 Patch objects>)"
      ]
     },
     "execution_count": 16,
     "metadata": {},
     "output_type": "execute_result"
    },
    {
     "data": {
      "image/png": "[encoded data removed]",
      "text/plain": [
       "<Figure size 432x288 with 1 Axes>"
      ]
     },
     "metadata": {
      "needs_background": "light"
     },
     "output_type": "display_data"
    }
   ],
   "source": [
    "foo = df[df[\"dataelement\"]==\"Active Houses Visited\"]\n",
    "plt.hist(foo[\"value\"], bins=25)"
   ]
  },
  {
   "cell_type": "code",
   "execution_count": 17,
   "metadata": {
    "ExecuteTime": {
     "end_time": "2020-02-18T18:13:08.110313Z",
     "start_time": "2020-02-18T18:13:07.830057Z"
    }
   },
   "outputs": [
    {
     "data": {
      "text/plain": [
       "(array([2.005e+03, 2.790e+02, 1.100e+02, 4.600e+01, 2.700e+01, 1.500e+01,\n",
       "        1.000e+01, 1.300e+01, 4.000e+00, 8.000e+00, 1.100e+01, 4.000e+00,\n",
       "        3.000e+00, 4.000e+00, 0.000e+00, 5.000e+00, 0.000e+00, 0.000e+00,\n",
       "        1.000e+00, 0.000e+00, 0.000e+00, 1.000e+00, 0.000e+00, 0.000e+00,\n",
       "        1.000e+00]),\n",
       " array([  0.  ,  18.76,  37.52,  56.28,  75.04,  93.8 , 112.56, 131.32,\n",
       "        150.08, 168.84, 187.6 , 206.36, 225.12, 243.88, 262.64, 281.4 ,\n",
       "        300.16, 318.92, 337.68, 356.44, 375.2 , 393.96, 412.72, 431.48,\n",
       "        450.24, 469.  ]),\n",
       " <a list of 25 Patch objects>)"
      ]
     },
     "execution_count": 17,
     "metadata": {},
     "output_type": "execute_result"
    },
    {
     "data": {
      "image/png": "[encoded data removed]",
      "text/plain": [
       "<Figure size 432x288 with 1 Axes>"
      ]
     },
     "metadata": {
      "needs_background": "light"
     },
     "output_type": "display_data"
    }
   ],
   "source": [
    "foo = df[df[\"dataelement\"]==\"Active Number Tested\"]\n",
    "plt.hist(foo[\"value\"], bins=25)"
   ]
  },
  {
   "cell_type": "code",
   "execution_count": 19,
   "metadata": {
    "ExecuteTime": {
     "end_time": "2020-02-18T18:13:37.884388Z",
     "start_time": "2020-02-18T18:13:37.600082Z"
    }
   },
   "outputs": [
    {
     "data": {
      "text/plain": [
       "(array([2.47e+03, 3.00e+01, 1.90e+01, 1.10e+01, 6.00e+00, 2.00e+00,\n",
       "        0.00e+00, 2.00e+00, 1.00e+00, 0.00e+00, 0.00e+00, 0.00e+00,\n",
       "        0.00e+00, 1.00e+00, 0.00e+00, 0.00e+00, 0.00e+00, 0.00e+00,\n",
       "        0.00e+00, 0.00e+00, 0.00e+00, 0.00e+00, 0.00e+00, 0.00e+00,\n",
       "        1.00e+00]),\n",
       " array([ 0.  ,  1.12,  2.24,  3.36,  4.48,  5.6 ,  6.72,  7.84,  8.96,\n",
       "        10.08, 11.2 , 12.32, 13.44, 14.56, 15.68, 16.8 , 17.92, 19.04,\n",
       "        20.16, 21.28, 22.4 , 23.52, 24.64, 25.76, 26.88, 28.  ]),\n",
       " <a list of 25 Patch objects>)"
      ]
     },
     "execution_count": 19,
     "metadata": {},
     "output_type": "execute_result"
    },
    {
     "data": {
      "image/png": "[encoded data removed]",
      "text/plain": [
       "<Figure size 432x288 with 1 Axes>"
      ]
     },
     "metadata": {
      "needs_background": "light"
     },
     "output_type": "display_data"
    }
   ],
   "source": [
    "foo = df[df[\"dataelement\"]==\"Active Positive Travelled\"]\n",
    "plt.hist(foo[\"value\"], bins=25)"
   ]
  },
  {
   "cell_type": "markdown",
   "metadata": {
    "ExecuteTime": {
     "end_time": "2020-02-18T18:26:52.837606Z",
     "start_time": "2020-02-18T18:26:52.833301Z"
    }
   },
   "source": [
    "## Looking at new CHW data fields"
   ]
  },
  {
   "cell_type": "code",
   "execution_count": 60,
   "metadata": {
    "ExecuteTime": {
     "end_time": "2020-02-18T18:59:44.633118Z",
     "start_time": "2020-02-18T18:59:44.458548Z"
    }
   },
   "outputs": [],
   "source": [
    "df = pd.read_csv(\"post_2017_chws.csv\", usecols=[\"dataelement\", \"period\", \"orgunit\", \"value\"])"
   ]
  },
  {
   "cell_type": "code",
   "execution_count": 91,
   "metadata": {
    "ExecuteTime": {
     "end_time": "2020-02-18T19:09:15.153586Z",
     "start_time": "2020-02-18T19:09:15.042679Z"
    }
   },
   "outputs": [],
   "source": [
    "df_raw_chw = df[df[\"period\"].map(lambda x: \"W\" not in x)].sort_values(by=[\"period\",\"orgunit\", \"dataelement\"]).reset_index(drop=True)"
   ]
  },
  {
   "cell_type": "code",
   "execution_count": 92,
   "metadata": {
    "ExecuteTime": {
     "end_time": "2020-02-18T19:09:15.814571Z",
     "start_time": "2020-02-18T19:09:15.705827Z"
    }
   },
   "outputs": [],
   "source": [
    "df_chw = df_raw_chw.groupby(['orgunit', 'period','dataelement'])['value'].sum().unstack('dataelement').reset_index()"
   ]
  },
  {
   "cell_type": "code",
   "execution_count": 169,
   "metadata": {
    "ExecuteTime": {
     "end_time": "2020-02-20T01:34:22.483163Z",
     "start_time": "2020-02-20T01:34:22.391802Z"
    }
   },
   "outputs": [
    {
     "data": {
      "text/plain": [
       "3955"
      ]
     },
     "execution_count": 169,
     "metadata": {},
     "output_type": "execute_result"
    }
   ],
   "source": [
    "len(df_chw)"
   ]
  },
  {
   "cell_type": "code",
   "execution_count": 98,
   "metadata": {
    "ExecuteTime": {
     "end_time": "2020-02-18T19:12:14.938931Z",
     "start_time": "2020-02-18T19:12:14.650650Z"
    }
   },
   "outputs": [
    {
     "data": {
      "text/plain": [
       "[<matplotlib.lines.Line2D at 0x2223707bc18>]"
      ]
     },
     "execution_count": 98,
     "metadata": {},
     "output_type": "execute_result"
    },
    {
     "data": {
      "image/png": "[encoded data removed]",
      "text/plain": [
       "<Figure size 504x504 with 1 Axes>"
      ]
     },
     "metadata": {
      "needs_background": "light"
     },
     "output_type": "display_data"
    }
   ],
   "source": [
    "plt.figure(figsize=(7,7))\n",
    "plt.scatter(df_chw[\"Passive Number Positive\"], df_chw[\"Index Cases followed up\"])\n",
    "plt.xlabel(\"Passive Number Positive\")\n",
    "plt.plot([0,150],[0,150], linestyle='dashed')"
   ]
  },
  {
   "cell_type": "code",
   "execution_count": 100,
   "metadata": {
    "ExecuteTime": {
     "end_time": "2020-02-18T19:13:56.586344Z",
     "start_time": "2020-02-18T19:13:56.579368Z"
    }
   },
   "outputs": [
    {
     "data": {
      "text/plain": [
       "3955"
      ]
     },
     "execution_count": 100,
     "metadata": {},
     "output_type": "execute_result"
    }
   ],
   "source": [
    "len(df_chw)"
   ]
  },
  {
   "cell_type": "code",
   "execution_count": 101,
   "metadata": {
    "ExecuteTime": {
     "end_time": "2020-02-18T19:14:41.473815Z",
     "start_time": "2020-02-18T19:14:41.466831Z"
    }
   },
   "outputs": [
    {
     "name": "stdout",
     "output_type": "stream",
     "text": [
      "5.132743362831858% of time, there are more index cases followed up than passive positives\n"
     ]
    }
   ],
   "source": [
    "n_entries = len(df_chw)\n",
    "n_anomaly = np.sum(df_chw[\"Index Cases followed up\"] > df_chw[\"Passive Number Positive\"])\n",
    "print(\"{}% of time, there are more index cases followed up than passive positives\".format(100*n_anomaly/n_entries))"
   ]
  },
  {
   "cell_type": "code",
   "execution_count": 103,
   "metadata": {
    "ExecuteTime": {
     "end_time": "2020-02-18T19:16:27.380319Z",
     "start_time": "2020-02-18T19:16:27.371345Z"
    }
   },
   "outputs": [],
   "source": [
    "# ignore the ~5% of times that index cases followed up > passive positives:\n",
    "df_chw_non_anomaly = df_chw[df_chw[\"Index Cases followed up\"] <= df_chw[\"Passive Number Positive\"]]"
   ]
  },
  {
   "cell_type": "code",
   "execution_count": 132,
   "metadata": {
    "ExecuteTime": {
     "end_time": "2020-02-18T19:24:40.901782Z",
     "start_time": "2020-02-18T19:24:40.454927Z"
    }
   },
   "outputs": [
    {
     "name": "stdout",
     "output_type": "stream",
     "text": [
      "1.0\n",
      "2.6414868105515588\n"
     ]
    },
    {
     "data": {
      "image/png": "[encoded data removed]",
      "text/plain": [
       "<Figure size 504x504 with 1 Axes>"
      ]
     },
     "metadata": {
      "needs_background": "light"
     },
     "output_type": "display_data"
    }
   ],
   "source": [
    "plt.figure(figsize=(7,7))\n",
    "# How many index cases are followed up in a month, if there is at least one passive case detected?\n",
    "x = df_chw_non_anomaly[\"Index Cases followed up\"][df_chw_non_anomaly[\"Passive Number Positive\"]>0]\n",
    "\n",
    "plt.hist(x, bins=np.arange(60))\n",
    "plt.axvline(np.median(x), linestyle='dashed', color='C2',label=\"Median = {}\".format(np.median(x)))\n",
    "plt.axvline(np.mean(x), linestyle='dashed', color='C3',label=\"Mean = {}\".format(np.mean(x)))\n",
    "plt.legend()\n",
    "\n",
    "plt.xlabel(\"Index Cases followed up\")\n",
    "\n",
    "print(np.median(x))\n",
    "print(np.mean(x))\n"
   ]
  },
  {
   "cell_type": "code",
   "execution_count": 133,
   "metadata": {
    "ExecuteTime": {
     "end_time": "2020-02-18T19:34:19.800073Z",
     "start_time": "2020-02-18T19:34:19.389130Z"
    }
   },
   "outputs": [
    {
     "data": {
      "text/plain": [
       "Text(0.5, 0, 'Passive Number Positive')"
      ]
     },
     "execution_count": 133,
     "metadata": {},
     "output_type": "execute_result"
    },
    {
     "data": {
      "image/png": "[encoded data removed]",
      "text/plain": [
       "<Figure size 504x504 with 1 Axes>"
      ]
     },
     "metadata": {
      "needs_background": "light"
     },
     "output_type": "display_data"
    }
   ],
   "source": [
    "#fixme This needs to be binned to be meaningful\n",
    "plt.figure(figsize=(7,7))\n",
    "plt.scatter(df_chw_non_anomaly[\"Passive Number Positive\"], df_chw_non_anomaly[\"Index Cases followed up\"]/df_chw_non_anomaly[\"Passive Number Positive\"])\n",
    "plt.xlabel(\"Passive Number Positive\")\n",
    "# plt.plot([0,150],[0,150], linestyle='dashed')\n",
    "\n"
   ]
  },
  {
   "cell_type": "code",
   "execution_count": 145,
   "metadata": {
    "ExecuteTime": {
     "end_time": "2020-02-18T19:58:44.210544Z",
     "start_time": "2020-02-18T19:58:44.201569Z"
    }
   },
   "outputs": [],
   "source": [
    "f = pd.cut(df_chw[\"Passive Number Positive\"], np.array([0,3,5,10,20,40,60,80,100,200]), labels=False)"
   ]
  },
  {
   "cell_type": "code",
   "execution_count": 149,
   "metadata": {
    "ExecuteTime": {
     "end_time": "2020-02-18T20:02:58.618406Z",
     "start_time": "2020-02-18T20:02:58.113194Z"
    }
   },
   "outputs": [
    {
     "data": {
      "text/plain": [
       "[<matplotlib.lines.Line2D at 0x222341e75c0>]"
      ]
     },
     "execution_count": 149,
     "metadata": {},
     "output_type": "execute_result"
    },
    {
     "data": {
      "image/png": "[encoded data removed]",
      "text/plain": [
       "<Figure size 432x288 with 1 Axes>"
      ]
     },
     "metadata": {
      "needs_background": "light"
     },
     "output_type": "display_data"
    }
   ],
   "source": [
    "# plt.hist(df_chw_non_anomaly[\"Active Houses Visited\"])\n",
    "plt.scatter(df_chw_non_anomaly[\"Index Cases followed up\"], df_chw_non_anomaly[\"Active Houses Visited\"])\n",
    "plt.plot([0,80],[0,80])"
   ]
  },
  {
   "cell_type": "code",
   "execution_count": 150,
   "metadata": {
    "ExecuteTime": {
     "end_time": "2020-02-18T20:04:15.239191Z",
     "start_time": "2020-02-18T20:04:14.903064Z"
    }
   },
   "outputs": [
    {
     "data": {
      "text/plain": [
       "<matplotlib.collections.PathCollection at 0x22233444a58>"
      ]
     },
     "execution_count": 150,
     "metadata": {},
     "output_type": "execute_result"
    },
    {
     "data": {
      "image/png": "[encoded data removed]",
      "text/plain": [
       "<Figure size 432x288 with 1 Axes>"
      ]
     },
     "metadata": {
      "needs_background": "light"
     },
     "output_type": "display_data"
    }
   ],
   "source": [
    "plt.scatter(df_chw_non_anomaly[\"Index Cases followed up\"], df_chw_non_anomaly[\"Active Houses Visited\"]/df_chw_non_anomaly[\"Index Cases followed up\"])"
   ]
  },
  {
   "cell_type": "code",
   "execution_count": 167,
   "metadata": {
    "ExecuteTime": {
     "end_time": "2020-02-18T20:18:06.933277Z",
     "start_time": "2020-02-18T20:18:06.922562Z"
    }
   },
   "outputs": [
    {
     "name": "stdout",
     "output_type": "stream",
     "text": [
      "0.06821963394342762\n"
     ]
    }
   ],
   "source": [
    "denom_nonzero = df_chw_non_anomaly[df_chw_non_anomaly[\"Index Cases followed up\"] > 0]\n",
    "n_all = len(denom_nonzero)\n",
    "n_anomalies = np.sum(denom_nonzero[\"Active Houses Visited\"] < denom_nonzero[\"Index Cases followed up\"])\n",
    "\n",
    "print(n_anomalies/n_all) # 7% of the time, active houses visited < index cases followed up\n",
    "\n",
    "# ~19% of the time, active houses visited = index cases followed up\n"
   ]
  },
  {
   "cell_type": "code",
   "execution_count": 155,
   "metadata": {
    "ExecuteTime": {
     "end_time": "2020-02-18T20:07:44.537337Z",
     "start_time": "2020-02-18T20:07:44.057345Z"
    }
   },
   "outputs": [
    {
     "name": "stdout",
     "output_type": "stream",
     "text": [
      "2.0\n",
      "2.466833220211201\n"
     ]
    },
    {
     "data": {
      "image/png": "[encoded data removed]",
      "text/plain": [
       "<Figure size 432x288 with 1 Axes>"
      ]
     },
     "metadata": {
      "needs_background": "light"
     },
     "output_type": "display_data"
    }
   ],
   "source": [
    "denom_nonzero = df_chw_non_anomaly[df_chw_non_anomaly[\"Index Cases followed up\"] > 0]\n",
    "x = denom_nonzero[\"Active Houses Visited\"]/denom_nonzero[\"Index Cases followed up\"]\n",
    "plt.hist(x, bins=30)\n",
    "\n",
    "plt.axvline(np.median(x), linestyle='dashed', color='C2',label=\"Median = {}\".format(np.median(x)))\n",
    "plt.axvline(np.mean(x), linestyle='dashed', color='C3',label=\"Mean = {}\".format(np.mean(x)))\n",
    "plt.legend()\n",
    "\n",
    "plt.xlabel(\"Active houses visited up per index-case-followed-up\")\n",
    "\n",
    "print(np.median(x))\n",
    "print(np.mean(x))"
   ]
  },
  {
   "cell_type": "code",
   "execution_count": 37,
   "metadata": {
    "ExecuteTime": {
     "end_time": "2020-02-18T18:39:15.001727Z",
     "start_time": "2020-02-18T18:39:14.902835Z"
    }
   },
   "outputs": [
    {
     "data": {
      "text/plain": [
       "count    3954.000000\n",
       "mean        4.173748\n",
       "std        11.976404\n",
       "min         0.000000\n",
       "25%         0.000000\n",
       "50%         0.000000\n",
       "75%         3.000000\n",
       "max       165.000000\n",
       "Name: Passive Number Positive, dtype: float64"
      ]
     },
     "execution_count": 37,
     "metadata": {},
     "output_type": "execute_result"
    }
   ],
   "source": [
    "bar[\"Index Cases followed up\"].describe()\n",
    "bar[\"Passive Number Positive\"].describe()"
   ]
  },
  {
   "cell_type": "code",
   "execution_count": 35,
   "metadata": {
    "ExecuteTime": {
     "end_time": "2020-02-18T18:38:51.447705Z",
     "start_time": "2020-02-18T18:38:50.703683Z"
    }
   },
   "outputs": [
    {
     "data": {
      "text/plain": [
       "<matplotlib.collections.PathCollection at 0x2221ef46eb8>"
      ]
     },
     "execution_count": 35,
     "metadata": {},
     "output_type": "execute_result"
    },
    {
     "data": {
      "image/png": "[encoded data removed]",
      "text/plain": [
       "<Figure size 432x288 with 1 Axes>"
      ]
     },
     "metadata": {
      "needs_background": "light"
     },
     "output_type": "display_data"
    }
   ],
   "source": [
    "plt.scatter(bar[\"Passive Number Positive\"], bar[\"Index Cases followed up\"])"
   ]
  },
  {
   "cell_type": "code",
   "execution_count": 24,
   "metadata": {
    "ExecuteTime": {
     "end_time": "2020-02-18T18:29:18.653839Z",
     "start_time": "2020-02-18T18:29:18.341548Z"
    }
   },
   "outputs": [
    {
     "data": {
      "text/plain": [
       "(array([3.185e+03, 2.860e+02, 1.770e+02, 6.000e+01, 3.600e+01, 2.200e+01,\n",
       "        7.000e+00, 9.000e+00, 5.000e+00, 4.000e+00, 3.000e+00, 2.000e+00,\n",
       "        1.000e+00, 1.000e+00, 1.000e+00, 1.000e+00, 0.000e+00, 0.000e+00,\n",
       "        0.000e+00, 1.000e+00, 0.000e+00, 0.000e+00, 0.000e+00, 0.000e+00,\n",
       "        1.000e+00]),\n",
       " array([ 0.  ,  2.36,  4.72,  7.08,  9.44, 11.8 , 14.16, 16.52, 18.88,\n",
       "        21.24, 23.6 , 25.96, 28.32, 30.68, 33.04, 35.4 , 37.76, 40.12,\n",
       "        42.48, 44.84, 47.2 , 49.56, 51.92, 54.28, 56.64, 59.  ]),\n",
       " <a list of 25 Patch objects>)"
      ]
     },
     "execution_count": 24,
     "metadata": {},
     "output_type": "execute_result"
    },
    {
     "data": {
      "image/png": "[encoded data removed]",
      "text/plain": [
       "<Figure size 432x288 with 1 Axes>"
      ]
     },
     "metadata": {
      "needs_background": "light"
     },
     "output_type": "display_data"
    }
   ],
   "source": [
    "foo = df[df[\"dataelement\"]==\"Index Cases followed up\"]\n",
    "plt.hist(foo[\"value\"], bins=25)"
   ]
  },
  {
   "cell_type": "code",
   "execution_count": 23,
   "metadata": {
    "ExecuteTime": {
     "end_time": "2020-02-18T18:28:51.697925Z",
     "start_time": "2020-02-18T18:28:51.642238Z"
    }
   },
   "outputs": [
    {
     "data": {
      "text/html": [
       "<div>\n",
       "<style scoped>\n",
       "    .dataframe tbody tr th:only-of-type {\n",
       "        vertical-align: middle;\n",
       "    }\n",
       "\n",
       "    .dataframe tbody tr th {\n",
       "        vertical-align: top;\n",
       "    }\n",
       "\n",
       "    .dataframe thead th {\n",
       "        text-align: right;\n",
       "    }\n",
       "</style>\n",
       "<table border=\"1\" class=\"dataframe\">\n",
       "  <thead>\n",
       "    <tr style=\"text-align: right;\">\n",
       "      <th></th>\n",
       "      <th>dataelement</th>\n",
       "      <th>period</th>\n",
       "      <th>orgunit</th>\n",
       "      <th>categoryoptioncombo</th>\n",
       "      <th>attributeoptioncombo</th>\n",
       "      <th>value</th>\n",
       "      <th>storedby</th>\n",
       "      <th>lastupdated</th>\n",
       "      <th>comment</th>\n",
       "      <th>followup</th>\n",
       "      <th>deleted</th>\n",
       "    </tr>\n",
       "  </thead>\n",
       "  <tbody>\n",
       "    <tr>\n",
       "      <th>0</th>\n",
       "      <td>ACT Stocks: 18s Balance on hand</td>\n",
       "      <td>2019W1</td>\n",
       "      <td>so Chabbobboma Rural Health Centre</td>\n",
       "      <td>NaN</td>\n",
       "      <td>NaN</td>\n",
       "      <td>210</td>\n",
       "      <td>Gwchabbobboma</td>\n",
       "      <td>2020-01-23T08:43:44.000+0000</td>\n",
       "      <td>NaN</td>\n",
       "      <td>False</td>\n",
       "      <td>NaN</td>\n",
       "    </tr>\n",
       "    <tr>\n",
       "      <th>1</th>\n",
       "      <td>Active Positive Travelled</td>\n",
       "      <td>201912</td>\n",
       "      <td>so Ntanga HP Mukwizya</td>\n",
       "      <td>NaN</td>\n",
       "      <td>NaN</td>\n",
       "      <td>0</td>\n",
       "      <td>NaN</td>\n",
       "      <td>2020-01-27T12:55:14.678+0000</td>\n",
       "      <td>NaN</td>\n",
       "      <td>False</td>\n",
       "      <td>NaN</td>\n",
       "    </tr>\n",
       "    <tr>\n",
       "      <th>2</th>\n",
       "      <td>ACT Stocks: 18s Balance on hand</td>\n",
       "      <td>2019W1</td>\n",
       "      <td>so Sinafala Rural Health Centre</td>\n",
       "      <td>NaN</td>\n",
       "      <td>NaN</td>\n",
       "      <td>5</td>\n",
       "      <td>Gwsinafala</td>\n",
       "      <td>2020-01-26T04:51:22.000+0000</td>\n",
       "      <td>NaN</td>\n",
       "      <td>False</td>\n",
       "      <td>NaN</td>\n",
       "    </tr>\n",
       "    <tr>\n",
       "      <th>3</th>\n",
       "      <td>ACT Stocks: 6s Balance on hand</td>\n",
       "      <td>2020W4</td>\n",
       "      <td>so Sinafala Rural Health Centre</td>\n",
       "      <td>NaN</td>\n",
       "      <td>NaN</td>\n",
       "      <td>0</td>\n",
       "      <td>Gwsinafala</td>\n",
       "      <td>2020-01-26T04:51:30.000+0000</td>\n",
       "      <td>NaN</td>\n",
       "      <td>False</td>\n",
       "      <td>NaN</td>\n",
       "    </tr>\n",
       "    <tr>\n",
       "      <th>4</th>\n",
       "      <td>ACT Stocks: 12s Balance on hand</td>\n",
       "      <td>2020W4</td>\n",
       "      <td>so Sinafala Rural Health Centre</td>\n",
       "      <td>NaN</td>\n",
       "      <td>NaN</td>\n",
       "      <td>25</td>\n",
       "      <td>Gwsinafala</td>\n",
       "      <td>2020-01-26T04:51:30.000+0000</td>\n",
       "      <td>NaN</td>\n",
       "      <td>False</td>\n",
       "      <td>NaN</td>\n",
       "    </tr>\n",
       "    <tr>\n",
       "      <th>5</th>\n",
       "      <td>ACT Stocks: 18s Balance on hand</td>\n",
       "      <td>2020W4</td>\n",
       "      <td>so Sinafala Rural Health Centre</td>\n",
       "      <td>NaN</td>\n",
       "      <td>NaN</td>\n",
       "      <td>0</td>\n",
       "      <td>Gwsinafala</td>\n",
       "      <td>2020-01-26T04:51:30.000+0000</td>\n",
       "      <td>NaN</td>\n",
       "      <td>False</td>\n",
       "      <td>NaN</td>\n",
       "    </tr>\n",
       "    <tr>\n",
       "      <th>6</th>\n",
       "      <td>ACT Stocks: 24s Balance on hand</td>\n",
       "      <td>2020W4</td>\n",
       "      <td>so Sinafala Rural Health Centre</td>\n",
       "      <td>NaN</td>\n",
       "      <td>NaN</td>\n",
       "      <td>0</td>\n",
       "      <td>Gwsinafala</td>\n",
       "      <td>2020-01-26T04:51:30.000+0000</td>\n",
       "      <td>NaN</td>\n",
       "      <td>False</td>\n",
       "      <td>NaN</td>\n",
       "    </tr>\n",
       "    <tr>\n",
       "      <th>7</th>\n",
       "      <td>ACT Stocks: 6s Balance on hand</td>\n",
       "      <td>2020W4</td>\n",
       "      <td>so Chisanga Health Post</td>\n",
       "      <td>NaN</td>\n",
       "      <td>NaN</td>\n",
       "      <td>90</td>\n",
       "      <td>Gwchisanga</td>\n",
       "      <td>2020-01-27T08:02:09.000+0000</td>\n",
       "      <td>NaN</td>\n",
       "      <td>False</td>\n",
       "      <td>NaN</td>\n",
       "    </tr>\n",
       "    <tr>\n",
       "      <th>8</th>\n",
       "      <td>ACT Stocks: 12s Balance on hand</td>\n",
       "      <td>2020W4</td>\n",
       "      <td>so Chisanga Health Post</td>\n",
       "      <td>NaN</td>\n",
       "      <td>NaN</td>\n",
       "      <td>0</td>\n",
       "      <td>Gwchisanga</td>\n",
       "      <td>2020-01-27T08:02:09.000+0000</td>\n",
       "      <td>NaN</td>\n",
       "      <td>False</td>\n",
       "      <td>NaN</td>\n",
       "    </tr>\n",
       "    <tr>\n",
       "      <th>9</th>\n",
       "      <td>ACT Stocks: 18s Balance on hand</td>\n",
       "      <td>2020W4</td>\n",
       "      <td>so Chisanga Health Post</td>\n",
       "      <td>NaN</td>\n",
       "      <td>NaN</td>\n",
       "      <td>330</td>\n",
       "      <td>Gwchisanga</td>\n",
       "      <td>2020-01-27T08:02:09.000+0000</td>\n",
       "      <td>NaN</td>\n",
       "      <td>False</td>\n",
       "      <td>NaN</td>\n",
       "    </tr>\n",
       "    <tr>\n",
       "      <th>10</th>\n",
       "      <td>ACT Stocks: 24s Balance on hand</td>\n",
       "      <td>2020W4</td>\n",
       "      <td>so Chisanga Health Post</td>\n",
       "      <td>NaN</td>\n",
       "      <td>NaN</td>\n",
       "      <td>330</td>\n",
       "      <td>Gwchisanga</td>\n",
       "      <td>2020-01-27T08:02:09.000+0000</td>\n",
       "      <td>NaN</td>\n",
       "      <td>False</td>\n",
       "      <td>NaN</td>\n",
       "    </tr>\n",
       "    <tr>\n",
       "      <th>11</th>\n",
       "      <td>RDT stocks: RDT Balance on hand</td>\n",
       "      <td>201912</td>\n",
       "      <td>so Bbondo RHC Nachilala A</td>\n",
       "      <td>NaN</td>\n",
       "      <td>NaN</td>\n",
       "      <td>4</td>\n",
       "      <td>NaN</td>\n",
       "      <td>2020-01-27T12:54:21.251+0000</td>\n",
       "      <td>NaN</td>\n",
       "      <td>False</td>\n",
       "      <td>NaN</td>\n",
       "    </tr>\n",
       "    <tr>\n",
       "      <th>12</th>\n",
       "      <td>Passive Number Positive</td>\n",
       "      <td>201912</td>\n",
       "      <td>so Bbondo RHC Nachilala A</td>\n",
       "      <td>NaN</td>\n",
       "      <td>NaN</td>\n",
       "      <td>1</td>\n",
       "      <td>Gwembe</td>\n",
       "      <td>2020-01-31T09:31:45.033+0000</td>\n",
       "      <td>NaN</td>\n",
       "      <td>False</td>\n",
       "      <td>NaN</td>\n",
       "    </tr>\n",
       "    <tr>\n",
       "      <th>13</th>\n",
       "      <td>RDT stocks: RDT Balance on hand</td>\n",
       "      <td>201912</td>\n",
       "      <td>so Bbondo RHC Chisangano</td>\n",
       "      <td>NaN</td>\n",
       "      <td>NaN</td>\n",
       "      <td>8</td>\n",
       "      <td>NaN</td>\n",
       "      <td>2020-01-27T12:55:56.550+0000</td>\n",
       "      <td>NaN</td>\n",
       "      <td>False</td>\n",
       "      <td>NaN</td>\n",
       "    </tr>\n",
       "    <tr>\n",
       "      <th>14</th>\n",
       "      <td>Active Number Travelled</td>\n",
       "      <td>201912</td>\n",
       "      <td>so Bbondo RHC Chisangano</td>\n",
       "      <td>NaN</td>\n",
       "      <td>NaN</td>\n",
       "      <td>0</td>\n",
       "      <td>NaN</td>\n",
       "      <td>2020-01-27T12:55:56.571+0000</td>\n",
       "      <td>NaN</td>\n",
       "      <td>False</td>\n",
       "      <td>NaN</td>\n",
       "    </tr>\n",
       "    <tr>\n",
       "      <th>15</th>\n",
       "      <td>Passive Number Travelled</td>\n",
       "      <td>201912</td>\n",
       "      <td>so Bbondo RHC Chisangano</td>\n",
       "      <td>NaN</td>\n",
       "      <td>NaN</td>\n",
       "      <td>0</td>\n",
       "      <td>NaN</td>\n",
       "      <td>2020-01-27T12:55:56.585+0000</td>\n",
       "      <td>NaN</td>\n",
       "      <td>False</td>\n",
       "      <td>NaN</td>\n",
       "    </tr>\n",
       "    <tr>\n",
       "      <th>16</th>\n",
       "      <td>Active Number Positive</td>\n",
       "      <td>201912</td>\n",
       "      <td>so Bbondo RHC Chisangano</td>\n",
       "      <td>NaN</td>\n",
       "      <td>NaN</td>\n",
       "      <td>0</td>\n",
       "      <td>NaN</td>\n",
       "      <td>2020-01-27T12:55:56.595+0000</td>\n",
       "      <td>NaN</td>\n",
       "      <td>False</td>\n",
       "      <td>NaN</td>\n",
       "    </tr>\n",
       "    <tr>\n",
       "      <th>17</th>\n",
       "      <td>Active Positive less than 5 years</td>\n",
       "      <td>201912</td>\n",
       "      <td>so Bbondo RHC Chisangano</td>\n",
       "      <td>NaN</td>\n",
       "      <td>NaN</td>\n",
       "      <td>0</td>\n",
       "      <td>NaN</td>\n",
       "      <td>2020-01-27T12:55:56.605+0000</td>\n",
       "      <td>NaN</td>\n",
       "      <td>False</td>\n",
       "      <td>NaN</td>\n",
       "    </tr>\n",
       "    <tr>\n",
       "      <th>18</th>\n",
       "      <td>ACT Stocks: 12s Balance on hand</td>\n",
       "      <td>201912</td>\n",
       "      <td>so Bbondo RHC Chisangano</td>\n",
       "      <td>NaN</td>\n",
       "      <td>NaN</td>\n",
       "      <td>0</td>\n",
       "      <td>NaN</td>\n",
       "      <td>2020-01-27T12:55:56.614+0000</td>\n",
       "      <td>NaN</td>\n",
       "      <td>False</td>\n",
       "      <td>NaN</td>\n",
       "    </tr>\n",
       "    <tr>\n",
       "      <th>19</th>\n",
       "      <td>Passive Number Positive</td>\n",
       "      <td>201912</td>\n",
       "      <td>so Bbondo RHC Chisangano</td>\n",
       "      <td>NaN</td>\n",
       "      <td>NaN</td>\n",
       "      <td>0</td>\n",
       "      <td>NaN</td>\n",
       "      <td>2020-01-27T12:55:56.623+0000</td>\n",
       "      <td>NaN</td>\n",
       "      <td>False</td>\n",
       "      <td>NaN</td>\n",
       "    </tr>\n",
       "    <tr>\n",
       "      <th>20</th>\n",
       "      <td>Active Tested 5 Years and above</td>\n",
       "      <td>201912</td>\n",
       "      <td>so Bbondo RHC Chisangano</td>\n",
       "      <td>NaN</td>\n",
       "      <td>NaN</td>\n",
       "      <td>0</td>\n",
       "      <td>NaN</td>\n",
       "      <td>2020-01-27T12:55:56.631+0000</td>\n",
       "      <td>NaN</td>\n",
       "      <td>False</td>\n",
       "      <td>NaN</td>\n",
       "    </tr>\n",
       "    <tr>\n",
       "      <th>21</th>\n",
       "      <td>Passive Positive 5 Years and above</td>\n",
       "      <td>201912</td>\n",
       "      <td>so Bbondo RHC Chisangano</td>\n",
       "      <td>NaN</td>\n",
       "      <td>NaN</td>\n",
       "      <td>0</td>\n",
       "      <td>NaN</td>\n",
       "      <td>2020-01-27T12:55:56.639+0000</td>\n",
       "      <td>NaN</td>\n",
       "      <td>False</td>\n",
       "      <td>NaN</td>\n",
       "    </tr>\n",
       "    <tr>\n",
       "      <th>22</th>\n",
       "      <td>Active Number Tested</td>\n",
       "      <td>201912</td>\n",
       "      <td>so Bbondo RHC Chisangano</td>\n",
       "      <td>NaN</td>\n",
       "      <td>NaN</td>\n",
       "      <td>0</td>\n",
       "      <td>NaN</td>\n",
       "      <td>2020-01-27T12:55:56.647+0000</td>\n",
       "      <td>NaN</td>\n",
       "      <td>False</td>\n",
       "      <td>NaN</td>\n",
       "    </tr>\n",
       "    <tr>\n",
       "      <th>23</th>\n",
       "      <td>Passive Number Tested</td>\n",
       "      <td>201912</td>\n",
       "      <td>so Bbondo RHC Chisangano</td>\n",
       "      <td>NaN</td>\n",
       "      <td>NaN</td>\n",
       "      <td>6</td>\n",
       "      <td>NaN</td>\n",
       "      <td>2020-01-27T12:55:56.655+0000</td>\n",
       "      <td>NaN</td>\n",
       "      <td>False</td>\n",
       "      <td>NaN</td>\n",
       "    </tr>\n",
       "    <tr>\n",
       "      <th>24</th>\n",
       "      <td>Active Houses Visited</td>\n",
       "      <td>201912</td>\n",
       "      <td>so Bbondo RHC Chisangano</td>\n",
       "      <td>NaN</td>\n",
       "      <td>NaN</td>\n",
       "      <td>0</td>\n",
       "      <td>NaN</td>\n",
       "      <td>2020-01-27T12:55:56.665+0000</td>\n",
       "      <td>NaN</td>\n",
       "      <td>False</td>\n",
       "      <td>NaN</td>\n",
       "    </tr>\n",
       "    <tr>\n",
       "      <th>25</th>\n",
       "      <td>Active Tested less than 5 Years</td>\n",
       "      <td>201912</td>\n",
       "      <td>so Bbondo RHC Chisangano</td>\n",
       "      <td>NaN</td>\n",
       "      <td>NaN</td>\n",
       "      <td>0</td>\n",
       "      <td>NaN</td>\n",
       "      <td>2020-01-27T12:55:56.674+0000</td>\n",
       "      <td>NaN</td>\n",
       "      <td>False</td>\n",
       "      <td>NaN</td>\n",
       "    </tr>\n",
       "    <tr>\n",
       "      <th>26</th>\n",
       "      <td>Active Positive Travelled</td>\n",
       "      <td>201912</td>\n",
       "      <td>so Bbondo RHC Chisangano</td>\n",
       "      <td>NaN</td>\n",
       "      <td>NaN</td>\n",
       "      <td>0</td>\n",
       "      <td>NaN</td>\n",
       "      <td>2020-01-27T12:55:56.682+0000</td>\n",
       "      <td>NaN</td>\n",
       "      <td>False</td>\n",
       "      <td>NaN</td>\n",
       "    </tr>\n",
       "    <tr>\n",
       "      <th>27</th>\n",
       "      <td>ACT Stocks: 24s Balance on hand</td>\n",
       "      <td>201912</td>\n",
       "      <td>so Bbondo RHC Chisangano</td>\n",
       "      <td>NaN</td>\n",
       "      <td>NaN</td>\n",
       "      <td>0</td>\n",
       "      <td>NaN</td>\n",
       "      <td>2020-01-27T12:55:56.692+0000</td>\n",
       "      <td>NaN</td>\n",
       "      <td>False</td>\n",
       "      <td>NaN</td>\n",
       "    </tr>\n",
       "    <tr>\n",
       "      <th>28</th>\n",
       "      <td>ACT Stocks: 6s Balance on hand</td>\n",
       "      <td>2020W4</td>\n",
       "      <td>so Chabbobboma Rural Health Centre</td>\n",
       "      <td>NaN</td>\n",
       "      <td>NaN</td>\n",
       "      <td>60</td>\n",
       "      <td>Gwchabbobboma</td>\n",
       "      <td>2020-01-27T11:51:35.000+0000</td>\n",
       "      <td>NaN</td>\n",
       "      <td>False</td>\n",
       "      <td>NaN</td>\n",
       "    </tr>\n",
       "    <tr>\n",
       "      <th>29</th>\n",
       "      <td>ACT Stocks: 12s Balance on hand</td>\n",
       "      <td>2020W4</td>\n",
       "      <td>so Chabbobboma Rural Health Centre</td>\n",
       "      <td>NaN</td>\n",
       "      <td>NaN</td>\n",
       "      <td>56</td>\n",
       "      <td>Gwchabbobboma</td>\n",
       "      <td>2020-01-27T11:51:35.000+0000</td>\n",
       "      <td>NaN</td>\n",
       "      <td>False</td>\n",
       "      <td>NaN</td>\n",
       "    </tr>\n",
       "    <tr>\n",
       "      <th>...</th>\n",
       "      <td>...</td>\n",
       "      <td>...</td>\n",
       "      <td>...</td>\n",
       "      <td>...</td>\n",
       "      <td>...</td>\n",
       "      <td>...</td>\n",
       "      <td>...</td>\n",
       "      <td>...</td>\n",
       "      <td>...</td>\n",
       "      <td>...</td>\n",
       "      <td>...</td>\n",
       "    </tr>\n",
       "    <tr>\n",
       "      <th>102928</th>\n",
       "      <td>Passive Number Treated</td>\n",
       "      <td>201709</td>\n",
       "      <td>so Chipepo RHC Kalowa</td>\n",
       "      <td>NaN</td>\n",
       "      <td>NaN</td>\n",
       "      <td>2</td>\n",
       "      <td>mariereine</td>\n",
       "      <td>2017-11-09T19:57:13.379+0000</td>\n",
       "      <td>NaN</td>\n",
       "      <td>False</td>\n",
       "      <td>NaN</td>\n",
       "    </tr>\n",
       "    <tr>\n",
       "      <th>102929</th>\n",
       "      <td>Active Number Tested</td>\n",
       "      <td>201709</td>\n",
       "      <td>so Chipepo RHC Kalowa</td>\n",
       "      <td>NaN</td>\n",
       "      <td>NaN</td>\n",
       "      <td>19</td>\n",
       "      <td>mariereine</td>\n",
       "      <td>2017-11-09T19:57:18.281+0000</td>\n",
       "      <td>NaN</td>\n",
       "      <td>False</td>\n",
       "      <td>NaN</td>\n",
       "    </tr>\n",
       "    <tr>\n",
       "      <th>102930</th>\n",
       "      <td>ACT Stocks: 12s Balance on hand</td>\n",
       "      <td>2017W45</td>\n",
       "      <td>so Luumbo Rural Health Centre</td>\n",
       "      <td>NaN</td>\n",
       "      <td>NaN</td>\n",
       "      <td>30</td>\n",
       "      <td>NaN</td>\n",
       "      <td>2017-11-13T08:03:47.644+0000</td>\n",
       "      <td>NaN</td>\n",
       "      <td>False</td>\n",
       "      <td>NaN</td>\n",
       "    </tr>\n",
       "    <tr>\n",
       "      <th>102931</th>\n",
       "      <td>ACT Stocks: 18s Balance on hand</td>\n",
       "      <td>2017W45</td>\n",
       "      <td>so Luumbo Rural Health Centre</td>\n",
       "      <td>NaN</td>\n",
       "      <td>NaN</td>\n",
       "      <td>30</td>\n",
       "      <td>NaN</td>\n",
       "      <td>2017-11-13T08:03:47.682+0000</td>\n",
       "      <td>NaN</td>\n",
       "      <td>False</td>\n",
       "      <td>NaN</td>\n",
       "    </tr>\n",
       "    <tr>\n",
       "      <th>102932</th>\n",
       "      <td>ACT Stocks: 6s Balance on hand</td>\n",
       "      <td>2017W45</td>\n",
       "      <td>so Luumbo Rural Health Centre</td>\n",
       "      <td>NaN</td>\n",
       "      <td>NaN</td>\n",
       "      <td>30</td>\n",
       "      <td>NaN</td>\n",
       "      <td>2017-11-13T08:03:47.697+0000</td>\n",
       "      <td>NaN</td>\n",
       "      <td>False</td>\n",
       "      <td>NaN</td>\n",
       "    </tr>\n",
       "    <tr>\n",
       "      <th>102933</th>\n",
       "      <td>ACT Stocks: 24s Balance on hand</td>\n",
       "      <td>2017W45</td>\n",
       "      <td>so Luumbo Rural Health Centre</td>\n",
       "      <td>NaN</td>\n",
       "      <td>NaN</td>\n",
       "      <td>38</td>\n",
       "      <td>NaN</td>\n",
       "      <td>2017-11-13T08:03:47.701+0000</td>\n",
       "      <td>NaN</td>\n",
       "      <td>False</td>\n",
       "      <td>NaN</td>\n",
       "    </tr>\n",
       "    <tr>\n",
       "      <th>102934</th>\n",
       "      <td>ACT Stocks: 24s Balance on hand</td>\n",
       "      <td>2017W45</td>\n",
       "      <td>so Lukonde Rural Health Centre</td>\n",
       "      <td>NaN</td>\n",
       "      <td>NaN</td>\n",
       "      <td>0</td>\n",
       "      <td>NaN</td>\n",
       "      <td>2017-11-13T14:45:29.958+0000</td>\n",
       "      <td>NaN</td>\n",
       "      <td>False</td>\n",
       "      <td>NaN</td>\n",
       "    </tr>\n",
       "    <tr>\n",
       "      <th>102935</th>\n",
       "      <td>ACT Stocks: 12s Balance on hand</td>\n",
       "      <td>2017W45</td>\n",
       "      <td>so Chabbobboma Rural Health Centre</td>\n",
       "      <td>NaN</td>\n",
       "      <td>NaN</td>\n",
       "      <td>14</td>\n",
       "      <td>NaN</td>\n",
       "      <td>2017-11-15T15:38:55.559+0000</td>\n",
       "      <td>NaN</td>\n",
       "      <td>False</td>\n",
       "      <td>NaN</td>\n",
       "    </tr>\n",
       "    <tr>\n",
       "      <th>102936</th>\n",
       "      <td>ACT Stocks: 12s Balance on hand</td>\n",
       "      <td>2017W45</td>\n",
       "      <td>so Lukonde Rural Health Centre</td>\n",
       "      <td>NaN</td>\n",
       "      <td>NaN</td>\n",
       "      <td>9</td>\n",
       "      <td>NaN</td>\n",
       "      <td>2017-11-13T14:45:29.911+0000</td>\n",
       "      <td>NaN</td>\n",
       "      <td>False</td>\n",
       "      <td>NaN</td>\n",
       "    </tr>\n",
       "    <tr>\n",
       "      <th>102937</th>\n",
       "      <td>ACT Stocks: 18s Balance on hand</td>\n",
       "      <td>2017W45</td>\n",
       "      <td>so Lukonde Rural Health Centre</td>\n",
       "      <td>NaN</td>\n",
       "      <td>NaN</td>\n",
       "      <td>30</td>\n",
       "      <td>NaN</td>\n",
       "      <td>2017-11-13T14:45:29.939+0000</td>\n",
       "      <td>NaN</td>\n",
       "      <td>False</td>\n",
       "      <td>NaN</td>\n",
       "    </tr>\n",
       "    <tr>\n",
       "      <th>102938</th>\n",
       "      <td>ACT Stocks: 6s Balance on hand</td>\n",
       "      <td>2017W45</td>\n",
       "      <td>so Lukonde Rural Health Centre</td>\n",
       "      <td>NaN</td>\n",
       "      <td>NaN</td>\n",
       "      <td>884</td>\n",
       "      <td>NaN</td>\n",
       "      <td>2017-11-13T14:45:29.954+0000</td>\n",
       "      <td>NaN</td>\n",
       "      <td>False</td>\n",
       "      <td>NaN</td>\n",
       "    </tr>\n",
       "    <tr>\n",
       "      <th>102939</th>\n",
       "      <td>ACT Stocks: 18s Balance on hand</td>\n",
       "      <td>2017W45</td>\n",
       "      <td>so Chabbobboma Rural Health Centre</td>\n",
       "      <td>NaN</td>\n",
       "      <td>NaN</td>\n",
       "      <td>16</td>\n",
       "      <td>NaN</td>\n",
       "      <td>2017-11-15T15:38:55.589+0000</td>\n",
       "      <td>NaN</td>\n",
       "      <td>False</td>\n",
       "      <td>NaN</td>\n",
       "    </tr>\n",
       "    <tr>\n",
       "      <th>102940</th>\n",
       "      <td>ACT Stocks: 24s Balance on hand</td>\n",
       "      <td>2017W45</td>\n",
       "      <td>so Chabbobboma Rural Health Centre</td>\n",
       "      <td>NaN</td>\n",
       "      <td>NaN</td>\n",
       "      <td>9</td>\n",
       "      <td>NaN</td>\n",
       "      <td>2017-11-15T15:38:55.608+0000</td>\n",
       "      <td>NaN</td>\n",
       "      <td>False</td>\n",
       "      <td>NaN</td>\n",
       "    </tr>\n",
       "    <tr>\n",
       "      <th>102941</th>\n",
       "      <td>ACT Stocks: 6s Balance on hand</td>\n",
       "      <td>2017W45</td>\n",
       "      <td>so Chabbobboma Rural Health Centre</td>\n",
       "      <td>NaN</td>\n",
       "      <td>NaN</td>\n",
       "      <td>21</td>\n",
       "      <td>NaN</td>\n",
       "      <td>2017-11-15T15:38:55.605+0000</td>\n",
       "      <td>NaN</td>\n",
       "      <td>False</td>\n",
       "      <td>NaN</td>\n",
       "    </tr>\n",
       "    <tr>\n",
       "      <th>102942</th>\n",
       "      <td>ACT Stocks: 18s Balance on hand</td>\n",
       "      <td>2017W35</td>\n",
       "      <td>so Gwembe Hospital Affiliated Health Centre</td>\n",
       "      <td>NaN</td>\n",
       "      <td>NaN</td>\n",
       "      <td>30</td>\n",
       "      <td>NaN</td>\n",
       "      <td>2017-11-16T09:47:11.774+0000</td>\n",
       "      <td>NaN</td>\n",
       "      <td>False</td>\n",
       "      <td>NaN</td>\n",
       "    </tr>\n",
       "    <tr>\n",
       "      <th>102943</th>\n",
       "      <td>ACT Stocks: 6s Balance on hand</td>\n",
       "      <td>2017W35</td>\n",
       "      <td>so Gwembe Hospital Affiliated Health Centre</td>\n",
       "      <td>NaN</td>\n",
       "      <td>NaN</td>\n",
       "      <td>0</td>\n",
       "      <td>NaN</td>\n",
       "      <td>2017-11-16T09:47:11.790+0000</td>\n",
       "      <td>NaN</td>\n",
       "      <td>False</td>\n",
       "      <td>NaN</td>\n",
       "    </tr>\n",
       "    <tr>\n",
       "      <th>102944</th>\n",
       "      <td>ACT Stocks: 24s Balance on hand</td>\n",
       "      <td>2017W35</td>\n",
       "      <td>so Gwembe Hospital Affiliated Health Centre</td>\n",
       "      <td>NaN</td>\n",
       "      <td>NaN</td>\n",
       "      <td>76</td>\n",
       "      <td>NaN</td>\n",
       "      <td>2017-11-16T09:47:11.794+0000</td>\n",
       "      <td>NaN</td>\n",
       "      <td>False</td>\n",
       "      <td>NaN</td>\n",
       "    </tr>\n",
       "    <tr>\n",
       "      <th>102945</th>\n",
       "      <td>ACT Stocks: 12s Balance on hand</td>\n",
       "      <td>2017W38</td>\n",
       "      <td>so Gwembe Hospital Affiliated Health Centre</td>\n",
       "      <td>NaN</td>\n",
       "      <td>NaN</td>\n",
       "      <td>0</td>\n",
       "      <td>NaN</td>\n",
       "      <td>2017-11-16T09:50:25.401+0000</td>\n",
       "      <td>NaN</td>\n",
       "      <td>False</td>\n",
       "      <td>NaN</td>\n",
       "    </tr>\n",
       "    <tr>\n",
       "      <th>102946</th>\n",
       "      <td>ACT Stocks: 18s Balance on hand</td>\n",
       "      <td>2017W38</td>\n",
       "      <td>so Gwembe Hospital Affiliated Health Centre</td>\n",
       "      <td>NaN</td>\n",
       "      <td>NaN</td>\n",
       "      <td>0</td>\n",
       "      <td>NaN</td>\n",
       "      <td>2017-11-16T09:50:25.433+0000</td>\n",
       "      <td>NaN</td>\n",
       "      <td>False</td>\n",
       "      <td>NaN</td>\n",
       "    </tr>\n",
       "    <tr>\n",
       "      <th>102947</th>\n",
       "      <td>ACT Stocks: 6s Balance on hand</td>\n",
       "      <td>2017W38</td>\n",
       "      <td>so Gwembe Hospital Affiliated Health Centre</td>\n",
       "      <td>NaN</td>\n",
       "      <td>NaN</td>\n",
       "      <td>0</td>\n",
       "      <td>NaN</td>\n",
       "      <td>2017-11-16T09:50:25.450+0000</td>\n",
       "      <td>NaN</td>\n",
       "      <td>False</td>\n",
       "      <td>NaN</td>\n",
       "    </tr>\n",
       "    <tr>\n",
       "      <th>102948</th>\n",
       "      <td>ACT Stocks: 24s Balance on hand</td>\n",
       "      <td>2017W38</td>\n",
       "      <td>so Gwembe Hospital Affiliated Health Centre</td>\n",
       "      <td>NaN</td>\n",
       "      <td>NaN</td>\n",
       "      <td>0</td>\n",
       "      <td>NaN</td>\n",
       "      <td>2017-11-16T09:50:25.453+0000</td>\n",
       "      <td>NaN</td>\n",
       "      <td>False</td>\n",
       "      <td>NaN</td>\n",
       "    </tr>\n",
       "    <tr>\n",
       "      <th>102949</th>\n",
       "      <td>ACT Stocks: 12s Balance on hand</td>\n",
       "      <td>2017W45</td>\n",
       "      <td>so Gwembe Hospital Affiliated Health Centre</td>\n",
       "      <td>NaN</td>\n",
       "      <td>NaN</td>\n",
       "      <td>29</td>\n",
       "      <td>NaN</td>\n",
       "      <td>2017-11-16T09:42:48.292+0000</td>\n",
       "      <td>NaN</td>\n",
       "      <td>False</td>\n",
       "      <td>NaN</td>\n",
       "    </tr>\n",
       "    <tr>\n",
       "      <th>102950</th>\n",
       "      <td>ACT Stocks: 24s Balance on hand</td>\n",
       "      <td>2017W45</td>\n",
       "      <td>so Gwembe Hospital Affiliated Health Centre</td>\n",
       "      <td>NaN</td>\n",
       "      <td>NaN</td>\n",
       "      <td>74</td>\n",
       "      <td>NaN</td>\n",
       "      <td>2017-11-16T09:42:48.350+0000</td>\n",
       "      <td>NaN</td>\n",
       "      <td>False</td>\n",
       "      <td>NaN</td>\n",
       "    </tr>\n",
       "    <tr>\n",
       "      <th>102951</th>\n",
       "      <td>ACT Stocks: 18s Balance on hand</td>\n",
       "      <td>2017W34</td>\n",
       "      <td>so Gwembe Hospital Affiliated Health Centre</td>\n",
       "      <td>NaN</td>\n",
       "      <td>NaN</td>\n",
       "      <td>30</td>\n",
       "      <td>NaN</td>\n",
       "      <td>2017-11-16T09:44:56.612+0000</td>\n",
       "      <td>NaN</td>\n",
       "      <td>False</td>\n",
       "      <td>NaN</td>\n",
       "    </tr>\n",
       "    <tr>\n",
       "      <th>102952</th>\n",
       "      <td>ACT Stocks: 24s Balance on hand</td>\n",
       "      <td>2017W34</td>\n",
       "      <td>so Gwembe Hospital Affiliated Health Centre</td>\n",
       "      <td>NaN</td>\n",
       "      <td>NaN</td>\n",
       "      <td>77</td>\n",
       "      <td>NaN</td>\n",
       "      <td>2017-11-16T09:44:56.634+0000</td>\n",
       "      <td>NaN</td>\n",
       "      <td>False</td>\n",
       "      <td>NaN</td>\n",
       "    </tr>\n",
       "    <tr>\n",
       "      <th>102953</th>\n",
       "      <td>ACT Stocks: 18s Balance on hand</td>\n",
       "      <td>2017W45</td>\n",
       "      <td>so Gwembe Hospital Affiliated Health Centre</td>\n",
       "      <td>NaN</td>\n",
       "      <td>NaN</td>\n",
       "      <td>0</td>\n",
       "      <td>NaN</td>\n",
       "      <td>2017-11-16T09:42:48.330+0000</td>\n",
       "      <td>NaN</td>\n",
       "      <td>False</td>\n",
       "      <td>NaN</td>\n",
       "    </tr>\n",
       "    <tr>\n",
       "      <th>102954</th>\n",
       "      <td>ACT Stocks: 6s Balance on hand</td>\n",
       "      <td>2017W45</td>\n",
       "      <td>so Gwembe Hospital Affiliated Health Centre</td>\n",
       "      <td>NaN</td>\n",
       "      <td>NaN</td>\n",
       "      <td>70</td>\n",
       "      <td>NaN</td>\n",
       "      <td>2017-11-16T09:42:48.347+0000</td>\n",
       "      <td>NaN</td>\n",
       "      <td>False</td>\n",
       "      <td>NaN</td>\n",
       "    </tr>\n",
       "    <tr>\n",
       "      <th>102955</th>\n",
       "      <td>ACT Stocks: 12s Balance on hand</td>\n",
       "      <td>2017W34</td>\n",
       "      <td>so Gwembe Hospital Affiliated Health Centre</td>\n",
       "      <td>NaN</td>\n",
       "      <td>NaN</td>\n",
       "      <td>30</td>\n",
       "      <td>NaN</td>\n",
       "      <td>2017-11-16T09:44:56.577+0000</td>\n",
       "      <td>NaN</td>\n",
       "      <td>False</td>\n",
       "      <td>NaN</td>\n",
       "    </tr>\n",
       "    <tr>\n",
       "      <th>102956</th>\n",
       "      <td>ACT Stocks: 6s Balance on hand</td>\n",
       "      <td>2017W34</td>\n",
       "      <td>so Gwembe Hospital Affiliated Health Centre</td>\n",
       "      <td>NaN</td>\n",
       "      <td>NaN</td>\n",
       "      <td>0</td>\n",
       "      <td>NaN</td>\n",
       "      <td>2017-11-16T09:44:56.630+0000</td>\n",
       "      <td>NaN</td>\n",
       "      <td>False</td>\n",
       "      <td>NaN</td>\n",
       "    </tr>\n",
       "    <tr>\n",
       "      <th>102957</th>\n",
       "      <td>ACT Stocks: 12s Balance on hand</td>\n",
       "      <td>2017W35</td>\n",
       "      <td>so Gwembe Hospital Affiliated Health Centre</td>\n",
       "      <td>NaN</td>\n",
       "      <td>NaN</td>\n",
       "      <td>30</td>\n",
       "      <td>NaN</td>\n",
       "      <td>2017-11-16T09:47:11.742+0000</td>\n",
       "      <td>NaN</td>\n",
       "      <td>False</td>\n",
       "      <td>NaN</td>\n",
       "    </tr>\n",
       "  </tbody>\n",
       "</table>\n",
       "<p>102958 rows × 11 columns</p>\n",
       "</div>"
      ],
      "text/plain": [
       "                               dataelement   period  \\\n",
       "0          ACT Stocks: 18s Balance on hand   2019W1   \n",
       "1                Active Positive Travelled   201912   \n",
       "2          ACT Stocks: 18s Balance on hand   2019W1   \n",
       "3           ACT Stocks: 6s Balance on hand   2020W4   \n",
       "4          ACT Stocks: 12s Balance on hand   2020W4   \n",
       "5          ACT Stocks: 18s Balance on hand   2020W4   \n",
       "6          ACT Stocks: 24s Balance on hand   2020W4   \n",
       "7           ACT Stocks: 6s Balance on hand   2020W4   \n",
       "8          ACT Stocks: 12s Balance on hand   2020W4   \n",
       "9          ACT Stocks: 18s Balance on hand   2020W4   \n",
       "10         ACT Stocks: 24s Balance on hand   2020W4   \n",
       "11         RDT stocks: RDT Balance on hand   201912   \n",
       "12                 Passive Number Positive   201912   \n",
       "13         RDT stocks: RDT Balance on hand   201912   \n",
       "14                 Active Number Travelled   201912   \n",
       "15                Passive Number Travelled   201912   \n",
       "16                  Active Number Positive   201912   \n",
       "17       Active Positive less than 5 years   201912   \n",
       "18         ACT Stocks: 12s Balance on hand   201912   \n",
       "19                 Passive Number Positive   201912   \n",
       "20         Active Tested 5 Years and above   201912   \n",
       "21      Passive Positive 5 Years and above   201912   \n",
       "22                    Active Number Tested   201912   \n",
       "23                   Passive Number Tested   201912   \n",
       "24                   Active Houses Visited   201912   \n",
       "25         Active Tested less than 5 Years   201912   \n",
       "26               Active Positive Travelled   201912   \n",
       "27         ACT Stocks: 24s Balance on hand   201912   \n",
       "28          ACT Stocks: 6s Balance on hand   2020W4   \n",
       "29         ACT Stocks: 12s Balance on hand   2020W4   \n",
       "...                                    ...      ...   \n",
       "102928              Passive Number Treated   201709   \n",
       "102929                Active Number Tested   201709   \n",
       "102930     ACT Stocks: 12s Balance on hand  2017W45   \n",
       "102931     ACT Stocks: 18s Balance on hand  2017W45   \n",
       "102932      ACT Stocks: 6s Balance on hand  2017W45   \n",
       "102933     ACT Stocks: 24s Balance on hand  2017W45   \n",
       "102934     ACT Stocks: 24s Balance on hand  2017W45   \n",
       "102935     ACT Stocks: 12s Balance on hand  2017W45   \n",
       "102936     ACT Stocks: 12s Balance on hand  2017W45   \n",
       "102937     ACT Stocks: 18s Balance on hand  2017W45   \n",
       "102938      ACT Stocks: 6s Balance on hand  2017W45   \n",
       "102939     ACT Stocks: 18s Balance on hand  2017W45   \n",
       "102940     ACT Stocks: 24s Balance on hand  2017W45   \n",
       "102941      ACT Stocks: 6s Balance on hand  2017W45   \n",
       "102942     ACT Stocks: 18s Balance on hand  2017W35   \n",
       "102943      ACT Stocks: 6s Balance on hand  2017W35   \n",
       "102944     ACT Stocks: 24s Balance on hand  2017W35   \n",
       "102945     ACT Stocks: 12s Balance on hand  2017W38   \n",
       "102946     ACT Stocks: 18s Balance on hand  2017W38   \n",
       "102947      ACT Stocks: 6s Balance on hand  2017W38   \n",
       "102948     ACT Stocks: 24s Balance on hand  2017W38   \n",
       "102949     ACT Stocks: 12s Balance on hand  2017W45   \n",
       "102950     ACT Stocks: 24s Balance on hand  2017W45   \n",
       "102951     ACT Stocks: 18s Balance on hand  2017W34   \n",
       "102952     ACT Stocks: 24s Balance on hand  2017W34   \n",
       "102953     ACT Stocks: 18s Balance on hand  2017W45   \n",
       "102954      ACT Stocks: 6s Balance on hand  2017W45   \n",
       "102955     ACT Stocks: 12s Balance on hand  2017W34   \n",
       "102956      ACT Stocks: 6s Balance on hand  2017W34   \n",
       "102957     ACT Stocks: 12s Balance on hand  2017W35   \n",
       "\n",
       "                                            orgunit  categoryoptioncombo  \\\n",
       "0                so Chabbobboma Rural Health Centre                  NaN   \n",
       "1                             so Ntanga HP Mukwizya                  NaN   \n",
       "2                   so Sinafala Rural Health Centre                  NaN   \n",
       "3                   so Sinafala Rural Health Centre                  NaN   \n",
       "4                   so Sinafala Rural Health Centre                  NaN   \n",
       "5                   so Sinafala Rural Health Centre                  NaN   \n",
       "6                   so Sinafala Rural Health Centre                  NaN   \n",
       "7                           so Chisanga Health Post                  NaN   \n",
       "8                           so Chisanga Health Post                  NaN   \n",
       "9                           so Chisanga Health Post                  NaN   \n",
       "10                          so Chisanga Health Post                  NaN   \n",
       "11                        so Bbondo RHC Nachilala A                  NaN   \n",
       "12                        so Bbondo RHC Nachilala A                  NaN   \n",
       "13                         so Bbondo RHC Chisangano                  NaN   \n",
       "14                         so Bbondo RHC Chisangano                  NaN   \n",
       "15                         so Bbondo RHC Chisangano                  NaN   \n",
       "16                         so Bbondo RHC Chisangano                  NaN   \n",
       "17                         so Bbondo RHC Chisangano                  NaN   \n",
       "18                         so Bbondo RHC Chisangano                  NaN   \n",
       "19                         so Bbondo RHC Chisangano                  NaN   \n",
       "20                         so Bbondo RHC Chisangano                  NaN   \n",
       "21                         so Bbondo RHC Chisangano                  NaN   \n",
       "22                         so Bbondo RHC Chisangano                  NaN   \n",
       "23                         so Bbondo RHC Chisangano                  NaN   \n",
       "24                         so Bbondo RHC Chisangano                  NaN   \n",
       "25                         so Bbondo RHC Chisangano                  NaN   \n",
       "26                         so Bbondo RHC Chisangano                  NaN   \n",
       "27                         so Bbondo RHC Chisangano                  NaN   \n",
       "28               so Chabbobboma Rural Health Centre                  NaN   \n",
       "29               so Chabbobboma Rural Health Centre                  NaN   \n",
       "...                                             ...                  ...   \n",
       "102928                        so Chipepo RHC Kalowa                  NaN   \n",
       "102929                        so Chipepo RHC Kalowa                  NaN   \n",
       "102930                so Luumbo Rural Health Centre                  NaN   \n",
       "102931                so Luumbo Rural Health Centre                  NaN   \n",
       "102932                so Luumbo Rural Health Centre                  NaN   \n",
       "102933                so Luumbo Rural Health Centre                  NaN   \n",
       "102934               so Lukonde Rural Health Centre                  NaN   \n",
       "102935           so Chabbobboma Rural Health Centre                  NaN   \n",
       "102936               so Lukonde Rural Health Centre                  NaN   \n",
       "102937               so Lukonde Rural Health Centre                  NaN   \n",
       "102938               so Lukonde Rural Health Centre                  NaN   \n",
       "102939           so Chabbobboma Rural Health Centre                  NaN   \n",
       "102940           so Chabbobboma Rural Health Centre                  NaN   \n",
       "102941           so Chabbobboma Rural Health Centre                  NaN   \n",
       "102942  so Gwembe Hospital Affiliated Health Centre                  NaN   \n",
       "102943  so Gwembe Hospital Affiliated Health Centre                  NaN   \n",
       "102944  so Gwembe Hospital Affiliated Health Centre                  NaN   \n",
       "102945  so Gwembe Hospital Affiliated Health Centre                  NaN   \n",
       "102946  so Gwembe Hospital Affiliated Health Centre                  NaN   \n",
       "102947  so Gwembe Hospital Affiliated Health Centre                  NaN   \n",
       "102948  so Gwembe Hospital Affiliated Health Centre                  NaN   \n",
       "102949  so Gwembe Hospital Affiliated Health Centre                  NaN   \n",
       "102950  so Gwembe Hospital Affiliated Health Centre                  NaN   \n",
       "102951  so Gwembe Hospital Affiliated Health Centre                  NaN   \n",
       "102952  so Gwembe Hospital Affiliated Health Centre                  NaN   \n",
       "102953  so Gwembe Hospital Affiliated Health Centre                  NaN   \n",
       "102954  so Gwembe Hospital Affiliated Health Centre                  NaN   \n",
       "102955  so Gwembe Hospital Affiliated Health Centre                  NaN   \n",
       "102956  so Gwembe Hospital Affiliated Health Centre                  NaN   \n",
       "102957  so Gwembe Hospital Affiliated Health Centre                  NaN   \n",
       "\n",
       "        attributeoptioncombo  value       storedby  \\\n",
       "0                        NaN    210  Gwchabbobboma   \n",
       "1                        NaN      0            NaN   \n",
       "2                        NaN      5     Gwsinafala   \n",
       "3                        NaN      0     Gwsinafala   \n",
       "4                        NaN     25     Gwsinafala   \n",
       "5                        NaN      0     Gwsinafala   \n",
       "6                        NaN      0     Gwsinafala   \n",
       "7                        NaN     90     Gwchisanga   \n",
       "8                        NaN      0     Gwchisanga   \n",
       "9                        NaN    330     Gwchisanga   \n",
       "10                       NaN    330     Gwchisanga   \n",
       "11                       NaN      4            NaN   \n",
       "12                       NaN      1         Gwembe   \n",
       "13                       NaN      8            NaN   \n",
       "14                       NaN      0            NaN   \n",
       "15                       NaN      0            NaN   \n",
       "16                       NaN      0            NaN   \n",
       "17                       NaN      0            NaN   \n",
       "18                       NaN      0            NaN   \n",
       "19                       NaN      0            NaN   \n",
       "20                       NaN      0            NaN   \n",
       "21                       NaN      0            NaN   \n",
       "22                       NaN      0            NaN   \n",
       "23                       NaN      6            NaN   \n",
       "24                       NaN      0            NaN   \n",
       "25                       NaN      0            NaN   \n",
       "26                       NaN      0            NaN   \n",
       "27                       NaN      0            NaN   \n",
       "28                       NaN     60  Gwchabbobboma   \n",
       "29                       NaN     56  Gwchabbobboma   \n",
       "...                      ...    ...            ...   \n",
       "102928                   NaN      2     mariereine   \n",
       "102929                   NaN     19     mariereine   \n",
       "102930                   NaN     30            NaN   \n",
       "102931                   NaN     30            NaN   \n",
       "102932                   NaN     30            NaN   \n",
       "102933                   NaN     38            NaN   \n",
       "102934                   NaN      0            NaN   \n",
       "102935                   NaN     14            NaN   \n",
       "102936                   NaN      9            NaN   \n",
       "102937                   NaN     30            NaN   \n",
       "102938                   NaN    884            NaN   \n",
       "102939                   NaN     16            NaN   \n",
       "102940                   NaN      9            NaN   \n",
       "102941                   NaN     21            NaN   \n",
       "102942                   NaN     30            NaN   \n",
       "102943                   NaN      0            NaN   \n",
       "102944                   NaN     76            NaN   \n",
       "102945                   NaN      0            NaN   \n",
       "102946                   NaN      0            NaN   \n",
       "102947                   NaN      0            NaN   \n",
       "102948                   NaN      0            NaN   \n",
       "102949                   NaN     29            NaN   \n",
       "102950                   NaN     74            NaN   \n",
       "102951                   NaN     30            NaN   \n",
       "102952                   NaN     77            NaN   \n",
       "102953                   NaN      0            NaN   \n",
       "102954                   NaN     70            NaN   \n",
       "102955                   NaN     30            NaN   \n",
       "102956                   NaN      0            NaN   \n",
       "102957                   NaN     30            NaN   \n",
       "\n",
       "                         lastupdated  comment  followup  deleted  \n",
       "0       2020-01-23T08:43:44.000+0000      NaN     False      NaN  \n",
       "1       2020-01-27T12:55:14.678+0000      NaN     False      NaN  \n",
       "2       2020-01-26T04:51:22.000+0000      NaN     False      NaN  \n",
       "3       2020-01-26T04:51:30.000+0000      NaN     False      NaN  \n",
       "4       2020-01-26T04:51:30.000+0000      NaN     False      NaN  \n",
       "5       2020-01-26T04:51:30.000+0000      NaN     False      NaN  \n",
       "6       2020-01-26T04:51:30.000+0000      NaN     False      NaN  \n",
       "7       2020-01-27T08:02:09.000+0000      NaN     False      NaN  \n",
       "8       2020-01-27T08:02:09.000+0000      NaN     False      NaN  \n",
       "9       2020-01-27T08:02:09.000+0000      NaN     False      NaN  \n",
       "10      2020-01-27T08:02:09.000+0000      NaN     False      NaN  \n",
       "11      2020-01-27T12:54:21.251+0000      NaN     False      NaN  \n",
       "12      2020-01-31T09:31:45.033+0000      NaN     False      NaN  \n",
       "13      2020-01-27T12:55:56.550+0000      NaN     False      NaN  \n",
       "14      2020-01-27T12:55:56.571+0000      NaN     False      NaN  \n",
       "15      2020-01-27T12:55:56.585+0000      NaN     False      NaN  \n",
       "16      2020-01-27T12:55:56.595+0000      NaN     False      NaN  \n",
       "17      2020-01-27T12:55:56.605+0000      NaN     False      NaN  \n",
       "18      2020-01-27T12:55:56.614+0000      NaN     False      NaN  \n",
       "19      2020-01-27T12:55:56.623+0000      NaN     False      NaN  \n",
       "20      2020-01-27T12:55:56.631+0000      NaN     False      NaN  \n",
       "21      2020-01-27T12:55:56.639+0000      NaN     False      NaN  \n",
       "22      2020-01-27T12:55:56.647+0000      NaN     False      NaN  \n",
       "23      2020-01-27T12:55:56.655+0000      NaN     False      NaN  \n",
       "24      2020-01-27T12:55:56.665+0000      NaN     False      NaN  \n",
       "25      2020-01-27T12:55:56.674+0000      NaN     False      NaN  \n",
       "26      2020-01-27T12:55:56.682+0000      NaN     False      NaN  \n",
       "27      2020-01-27T12:55:56.692+0000      NaN     False      NaN  \n",
       "28      2020-01-27T11:51:35.000+0000      NaN     False      NaN  \n",
       "29      2020-01-27T11:51:35.000+0000      NaN     False      NaN  \n",
       "...                              ...      ...       ...      ...  \n",
       "102928  2017-11-09T19:57:13.379+0000      NaN     False      NaN  \n",
       "102929  2017-11-09T19:57:18.281+0000      NaN     False      NaN  \n",
       "102930  2017-11-13T08:03:47.644+0000      NaN     False      NaN  \n",
       "102931  2017-11-13T08:03:47.682+0000      NaN     False      NaN  \n",
       "102932  2017-11-13T08:03:47.697+0000      NaN     False      NaN  \n",
       "102933  2017-11-13T08:03:47.701+0000      NaN     False      NaN  \n",
       "102934  2017-11-13T14:45:29.958+0000      NaN     False      NaN  \n",
       "102935  2017-11-15T15:38:55.559+0000      NaN     False      NaN  \n",
       "102936  2017-11-13T14:45:29.911+0000      NaN     False      NaN  \n",
       "102937  2017-11-13T14:45:29.939+0000      NaN     False      NaN  \n",
       "102938  2017-11-13T14:45:29.954+0000      NaN     False      NaN  \n",
       "102939  2017-11-15T15:38:55.589+0000      NaN     False      NaN  \n",
       "102940  2017-11-15T15:38:55.608+0000      NaN     False      NaN  \n",
       "102941  2017-11-15T15:38:55.605+0000      NaN     False      NaN  \n",
       "102942  2017-11-16T09:47:11.774+0000      NaN     False      NaN  \n",
       "102943  2017-11-16T09:47:11.790+0000      NaN     False      NaN  \n",
       "102944  2017-11-16T09:47:11.794+0000      NaN     False      NaN  \n",
       "102945  2017-11-16T09:50:25.401+0000      NaN     False      NaN  \n",
       "102946  2017-11-16T09:50:25.433+0000      NaN     False      NaN  \n",
       "102947  2017-11-16T09:50:25.450+0000      NaN     False      NaN  \n",
       "102948  2017-11-16T09:50:25.453+0000      NaN     False      NaN  \n",
       "102949  2017-11-16T09:42:48.292+0000      NaN     False      NaN  \n",
       "102950  2017-11-16T09:42:48.350+0000      NaN     False      NaN  \n",
       "102951  2017-11-16T09:44:56.612+0000      NaN     False      NaN  \n",
       "102952  2017-11-16T09:44:56.634+0000      NaN     False      NaN  \n",
       "102953  2017-11-16T09:42:48.330+0000      NaN     False      NaN  \n",
       "102954  2017-11-16T09:42:48.347+0000      NaN     False      NaN  \n",
       "102955  2017-11-16T09:44:56.577+0000      NaN     False      NaN  \n",
       "102956  2017-11-16T09:44:56.630+0000      NaN     False      NaN  \n",
       "102957  2017-11-16T09:47:11.742+0000      NaN     False      NaN  \n",
       "\n",
       "[102958 rows x 11 columns]"
      ]
     },
     "execution_count": 23,
     "metadata": {},
     "output_type": "execute_result"
    }
   ],
   "source": [
    "df"
   ]
  },
  {
   "cell_type": "code",
   "execution_count": null,
   "metadata": {},
   "outputs": [],
   "source": []
  }
 ],
 "metadata": {
  "kernelspec": {
   "display_name": "Python 3",
   "language": "python",
   "name": "python3"
  },
  "language_info": {
   "codemirror_mode": {
    "name": "ipython",
    "version": 3
   },
   "file_extension": ".py",
   "mimetype": "text/x-python",
   "name": "python",
   "nbconvert_exporter": "python",
   "pygments_lexer": "ipython3",
   "version": "3.6.6"
  },
  "toc": {
   "base_numbering": 1,
   "nav_menu": {},
   "number_sections": true,
   "sideBar": true,
   "skip_h1_title": true,
   "title_cell": "Table of Contents",
   "title_sidebar": "Contents",
   "toc_cell": true,
   "toc_position": {},
   "toc_section_display": true,
   "toc_window_display": true
  }
 },
 "nbformat": 4,
 "nbformat_minor": 2
}
