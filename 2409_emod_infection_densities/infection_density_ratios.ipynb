{
 "cells": [
  {
   "cell_type": "code",
   "execution_count": 1,
   "id": "initial_id",
   "metadata": {
    "collapsed": true,
    "ExecuteTime": {
     "end_time": "2024-09-30T19:15:18.476019Z",
     "start_time": "2024-09-30T19:15:06.140504Z"
    }
   },
   "outputs": [],
   "source": [
    "import numpy as np\n",
    "import matplotlib.pyplot as plt\n",
    "import pandas as pd"
   ]
  },
  {
   "cell_type": "code",
   "outputs": [],
   "source": [
    "df = pd.read_csv(\"ReportInfectionStatsMalaria.csv\")"
   ],
   "metadata": {
    "collapsed": false,
    "ExecuteTime": {
     "end_time": "2024-09-30T19:15:25.635931Z",
     "start_time": "2024-09-30T19:15:18.485003Z"
    }
   },
   "id": "eba43d01349a84fa",
   "execution_count": 2
  },
  {
   "cell_type": "code",
   "outputs": [
    {
     "data": {
      "text/plain": "    Time  NodeID  IndividualID Gender  AgeYears  InfectionID  Infectiousness  \\\n0  18250       1         12845      M  41.87400       465441        0.000000   \n1  18250       1         16754      F  30.60270       462944        0.000855   \n2  18250       1         18089      M  26.86300       460201        0.000080   \n3  18250       1            13      M  54.55590       464321        0.011124   \n4  18250       1         24684      M   8.05479       465199        0.000000   \n\n   Duration  Hepatocytes        IRBCs  Gametocytes  \n0         1            2            0            0  \n1       126            0          477      1007401  \n2       249            0     57544004       319690  \n3        59            0  26362902259     71100043  \n4        14            0    170465866            0  ",
      "text/html": "<div>\n<style scoped>\n    .dataframe tbody tr th:only-of-type {\n        vertical-align: middle;\n    }\n\n    .dataframe tbody tr th {\n        vertical-align: top;\n    }\n\n    .dataframe thead th {\n        text-align: right;\n    }\n</style>\n<table border=\"1\" class=\"dataframe\">\n  <thead>\n    <tr style=\"text-align: right;\">\n      <th></th>\n      <th>Time</th>\n      <th>NodeID</th>\n      <th>IndividualID</th>\n      <th>Gender</th>\n      <th>AgeYears</th>\n      <th>InfectionID</th>\n      <th>Infectiousness</th>\n      <th>Duration</th>\n      <th>Hepatocytes</th>\n      <th>IRBCs</th>\n      <th>Gametocytes</th>\n    </tr>\n  </thead>\n  <tbody>\n    <tr>\n      <th>0</th>\n      <td>18250</td>\n      <td>1</td>\n      <td>12845</td>\n      <td>M</td>\n      <td>41.87400</td>\n      <td>465441</td>\n      <td>0.000000</td>\n      <td>1</td>\n      <td>2</td>\n      <td>0</td>\n      <td>0</td>\n    </tr>\n    <tr>\n      <th>1</th>\n      <td>18250</td>\n      <td>1</td>\n      <td>16754</td>\n      <td>F</td>\n      <td>30.60270</td>\n      <td>462944</td>\n      <td>0.000855</td>\n      <td>126</td>\n      <td>0</td>\n      <td>477</td>\n      <td>1007401</td>\n    </tr>\n    <tr>\n      <th>2</th>\n      <td>18250</td>\n      <td>1</td>\n      <td>18089</td>\n      <td>M</td>\n      <td>26.86300</td>\n      <td>460201</td>\n      <td>0.000080</td>\n      <td>249</td>\n      <td>0</td>\n      <td>57544004</td>\n      <td>319690</td>\n    </tr>\n    <tr>\n      <th>3</th>\n      <td>18250</td>\n      <td>1</td>\n      <td>13</td>\n      <td>M</td>\n      <td>54.55590</td>\n      <td>464321</td>\n      <td>0.011124</td>\n      <td>59</td>\n      <td>0</td>\n      <td>26362902259</td>\n      <td>71100043</td>\n    </tr>\n    <tr>\n      <th>4</th>\n      <td>18250</td>\n      <td>1</td>\n      <td>24684</td>\n      <td>M</td>\n      <td>8.05479</td>\n      <td>465199</td>\n      <td>0.000000</td>\n      <td>14</td>\n      <td>0</td>\n      <td>170465866</td>\n      <td>0</td>\n    </tr>\n  </tbody>\n</table>\n</div>"
     },
     "execution_count": 3,
     "metadata": {},
     "output_type": "execute_result"
    }
   ],
   "source": [
    "df.head()"
   ],
   "metadata": {
    "collapsed": false,
    "ExecuteTime": {
     "end_time": "2024-09-30T19:15:25.759051Z",
     "start_time": "2024-09-30T19:15:25.647928Z"
    }
   },
   "id": "a41f5358afb3eee7",
   "execution_count": 3
  },
  {
   "cell_type": "code",
   "outputs": [
    {
     "data": {
      "text/plain": "Index(['Time', 'NodeID', 'IndividualID', 'Gender', 'AgeYears', 'InfectionID',\n       'Infectiousness', 'Duration', 'Hepatocytes', 'IRBCs', 'Gametocytes'],\n      dtype='object')"
     },
     "execution_count": 4,
     "metadata": {},
     "output_type": "execute_result"
    }
   ],
   "source": [
    "df.columns"
   ],
   "metadata": {
    "collapsed": false,
    "ExecuteTime": {
     "end_time": "2024-09-30T19:15:25.790058Z",
     "start_time": "2024-09-30T19:15:25.768070Z"
    }
   },
   "id": "219a933c125806d0",
   "execution_count": 4
  },
  {
   "cell_type": "code",
   "outputs": [],
   "source": [
    "df = df[[\"Time\", \"IndividualID\", \"InfectionID\", \"IRBCs\"]]"
   ],
   "metadata": {
    "collapsed": false,
    "ExecuteTime": {
     "end_time": "2024-09-30T19:15:39.130516Z",
     "start_time": "2024-09-30T19:15:39.029519Z"
    }
   },
   "id": "5dc27ac783cd6c84",
   "execution_count": 5
  },
  {
   "cell_type": "code",
   "outputs": [],
   "source": [
    "df = df[df[\"IRBCs\"] > 0]"
   ],
   "metadata": {
    "collapsed": false,
    "ExecuteTime": {
     "end_time": "2024-09-30T19:21:22.922919Z",
     "start_time": "2024-09-30T19:21:22.789040Z"
    }
   },
   "id": "32fb8437c01c8c75",
   "execution_count": 17
  },
  {
   "cell_type": "code",
   "outputs": [],
   "source": [
    "# Group over time and individual ID, and compute number of unique infection IDs\n",
    "df_grouped = df.groupby([\"Time\", \"IndividualID\"]).agg({\"InfectionID\": \"nunique\"}).reset_index()"
   ],
   "metadata": {
    "collapsed": false,
    "ExecuteTime": {
     "end_time": "2024-09-30T19:21:26.419639Z",
     "start_time": "2024-09-30T19:21:24.444949Z"
    }
   },
   "id": "c7e46772c1530b6b",
   "execution_count": 18
  },
  {
   "cell_type": "code",
   "outputs": [],
   "source": [
    "df_poly = df_grouped[df_grouped[\"InfectionID\"] > 1].reset_index(drop=True)"
   ],
   "metadata": {
    "collapsed": false,
    "ExecuteTime": {
     "end_time": "2024-09-30T19:21:46.019978Z",
     "start_time": "2024-09-30T19:21:45.958549Z"
    }
   },
   "id": "9a94820f125f38d5",
   "execution_count": 21
  },
  {
   "cell_type": "code",
   "outputs": [
    {
     "data": {
      "text/plain": "         Time  IndividualID  InfectionID\n0       18250           349            2\n1       18250           364            2\n2       18250           954            2\n3       18250          1179            2\n4       18250          1394            2\n...       ...           ...          ...\n324030  21870         29818            2\n324031  21870         30161            2\n324032  21870         30177            2\n324033  21870         30308            2\n324034  21870         30698            2\n\n[324035 rows x 3 columns]",
      "text/html": "<div>\n<style scoped>\n    .dataframe tbody tr th:only-of-type {\n        vertical-align: middle;\n    }\n\n    .dataframe tbody tr th {\n        vertical-align: top;\n    }\n\n    .dataframe thead th {\n        text-align: right;\n    }\n</style>\n<table border=\"1\" class=\"dataframe\">\n  <thead>\n    <tr style=\"text-align: right;\">\n      <th></th>\n      <th>Time</th>\n      <th>IndividualID</th>\n      <th>InfectionID</th>\n    </tr>\n  </thead>\n  <tbody>\n    <tr>\n      <th>0</th>\n      <td>18250</td>\n      <td>349</td>\n      <td>2</td>\n    </tr>\n    <tr>\n      <th>1</th>\n      <td>18250</td>\n      <td>364</td>\n      <td>2</td>\n    </tr>\n    <tr>\n      <th>2</th>\n      <td>18250</td>\n      <td>954</td>\n      <td>2</td>\n    </tr>\n    <tr>\n      <th>3</th>\n      <td>18250</td>\n      <td>1179</td>\n      <td>2</td>\n    </tr>\n    <tr>\n      <th>4</th>\n      <td>18250</td>\n      <td>1394</td>\n      <td>2</td>\n    </tr>\n    <tr>\n      <th>...</th>\n      <td>...</td>\n      <td>...</td>\n      <td>...</td>\n    </tr>\n    <tr>\n      <th>324030</th>\n      <td>21870</td>\n      <td>29818</td>\n      <td>2</td>\n    </tr>\n    <tr>\n      <th>324031</th>\n      <td>21870</td>\n      <td>30161</td>\n      <td>2</td>\n    </tr>\n    <tr>\n      <th>324032</th>\n      <td>21870</td>\n      <td>30177</td>\n      <td>2</td>\n    </tr>\n    <tr>\n      <th>324033</th>\n      <td>21870</td>\n      <td>30308</td>\n      <td>2</td>\n    </tr>\n    <tr>\n      <th>324034</th>\n      <td>21870</td>\n      <td>30698</td>\n      <td>2</td>\n    </tr>\n  </tbody>\n</table>\n<p>324035 rows × 3 columns</p>\n</div>"
     },
     "execution_count": 22,
     "metadata": {},
     "output_type": "execute_result"
    }
   ],
   "source": [
    "df_poly"
   ],
   "metadata": {
    "collapsed": false,
    "ExecuteTime": {
     "end_time": "2024-09-30T19:21:46.694412Z",
     "start_time": "2024-09-30T19:21:46.678239Z"
    }
   },
   "id": "7acf9668c26c3460",
   "execution_count": 22
  },
  {
   "cell_type": "code",
   "outputs": [],
   "source": [
    "# For each time and individualID in df_poly, compute the maximum number of IRBCs\n",
    "df_max_irbcs = df.groupby([\"Time\", \"IndividualID\"]).agg({\"IRBCs\": \"max\"}).reset_index()\n",
    "df_min_irbcs = df.groupby([\"Time\", \"IndividualID\"]).agg({\"IRBCs\": \"min\"}).reset_index()\n",
    "\n",
    "df_max_irbcs = df_max_irbcs.merge(df_poly, on=[\"Time\", \"IndividualID\"], how=\"inner\")\n",
    "df_min_irbcs = df_min_irbcs.merge(df_poly, on=[\"Time\", \"IndividualID\"], how=\"inner\")\n",
    "\n",
    "df_max_irbcs = df_max_irbcs.rename(columns={\"IRBCs\": \"MaxIRBCs\"})\n",
    "df_min_irbcs = df_min_irbcs.rename(columns={\"IRBCs\": \"MinIRBCs\"})\n",
    "\n",
    "df_max_irbcs = df_max_irbcs[[\"Time\", \"IndividualID\", \"MaxIRBCs\"]]\n",
    "df_min_irbcs = df_min_irbcs[[\"Time\", \"IndividualID\", \"MinIRBCs\"]]\n",
    "\n",
    "foo = df_max_irbcs.merge(df_min_irbcs, on=[\"Time\", \"IndividualID\"], how=\"inner\")"
   ],
   "metadata": {
    "collapsed": false,
    "ExecuteTime": {
     "end_time": "2024-09-30T19:23:17.294735Z",
     "start_time": "2024-09-30T19:23:14.102014Z"
    }
   },
   "id": "7928782fc63364b4",
   "execution_count": 26
  },
  {
   "cell_type": "code",
   "outputs": [],
   "source": [
    "foo[\"ratio\"] = foo[\"MinIRBCs\"] / foo[\"MaxIRBCs\"]"
   ],
   "metadata": {
    "collapsed": false,
    "ExecuteTime": {
     "end_time": "2024-09-30T19:24:19.139312Z",
     "start_time": "2024-09-30T19:24:19.112076Z"
    }
   },
   "id": "fecd107d72da8208",
   "execution_count": 28
  },
  {
   "cell_type": "code",
   "outputs": [
    {
     "name": "stdout",
     "output_type": "stream",
     "text": [
      "0.001732378089850265\n",
      "0.09855906653804065\n"
     ]
    },
    {
     "data": {
      "text/plain": "<Figure size 640x480 with 1 Axes>",
      "image/png": "[encoded data removed]"
     },
     "metadata": {},
     "output_type": "display_data"
    }
   ],
   "source": [
    "plt.hist(np.log10(foo[\"ratio\"]), bins=100)\n",
    "plt.xlabel(\"Log10 ( MinIRBCs / MaxIRBCs )\")\n",
    "\n",
    "# Geometric mean of the ratios\n",
    "print(np.exp(np.mean(np.log(foo[\"ratio\"]))))\n",
    "plt.axvline(np.log10(np.exp(np.mean(np.log(foo[\"ratio\"])))), color=\"red\", label=\"Geometric mean\")\n",
    "\n",
    "# Arithmetic mean\n",
    "print(np.mean(foo[\"ratio\"]))\n",
    "plt.axvline(np.log10(np.mean(foo[\"ratio\"])), color=\"green\", label=\"Arithmetic mean\")\n",
    "\n",
    "plt.legend()\n",
    "plt.title(\"Ratio of highest-to-lowest IRBCs in individuals with multiple infections\")\n",
    "\n",
    "plt.tight_layout()"
   ],
   "metadata": {
    "collapsed": false,
    "ExecuteTime": {
     "end_time": "2024-09-30T19:29:10.887627Z",
     "start_time": "2024-09-30T19:29:10.312617Z"
    }
   },
   "id": "af1972fcd294092c",
   "execution_count": 38
  },
  {
   "cell_type": "code",
   "outputs": [
    {
     "data": {
      "text/plain": "0.001732378089850265"
     },
     "execution_count": 32,
     "metadata": {},
     "output_type": "execute_result"
    }
   ],
   "source": [],
   "metadata": {
    "collapsed": false,
    "ExecuteTime": {
     "end_time": "2024-09-30T19:25:16.701801Z",
     "start_time": "2024-09-30T19:25:16.679331Z"
    }
   },
   "id": "d103044ba8fe0ebf",
   "execution_count": 32
  },
  {
   "cell_type": "code",
   "outputs": [],
   "source": [],
   "metadata": {
    "collapsed": false
   },
   "id": "4be6f09064f25bb7"
  }
 ],
 "metadata": {
  "kernelspec": {
   "display_name": "Python 3",
   "language": "python",
   "name": "python3"
  },
  "language_info": {
   "codemirror_mode": {
    "name": "ipython",
    "version": 2
   },
   "file_extension": ".py",
   "mimetype": "text/x-python",
   "name": "python",
   "nbconvert_exporter": "python",
   "pygments_lexer": "ipython2",
   "version": "2.7.6"
  }
 },
 "nbformat": 4,
 "nbformat_minor": 5
}
