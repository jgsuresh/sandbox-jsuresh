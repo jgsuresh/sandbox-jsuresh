{
 "cells": [
  {
   "cell_type": "code",
   "execution_count": 1,
   "id": "7d1e8a43-a8c3-473b-888a-b43b6fcedaf5",
   "metadata": {},
   "outputs": [],
   "source": [
    "import numpy as np\n",
    "import pandas as pd\n",
    "import matplotlib.pyplot as plt\n",
    "import seaborn as sns\n",
    "sns.set_context(\"talk\")\n",
    "sns.set_style(\"white\")"
   ]
  },
  {
   "cell_type": "code",
   "execution_count": 2,
   "id": "284e09b4-b57f-402c-879a-ed3ae48759eb",
   "metadata": {},
   "outputs": [],
   "source": [
    "# Goal: develop toy model of how EMOD is evolving cytokines"
   ]
  },
  {
   "cell_type": "code",
   "execution_count": 3,
   "id": "785ce263-838b-4cff-84f3-dc73b39c8bca",
   "metadata": {},
   "outputs": [],
   "source": [
    "dt1 = 3\n",
    "dt2 = 12"
   ]
  },
  {
   "cell_type": "markdown",
   "id": "c6714c40-ee6a-479e-9fca-a5b19f2efe2f",
   "metadata": {},
   "source": [
    "- SusceptibilityMalaria(dt):\n",
    "    - cytokines:"
   ]
  },
  {
   "cell_type": "code",
   "execution_count": 34,
   "id": "d7b862cd-1d95-4301-8918-19a269e8c607",
   "metadata": {},
   "outputs": [],
   "source": [
    "def stimulate_cytokines(dt, inv_uL_blood):\n",
    "    return ( 1 - m_antibody_concentration ) * float(m_antigen_count) * inv_uL_blood;\n",
    "\n",
    "def basic_sigmoid(threshold, variable):\n",
    "    if variable < 0:\n",
    "        return 0\n",
    "    else:\n",
    "        return variable/(threshold + variable)\n",
    "\n",
    "def susceptibility_malaria_cytokines(dt, m_cytokines_start=0.2):\n",
    "    m_cytokines = m_cytokines_start\n",
    "    # m_cytokines -= m_cytokines*dt/0.5\n",
    "    m_cytokines -= m_cytokines*np.exp(-dt/0.5)\n",
    "    if m_cytokines < 0:\n",
    "        m_cytokines = 0\n",
    "        \n",
    "    temp_cytokine_stimulation = 0\n",
    "    \n",
    "    # updateImmunityMSP(dt, temp_cytokine_stimulation)\n",
    "    # decay antibody\n",
    "    # temp_cytokine_stimulation += StimulateCytokines NOTE: STIMULATE_CYTOKINES DOES NOT HAVE DT\n",
    "    # update antibody capacities and concentrations\n",
    "    \n",
    "    # updateImmunityPfEMP1Minor(dt)\n",
    "    # decay antibodies, update capacity, update concentration, update parasite density\n",
    "    \n",
    "    # updateImmunityPfEMP1Major(dt)\n",
    "    # decay antibodies, update capacity, update concentration\n",
    "    # stimulatecytokines: NOTE: STIMULATE_CYTOKINES DOES NOT HAVE DT.  \n",
    "    #  --> changes m_cytokine_stimulation += ( 1 - m_antibody_concentration ) * float(m_antigen_count)\n",
    "\n",
    "    \n",
    "    # dummy variables:\n",
    "    temp_cytokine_stimulation = 16000\n",
    "    m_cytokine_stimulation = 50000\n",
    "    m_antibody_concentration = 0.8\n",
    "    m_antigen_count = 8e10\n",
    "    \n",
    "    \n",
    "    # // inflammatory immune response--Stevenson, M. M. and E. M. Riley (2004). \"Innate immunity to malaria.\" Nat Rev Immunol 4(3): 169-180.\n",
    "    # // now let cytokine be increased in response to IRBCs and ruptured schizonts, if any\n",
    "    # // pyrogenic threshold similar to previous models--(Molineaux, Diebner et al. 2001; Paget-McNicol, Gatton et al. 2002; Maire, Smith et al. 2006)\n",
    "    CYTOKINE_STIMULATION_SCALE = 1\n",
    "    m_ind_pyrogenic_threshold = 15000.0\n",
    "    m_cytokines += CYTOKINE_STIMULATION_SCALE * basic_sigmoid(m_ind_pyrogenic_threshold, m_cytokine_stimulation) * np.exp(-dt/0.5) #12-hour time constant\n",
    "    m_cytokines += CYTOKINE_STIMULATION_SCALE * basic_sigmoid(m_ind_pyrogenic_threshold, temp_cytokine_stimulation) # one time spike for rupturing schizonts\n",
    "    m_cytokine_stimulation = 0 # and reset for next time step\n",
    "    \n",
    "    return m_cytokines\n",
    "    "
   ]
  },
  {
   "cell_type": "code",
   "execution_count": 35,
   "id": "b9448811-7feb-421f-a63e-9a4c0984ec37",
   "metadata": {},
   "outputs": [],
   "source": [
    "import numpy as np\n",
    "import matplotlib.pyplot as plt"
   ]
  },
  {
   "cell_type": "code",
   "execution_count": 36,
   "id": "713a9299-d4e9-4188-8010-2055e972e879",
   "metadata": {},
   "outputs": [
    {
     "data": {
      "text/plain": [
       "[<matplotlib.lines.Line2D at 0x19ea08d6b20>]"
      ]
     },
     "execution_count": 36,
     "metadata": {},
     "output_type": "execute_result"
    },
    {
     "data": {
      "image/png": "[encoded data removed]",
      "text/plain": [
       "<Figure size 432x288 with 1 Axes>"
      ]
     },
     "metadata": {
      "needs_background": "light"
     },
     "output_type": "display_data"
    }
   ],
   "source": [
    "# define some starting variables\n",
    "# dt = 1/2\n",
    "dt = 1/8\n",
    "\n",
    "n_timesteps = 100\n",
    "x_array = np.zeros(n_timesteps)\n",
    "for i in np.arange(100):\n",
    "    if i == 0:\n",
    "        x_array[i] = susceptibility_malaria_cytokines(dt)\n",
    "    else:\n",
    "        x_array[i] = susceptibility_malaria_cytokines(dt, m_cytokines_start=x_array[i-1])\n",
    "    \n",
    "plt.plot(x_array)"
   ]
  },
  {
   "cell_type": "code",
   "execution_count": 37,
   "id": "37e78afa-b9b5-48a2-814a-f83d2abeb531",
   "metadata": {},
   "outputs": [],
   "source": [
    "def evolve(dt, n_timesteps=100):\n",
    "    t_array = np.zeros(n_timesteps)\n",
    "    x_array = np.zeros(n_timesteps)\n",
    "    for i in np.arange(100):\n",
    "        t_array[i] = dt*i\n",
    "        if i == 0:\n",
    "            x_array[i] = susceptibility_malaria_cytokines(dt)\n",
    "        else:\n",
    "            x_array[i] = susceptibility_malaria_cytokines(dt, m_cytokines_start=x_array[i-1])\n",
    "    \n",
    "    # plt.plot(t_array, x_array)\n",
    "    return t_array, x_array"
   ]
  },
  {
   "cell_type": "code",
   "execution_count": 38,
   "id": "81b7e246-e318-4609-a769-d427cc27707f",
   "metadata": {},
   "outputs": [
    {
     "data": {
      "text/plain": [
       "[<matplotlib.lines.Line2D at 0x19ea093a9a0>]"
      ]
     },
     "execution_count": 38,
     "metadata": {},
     "output_type": "execute_result"
    },
    {
     "data": {
      "image/png": "[encoded data removed]",
      "text/plain": [
       "<Figure size 432x288 with 1 Axes>"
      ]
     },
     "metadata": {
      "needs_background": "light"
     },
     "output_type": "display_data"
    }
   ],
   "source": [
    "a,b=evolve(dt=1/2)\n",
    "plt.plot(a,b)\n",
    "\n",
    "c,d = evolve(dt=1/8)\n",
    "plt.plot(c,d)"
   ]
  },
  {
   "cell_type": "code",
   "execution_count": null,
   "id": "10dcf9dc-2bb7-477c-ae7d-013ad9d31bc6",
   "metadata": {},
   "outputs": [],
   "source": [
    "def test_simple(dt):\n",
    "    "
   ]
  }
 ],
 "metadata": {
  "kernelspec": {
   "display_name": "Python 3 (ipykernel)",
   "language": "python",
   "name": "python3"
  },
  "language_info": {
   "codemirror_mode": {
    "name": "ipython",
    "version": 3
   },
   "file_extension": ".py",
   "mimetype": "text/x-python",
   "name": "python",
   "nbconvert_exporter": "python",
   "pygments_lexer": "ipython3",
   "version": "3.8.10"
  }
 },
 "nbformat": 4,
 "nbformat_minor": 5
}
